{
 "cells": [
  {
   "cell_type": "markdown",
   "metadata": {},
   "source": [
    "## NLP Topic Modelling with Spacy\n",
    "\n",
    " ### Loading Packages\n",
    "- **pandas** : loading and manuplating data.\n",
    "- **matplotlib** : visualizaing the data into graphs.\n",
    "- **plotly** : visualizaing the data into advance graphs.\n",
    "- **wordcloud** : wordcloud visulaization of most common words.\n",
    "- **subprocess** :\n",
    "- **pyLDAvis** : visualizing interactive LDA graph.\n"
   ]
  },
  {
   "cell_type": "code",
   "execution_count": 18,
   "metadata": {},
   "outputs": [],
   "source": [
    "import numpy as np \n",
    "import pandas as pd\n",
    "import regex as re\n",
    "import string\n",
    "\n",
    "import spacy\n",
    "\n",
    "from sklearn.feature_extraction.text import CountVectorizer\n",
    "from sklearn.decomposition import LatentDirichletAllocation\n",
    "\n",
    "from plotly.offline import plot\n",
    "import plotly.graph_objects as go\n",
    "import plotly.express as px\n",
    "import pyLDAvis\n",
    "import pyLDAvis.sklearn\n",
    "import matplotlib as mpl\n",
    "import matplotlib.pyplot as plt\n",
    "from subprocess import check_output\n",
    "from wordcloud import WordCloud, STOPWORDS"
   ]
  },
  {
   "cell_type": "markdown",
   "metadata": {},
   "source": [
    "#### Loading the dataset:"
   ]
  },
  {
   "cell_type": "code",
   "execution_count": 2,
   "metadata": {},
   "outputs": [
    {
     "data": {
      "text/html": [
       "<div>\n",
       "<style scoped>\n",
       "    .dataframe tbody tr th:only-of-type {\n",
       "        vertical-align: middle;\n",
       "    }\n",
       "\n",
       "    .dataframe tbody tr th {\n",
       "        vertical-align: top;\n",
       "    }\n",
       "\n",
       "    .dataframe thead th {\n",
       "        text-align: right;\n",
       "    }\n",
       "</style>\n",
       "<table border=\"1\" class=\"dataframe\">\n",
       "  <thead>\n",
       "    <tr style=\"text-align: right;\">\n",
       "      <th></th>\n",
       "      <th>uri</th>\n",
       "      <th>url</th>\n",
       "      <th>date</th>\n",
       "      <th>title</th>\n",
       "      <th>body</th>\n",
       "    </tr>\n",
       "  </thead>\n",
       "  <tbody>\n",
       "    <tr>\n",
       "      <th>0</th>\n",
       "      <td>1395271488</td>\n",
       "      <td>http://www.theguardian.com/environment/2020/ja...</td>\n",
       "      <td>2020-01-01</td>\n",
       "      <td>Canberra experiences worst air quality on reco...</td>\n",
       "      <td>Canberra\\n has experienced its worst air qual...</td>\n",
       "    </tr>\n",
       "    <tr>\n",
       "      <th>1</th>\n",
       "      <td>1396563053</td>\n",
       "      <td>https://weather.com/news/news/2020-01-02-thous...</td>\n",
       "      <td>2020-01-02</td>\n",
       "      <td>Thousands Clog Roads Fleeing Australian Bushfi...</td>\n",
       "      <td>As\\n dawn broke over a blackened Australi...</td>\n",
       "    </tr>\n",
       "    <tr>\n",
       "      <th>2</th>\n",
       "      <td>1397549175</td>\n",
       "      <td>https://www.businessinsider.com/baby-milestone...</td>\n",
       "      <td>2020-01-03</td>\n",
       "      <td>Key milestones your baby can reach in the firs...</td>\n",
       "      <td>Your baby's brain and body grow a lot during ...</td>\n",
       "    </tr>\n",
       "    <tr>\n",
       "      <th>3</th>\n",
       "      <td>1397689515</td>\n",
       "      <td>https://www.dailymail.co.uk/health/article-784...</td>\n",
       "      <td>2020-01-03</td>\n",
       "      <td>Air pollution can break your BONES, study sugg...</td>\n",
       "      <td>Living in polluted cities may make your bones...</td>\n",
       "    </tr>\n",
       "    <tr>\n",
       "      <th>4</th>\n",
       "      <td>1397806413</td>\n",
       "      <td>https://www.independent.co.uk/life-style/gadge...</td>\n",
       "      <td>2020-01-03</td>\n",
       "      <td>'World's most efficient battery' can power a s...</td>\n",
       "      <td>Researchers have developed a new battery they...</td>\n",
       "    </tr>\n",
       "  </tbody>\n",
       "</table>\n",
       "</div>"
      ],
      "text/plain": [
       "          uri                                                url        date  \\\n",
       "0  1395271488  http://www.theguardian.com/environment/2020/ja...  2020-01-01   \n",
       "1  1396563053  https://weather.com/news/news/2020-01-02-thous...  2020-01-02   \n",
       "2  1397549175  https://www.businessinsider.com/baby-milestone...  2020-01-03   \n",
       "3  1397689515  https://www.dailymail.co.uk/health/article-784...  2020-01-03   \n",
       "4  1397806413  https://www.independent.co.uk/life-style/gadge...  2020-01-03   \n",
       "\n",
       "                                               title  \\\n",
       "0  Canberra experiences worst air quality on reco...   \n",
       "1  Thousands Clog Roads Fleeing Australian Bushfi...   \n",
       "2  Key milestones your baby can reach in the firs...   \n",
       "3  Air pollution can break your BONES, study sugg...   \n",
       "4  'World's most efficient battery' can power a s...   \n",
       "\n",
       "                                                body  \n",
       "0   Canberra\\n has experienced its worst air qual...  \n",
       "1       As\\n dawn broke over a blackened Australi...  \n",
       "2   Your baby's brain and body grow a lot during ...  \n",
       "3   Living in polluted cities may make your bones...  \n",
       "4   Researchers have developed a new battery they...  "
      ]
     },
     "execution_count": 2,
     "metadata": {},
     "output_type": "execute_result"
    }
   ],
   "source": [
    "df = pd.read_csv('Monash_crawled.csv')\n",
    "df.head()"
   ]
  },
  {
   "cell_type": "code",
   "execution_count": 3,
   "metadata": {},
   "outputs": [
    {
     "name": "stdout",
     "output_type": "stream",
     "text": [
      "<class 'pandas.core.frame.DataFrame'>\n",
      "RangeIndex: 366 entries, 0 to 365\n",
      "Data columns (total 5 columns):\n",
      " #   Column  Non-Null Count  Dtype \n",
      "---  ------  --------------  ----- \n",
      " 0   uri     366 non-null    int64 \n",
      " 1   url     366 non-null    object\n",
      " 2   date    366 non-null    object\n",
      " 3   title   366 non-null    object\n",
      " 4   body    366 non-null    object\n",
      "dtypes: int64(1), object(4)\n",
      "memory usage: 14.4+ KB\n"
     ]
    }
   ],
   "source": [
    "df.info() # observing the structure of dataset"
   ]
  },
  {
   "cell_type": "markdown",
   "metadata": {},
   "source": [
    "#### Text Preprocessing\n",
    "\n",
    "- Text to lower case.\n",
    "- words with digits.\n",
    "- removing punctuation.\n",
    "- removing '\\n' in text."
   ]
  },
  {
   "cell_type": "code",
   "execution_count": 25,
   "metadata": {},
   "outputs": [],
   "source": [
    "# function to preform basic text pre-porcessing\n",
    "def cleaning(text):  \n",
    "    nlp = spacy.load('en_core_web_sm') # loading the spacy model\n",
    "    doc = nlp(text) # applying the spacy model on text data\n",
    "    tokens = [token.lemma_ for token in doc if not token.is_stop] # lemmation and removing stop words\n",
    "    return \" \".join(tokens) # return the text "
   ]
  },
  {
   "cell_type": "code",
   "execution_count": 27,
   "metadata": {},
   "outputs": [
    {
     "data": {
      "text/html": [
       "<div>\n",
       "<style scoped>\n",
       "    .dataframe tbody tr th:only-of-type {\n",
       "        vertical-align: middle;\n",
       "    }\n",
       "\n",
       "    .dataframe tbody tr th {\n",
       "        vertical-align: top;\n",
       "    }\n",
       "\n",
       "    .dataframe thead th {\n",
       "        text-align: right;\n",
       "    }\n",
       "</style>\n",
       "<table border=\"1\" class=\"dataframe\">\n",
       "  <thead>\n",
       "    <tr style=\"text-align: right;\">\n",
       "      <th></th>\n",
       "      <th>body</th>\n",
       "      <th>body_clean</th>\n",
       "    </tr>\n",
       "  </thead>\n",
       "  <tbody>\n",
       "    <tr>\n",
       "      <th>0</th>\n",
       "      <td>Canberra\\n has experienced its worst air qual...</td>\n",
       "      <td>canberra  experienced  worst  quality  record...</td>\n",
       "    </tr>\n",
       "    <tr>\n",
       "      <th>1</th>\n",
       "      <td>As\\n dawn broke over a blackened Australi...</td>\n",
       "      <td>dawn broke over  blackened australian la...</td>\n",
       "    </tr>\n",
       "    <tr>\n",
       "      <th>2</th>\n",
       "      <td>Your baby's brain and body grow a lot during ...</td>\n",
       "      <td>your babys brain  body grow   during  first  ...</td>\n",
       "    </tr>\n",
       "    <tr>\n",
       "      <th>3</th>\n",
       "      <td>Living in polluted cities may make your bones...</td>\n",
       "      <td>living  polluted cities  make your bones weak...</td>\n",
       "    </tr>\n",
       "    <tr>\n",
       "      <th>4</th>\n",
       "      <td>Researchers have developed a new battery they...</td>\n",
       "      <td>researchers have developed   battery they cla...</td>\n",
       "    </tr>\n",
       "  </tbody>\n",
       "</table>\n",
       "</div>"
      ],
      "text/plain": [
       "                                                body  \\\n",
       "0   Canberra\\n has experienced its worst air qual...   \n",
       "1       As\\n dawn broke over a blackened Australi...   \n",
       "2   Your baby's brain and body grow a lot during ...   \n",
       "3   Living in polluted cities may make your bones...   \n",
       "4   Researchers have developed a new battery they...   \n",
       "\n",
       "                                          body_clean  \n",
       "0   canberra  experienced  worst  quality  record...  \n",
       "1        dawn broke over  blackened australian la...  \n",
       "2   your babys brain  body grow   during  first  ...  \n",
       "3   living  polluted cities  make your bones weak...  \n",
       "4   researchers have developed   battery they cla...  "
      ]
     },
     "execution_count": 27,
     "metadata": {},
     "output_type": "execute_result"
    }
   ],
   "source": [
    "# text preprocessing using pandas\n",
    "df['body_clean'] = df.body.apply(lambda x: x.lower())\n",
    "df['body_clean'] = df.body_clean.str.replace(r'\\[.*?\\]','')\n",
    "df['body_clean'] = df.body_clean.str.replace(r'[%s]' % re.escape(string.punctuation), '')\n",
    "df['body_clean'] = df.body_clean.str.replace(r'\\w*\\d\\w*','')\n",
    "df['body_clean'] = df.body_clean.str.replace('\\n','')\n",
    "df[['body','body_clean']].head()"
   ]
  },
  {
   "cell_type": "code",
   "execution_count": 28,
   "metadata": {},
   "outputs": [
    {
     "data": {
      "text/html": [
       "<div>\n",
       "<style scoped>\n",
       "    .dataframe tbody tr th:only-of-type {\n",
       "        vertical-align: middle;\n",
       "    }\n",
       "\n",
       "    .dataframe tbody tr th {\n",
       "        vertical-align: top;\n",
       "    }\n",
       "\n",
       "    .dataframe thead th {\n",
       "        text-align: right;\n",
       "    }\n",
       "</style>\n",
       "<table border=\"1\" class=\"dataframe\">\n",
       "  <thead>\n",
       "    <tr style=\"text-align: right;\">\n",
       "      <th></th>\n",
       "      <th>body</th>\n",
       "      <th>body_clean</th>\n",
       "      <th>body_clean_final</th>\n",
       "    </tr>\n",
       "  </thead>\n",
       "  <tbody>\n",
       "    <tr>\n",
       "      <th>0</th>\n",
       "      <td>Canberra\\n has experienced its worst air qual...</td>\n",
       "      <td>canberra  experienced  worst  quality  record...</td>\n",
       "      <td>canberra   experience   bad   quality   reco...</td>\n",
       "    </tr>\n",
       "    <tr>\n",
       "      <th>1</th>\n",
       "      <td>As\\n dawn broke over a blackened Australi...</td>\n",
       "      <td>dawn broke over  blackened australian la...</td>\n",
       "      <td>dawn break   blacken australian landsca...</td>\n",
       "    </tr>\n",
       "    <tr>\n",
       "      <th>2</th>\n",
       "      <td>Your baby's brain and body grow a lot during ...</td>\n",
       "      <td>your babys brain  body grow   during  first  ...</td>\n",
       "      <td>babys brain   body grow        month baby de...</td>\n",
       "    </tr>\n",
       "    <tr>\n",
       "      <th>3</th>\n",
       "      <td>Living in polluted cities may make your bones...</td>\n",
       "      <td>living  polluted cities  make your bones weak...</td>\n",
       "      <td>live   polluted city   bone weak   easy   br...</td>\n",
       "    </tr>\n",
       "    <tr>\n",
       "      <th>4</th>\n",
       "      <td>Researchers have developed a new battery they...</td>\n",
       "      <td>researchers have developed   battery they cla...</td>\n",
       "      <td>researcher develop     battery claim   power...</td>\n",
       "    </tr>\n",
       "  </tbody>\n",
       "</table>\n",
       "</div>"
      ],
      "text/plain": [
       "                                                body  \\\n",
       "0   Canberra\\n has experienced its worst air qual...   \n",
       "1       As\\n dawn broke over a blackened Australi...   \n",
       "2   Your baby's brain and body grow a lot during ...   \n",
       "3   Living in polluted cities may make your bones...   \n",
       "4   Researchers have developed a new battery they...   \n",
       "\n",
       "                                          body_clean  \\\n",
       "0   canberra  experienced  worst  quality  record...   \n",
       "1        dawn broke over  blackened australian la...   \n",
       "2   your babys brain  body grow   during  first  ...   \n",
       "3   living  polluted cities  make your bones weak...   \n",
       "4   researchers have developed   battery they cla...   \n",
       "\n",
       "                                    body_clean_final  \n",
       "0    canberra   experience   bad   quality   reco...  \n",
       "1         dawn break   blacken australian landsca...  \n",
       "2    babys brain   body grow        month baby de...  \n",
       "3    live   polluted city   bone weak   easy   br...  \n",
       "4    researcher develop     battery claim   power...  "
      ]
     },
     "execution_count": 28,
     "metadata": {},
     "output_type": "execute_result"
    }
   ],
   "source": [
    "## lemming and removing stop words using earlier defined cleaning function\n",
    "df['body_clean_final'] = df.body_clean.apply(lambda x: cleaning(x))\n",
    "df[['body','body_clean','body_clean_final']].head()"
   ]
  },
  {
   "cell_type": "code",
   "execution_count": 71,
   "metadata": {},
   "outputs": [
    {
     "data": {
      "text/html": [
       "<div>\n",
       "<style scoped>\n",
       "    .dataframe tbody tr th:only-of-type {\n",
       "        vertical-align: middle;\n",
       "    }\n",
       "\n",
       "    .dataframe tbody tr th {\n",
       "        vertical-align: top;\n",
       "    }\n",
       "\n",
       "    .dataframe thead th {\n",
       "        text-align: right;\n",
       "    }\n",
       "</style>\n",
       "<table border=\"1\" class=\"dataframe\">\n",
       "  <thead>\n",
       "    <tr style=\"text-align: right;\">\n",
       "      <th></th>\n",
       "      <th>body</th>\n",
       "      <th>body_clean</th>\n",
       "      <th>body_clean_final</th>\n",
       "    </tr>\n",
       "  </thead>\n",
       "  <tbody>\n",
       "    <tr>\n",
       "      <th>0</th>\n",
       "      <td>Canberra\\n has experienced its worst air qual...</td>\n",
       "      <td>canberra  experienced  worst  quality  record...</td>\n",
       "      <td>canberra experience quality record bushfire sm...</td>\n",
       "    </tr>\n",
       "    <tr>\n",
       "      <th>1</th>\n",
       "      <td>As\\n dawn broke over a blackened Australi...</td>\n",
       "      <td>dawn broke over  blackened australian la...</td>\n",
       "      <td>dawn break blacken australian landscape sunday...</td>\n",
       "    </tr>\n",
       "    <tr>\n",
       "      <th>2</th>\n",
       "      <td>Your baby's brain and body grow a lot during ...</td>\n",
       "      <td>your babys brain  body grow   during  first  ...</td>\n",
       "      <td>babys brain body grow month baby develop pace ...</td>\n",
       "    </tr>\n",
       "    <tr>\n",
       "      <th>3</th>\n",
       "      <td>Living in polluted cities may make your bones...</td>\n",
       "      <td>living  polluted cities  make your bones weak...</td>\n",
       "      <td>live polluted city bone weak easy break resear...</td>\n",
       "    </tr>\n",
       "    <tr>\n",
       "      <th>4</th>\n",
       "      <td>Researchers have developed a new battery they...</td>\n",
       "      <td>researchers have developed   battery they cla...</td>\n",
       "      <td>researcher develop   battery claim power phone...</td>\n",
       "    </tr>\n",
       "  </tbody>\n",
       "</table>\n",
       "</div>"
      ],
      "text/plain": [
       "                                                body  \\\n",
       "0   Canberra\\n has experienced its worst air qual...   \n",
       "1       As\\n dawn broke over a blackened Australi...   \n",
       "2   Your baby's brain and body grow a lot during ...   \n",
       "3   Living in polluted cities may make your bones...   \n",
       "4   Researchers have developed a new battery they...   \n",
       "\n",
       "                                          body_clean  \\\n",
       "0   canberra  experienced  worst  quality  record...   \n",
       "1        dawn broke over  blackened australian la...   \n",
       "2   your babys brain  body grow   during  first  ...   \n",
       "3   living  polluted cities  make your bones weak...   \n",
       "4   researchers have developed   battery they cla...   \n",
       "\n",
       "                                    body_clean_final  \n",
       "0  canberra experience quality record bushfire sm...  \n",
       "1  dawn break blacken australian landscape sunday...  \n",
       "2  babys brain body grow month baby develop pace ...  \n",
       "3  live polluted city bone weak easy break resear...  \n",
       "4  researcher develop   battery claim power phone...  "
      ]
     },
     "execution_count": 71,
     "metadata": {},
     "output_type": "execute_result"
    }
   ],
   "source": [
    "df['body_clean_final'] = df.body_clean_final.str.replace(r'\\b(\\w{1,3})\\b', '')\n",
    "\n",
    "months = ['january', 'february', 'march', 'april', 'may', 'june', 'july', 'august', 'september', 'october', 'november', 'december'] \n",
    "df.body_clean_final = df.body_clean_final.apply(lambda x: [item for item in x.split(' ') \n",
    "                                                           if item != '' and item not in months]).str.join(' ')\n",
    "\n",
    "df[['body','body_clean','body_clean_final']].head()"
   ]
  },
  {
   "cell_type": "code",
   "execution_count": 72,
   "metadata": {},
   "outputs": [
    {
     "data": {
      "text/plain": [
       "0      canberra experience quality record bushfire sm...\n",
       "1      dawn break blacken australian landscape sunday...\n",
       "2      babys brain body grow month baby develop pace ...\n",
       "3      live polluted city bone weak easy break resear...\n",
       "4      researcher develop   battery claim power phone...\n",
       "                             ...                        \n",
       "361    publish aedt update aedt expert believe resear...\n",
       "362    publish aedt update aedt claim spread suppress...\n",
       "363    publish aedt update aedt academic modelling su...\n",
       "364    publish aedt update aedt increase social isola...\n",
       "365    spider resemble vincent gogh famous starry nig...\n",
       "Name: body_clean_final, Length: 366, dtype: object"
      ]
     },
     "execution_count": 72,
     "metadata": {},
     "output_type": "execute_result"
    }
   ],
   "source": [
    "df_clean = df.body_clean_final\n",
    "df_clean"
   ]
  },
  {
   "cell_type": "markdown",
   "metadata": {},
   "source": [
    "Using a word cloud to plot the most common words in the text document"
   ]
  },
  {
   "cell_type": "code",
   "execution_count": 73,
   "metadata": {
    "scrolled": true
   },
   "outputs": [
    {
     "name": "stdout",
     "output_type": "stream",
     "text": [
      "<wordcloud.wordcloud.WordCloud object at 0x7fb70dec1b90>\n"
     ]
    },
    {
     "data": {
      "image/png": "[encoded data removed]",
      "text/plain": [
       "<Figure size 576x576 with 1 Axes>"
      ]
     },
     "metadata": {
      "needs_background": "light"
     },
     "output_type": "display_data"
    }
   ],
   "source": [
    "# figure settings\n",
    "mpl.rcParams['figure.figsize']=(8.0,8.0)\n",
    "mpl.rcParams['font.size']=12            \n",
    "mpl.rcParams['savefig.dpi']=100             \n",
    "mpl.rcParams['figure.subplot.bottom']=.1 \n",
    "stopwords = set(STOPWORDS) # remove stopwords\n",
    "\n",
    "# create the wordcloud\n",
    "wordcloud = WordCloud(background_color='white', stopwords=stopwords, max_words=50, max_font_size=40, random_state=42).generate(str(df_clean))\n",
    "\n",
    "# Plot the wordcloud\n",
    "print(wordcloud)\n",
    "fig = plt.figure(1)\n",
    "plt.imshow(wordcloud)\n",
    "plt.axis('off')\n",
    "plt.show();"
   ]
  },
  {
   "cell_type": "markdown",
   "metadata": {},
   "source": [
    "### N-Gram Analysis\n",
    "\n",
    "- Top 20 Uni-grams\n",
    "- Top 20 Bi-Grams\n",
    "- Top 20 Tri-Grams\n",
    "\n",
    "Below is the function to calculate the n-grams:\n",
    "- Countvectorize to vectorize the words\n"
   ]
  },
  {
   "cell_type": "code",
   "execution_count": 74,
   "metadata": {},
   "outputs": [],
   "source": [
    "# function to get the uni, bi and tri grams\n",
    "def get_top_n_grams(text, n=None, ngrams = (1,1)):\n",
    "    # define the Countvectorizer with the number of grams, by default its (1,1) which is unigrams\n",
    "    vec = CountVectorizer(ngram_range= ngrams).fit(text) #\n",
    "    bag_of_words = vec.transform(text)\n",
    "    sum_words = bag_of_words.sum(axis=0) \n",
    "    words_freq = [(word, sum_words[0, idx]) for word, idx in vec.vocabulary_.items()]\n",
    "    words_freq =sorted(words_freq, key = lambda x: x[1], reverse=True)\n",
    "    return words_freq[:n]"
   ]
  },
  {
   "cell_type": "code",
   "execution_count": 75,
   "metadata": {},
   "outputs": [
    {
     "data": {
      "application/vnd.plotly.v1+json": {
       "config": {
        "plotlyServerURL": "https://plot.ly"
       },
       "data": [
        {
         "type": "bar",
         "x": [
          "australia",
          "coronavirus",
          "people",
          "virus",
          "australian",
          "china",
          "case",
          "health",
          "university",
          "south",
          "wuhan",
          "test",
          "week",
          "chinese",
          "student",
          "tell",
          "include",
          "travel",
          "government",
          "year"
         ],
         "y": [
          1863,
          1605,
          1545,
          1108,
          1100,
          1062,
          928,
          902,
          728,
          705,
          679,
          590,
          562,
          559,
          521,
          520,
          518,
          501,
          492,
          485
         ]
        }
       ],
       "layout": {
        "template": {
         "data": {
          "bar": [
           {
            "error_x": {
             "color": "#2a3f5f"
            },
            "error_y": {
             "color": "#2a3f5f"
            },
            "marker": {
             "line": {
              "color": "#E5ECF6",
              "width": 0.5
             }
            },
            "type": "bar"
           }
          ],
          "barpolar": [
           {
            "marker": {
             "line": {
              "color": "#E5ECF6",
              "width": 0.5
             }
            },
            "type": "barpolar"
           }
          ],
          "carpet": [
           {
            "aaxis": {
             "endlinecolor": "#2a3f5f",
             "gridcolor": "white",
             "linecolor": "white",
             "minorgridcolor": "white",
             "startlinecolor": "#2a3f5f"
            },
            "baxis": {
             "endlinecolor": "#2a3f5f",
             "gridcolor": "white",
             "linecolor": "white",
             "minorgridcolor": "white",
             "startlinecolor": "#2a3f5f"
            },
            "type": "carpet"
           }
          ],
          "choropleth": [
           {
            "colorbar": {
             "outlinewidth": 0,
             "ticks": ""
            },
            "type": "choropleth"
           }
          ],
          "contour": [
           {
            "colorbar": {
             "outlinewidth": 0,
             "ticks": ""
            },
            "colorscale": [
             [
              0,
              "#0d0887"
             ],
             [
              0.1111111111111111,
              "#46039f"
             ],
             [
              0.2222222222222222,
              "#7201a8"
             ],
             [
              0.3333333333333333,
              "#9c179e"
             ],
             [
              0.4444444444444444,
              "#bd3786"
             ],
             [
              0.5555555555555556,
              "#d8576b"
             ],
             [
              0.6666666666666666,
              "#ed7953"
             ],
             [
              0.7777777777777778,
              "#fb9f3a"
             ],
             [
              0.8888888888888888,
              "#fdca26"
             ],
             [
              1,
              "#f0f921"
             ]
            ],
            "type": "contour"
           }
          ],
          "contourcarpet": [
           {
            "colorbar": {
             "outlinewidth": 0,
             "ticks": ""
            },
            "type": "contourcarpet"
           }
          ],
          "heatmap": [
           {
            "colorbar": {
             "outlinewidth": 0,
             "ticks": ""
            },
            "colorscale": [
             [
              0,
              "#0d0887"
             ],
             [
              0.1111111111111111,
              "#46039f"
             ],
             [
              0.2222222222222222,
              "#7201a8"
             ],
             [
              0.3333333333333333,
              "#9c179e"
             ],
             [
              0.4444444444444444,
              "#bd3786"
             ],
             [
              0.5555555555555556,
              "#d8576b"
             ],
             [
              0.6666666666666666,
              "#ed7953"
             ],
             [
              0.7777777777777778,
              "#fb9f3a"
             ],
             [
              0.8888888888888888,
              "#fdca26"
             ],
             [
              1,
              "#f0f921"
             ]
            ],
            "type": "heatmap"
           }
          ],
          "heatmapgl": [
           {
            "colorbar": {
             "outlinewidth": 0,
             "ticks": ""
            },
            "colorscale": [
             [
              0,
              "#0d0887"
             ],
             [
              0.1111111111111111,
              "#46039f"
             ],
             [
              0.2222222222222222,
              "#7201a8"
             ],
             [
              0.3333333333333333,
              "#9c179e"
             ],
             [
              0.4444444444444444,
              "#bd3786"
             ],
             [
              0.5555555555555556,
              "#d8576b"
             ],
             [
              0.6666666666666666,
              "#ed7953"
             ],
             [
              0.7777777777777778,
              "#fb9f3a"
             ],
             [
              0.8888888888888888,
              "#fdca26"
             ],
             [
              1,
              "#f0f921"
             ]
            ],
            "type": "heatmapgl"
           }
          ],
          "histogram": [
           {
            "marker": {
             "colorbar": {
              "outlinewidth": 0,
              "ticks": ""
             }
            },
            "type": "histogram"
           }
          ],
          "histogram2d": [
           {
            "colorbar": {
             "outlinewidth": 0,
             "ticks": ""
            },
            "colorscale": [
             [
              0,
              "#0d0887"
             ],
             [
              0.1111111111111111,
              "#46039f"
             ],
             [
              0.2222222222222222,
              "#7201a8"
             ],
             [
              0.3333333333333333,
              "#9c179e"
             ],
             [
              0.4444444444444444,
              "#bd3786"
             ],
             [
              0.5555555555555556,
              "#d8576b"
             ],
             [
              0.6666666666666666,
              "#ed7953"
             ],
             [
              0.7777777777777778,
              "#fb9f3a"
             ],
             [
              0.8888888888888888,
              "#fdca26"
             ],
             [
              1,
              "#f0f921"
             ]
            ],
            "type": "histogram2d"
           }
          ],
          "histogram2dcontour": [
           {
            "colorbar": {
             "outlinewidth": 0,
             "ticks": ""
            },
            "colorscale": [
             [
              0,
              "#0d0887"
             ],
             [
              0.1111111111111111,
              "#46039f"
             ],
             [
              0.2222222222222222,
              "#7201a8"
             ],
             [
              0.3333333333333333,
              "#9c179e"
             ],
             [
              0.4444444444444444,
              "#bd3786"
             ],
             [
              0.5555555555555556,
              "#d8576b"
             ],
             [
              0.6666666666666666,
              "#ed7953"
             ],
             [
              0.7777777777777778,
              "#fb9f3a"
             ],
             [
              0.8888888888888888,
              "#fdca26"
             ],
             [
              1,
              "#f0f921"
             ]
            ],
            "type": "histogram2dcontour"
           }
          ],
          "mesh3d": [
           {
            "colorbar": {
             "outlinewidth": 0,
             "ticks": ""
            },
            "type": "mesh3d"
           }
          ],
          "parcoords": [
           {
            "line": {
             "colorbar": {
              "outlinewidth": 0,
              "ticks": ""
             }
            },
            "type": "parcoords"
           }
          ],
          "pie": [
           {
            "automargin": true,
            "type": "pie"
           }
          ],
          "scatter": [
           {
            "marker": {
             "colorbar": {
              "outlinewidth": 0,
              "ticks": ""
             }
            },
            "type": "scatter"
           }
          ],
          "scatter3d": [
           {
            "line": {
             "colorbar": {
              "outlinewidth": 0,
              "ticks": ""
             }
            },
            "marker": {
             "colorbar": {
              "outlinewidth": 0,
              "ticks": ""
             }
            },
            "type": "scatter3d"
           }
          ],
          "scattercarpet": [
           {
            "marker": {
             "colorbar": {
              "outlinewidth": 0,
              "ticks": ""
             }
            },
            "type": "scattercarpet"
           }
          ],
          "scattergeo": [
           {
            "marker": {
             "colorbar": {
              "outlinewidth": 0,
              "ticks": ""
             }
            },
            "type": "scattergeo"
           }
          ],
          "scattergl": [
           {
            "marker": {
             "colorbar": {
              "outlinewidth": 0,
              "ticks": ""
             }
            },
            "type": "scattergl"
           }
          ],
          "scattermapbox": [
           {
            "marker": {
             "colorbar": {
              "outlinewidth": 0,
              "ticks": ""
             }
            },
            "type": "scattermapbox"
           }
          ],
          "scatterpolar": [
           {
            "marker": {
             "colorbar": {
              "outlinewidth": 0,
              "ticks": ""
             }
            },
            "type": "scatterpolar"
           }
          ],
          "scatterpolargl": [
           {
            "marker": {
             "colorbar": {
              "outlinewidth": 0,
              "ticks": ""
             }
            },
            "type": "scatterpolargl"
           }
          ],
          "scatterternary": [
           {
            "marker": {
             "colorbar": {
              "outlinewidth": 0,
              "ticks": ""
             }
            },
            "type": "scatterternary"
           }
          ],
          "surface": [
           {
            "colorbar": {
             "outlinewidth": 0,
             "ticks": ""
            },
            "colorscale": [
             [
              0,
              "#0d0887"
             ],
             [
              0.1111111111111111,
              "#46039f"
             ],
             [
              0.2222222222222222,
              "#7201a8"
             ],
             [
              0.3333333333333333,
              "#9c179e"
             ],
             [
              0.4444444444444444,
              "#bd3786"
             ],
             [
              0.5555555555555556,
              "#d8576b"
             ],
             [
              0.6666666666666666,
              "#ed7953"
             ],
             [
              0.7777777777777778,
              "#fb9f3a"
             ],
             [
              0.8888888888888888,
              "#fdca26"
             ],
             [
              1,
              "#f0f921"
             ]
            ],
            "type": "surface"
           }
          ],
          "table": [
           {
            "cells": {
             "fill": {
              "color": "#EBF0F8"
             },
             "line": {
              "color": "white"
             }
            },
            "header": {
             "fill": {
              "color": "#C8D4E3"
             },
             "line": {
              "color": "white"
             }
            },
            "type": "table"
           }
          ]
         },
         "layout": {
          "annotationdefaults": {
           "arrowcolor": "#2a3f5f",
           "arrowhead": 0,
           "arrowwidth": 1
          },
          "coloraxis": {
           "colorbar": {
            "outlinewidth": 0,
            "ticks": ""
           }
          },
          "colorscale": {
           "diverging": [
            [
             0,
             "#8e0152"
            ],
            [
             0.1,
             "#c51b7d"
            ],
            [
             0.2,
             "#de77ae"
            ],
            [
             0.3,
             "#f1b6da"
            ],
            [
             0.4,
             "#fde0ef"
            ],
            [
             0.5,
             "#f7f7f7"
            ],
            [
             0.6,
             "#e6f5d0"
            ],
            [
             0.7,
             "#b8e186"
            ],
            [
             0.8,
             "#7fbc41"
            ],
            [
             0.9,
             "#4d9221"
            ],
            [
             1,
             "#276419"
            ]
           ],
           "sequential": [
            [
             0,
             "#0d0887"
            ],
            [
             0.1111111111111111,
             "#46039f"
            ],
            [
             0.2222222222222222,
             "#7201a8"
            ],
            [
             0.3333333333333333,
             "#9c179e"
            ],
            [
             0.4444444444444444,
             "#bd3786"
            ],
            [
             0.5555555555555556,
             "#d8576b"
            ],
            [
             0.6666666666666666,
             "#ed7953"
            ],
            [
             0.7777777777777778,
             "#fb9f3a"
            ],
            [
             0.8888888888888888,
             "#fdca26"
            ],
            [
             1,
             "#f0f921"
            ]
           ],
           "sequentialminus": [
            [
             0,
             "#0d0887"
            ],
            [
             0.1111111111111111,
             "#46039f"
            ],
            [
             0.2222222222222222,
             "#7201a8"
            ],
            [
             0.3333333333333333,
             "#9c179e"
            ],
            [
             0.4444444444444444,
             "#bd3786"
            ],
            [
             0.5555555555555556,
             "#d8576b"
            ],
            [
             0.6666666666666666,
             "#ed7953"
            ],
            [
             0.7777777777777778,
             "#fb9f3a"
            ],
            [
             0.8888888888888888,
             "#fdca26"
            ],
            [
             1,
             "#f0f921"
            ]
           ]
          },
          "colorway": [
           "#636efa",
           "#EF553B",
           "#00cc96",
           "#ab63fa",
           "#FFA15A",
           "#19d3f3",
           "#FF6692",
           "#B6E880",
           "#FF97FF",
           "#FECB52"
          ],
          "font": {
           "color": "#2a3f5f"
          },
          "geo": {
           "bgcolor": "white",
           "lakecolor": "white",
           "landcolor": "#E5ECF6",
           "showlakes": true,
           "showland": true,
           "subunitcolor": "white"
          },
          "hoverlabel": {
           "align": "left"
          },
          "hovermode": "closest",
          "mapbox": {
           "style": "light"
          },
          "paper_bgcolor": "white",
          "plot_bgcolor": "#E5ECF6",
          "polar": {
           "angularaxis": {
            "gridcolor": "white",
            "linecolor": "white",
            "ticks": ""
           },
           "bgcolor": "#E5ECF6",
           "radialaxis": {
            "gridcolor": "white",
            "linecolor": "white",
            "ticks": ""
           }
          },
          "scene": {
           "xaxis": {
            "backgroundcolor": "#E5ECF6",
            "gridcolor": "white",
            "gridwidth": 2,
            "linecolor": "white",
            "showbackground": true,
            "ticks": "",
            "zerolinecolor": "white"
           },
           "yaxis": {
            "backgroundcolor": "#E5ECF6",
            "gridcolor": "white",
            "gridwidth": 2,
            "linecolor": "white",
            "showbackground": true,
            "ticks": "",
            "zerolinecolor": "white"
           },
           "zaxis": {
            "backgroundcolor": "#E5ECF6",
            "gridcolor": "white",
            "gridwidth": 2,
            "linecolor": "white",
            "showbackground": true,
            "ticks": "",
            "zerolinecolor": "white"
           }
          },
          "shapedefaults": {
           "line": {
            "color": "#2a3f5f"
           }
          },
          "ternary": {
           "aaxis": {
            "gridcolor": "white",
            "linecolor": "white",
            "ticks": ""
           },
           "baxis": {
            "gridcolor": "white",
            "linecolor": "white",
            "ticks": ""
           },
           "bgcolor": "#E5ECF6",
           "caxis": {
            "gridcolor": "white",
            "linecolor": "white",
            "ticks": ""
           }
          },
          "title": {
           "x": 0.05
          },
          "xaxis": {
           "automargin": true,
           "gridcolor": "white",
           "linecolor": "white",
           "ticks": "",
           "title": {
            "standoff": 15
           },
           "zerolinecolor": "white",
           "zerolinewidth": 2
          },
          "yaxis": {
           "automargin": true,
           "gridcolor": "white",
           "linecolor": "white",
           "ticks": "",
           "title": {
            "standoff": 15
           },
           "zerolinecolor": "white",
           "zerolinewidth": 2
          }
         }
        },
        "title": {
         "text": "Top 20 unigrams in the text after removing stop words and lemmatization"
        }
       }
      },
      "text/html": [
       "<div>                            <div id=\"08b49725-a312-4776-b4fa-d1fdda3f2dec\" class=\"plotly-graph-div\" style=\"height:525px; width:100%;\"></div>            <script type=\"text/javascript\">                require([\"plotly\"], function(Plotly) {                    window.PLOTLYENV=window.PLOTLYENV || {};                                    if (document.getElementById(\"08b49725-a312-4776-b4fa-d1fdda3f2dec\")) {                    Plotly.newPlot(                        \"08b49725-a312-4776-b4fa-d1fdda3f2dec\",                        [{\"type\": \"bar\", \"x\": [\"australia\", \"coronavirus\", \"people\", \"virus\", \"australian\", \"china\", \"case\", \"health\", \"university\", \"south\", \"wuhan\", \"test\", \"week\", \"chinese\", \"student\", \"tell\", \"include\", \"travel\", \"government\", \"year\"], \"y\": [1863, 1605, 1545, 1108, 1100, 1062, 928, 902, 728, 705, 679, 590, 562, 559, 521, 520, 518, 501, 492, 485]}],                        {\"template\": {\"data\": {\"bar\": [{\"error_x\": {\"color\": \"#2a3f5f\"}, \"error_y\": {\"color\": \"#2a3f5f\"}, \"marker\": {\"line\": {\"color\": \"#E5ECF6\", \"width\": 0.5}}, \"type\": \"bar\"}], \"barpolar\": [{\"marker\": {\"line\": {\"color\": \"#E5ECF6\", \"width\": 0.5}}, \"type\": \"barpolar\"}], \"carpet\": [{\"aaxis\": {\"endlinecolor\": \"#2a3f5f\", \"gridcolor\": \"white\", \"linecolor\": \"white\", \"minorgridcolor\": \"white\", \"startlinecolor\": \"#2a3f5f\"}, \"baxis\": {\"endlinecolor\": \"#2a3f5f\", \"gridcolor\": \"white\", \"linecolor\": \"white\", \"minorgridcolor\": \"white\", \"startlinecolor\": \"#2a3f5f\"}, \"type\": \"carpet\"}], \"choropleth\": [{\"colorbar\": {\"outlinewidth\": 0, \"ticks\": \"\"}, \"type\": \"choropleth\"}], \"contour\": [{\"colorbar\": {\"outlinewidth\": 0, \"ticks\": \"\"}, \"colorscale\": [[0.0, \"#0d0887\"], [0.1111111111111111, \"#46039f\"], [0.2222222222222222, \"#7201a8\"], [0.3333333333333333, \"#9c179e\"], [0.4444444444444444, \"#bd3786\"], [0.5555555555555556, \"#d8576b\"], [0.6666666666666666, \"#ed7953\"], [0.7777777777777778, \"#fb9f3a\"], [0.8888888888888888, \"#fdca26\"], [1.0, \"#f0f921\"]], \"type\": \"contour\"}], \"contourcarpet\": [{\"colorbar\": {\"outlinewidth\": 0, \"ticks\": \"\"}, \"type\": \"contourcarpet\"}], \"heatmap\": [{\"colorbar\": {\"outlinewidth\": 0, \"ticks\": \"\"}, \"colorscale\": [[0.0, \"#0d0887\"], [0.1111111111111111, \"#46039f\"], [0.2222222222222222, \"#7201a8\"], [0.3333333333333333, \"#9c179e\"], [0.4444444444444444, \"#bd3786\"], [0.5555555555555556, \"#d8576b\"], [0.6666666666666666, \"#ed7953\"], [0.7777777777777778, \"#fb9f3a\"], [0.8888888888888888, \"#fdca26\"], [1.0, \"#f0f921\"]], \"type\": \"heatmap\"}], \"heatmapgl\": [{\"colorbar\": {\"outlinewidth\": 0, \"ticks\": \"\"}, \"colorscale\": [[0.0, \"#0d0887\"], [0.1111111111111111, \"#46039f\"], [0.2222222222222222, \"#7201a8\"], [0.3333333333333333, \"#9c179e\"], [0.4444444444444444, \"#bd3786\"], [0.5555555555555556, \"#d8576b\"], [0.6666666666666666, \"#ed7953\"], [0.7777777777777778, \"#fb9f3a\"], [0.8888888888888888, \"#fdca26\"], [1.0, \"#f0f921\"]], \"type\": \"heatmapgl\"}], \"histogram\": [{\"marker\": {\"colorbar\": {\"outlinewidth\": 0, \"ticks\": \"\"}}, \"type\": \"histogram\"}], \"histogram2d\": [{\"colorbar\": {\"outlinewidth\": 0, \"ticks\": \"\"}, \"colorscale\": [[0.0, \"#0d0887\"], [0.1111111111111111, \"#46039f\"], [0.2222222222222222, \"#7201a8\"], [0.3333333333333333, \"#9c179e\"], [0.4444444444444444, \"#bd3786\"], [0.5555555555555556, \"#d8576b\"], [0.6666666666666666, \"#ed7953\"], [0.7777777777777778, \"#fb9f3a\"], [0.8888888888888888, \"#fdca26\"], [1.0, \"#f0f921\"]], \"type\": \"histogram2d\"}], \"histogram2dcontour\": [{\"colorbar\": {\"outlinewidth\": 0, \"ticks\": \"\"}, \"colorscale\": [[0.0, \"#0d0887\"], [0.1111111111111111, \"#46039f\"], [0.2222222222222222, \"#7201a8\"], [0.3333333333333333, \"#9c179e\"], [0.4444444444444444, \"#bd3786\"], [0.5555555555555556, \"#d8576b\"], [0.6666666666666666, \"#ed7953\"], [0.7777777777777778, \"#fb9f3a\"], [0.8888888888888888, \"#fdca26\"], [1.0, \"#f0f921\"]], \"type\": \"histogram2dcontour\"}], \"mesh3d\": [{\"colorbar\": {\"outlinewidth\": 0, \"ticks\": \"\"}, \"type\": \"mesh3d\"}], \"parcoords\": [{\"line\": {\"colorbar\": {\"outlinewidth\": 0, \"ticks\": \"\"}}, \"type\": \"parcoords\"}], \"pie\": [{\"automargin\": true, \"type\": \"pie\"}], \"scatter\": [{\"marker\": {\"colorbar\": {\"outlinewidth\": 0, \"ticks\": \"\"}}, \"type\": \"scatter\"}], \"scatter3d\": [{\"line\": {\"colorbar\": {\"outlinewidth\": 0, \"ticks\": \"\"}}, \"marker\": {\"colorbar\": {\"outlinewidth\": 0, \"ticks\": \"\"}}, \"type\": \"scatter3d\"}], \"scattercarpet\": [{\"marker\": {\"colorbar\": {\"outlinewidth\": 0, \"ticks\": \"\"}}, \"type\": \"scattercarpet\"}], \"scattergeo\": [{\"marker\": {\"colorbar\": {\"outlinewidth\": 0, \"ticks\": \"\"}}, \"type\": \"scattergeo\"}], \"scattergl\": [{\"marker\": {\"colorbar\": {\"outlinewidth\": 0, \"ticks\": \"\"}}, \"type\": \"scattergl\"}], \"scattermapbox\": [{\"marker\": {\"colorbar\": {\"outlinewidth\": 0, \"ticks\": \"\"}}, \"type\": \"scattermapbox\"}], \"scatterpolar\": [{\"marker\": {\"colorbar\": {\"outlinewidth\": 0, \"ticks\": \"\"}}, \"type\": \"scatterpolar\"}], \"scatterpolargl\": [{\"marker\": {\"colorbar\": {\"outlinewidth\": 0, \"ticks\": \"\"}}, \"type\": \"scatterpolargl\"}], \"scatterternary\": [{\"marker\": {\"colorbar\": {\"outlinewidth\": 0, \"ticks\": \"\"}}, \"type\": \"scatterternary\"}], \"surface\": [{\"colorbar\": {\"outlinewidth\": 0, \"ticks\": \"\"}, \"colorscale\": [[0.0, \"#0d0887\"], [0.1111111111111111, \"#46039f\"], [0.2222222222222222, \"#7201a8\"], [0.3333333333333333, \"#9c179e\"], [0.4444444444444444, \"#bd3786\"], [0.5555555555555556, \"#d8576b\"], [0.6666666666666666, \"#ed7953\"], [0.7777777777777778, \"#fb9f3a\"], [0.8888888888888888, \"#fdca26\"], [1.0, \"#f0f921\"]], \"type\": \"surface\"}], \"table\": [{\"cells\": {\"fill\": {\"color\": \"#EBF0F8\"}, \"line\": {\"color\": \"white\"}}, \"header\": {\"fill\": {\"color\": \"#C8D4E3\"}, \"line\": {\"color\": \"white\"}}, \"type\": \"table\"}]}, \"layout\": {\"annotationdefaults\": {\"arrowcolor\": \"#2a3f5f\", \"arrowhead\": 0, \"arrowwidth\": 1}, \"coloraxis\": {\"colorbar\": {\"outlinewidth\": 0, \"ticks\": \"\"}}, \"colorscale\": {\"diverging\": [[0, \"#8e0152\"], [0.1, \"#c51b7d\"], [0.2, \"#de77ae\"], [0.3, \"#f1b6da\"], [0.4, \"#fde0ef\"], [0.5, \"#f7f7f7\"], [0.6, \"#e6f5d0\"], [0.7, \"#b8e186\"], [0.8, \"#7fbc41\"], [0.9, \"#4d9221\"], [1, \"#276419\"]], \"sequential\": [[0.0, \"#0d0887\"], [0.1111111111111111, \"#46039f\"], [0.2222222222222222, \"#7201a8\"], [0.3333333333333333, \"#9c179e\"], [0.4444444444444444, \"#bd3786\"], [0.5555555555555556, \"#d8576b\"], [0.6666666666666666, \"#ed7953\"], [0.7777777777777778, \"#fb9f3a\"], [0.8888888888888888, \"#fdca26\"], [1.0, \"#f0f921\"]], \"sequentialminus\": [[0.0, \"#0d0887\"], [0.1111111111111111, \"#46039f\"], [0.2222222222222222, \"#7201a8\"], [0.3333333333333333, \"#9c179e\"], [0.4444444444444444, \"#bd3786\"], [0.5555555555555556, \"#d8576b\"], [0.6666666666666666, \"#ed7953\"], [0.7777777777777778, \"#fb9f3a\"], [0.8888888888888888, \"#fdca26\"], [1.0, \"#f0f921\"]]}, \"colorway\": [\"#636efa\", \"#EF553B\", \"#00cc96\", \"#ab63fa\", \"#FFA15A\", \"#19d3f3\", \"#FF6692\", \"#B6E880\", \"#FF97FF\", \"#FECB52\"], \"font\": {\"color\": \"#2a3f5f\"}, \"geo\": {\"bgcolor\": \"white\", \"lakecolor\": \"white\", \"landcolor\": \"#E5ECF6\", \"showlakes\": true, \"showland\": true, \"subunitcolor\": \"white\"}, \"hoverlabel\": {\"align\": \"left\"}, \"hovermode\": \"closest\", \"mapbox\": {\"style\": \"light\"}, \"paper_bgcolor\": \"white\", \"plot_bgcolor\": \"#E5ECF6\", \"polar\": {\"angularaxis\": {\"gridcolor\": \"white\", \"linecolor\": \"white\", \"ticks\": \"\"}, \"bgcolor\": \"#E5ECF6\", \"radialaxis\": {\"gridcolor\": \"white\", \"linecolor\": \"white\", \"ticks\": \"\"}}, \"scene\": {\"xaxis\": {\"backgroundcolor\": \"#E5ECF6\", \"gridcolor\": \"white\", \"gridwidth\": 2, \"linecolor\": \"white\", \"showbackground\": true, \"ticks\": \"\", \"zerolinecolor\": \"white\"}, \"yaxis\": {\"backgroundcolor\": \"#E5ECF6\", \"gridcolor\": \"white\", \"gridwidth\": 2, \"linecolor\": \"white\", \"showbackground\": true, \"ticks\": \"\", \"zerolinecolor\": \"white\"}, \"zaxis\": {\"backgroundcolor\": \"#E5ECF6\", \"gridcolor\": \"white\", \"gridwidth\": 2, \"linecolor\": \"white\", \"showbackground\": true, \"ticks\": \"\", \"zerolinecolor\": \"white\"}}, \"shapedefaults\": {\"line\": {\"color\": \"#2a3f5f\"}}, \"ternary\": {\"aaxis\": {\"gridcolor\": \"white\", \"linecolor\": \"white\", \"ticks\": \"\"}, \"baxis\": {\"gridcolor\": \"white\", \"linecolor\": \"white\", \"ticks\": \"\"}, \"bgcolor\": \"#E5ECF6\", \"caxis\": {\"gridcolor\": \"white\", \"linecolor\": \"white\", \"ticks\": \"\"}}, \"title\": {\"x\": 0.05}, \"xaxis\": {\"automargin\": true, \"gridcolor\": \"white\", \"linecolor\": \"white\", \"ticks\": \"\", \"title\": {\"standoff\": 15}, \"zerolinecolor\": \"white\", \"zerolinewidth\": 2}, \"yaxis\": {\"automargin\": true, \"gridcolor\": \"white\", \"linecolor\": \"white\", \"ticks\": \"\", \"title\": {\"standoff\": 15}, \"zerolinecolor\": \"white\", \"zerolinewidth\": 2}}}, \"title\": {\"text\": \"Top 20 unigrams in the text after removing stop words and lemmatization\"}},                        {\"responsive\": true}                    ).then(function(){\n",
       "                            \n",
       "var gd = document.getElementById('08b49725-a312-4776-b4fa-d1fdda3f2dec');\n",
       "var x = new MutationObserver(function (mutations, observer) {{\n",
       "        var display = window.getComputedStyle(gd).display;\n",
       "        if (!display || display === 'none') {{\n",
       "            console.log([gd, 'removed!']);\n",
       "            Plotly.purge(gd);\n",
       "            observer.disconnect();\n",
       "        }}\n",
       "}});\n",
       "\n",
       "// Listen for the removal of the full notebook cells\n",
       "var notebookContainer = gd.closest('#notebook-container');\n",
       "if (notebookContainer) {{\n",
       "    x.observe(notebookContainer, {childList: true});\n",
       "}}\n",
       "\n",
       "// Listen for the clearing of the current output cell\n",
       "var outputEl = gd.closest('.output');\n",
       "if (outputEl) {{\n",
       "    x.observe(outputEl, {childList: true});\n",
       "}}\n",
       "\n",
       "                        })                };                });            </script>        </div>"
      ]
     },
     "metadata": {},
     "output_type": "display_data"
    }
   ],
   "source": [
    "# Call the function get_top_n_grams for unigrams\n",
    "common_words = get_top_n_grams(df_clean, 20)\n",
    "df2 = pd.DataFrame(common_words, columns = ['unigram' , 'count'])\n",
    "# plot the top 20 unigrams\n",
    "fig = go.Figure([go.Bar(x=df2['unigram'], y=df2['count'])])\n",
    "fig.update_layout(title=go.layout.Title(text=\"Top 20 unigrams in the text after removing stop words and lemmatization\"))\n",
    "fig.show()"
   ]
  },
  {
   "cell_type": "code",
   "execution_count": 76,
   "metadata": {},
   "outputs": [
    {
     "data": {
      "application/vnd.plotly.v1+json": {
       "config": {
        "plotlyServerURL": "https://plot.ly"
       },
       "data": [
        {
         "type": "bar",
         "x": [
          "south wale",
          "face mask",
          "cruise ship",
          "south australia",
          "western australia",
          "diamond princess",
          "victoria queensland",
          "confirm case",
          "wale victoria",
          "queensland south",
          "monash university",
          "test positive",
          "australia western",
          "hong kong",
          "update aedt",
          "publish aedt",
          "aedt update",
          "christmas island",
          "mainland china",
          "prime minister"
         ],
         "y": [
          313,
          242,
          238,
          237,
          218,
          217,
          189,
          181,
          178,
          175,
          162,
          158,
          158,
          155,
          150,
          148,
          148,
          143,
          137,
          134
         ]
        }
       ],
       "layout": {
        "template": {
         "data": {
          "bar": [
           {
            "error_x": {
             "color": "#2a3f5f"
            },
            "error_y": {
             "color": "#2a3f5f"
            },
            "marker": {
             "line": {
              "color": "#E5ECF6",
              "width": 0.5
             }
            },
            "type": "bar"
           }
          ],
          "barpolar": [
           {
            "marker": {
             "line": {
              "color": "#E5ECF6",
              "width": 0.5
             }
            },
            "type": "barpolar"
           }
          ],
          "carpet": [
           {
            "aaxis": {
             "endlinecolor": "#2a3f5f",
             "gridcolor": "white",
             "linecolor": "white",
             "minorgridcolor": "white",
             "startlinecolor": "#2a3f5f"
            },
            "baxis": {
             "endlinecolor": "#2a3f5f",
             "gridcolor": "white",
             "linecolor": "white",
             "minorgridcolor": "white",
             "startlinecolor": "#2a3f5f"
            },
            "type": "carpet"
           }
          ],
          "choropleth": [
           {
            "colorbar": {
             "outlinewidth": 0,
             "ticks": ""
            },
            "type": "choropleth"
           }
          ],
          "contour": [
           {
            "colorbar": {
             "outlinewidth": 0,
             "ticks": ""
            },
            "colorscale": [
             [
              0,
              "#0d0887"
             ],
             [
              0.1111111111111111,
              "#46039f"
             ],
             [
              0.2222222222222222,
              "#7201a8"
             ],
             [
              0.3333333333333333,
              "#9c179e"
             ],
             [
              0.4444444444444444,
              "#bd3786"
             ],
             [
              0.5555555555555556,
              "#d8576b"
             ],
             [
              0.6666666666666666,
              "#ed7953"
             ],
             [
              0.7777777777777778,
              "#fb9f3a"
             ],
             [
              0.8888888888888888,
              "#fdca26"
             ],
             [
              1,
              "#f0f921"
             ]
            ],
            "type": "contour"
           }
          ],
          "contourcarpet": [
           {
            "colorbar": {
             "outlinewidth": 0,
             "ticks": ""
            },
            "type": "contourcarpet"
           }
          ],
          "heatmap": [
           {
            "colorbar": {
             "outlinewidth": 0,
             "ticks": ""
            },
            "colorscale": [
             [
              0,
              "#0d0887"
             ],
             [
              0.1111111111111111,
              "#46039f"
             ],
             [
              0.2222222222222222,
              "#7201a8"
             ],
             [
              0.3333333333333333,
              "#9c179e"
             ],
             [
              0.4444444444444444,
              "#bd3786"
             ],
             [
              0.5555555555555556,
              "#d8576b"
             ],
             [
              0.6666666666666666,
              "#ed7953"
             ],
             [
              0.7777777777777778,
              "#fb9f3a"
             ],
             [
              0.8888888888888888,
              "#fdca26"
             ],
             [
              1,
              "#f0f921"
             ]
            ],
            "type": "heatmap"
           }
          ],
          "heatmapgl": [
           {
            "colorbar": {
             "outlinewidth": 0,
             "ticks": ""
            },
            "colorscale": [
             [
              0,
              "#0d0887"
             ],
             [
              0.1111111111111111,
              "#46039f"
             ],
             [
              0.2222222222222222,
              "#7201a8"
             ],
             [
              0.3333333333333333,
              "#9c179e"
             ],
             [
              0.4444444444444444,
              "#bd3786"
             ],
             [
              0.5555555555555556,
              "#d8576b"
             ],
             [
              0.6666666666666666,
              "#ed7953"
             ],
             [
              0.7777777777777778,
              "#fb9f3a"
             ],
             [
              0.8888888888888888,
              "#fdca26"
             ],
             [
              1,
              "#f0f921"
             ]
            ],
            "type": "heatmapgl"
           }
          ],
          "histogram": [
           {
            "marker": {
             "colorbar": {
              "outlinewidth": 0,
              "ticks": ""
             }
            },
            "type": "histogram"
           }
          ],
          "histogram2d": [
           {
            "colorbar": {
             "outlinewidth": 0,
             "ticks": ""
            },
            "colorscale": [
             [
              0,
              "#0d0887"
             ],
             [
              0.1111111111111111,
              "#46039f"
             ],
             [
              0.2222222222222222,
              "#7201a8"
             ],
             [
              0.3333333333333333,
              "#9c179e"
             ],
             [
              0.4444444444444444,
              "#bd3786"
             ],
             [
              0.5555555555555556,
              "#d8576b"
             ],
             [
              0.6666666666666666,
              "#ed7953"
             ],
             [
              0.7777777777777778,
              "#fb9f3a"
             ],
             [
              0.8888888888888888,
              "#fdca26"
             ],
             [
              1,
              "#f0f921"
             ]
            ],
            "type": "histogram2d"
           }
          ],
          "histogram2dcontour": [
           {
            "colorbar": {
             "outlinewidth": 0,
             "ticks": ""
            },
            "colorscale": [
             [
              0,
              "#0d0887"
             ],
             [
              0.1111111111111111,
              "#46039f"
             ],
             [
              0.2222222222222222,
              "#7201a8"
             ],
             [
              0.3333333333333333,
              "#9c179e"
             ],
             [
              0.4444444444444444,
              "#bd3786"
             ],
             [
              0.5555555555555556,
              "#d8576b"
             ],
             [
              0.6666666666666666,
              "#ed7953"
             ],
             [
              0.7777777777777778,
              "#fb9f3a"
             ],
             [
              0.8888888888888888,
              "#fdca26"
             ],
             [
              1,
              "#f0f921"
             ]
            ],
            "type": "histogram2dcontour"
           }
          ],
          "mesh3d": [
           {
            "colorbar": {
             "outlinewidth": 0,
             "ticks": ""
            },
            "type": "mesh3d"
           }
          ],
          "parcoords": [
           {
            "line": {
             "colorbar": {
              "outlinewidth": 0,
              "ticks": ""
             }
            },
            "type": "parcoords"
           }
          ],
          "pie": [
           {
            "automargin": true,
            "type": "pie"
           }
          ],
          "scatter": [
           {
            "marker": {
             "colorbar": {
              "outlinewidth": 0,
              "ticks": ""
             }
            },
            "type": "scatter"
           }
          ],
          "scatter3d": [
           {
            "line": {
             "colorbar": {
              "outlinewidth": 0,
              "ticks": ""
             }
            },
            "marker": {
             "colorbar": {
              "outlinewidth": 0,
              "ticks": ""
             }
            },
            "type": "scatter3d"
           }
          ],
          "scattercarpet": [
           {
            "marker": {
             "colorbar": {
              "outlinewidth": 0,
              "ticks": ""
             }
            },
            "type": "scattercarpet"
           }
          ],
          "scattergeo": [
           {
            "marker": {
             "colorbar": {
              "outlinewidth": 0,
              "ticks": ""
             }
            },
            "type": "scattergeo"
           }
          ],
          "scattergl": [
           {
            "marker": {
             "colorbar": {
              "outlinewidth": 0,
              "ticks": ""
             }
            },
            "type": "scattergl"
           }
          ],
          "scattermapbox": [
           {
            "marker": {
             "colorbar": {
              "outlinewidth": 0,
              "ticks": ""
             }
            },
            "type": "scattermapbox"
           }
          ],
          "scatterpolar": [
           {
            "marker": {
             "colorbar": {
              "outlinewidth": 0,
              "ticks": ""
             }
            },
            "type": "scatterpolar"
           }
          ],
          "scatterpolargl": [
           {
            "marker": {
             "colorbar": {
              "outlinewidth": 0,
              "ticks": ""
             }
            },
            "type": "scatterpolargl"
           }
          ],
          "scatterternary": [
           {
            "marker": {
             "colorbar": {
              "outlinewidth": 0,
              "ticks": ""
             }
            },
            "type": "scatterternary"
           }
          ],
          "surface": [
           {
            "colorbar": {
             "outlinewidth": 0,
             "ticks": ""
            },
            "colorscale": [
             [
              0,
              "#0d0887"
             ],
             [
              0.1111111111111111,
              "#46039f"
             ],
             [
              0.2222222222222222,
              "#7201a8"
             ],
             [
              0.3333333333333333,
              "#9c179e"
             ],
             [
              0.4444444444444444,
              "#bd3786"
             ],
             [
              0.5555555555555556,
              "#d8576b"
             ],
             [
              0.6666666666666666,
              "#ed7953"
             ],
             [
              0.7777777777777778,
              "#fb9f3a"
             ],
             [
              0.8888888888888888,
              "#fdca26"
             ],
             [
              1,
              "#f0f921"
             ]
            ],
            "type": "surface"
           }
          ],
          "table": [
           {
            "cells": {
             "fill": {
              "color": "#EBF0F8"
             },
             "line": {
              "color": "white"
             }
            },
            "header": {
             "fill": {
              "color": "#C8D4E3"
             },
             "line": {
              "color": "white"
             }
            },
            "type": "table"
           }
          ]
         },
         "layout": {
          "annotationdefaults": {
           "arrowcolor": "#2a3f5f",
           "arrowhead": 0,
           "arrowwidth": 1
          },
          "coloraxis": {
           "colorbar": {
            "outlinewidth": 0,
            "ticks": ""
           }
          },
          "colorscale": {
           "diverging": [
            [
             0,
             "#8e0152"
            ],
            [
             0.1,
             "#c51b7d"
            ],
            [
             0.2,
             "#de77ae"
            ],
            [
             0.3,
             "#f1b6da"
            ],
            [
             0.4,
             "#fde0ef"
            ],
            [
             0.5,
             "#f7f7f7"
            ],
            [
             0.6,
             "#e6f5d0"
            ],
            [
             0.7,
             "#b8e186"
            ],
            [
             0.8,
             "#7fbc41"
            ],
            [
             0.9,
             "#4d9221"
            ],
            [
             1,
             "#276419"
            ]
           ],
           "sequential": [
            [
             0,
             "#0d0887"
            ],
            [
             0.1111111111111111,
             "#46039f"
            ],
            [
             0.2222222222222222,
             "#7201a8"
            ],
            [
             0.3333333333333333,
             "#9c179e"
            ],
            [
             0.4444444444444444,
             "#bd3786"
            ],
            [
             0.5555555555555556,
             "#d8576b"
            ],
            [
             0.6666666666666666,
             "#ed7953"
            ],
            [
             0.7777777777777778,
             "#fb9f3a"
            ],
            [
             0.8888888888888888,
             "#fdca26"
            ],
            [
             1,
             "#f0f921"
            ]
           ],
           "sequentialminus": [
            [
             0,
             "#0d0887"
            ],
            [
             0.1111111111111111,
             "#46039f"
            ],
            [
             0.2222222222222222,
             "#7201a8"
            ],
            [
             0.3333333333333333,
             "#9c179e"
            ],
            [
             0.4444444444444444,
             "#bd3786"
            ],
            [
             0.5555555555555556,
             "#d8576b"
            ],
            [
             0.6666666666666666,
             "#ed7953"
            ],
            [
             0.7777777777777778,
             "#fb9f3a"
            ],
            [
             0.8888888888888888,
             "#fdca26"
            ],
            [
             1,
             "#f0f921"
            ]
           ]
          },
          "colorway": [
           "#636efa",
           "#EF553B",
           "#00cc96",
           "#ab63fa",
           "#FFA15A",
           "#19d3f3",
           "#FF6692",
           "#B6E880",
           "#FF97FF",
           "#FECB52"
          ],
          "font": {
           "color": "#2a3f5f"
          },
          "geo": {
           "bgcolor": "white",
           "lakecolor": "white",
           "landcolor": "#E5ECF6",
           "showlakes": true,
           "showland": true,
           "subunitcolor": "white"
          },
          "hoverlabel": {
           "align": "left"
          },
          "hovermode": "closest",
          "mapbox": {
           "style": "light"
          },
          "paper_bgcolor": "white",
          "plot_bgcolor": "#E5ECF6",
          "polar": {
           "angularaxis": {
            "gridcolor": "white",
            "linecolor": "white",
            "ticks": ""
           },
           "bgcolor": "#E5ECF6",
           "radialaxis": {
            "gridcolor": "white",
            "linecolor": "white",
            "ticks": ""
           }
          },
          "scene": {
           "xaxis": {
            "backgroundcolor": "#E5ECF6",
            "gridcolor": "white",
            "gridwidth": 2,
            "linecolor": "white",
            "showbackground": true,
            "ticks": "",
            "zerolinecolor": "white"
           },
           "yaxis": {
            "backgroundcolor": "#E5ECF6",
            "gridcolor": "white",
            "gridwidth": 2,
            "linecolor": "white",
            "showbackground": true,
            "ticks": "",
            "zerolinecolor": "white"
           },
           "zaxis": {
            "backgroundcolor": "#E5ECF6",
            "gridcolor": "white",
            "gridwidth": 2,
            "linecolor": "white",
            "showbackground": true,
            "ticks": "",
            "zerolinecolor": "white"
           }
          },
          "shapedefaults": {
           "line": {
            "color": "#2a3f5f"
           }
          },
          "ternary": {
           "aaxis": {
            "gridcolor": "white",
            "linecolor": "white",
            "ticks": ""
           },
           "baxis": {
            "gridcolor": "white",
            "linecolor": "white",
            "ticks": ""
           },
           "bgcolor": "#E5ECF6",
           "caxis": {
            "gridcolor": "white",
            "linecolor": "white",
            "ticks": ""
           }
          },
          "title": {
           "x": 0.05
          },
          "xaxis": {
           "automargin": true,
           "gridcolor": "white",
           "linecolor": "white",
           "ticks": "",
           "title": {
            "standoff": 15
           },
           "zerolinecolor": "white",
           "zerolinewidth": 2
          },
          "yaxis": {
           "automargin": true,
           "gridcolor": "white",
           "linecolor": "white",
           "ticks": "",
           "title": {
            "standoff": 15
           },
           "zerolinecolor": "white",
           "zerolinewidth": 2
          }
         }
        },
        "title": {
         "text": "Top 20 bigrams in the text after removing stop words and lemmatization"
        }
       }
      },
      "text/html": [
       "<div>                            <div id=\"51cb28c3-947b-4d9d-a359-cd980b0ecd14\" class=\"plotly-graph-div\" style=\"height:525px; width:100%;\"></div>            <script type=\"text/javascript\">                require([\"plotly\"], function(Plotly) {                    window.PLOTLYENV=window.PLOTLYENV || {};                                    if (document.getElementById(\"51cb28c3-947b-4d9d-a359-cd980b0ecd14\")) {                    Plotly.newPlot(                        \"51cb28c3-947b-4d9d-a359-cd980b0ecd14\",                        [{\"type\": \"bar\", \"x\": [\"south wale\", \"face mask\", \"cruise ship\", \"south australia\", \"western australia\", \"diamond princess\", \"victoria queensland\", \"confirm case\", \"wale victoria\", \"queensland south\", \"monash university\", \"test positive\", \"australia western\", \"hong kong\", \"update aedt\", \"publish aedt\", \"aedt update\", \"christmas island\", \"mainland china\", \"prime minister\"], \"y\": [313, 242, 238, 237, 218, 217, 189, 181, 178, 175, 162, 158, 158, 155, 150, 148, 148, 143, 137, 134]}],                        {\"template\": {\"data\": {\"bar\": [{\"error_x\": {\"color\": \"#2a3f5f\"}, \"error_y\": {\"color\": \"#2a3f5f\"}, \"marker\": {\"line\": {\"color\": \"#E5ECF6\", \"width\": 0.5}}, \"type\": \"bar\"}], \"barpolar\": [{\"marker\": {\"line\": {\"color\": \"#E5ECF6\", \"width\": 0.5}}, \"type\": \"barpolar\"}], \"carpet\": [{\"aaxis\": {\"endlinecolor\": \"#2a3f5f\", \"gridcolor\": \"white\", \"linecolor\": \"white\", \"minorgridcolor\": \"white\", \"startlinecolor\": \"#2a3f5f\"}, \"baxis\": {\"endlinecolor\": \"#2a3f5f\", \"gridcolor\": \"white\", \"linecolor\": \"white\", \"minorgridcolor\": \"white\", \"startlinecolor\": \"#2a3f5f\"}, \"type\": \"carpet\"}], \"choropleth\": [{\"colorbar\": {\"outlinewidth\": 0, \"ticks\": \"\"}, \"type\": \"choropleth\"}], \"contour\": [{\"colorbar\": {\"outlinewidth\": 0, \"ticks\": \"\"}, \"colorscale\": [[0.0, \"#0d0887\"], [0.1111111111111111, \"#46039f\"], [0.2222222222222222, \"#7201a8\"], [0.3333333333333333, \"#9c179e\"], [0.4444444444444444, \"#bd3786\"], [0.5555555555555556, \"#d8576b\"], [0.6666666666666666, \"#ed7953\"], [0.7777777777777778, \"#fb9f3a\"], [0.8888888888888888, \"#fdca26\"], [1.0, \"#f0f921\"]], \"type\": \"contour\"}], \"contourcarpet\": [{\"colorbar\": {\"outlinewidth\": 0, \"ticks\": \"\"}, \"type\": \"contourcarpet\"}], \"heatmap\": [{\"colorbar\": {\"outlinewidth\": 0, \"ticks\": \"\"}, \"colorscale\": [[0.0, \"#0d0887\"], [0.1111111111111111, \"#46039f\"], [0.2222222222222222, \"#7201a8\"], [0.3333333333333333, \"#9c179e\"], [0.4444444444444444, \"#bd3786\"], [0.5555555555555556, \"#d8576b\"], [0.6666666666666666, \"#ed7953\"], [0.7777777777777778, \"#fb9f3a\"], [0.8888888888888888, \"#fdca26\"], [1.0, \"#f0f921\"]], \"type\": \"heatmap\"}], \"heatmapgl\": [{\"colorbar\": {\"outlinewidth\": 0, \"ticks\": \"\"}, \"colorscale\": [[0.0, \"#0d0887\"], [0.1111111111111111, \"#46039f\"], [0.2222222222222222, \"#7201a8\"], [0.3333333333333333, \"#9c179e\"], [0.4444444444444444, \"#bd3786\"], [0.5555555555555556, \"#d8576b\"], [0.6666666666666666, \"#ed7953\"], [0.7777777777777778, \"#fb9f3a\"], [0.8888888888888888, \"#fdca26\"], [1.0, \"#f0f921\"]], \"type\": \"heatmapgl\"}], \"histogram\": [{\"marker\": {\"colorbar\": {\"outlinewidth\": 0, \"ticks\": \"\"}}, \"type\": \"histogram\"}], \"histogram2d\": [{\"colorbar\": {\"outlinewidth\": 0, \"ticks\": \"\"}, \"colorscale\": [[0.0, \"#0d0887\"], [0.1111111111111111, \"#46039f\"], [0.2222222222222222, \"#7201a8\"], [0.3333333333333333, \"#9c179e\"], [0.4444444444444444, \"#bd3786\"], [0.5555555555555556, \"#d8576b\"], [0.6666666666666666, \"#ed7953\"], [0.7777777777777778, \"#fb9f3a\"], [0.8888888888888888, \"#fdca26\"], [1.0, \"#f0f921\"]], \"type\": \"histogram2d\"}], \"histogram2dcontour\": [{\"colorbar\": {\"outlinewidth\": 0, \"ticks\": \"\"}, \"colorscale\": [[0.0, \"#0d0887\"], [0.1111111111111111, \"#46039f\"], [0.2222222222222222, \"#7201a8\"], [0.3333333333333333, \"#9c179e\"], [0.4444444444444444, \"#bd3786\"], [0.5555555555555556, \"#d8576b\"], [0.6666666666666666, \"#ed7953\"], [0.7777777777777778, \"#fb9f3a\"], [0.8888888888888888, \"#fdca26\"], [1.0, \"#f0f921\"]], \"type\": \"histogram2dcontour\"}], \"mesh3d\": [{\"colorbar\": {\"outlinewidth\": 0, \"ticks\": \"\"}, \"type\": \"mesh3d\"}], \"parcoords\": [{\"line\": {\"colorbar\": {\"outlinewidth\": 0, \"ticks\": \"\"}}, \"type\": \"parcoords\"}], \"pie\": [{\"automargin\": true, \"type\": \"pie\"}], \"scatter\": [{\"marker\": {\"colorbar\": {\"outlinewidth\": 0, \"ticks\": \"\"}}, \"type\": \"scatter\"}], \"scatter3d\": [{\"line\": {\"colorbar\": {\"outlinewidth\": 0, \"ticks\": \"\"}}, \"marker\": {\"colorbar\": {\"outlinewidth\": 0, \"ticks\": \"\"}}, \"type\": \"scatter3d\"}], \"scattercarpet\": [{\"marker\": {\"colorbar\": {\"outlinewidth\": 0, \"ticks\": \"\"}}, \"type\": \"scattercarpet\"}], \"scattergeo\": [{\"marker\": {\"colorbar\": {\"outlinewidth\": 0, \"ticks\": \"\"}}, \"type\": \"scattergeo\"}], \"scattergl\": [{\"marker\": {\"colorbar\": {\"outlinewidth\": 0, \"ticks\": \"\"}}, \"type\": \"scattergl\"}], \"scattermapbox\": [{\"marker\": {\"colorbar\": {\"outlinewidth\": 0, \"ticks\": \"\"}}, \"type\": \"scattermapbox\"}], \"scatterpolar\": [{\"marker\": {\"colorbar\": {\"outlinewidth\": 0, \"ticks\": \"\"}}, \"type\": \"scatterpolar\"}], \"scatterpolargl\": [{\"marker\": {\"colorbar\": {\"outlinewidth\": 0, \"ticks\": \"\"}}, \"type\": \"scatterpolargl\"}], \"scatterternary\": [{\"marker\": {\"colorbar\": {\"outlinewidth\": 0, \"ticks\": \"\"}}, \"type\": \"scatterternary\"}], \"surface\": [{\"colorbar\": {\"outlinewidth\": 0, \"ticks\": \"\"}, \"colorscale\": [[0.0, \"#0d0887\"], [0.1111111111111111, \"#46039f\"], [0.2222222222222222, \"#7201a8\"], [0.3333333333333333, \"#9c179e\"], [0.4444444444444444, \"#bd3786\"], [0.5555555555555556, \"#d8576b\"], [0.6666666666666666, \"#ed7953\"], [0.7777777777777778, \"#fb9f3a\"], [0.8888888888888888, \"#fdca26\"], [1.0, \"#f0f921\"]], \"type\": \"surface\"}], \"table\": [{\"cells\": {\"fill\": {\"color\": \"#EBF0F8\"}, \"line\": {\"color\": \"white\"}}, \"header\": {\"fill\": {\"color\": \"#C8D4E3\"}, \"line\": {\"color\": \"white\"}}, \"type\": \"table\"}]}, \"layout\": {\"annotationdefaults\": {\"arrowcolor\": \"#2a3f5f\", \"arrowhead\": 0, \"arrowwidth\": 1}, \"coloraxis\": {\"colorbar\": {\"outlinewidth\": 0, \"ticks\": \"\"}}, \"colorscale\": {\"diverging\": [[0, \"#8e0152\"], [0.1, \"#c51b7d\"], [0.2, \"#de77ae\"], [0.3, \"#f1b6da\"], [0.4, \"#fde0ef\"], [0.5, \"#f7f7f7\"], [0.6, \"#e6f5d0\"], [0.7, \"#b8e186\"], [0.8, \"#7fbc41\"], [0.9, \"#4d9221\"], [1, \"#276419\"]], \"sequential\": [[0.0, \"#0d0887\"], [0.1111111111111111, \"#46039f\"], [0.2222222222222222, \"#7201a8\"], [0.3333333333333333, \"#9c179e\"], [0.4444444444444444, \"#bd3786\"], [0.5555555555555556, \"#d8576b\"], [0.6666666666666666, \"#ed7953\"], [0.7777777777777778, \"#fb9f3a\"], [0.8888888888888888, \"#fdca26\"], [1.0, \"#f0f921\"]], \"sequentialminus\": [[0.0, \"#0d0887\"], [0.1111111111111111, \"#46039f\"], [0.2222222222222222, \"#7201a8\"], [0.3333333333333333, \"#9c179e\"], [0.4444444444444444, \"#bd3786\"], [0.5555555555555556, \"#d8576b\"], [0.6666666666666666, \"#ed7953\"], [0.7777777777777778, \"#fb9f3a\"], [0.8888888888888888, \"#fdca26\"], [1.0, \"#f0f921\"]]}, \"colorway\": [\"#636efa\", \"#EF553B\", \"#00cc96\", \"#ab63fa\", \"#FFA15A\", \"#19d3f3\", \"#FF6692\", \"#B6E880\", \"#FF97FF\", \"#FECB52\"], \"font\": {\"color\": \"#2a3f5f\"}, \"geo\": {\"bgcolor\": \"white\", \"lakecolor\": \"white\", \"landcolor\": \"#E5ECF6\", \"showlakes\": true, \"showland\": true, \"subunitcolor\": \"white\"}, \"hoverlabel\": {\"align\": \"left\"}, \"hovermode\": \"closest\", \"mapbox\": {\"style\": \"light\"}, \"paper_bgcolor\": \"white\", \"plot_bgcolor\": \"#E5ECF6\", \"polar\": {\"angularaxis\": {\"gridcolor\": \"white\", \"linecolor\": \"white\", \"ticks\": \"\"}, \"bgcolor\": \"#E5ECF6\", \"radialaxis\": {\"gridcolor\": \"white\", \"linecolor\": \"white\", \"ticks\": \"\"}}, \"scene\": {\"xaxis\": {\"backgroundcolor\": \"#E5ECF6\", \"gridcolor\": \"white\", \"gridwidth\": 2, \"linecolor\": \"white\", \"showbackground\": true, \"ticks\": \"\", \"zerolinecolor\": \"white\"}, \"yaxis\": {\"backgroundcolor\": \"#E5ECF6\", \"gridcolor\": \"white\", \"gridwidth\": 2, \"linecolor\": \"white\", \"showbackground\": true, \"ticks\": \"\", \"zerolinecolor\": \"white\"}, \"zaxis\": {\"backgroundcolor\": \"#E5ECF6\", \"gridcolor\": \"white\", \"gridwidth\": 2, \"linecolor\": \"white\", \"showbackground\": true, \"ticks\": \"\", \"zerolinecolor\": \"white\"}}, \"shapedefaults\": {\"line\": {\"color\": \"#2a3f5f\"}}, \"ternary\": {\"aaxis\": {\"gridcolor\": \"white\", \"linecolor\": \"white\", \"ticks\": \"\"}, \"baxis\": {\"gridcolor\": \"white\", \"linecolor\": \"white\", \"ticks\": \"\"}, \"bgcolor\": \"#E5ECF6\", \"caxis\": {\"gridcolor\": \"white\", \"linecolor\": \"white\", \"ticks\": \"\"}}, \"title\": {\"x\": 0.05}, \"xaxis\": {\"automargin\": true, \"gridcolor\": \"white\", \"linecolor\": \"white\", \"ticks\": \"\", \"title\": {\"standoff\": 15}, \"zerolinecolor\": \"white\", \"zerolinewidth\": 2}, \"yaxis\": {\"automargin\": true, \"gridcolor\": \"white\", \"linecolor\": \"white\", \"ticks\": \"\", \"title\": {\"standoff\": 15}, \"zerolinecolor\": \"white\", \"zerolinewidth\": 2}}}, \"title\": {\"text\": \"Top 20 bigrams in the text after removing stop words and lemmatization\"}},                        {\"responsive\": true}                    ).then(function(){\n",
       "                            \n",
       "var gd = document.getElementById('51cb28c3-947b-4d9d-a359-cd980b0ecd14');\n",
       "var x = new MutationObserver(function (mutations, observer) {{\n",
       "        var display = window.getComputedStyle(gd).display;\n",
       "        if (!display || display === 'none') {{\n",
       "            console.log([gd, 'removed!']);\n",
       "            Plotly.purge(gd);\n",
       "            observer.disconnect();\n",
       "        }}\n",
       "}});\n",
       "\n",
       "// Listen for the removal of the full notebook cells\n",
       "var notebookContainer = gd.closest('#notebook-container');\n",
       "if (notebookContainer) {{\n",
       "    x.observe(notebookContainer, {childList: true});\n",
       "}}\n",
       "\n",
       "// Listen for the clearing of the current output cell\n",
       "var outputEl = gd.closest('.output');\n",
       "if (outputEl) {{\n",
       "    x.observe(outputEl, {childList: true});\n",
       "}}\n",
       "\n",
       "                        })                };                });            </script>        </div>"
      ]
     },
     "metadata": {},
     "output_type": "display_data"
    }
   ],
   "source": [
    "# Call the function get_top_n_grams for unigrams\n",
    "common_words = get_top_n_grams(df_clean, 20, (2,2))\n",
    "df3 = pd.DataFrame(common_words, columns = ['bigram' , 'count'])\n",
    "# plot the top 20 bigrams\n",
    "fig = go.Figure([go.Bar(x=df3['bigram'], y=df3['count'])])\n",
    "fig.update_layout(title=go.layout.Title(text=\"Top 20 bigrams in the text after removing stop words and lemmatization\"))\n",
    "fig.show()"
   ]
  },
  {
   "cell_type": "code",
   "execution_count": 77,
   "metadata": {},
   "outputs": [
    {
     "data": {
      "application/vnd.plotly.v1+json": {
       "config": {
        "plotlyServerURL": "https://plot.ly"
       },
       "data": [
        {
         "type": "bar",
         "x": [
          "south wale victoria",
          "queensland south australia",
          "wale victoria queensland",
          "victoria queensland south",
          "south australia western",
          "australia western australia",
          "publish aedt update",
          "aedt update aedt",
          "western australia japan",
          "daily mail australia",
          "princess cruise ship",
          "diamond princess cruise",
          "prime minister scott",
          "minister scott morrison",
          "wear face mask",
          "chief medical officer",
          "australia japan advertisement",
          "tell daily mail",
          "confirm case coronavirus",
          "world health organisation"
         ],
         "y": [
          178,
          175,
          166,
          160,
          157,
          157,
          148,
          148,
          125,
          122,
          118,
          116,
          93,
          93,
          88,
          88,
          84,
          76,
          55,
          53
         ]
        }
       ],
       "layout": {
        "template": {
         "data": {
          "bar": [
           {
            "error_x": {
             "color": "#2a3f5f"
            },
            "error_y": {
             "color": "#2a3f5f"
            },
            "marker": {
             "line": {
              "color": "#E5ECF6",
              "width": 0.5
             }
            },
            "type": "bar"
           }
          ],
          "barpolar": [
           {
            "marker": {
             "line": {
              "color": "#E5ECF6",
              "width": 0.5
             }
            },
            "type": "barpolar"
           }
          ],
          "carpet": [
           {
            "aaxis": {
             "endlinecolor": "#2a3f5f",
             "gridcolor": "white",
             "linecolor": "white",
             "minorgridcolor": "white",
             "startlinecolor": "#2a3f5f"
            },
            "baxis": {
             "endlinecolor": "#2a3f5f",
             "gridcolor": "white",
             "linecolor": "white",
             "minorgridcolor": "white",
             "startlinecolor": "#2a3f5f"
            },
            "type": "carpet"
           }
          ],
          "choropleth": [
           {
            "colorbar": {
             "outlinewidth": 0,
             "ticks": ""
            },
            "type": "choropleth"
           }
          ],
          "contour": [
           {
            "colorbar": {
             "outlinewidth": 0,
             "ticks": ""
            },
            "colorscale": [
             [
              0,
              "#0d0887"
             ],
             [
              0.1111111111111111,
              "#46039f"
             ],
             [
              0.2222222222222222,
              "#7201a8"
             ],
             [
              0.3333333333333333,
              "#9c179e"
             ],
             [
              0.4444444444444444,
              "#bd3786"
             ],
             [
              0.5555555555555556,
              "#d8576b"
             ],
             [
              0.6666666666666666,
              "#ed7953"
             ],
             [
              0.7777777777777778,
              "#fb9f3a"
             ],
             [
              0.8888888888888888,
              "#fdca26"
             ],
             [
              1,
              "#f0f921"
             ]
            ],
            "type": "contour"
           }
          ],
          "contourcarpet": [
           {
            "colorbar": {
             "outlinewidth": 0,
             "ticks": ""
            },
            "type": "contourcarpet"
           }
          ],
          "heatmap": [
           {
            "colorbar": {
             "outlinewidth": 0,
             "ticks": ""
            },
            "colorscale": [
             [
              0,
              "#0d0887"
             ],
             [
              0.1111111111111111,
              "#46039f"
             ],
             [
              0.2222222222222222,
              "#7201a8"
             ],
             [
              0.3333333333333333,
              "#9c179e"
             ],
             [
              0.4444444444444444,
              "#bd3786"
             ],
             [
              0.5555555555555556,
              "#d8576b"
             ],
             [
              0.6666666666666666,
              "#ed7953"
             ],
             [
              0.7777777777777778,
              "#fb9f3a"
             ],
             [
              0.8888888888888888,
              "#fdca26"
             ],
             [
              1,
              "#f0f921"
             ]
            ],
            "type": "heatmap"
           }
          ],
          "heatmapgl": [
           {
            "colorbar": {
             "outlinewidth": 0,
             "ticks": ""
            },
            "colorscale": [
             [
              0,
              "#0d0887"
             ],
             [
              0.1111111111111111,
              "#46039f"
             ],
             [
              0.2222222222222222,
              "#7201a8"
             ],
             [
              0.3333333333333333,
              "#9c179e"
             ],
             [
              0.4444444444444444,
              "#bd3786"
             ],
             [
              0.5555555555555556,
              "#d8576b"
             ],
             [
              0.6666666666666666,
              "#ed7953"
             ],
             [
              0.7777777777777778,
              "#fb9f3a"
             ],
             [
              0.8888888888888888,
              "#fdca26"
             ],
             [
              1,
              "#f0f921"
             ]
            ],
            "type": "heatmapgl"
           }
          ],
          "histogram": [
           {
            "marker": {
             "colorbar": {
              "outlinewidth": 0,
              "ticks": ""
             }
            },
            "type": "histogram"
           }
          ],
          "histogram2d": [
           {
            "colorbar": {
             "outlinewidth": 0,
             "ticks": ""
            },
            "colorscale": [
             [
              0,
              "#0d0887"
             ],
             [
              0.1111111111111111,
              "#46039f"
             ],
             [
              0.2222222222222222,
              "#7201a8"
             ],
             [
              0.3333333333333333,
              "#9c179e"
             ],
             [
              0.4444444444444444,
              "#bd3786"
             ],
             [
              0.5555555555555556,
              "#d8576b"
             ],
             [
              0.6666666666666666,
              "#ed7953"
             ],
             [
              0.7777777777777778,
              "#fb9f3a"
             ],
             [
              0.8888888888888888,
              "#fdca26"
             ],
             [
              1,
              "#f0f921"
             ]
            ],
            "type": "histogram2d"
           }
          ],
          "histogram2dcontour": [
           {
            "colorbar": {
             "outlinewidth": 0,
             "ticks": ""
            },
            "colorscale": [
             [
              0,
              "#0d0887"
             ],
             [
              0.1111111111111111,
              "#46039f"
             ],
             [
              0.2222222222222222,
              "#7201a8"
             ],
             [
              0.3333333333333333,
              "#9c179e"
             ],
             [
              0.4444444444444444,
              "#bd3786"
             ],
             [
              0.5555555555555556,
              "#d8576b"
             ],
             [
              0.6666666666666666,
              "#ed7953"
             ],
             [
              0.7777777777777778,
              "#fb9f3a"
             ],
             [
              0.8888888888888888,
              "#fdca26"
             ],
             [
              1,
              "#f0f921"
             ]
            ],
            "type": "histogram2dcontour"
           }
          ],
          "mesh3d": [
           {
            "colorbar": {
             "outlinewidth": 0,
             "ticks": ""
            },
            "type": "mesh3d"
           }
          ],
          "parcoords": [
           {
            "line": {
             "colorbar": {
              "outlinewidth": 0,
              "ticks": ""
             }
            },
            "type": "parcoords"
           }
          ],
          "pie": [
           {
            "automargin": true,
            "type": "pie"
           }
          ],
          "scatter": [
           {
            "marker": {
             "colorbar": {
              "outlinewidth": 0,
              "ticks": ""
             }
            },
            "type": "scatter"
           }
          ],
          "scatter3d": [
           {
            "line": {
             "colorbar": {
              "outlinewidth": 0,
              "ticks": ""
             }
            },
            "marker": {
             "colorbar": {
              "outlinewidth": 0,
              "ticks": ""
             }
            },
            "type": "scatter3d"
           }
          ],
          "scattercarpet": [
           {
            "marker": {
             "colorbar": {
              "outlinewidth": 0,
              "ticks": ""
             }
            },
            "type": "scattercarpet"
           }
          ],
          "scattergeo": [
           {
            "marker": {
             "colorbar": {
              "outlinewidth": 0,
              "ticks": ""
             }
            },
            "type": "scattergeo"
           }
          ],
          "scattergl": [
           {
            "marker": {
             "colorbar": {
              "outlinewidth": 0,
              "ticks": ""
             }
            },
            "type": "scattergl"
           }
          ],
          "scattermapbox": [
           {
            "marker": {
             "colorbar": {
              "outlinewidth": 0,
              "ticks": ""
             }
            },
            "type": "scattermapbox"
           }
          ],
          "scatterpolar": [
           {
            "marker": {
             "colorbar": {
              "outlinewidth": 0,
              "ticks": ""
             }
            },
            "type": "scatterpolar"
           }
          ],
          "scatterpolargl": [
           {
            "marker": {
             "colorbar": {
              "outlinewidth": 0,
              "ticks": ""
             }
            },
            "type": "scatterpolargl"
           }
          ],
          "scatterternary": [
           {
            "marker": {
             "colorbar": {
              "outlinewidth": 0,
              "ticks": ""
             }
            },
            "type": "scatterternary"
           }
          ],
          "surface": [
           {
            "colorbar": {
             "outlinewidth": 0,
             "ticks": ""
            },
            "colorscale": [
             [
              0,
              "#0d0887"
             ],
             [
              0.1111111111111111,
              "#46039f"
             ],
             [
              0.2222222222222222,
              "#7201a8"
             ],
             [
              0.3333333333333333,
              "#9c179e"
             ],
             [
              0.4444444444444444,
              "#bd3786"
             ],
             [
              0.5555555555555556,
              "#d8576b"
             ],
             [
              0.6666666666666666,
              "#ed7953"
             ],
             [
              0.7777777777777778,
              "#fb9f3a"
             ],
             [
              0.8888888888888888,
              "#fdca26"
             ],
             [
              1,
              "#f0f921"
             ]
            ],
            "type": "surface"
           }
          ],
          "table": [
           {
            "cells": {
             "fill": {
              "color": "#EBF0F8"
             },
             "line": {
              "color": "white"
             }
            },
            "header": {
             "fill": {
              "color": "#C8D4E3"
             },
             "line": {
              "color": "white"
             }
            },
            "type": "table"
           }
          ]
         },
         "layout": {
          "annotationdefaults": {
           "arrowcolor": "#2a3f5f",
           "arrowhead": 0,
           "arrowwidth": 1
          },
          "coloraxis": {
           "colorbar": {
            "outlinewidth": 0,
            "ticks": ""
           }
          },
          "colorscale": {
           "diverging": [
            [
             0,
             "#8e0152"
            ],
            [
             0.1,
             "#c51b7d"
            ],
            [
             0.2,
             "#de77ae"
            ],
            [
             0.3,
             "#f1b6da"
            ],
            [
             0.4,
             "#fde0ef"
            ],
            [
             0.5,
             "#f7f7f7"
            ],
            [
             0.6,
             "#e6f5d0"
            ],
            [
             0.7,
             "#b8e186"
            ],
            [
             0.8,
             "#7fbc41"
            ],
            [
             0.9,
             "#4d9221"
            ],
            [
             1,
             "#276419"
            ]
           ],
           "sequential": [
            [
             0,
             "#0d0887"
            ],
            [
             0.1111111111111111,
             "#46039f"
            ],
            [
             0.2222222222222222,
             "#7201a8"
            ],
            [
             0.3333333333333333,
             "#9c179e"
            ],
            [
             0.4444444444444444,
             "#bd3786"
            ],
            [
             0.5555555555555556,
             "#d8576b"
            ],
            [
             0.6666666666666666,
             "#ed7953"
            ],
            [
             0.7777777777777778,
             "#fb9f3a"
            ],
            [
             0.8888888888888888,
             "#fdca26"
            ],
            [
             1,
             "#f0f921"
            ]
           ],
           "sequentialminus": [
            [
             0,
             "#0d0887"
            ],
            [
             0.1111111111111111,
             "#46039f"
            ],
            [
             0.2222222222222222,
             "#7201a8"
            ],
            [
             0.3333333333333333,
             "#9c179e"
            ],
            [
             0.4444444444444444,
             "#bd3786"
            ],
            [
             0.5555555555555556,
             "#d8576b"
            ],
            [
             0.6666666666666666,
             "#ed7953"
            ],
            [
             0.7777777777777778,
             "#fb9f3a"
            ],
            [
             0.8888888888888888,
             "#fdca26"
            ],
            [
             1,
             "#f0f921"
            ]
           ]
          },
          "colorway": [
           "#636efa",
           "#EF553B",
           "#00cc96",
           "#ab63fa",
           "#FFA15A",
           "#19d3f3",
           "#FF6692",
           "#B6E880",
           "#FF97FF",
           "#FECB52"
          ],
          "font": {
           "color": "#2a3f5f"
          },
          "geo": {
           "bgcolor": "white",
           "lakecolor": "white",
           "landcolor": "#E5ECF6",
           "showlakes": true,
           "showland": true,
           "subunitcolor": "white"
          },
          "hoverlabel": {
           "align": "left"
          },
          "hovermode": "closest",
          "mapbox": {
           "style": "light"
          },
          "paper_bgcolor": "white",
          "plot_bgcolor": "#E5ECF6",
          "polar": {
           "angularaxis": {
            "gridcolor": "white",
            "linecolor": "white",
            "ticks": ""
           },
           "bgcolor": "#E5ECF6",
           "radialaxis": {
            "gridcolor": "white",
            "linecolor": "white",
            "ticks": ""
           }
          },
          "scene": {
           "xaxis": {
            "backgroundcolor": "#E5ECF6",
            "gridcolor": "white",
            "gridwidth": 2,
            "linecolor": "white",
            "showbackground": true,
            "ticks": "",
            "zerolinecolor": "white"
           },
           "yaxis": {
            "backgroundcolor": "#E5ECF6",
            "gridcolor": "white",
            "gridwidth": 2,
            "linecolor": "white",
            "showbackground": true,
            "ticks": "",
            "zerolinecolor": "white"
           },
           "zaxis": {
            "backgroundcolor": "#E5ECF6",
            "gridcolor": "white",
            "gridwidth": 2,
            "linecolor": "white",
            "showbackground": true,
            "ticks": "",
            "zerolinecolor": "white"
           }
          },
          "shapedefaults": {
           "line": {
            "color": "#2a3f5f"
           }
          },
          "ternary": {
           "aaxis": {
            "gridcolor": "white",
            "linecolor": "white",
            "ticks": ""
           },
           "baxis": {
            "gridcolor": "white",
            "linecolor": "white",
            "ticks": ""
           },
           "bgcolor": "#E5ECF6",
           "caxis": {
            "gridcolor": "white",
            "linecolor": "white",
            "ticks": ""
           }
          },
          "title": {
           "x": 0.05
          },
          "xaxis": {
           "automargin": true,
           "gridcolor": "white",
           "linecolor": "white",
           "ticks": "",
           "title": {
            "standoff": 15
           },
           "zerolinecolor": "white",
           "zerolinewidth": 2
          },
          "yaxis": {
           "automargin": true,
           "gridcolor": "white",
           "linecolor": "white",
           "ticks": "",
           "title": {
            "standoff": 15
           },
           "zerolinecolor": "white",
           "zerolinewidth": 2
          }
         }
        },
        "title": {
         "text": "Top 20 trigrams in the text"
        }
       }
      },
      "text/html": [
       "<div>                            <div id=\"2c136368-f872-4b55-9852-ea745bd9de12\" class=\"plotly-graph-div\" style=\"height:525px; width:100%;\"></div>            <script type=\"text/javascript\">                require([\"plotly\"], function(Plotly) {                    window.PLOTLYENV=window.PLOTLYENV || {};                                    if (document.getElementById(\"2c136368-f872-4b55-9852-ea745bd9de12\")) {                    Plotly.newPlot(                        \"2c136368-f872-4b55-9852-ea745bd9de12\",                        [{\"type\": \"bar\", \"x\": [\"south wale victoria\", \"queensland south australia\", \"wale victoria queensland\", \"victoria queensland south\", \"south australia western\", \"australia western australia\", \"publish aedt update\", \"aedt update aedt\", \"western australia japan\", \"daily mail australia\", \"princess cruise ship\", \"diamond princess cruise\", \"prime minister scott\", \"minister scott morrison\", \"wear face mask\", \"chief medical officer\", \"australia japan advertisement\", \"tell daily mail\", \"confirm case coronavirus\", \"world health organisation\"], \"y\": [178, 175, 166, 160, 157, 157, 148, 148, 125, 122, 118, 116, 93, 93, 88, 88, 84, 76, 55, 53]}],                        {\"template\": {\"data\": {\"bar\": [{\"error_x\": {\"color\": \"#2a3f5f\"}, \"error_y\": {\"color\": \"#2a3f5f\"}, \"marker\": {\"line\": {\"color\": \"#E5ECF6\", \"width\": 0.5}}, \"type\": \"bar\"}], \"barpolar\": [{\"marker\": {\"line\": {\"color\": \"#E5ECF6\", \"width\": 0.5}}, \"type\": \"barpolar\"}], \"carpet\": [{\"aaxis\": {\"endlinecolor\": \"#2a3f5f\", \"gridcolor\": \"white\", \"linecolor\": \"white\", \"minorgridcolor\": \"white\", \"startlinecolor\": \"#2a3f5f\"}, \"baxis\": {\"endlinecolor\": \"#2a3f5f\", \"gridcolor\": \"white\", \"linecolor\": \"white\", \"minorgridcolor\": \"white\", \"startlinecolor\": \"#2a3f5f\"}, \"type\": \"carpet\"}], \"choropleth\": [{\"colorbar\": {\"outlinewidth\": 0, \"ticks\": \"\"}, \"type\": \"choropleth\"}], \"contour\": [{\"colorbar\": {\"outlinewidth\": 0, \"ticks\": \"\"}, \"colorscale\": [[0.0, \"#0d0887\"], [0.1111111111111111, \"#46039f\"], [0.2222222222222222, \"#7201a8\"], [0.3333333333333333, \"#9c179e\"], [0.4444444444444444, \"#bd3786\"], [0.5555555555555556, \"#d8576b\"], [0.6666666666666666, \"#ed7953\"], [0.7777777777777778, \"#fb9f3a\"], [0.8888888888888888, \"#fdca26\"], [1.0, \"#f0f921\"]], \"type\": \"contour\"}], \"contourcarpet\": [{\"colorbar\": {\"outlinewidth\": 0, \"ticks\": \"\"}, \"type\": \"contourcarpet\"}], \"heatmap\": [{\"colorbar\": {\"outlinewidth\": 0, \"ticks\": \"\"}, \"colorscale\": [[0.0, \"#0d0887\"], [0.1111111111111111, \"#46039f\"], [0.2222222222222222, \"#7201a8\"], [0.3333333333333333, \"#9c179e\"], [0.4444444444444444, \"#bd3786\"], [0.5555555555555556, \"#d8576b\"], [0.6666666666666666, \"#ed7953\"], [0.7777777777777778, \"#fb9f3a\"], [0.8888888888888888, \"#fdca26\"], [1.0, \"#f0f921\"]], \"type\": \"heatmap\"}], \"heatmapgl\": [{\"colorbar\": {\"outlinewidth\": 0, \"ticks\": \"\"}, \"colorscale\": [[0.0, \"#0d0887\"], [0.1111111111111111, \"#46039f\"], [0.2222222222222222, \"#7201a8\"], [0.3333333333333333, \"#9c179e\"], [0.4444444444444444, \"#bd3786\"], [0.5555555555555556, \"#d8576b\"], [0.6666666666666666, \"#ed7953\"], [0.7777777777777778, \"#fb9f3a\"], [0.8888888888888888, \"#fdca26\"], [1.0, \"#f0f921\"]], \"type\": \"heatmapgl\"}], \"histogram\": [{\"marker\": {\"colorbar\": {\"outlinewidth\": 0, \"ticks\": \"\"}}, \"type\": \"histogram\"}], \"histogram2d\": [{\"colorbar\": {\"outlinewidth\": 0, \"ticks\": \"\"}, \"colorscale\": [[0.0, \"#0d0887\"], [0.1111111111111111, \"#46039f\"], [0.2222222222222222, \"#7201a8\"], [0.3333333333333333, \"#9c179e\"], [0.4444444444444444, \"#bd3786\"], [0.5555555555555556, \"#d8576b\"], [0.6666666666666666, \"#ed7953\"], [0.7777777777777778, \"#fb9f3a\"], [0.8888888888888888, \"#fdca26\"], [1.0, \"#f0f921\"]], \"type\": \"histogram2d\"}], \"histogram2dcontour\": [{\"colorbar\": {\"outlinewidth\": 0, \"ticks\": \"\"}, \"colorscale\": [[0.0, \"#0d0887\"], [0.1111111111111111, \"#46039f\"], [0.2222222222222222, \"#7201a8\"], [0.3333333333333333, \"#9c179e\"], [0.4444444444444444, \"#bd3786\"], [0.5555555555555556, \"#d8576b\"], [0.6666666666666666, \"#ed7953\"], [0.7777777777777778, \"#fb9f3a\"], [0.8888888888888888, \"#fdca26\"], [1.0, \"#f0f921\"]], \"type\": \"histogram2dcontour\"}], \"mesh3d\": [{\"colorbar\": {\"outlinewidth\": 0, \"ticks\": \"\"}, \"type\": \"mesh3d\"}], \"parcoords\": [{\"line\": {\"colorbar\": {\"outlinewidth\": 0, \"ticks\": \"\"}}, \"type\": \"parcoords\"}], \"pie\": [{\"automargin\": true, \"type\": \"pie\"}], \"scatter\": [{\"marker\": {\"colorbar\": {\"outlinewidth\": 0, \"ticks\": \"\"}}, \"type\": \"scatter\"}], \"scatter3d\": [{\"line\": {\"colorbar\": {\"outlinewidth\": 0, \"ticks\": \"\"}}, \"marker\": {\"colorbar\": {\"outlinewidth\": 0, \"ticks\": \"\"}}, \"type\": \"scatter3d\"}], \"scattercarpet\": [{\"marker\": {\"colorbar\": {\"outlinewidth\": 0, \"ticks\": \"\"}}, \"type\": \"scattercarpet\"}], \"scattergeo\": [{\"marker\": {\"colorbar\": {\"outlinewidth\": 0, \"ticks\": \"\"}}, \"type\": \"scattergeo\"}], \"scattergl\": [{\"marker\": {\"colorbar\": {\"outlinewidth\": 0, \"ticks\": \"\"}}, \"type\": \"scattergl\"}], \"scattermapbox\": [{\"marker\": {\"colorbar\": {\"outlinewidth\": 0, \"ticks\": \"\"}}, \"type\": \"scattermapbox\"}], \"scatterpolar\": [{\"marker\": {\"colorbar\": {\"outlinewidth\": 0, \"ticks\": \"\"}}, \"type\": \"scatterpolar\"}], \"scatterpolargl\": [{\"marker\": {\"colorbar\": {\"outlinewidth\": 0, \"ticks\": \"\"}}, \"type\": \"scatterpolargl\"}], \"scatterternary\": [{\"marker\": {\"colorbar\": {\"outlinewidth\": 0, \"ticks\": \"\"}}, \"type\": \"scatterternary\"}], \"surface\": [{\"colorbar\": {\"outlinewidth\": 0, \"ticks\": \"\"}, \"colorscale\": [[0.0, \"#0d0887\"], [0.1111111111111111, \"#46039f\"], [0.2222222222222222, \"#7201a8\"], [0.3333333333333333, \"#9c179e\"], [0.4444444444444444, \"#bd3786\"], [0.5555555555555556, \"#d8576b\"], [0.6666666666666666, \"#ed7953\"], [0.7777777777777778, \"#fb9f3a\"], [0.8888888888888888, \"#fdca26\"], [1.0, \"#f0f921\"]], \"type\": \"surface\"}], \"table\": [{\"cells\": {\"fill\": {\"color\": \"#EBF0F8\"}, \"line\": {\"color\": \"white\"}}, \"header\": {\"fill\": {\"color\": \"#C8D4E3\"}, \"line\": {\"color\": \"white\"}}, \"type\": \"table\"}]}, \"layout\": {\"annotationdefaults\": {\"arrowcolor\": \"#2a3f5f\", \"arrowhead\": 0, \"arrowwidth\": 1}, \"coloraxis\": {\"colorbar\": {\"outlinewidth\": 0, \"ticks\": \"\"}}, \"colorscale\": {\"diverging\": [[0, \"#8e0152\"], [0.1, \"#c51b7d\"], [0.2, \"#de77ae\"], [0.3, \"#f1b6da\"], [0.4, \"#fde0ef\"], [0.5, \"#f7f7f7\"], [0.6, \"#e6f5d0\"], [0.7, \"#b8e186\"], [0.8, \"#7fbc41\"], [0.9, \"#4d9221\"], [1, \"#276419\"]], \"sequential\": [[0.0, \"#0d0887\"], [0.1111111111111111, \"#46039f\"], [0.2222222222222222, \"#7201a8\"], [0.3333333333333333, \"#9c179e\"], [0.4444444444444444, \"#bd3786\"], [0.5555555555555556, \"#d8576b\"], [0.6666666666666666, \"#ed7953\"], [0.7777777777777778, \"#fb9f3a\"], [0.8888888888888888, \"#fdca26\"], [1.0, \"#f0f921\"]], \"sequentialminus\": [[0.0, \"#0d0887\"], [0.1111111111111111, \"#46039f\"], [0.2222222222222222, \"#7201a8\"], [0.3333333333333333, \"#9c179e\"], [0.4444444444444444, \"#bd3786\"], [0.5555555555555556, \"#d8576b\"], [0.6666666666666666, \"#ed7953\"], [0.7777777777777778, \"#fb9f3a\"], [0.8888888888888888, \"#fdca26\"], [1.0, \"#f0f921\"]]}, \"colorway\": [\"#636efa\", \"#EF553B\", \"#00cc96\", \"#ab63fa\", \"#FFA15A\", \"#19d3f3\", \"#FF6692\", \"#B6E880\", \"#FF97FF\", \"#FECB52\"], \"font\": {\"color\": \"#2a3f5f\"}, \"geo\": {\"bgcolor\": \"white\", \"lakecolor\": \"white\", \"landcolor\": \"#E5ECF6\", \"showlakes\": true, \"showland\": true, \"subunitcolor\": \"white\"}, \"hoverlabel\": {\"align\": \"left\"}, \"hovermode\": \"closest\", \"mapbox\": {\"style\": \"light\"}, \"paper_bgcolor\": \"white\", \"plot_bgcolor\": \"#E5ECF6\", \"polar\": {\"angularaxis\": {\"gridcolor\": \"white\", \"linecolor\": \"white\", \"ticks\": \"\"}, \"bgcolor\": \"#E5ECF6\", \"radialaxis\": {\"gridcolor\": \"white\", \"linecolor\": \"white\", \"ticks\": \"\"}}, \"scene\": {\"xaxis\": {\"backgroundcolor\": \"#E5ECF6\", \"gridcolor\": \"white\", \"gridwidth\": 2, \"linecolor\": \"white\", \"showbackground\": true, \"ticks\": \"\", \"zerolinecolor\": \"white\"}, \"yaxis\": {\"backgroundcolor\": \"#E5ECF6\", \"gridcolor\": \"white\", \"gridwidth\": 2, \"linecolor\": \"white\", \"showbackground\": true, \"ticks\": \"\", \"zerolinecolor\": \"white\"}, \"zaxis\": {\"backgroundcolor\": \"#E5ECF6\", \"gridcolor\": \"white\", \"gridwidth\": 2, \"linecolor\": \"white\", \"showbackground\": true, \"ticks\": \"\", \"zerolinecolor\": \"white\"}}, \"shapedefaults\": {\"line\": {\"color\": \"#2a3f5f\"}}, \"ternary\": {\"aaxis\": {\"gridcolor\": \"white\", \"linecolor\": \"white\", \"ticks\": \"\"}, \"baxis\": {\"gridcolor\": \"white\", \"linecolor\": \"white\", \"ticks\": \"\"}, \"bgcolor\": \"#E5ECF6\", \"caxis\": {\"gridcolor\": \"white\", \"linecolor\": \"white\", \"ticks\": \"\"}}, \"title\": {\"x\": 0.05}, \"xaxis\": {\"automargin\": true, \"gridcolor\": \"white\", \"linecolor\": \"white\", \"ticks\": \"\", \"title\": {\"standoff\": 15}, \"zerolinecolor\": \"white\", \"zerolinewidth\": 2}, \"yaxis\": {\"automargin\": true, \"gridcolor\": \"white\", \"linecolor\": \"white\", \"ticks\": \"\", \"title\": {\"standoff\": 15}, \"zerolinecolor\": \"white\", \"zerolinewidth\": 2}}}, \"title\": {\"text\": \"Top 20 trigrams in the text\"}},                        {\"responsive\": true}                    ).then(function(){\n",
       "                            \n",
       "var gd = document.getElementById('2c136368-f872-4b55-9852-ea745bd9de12');\n",
       "var x = new MutationObserver(function (mutations, observer) {{\n",
       "        var display = window.getComputedStyle(gd).display;\n",
       "        if (!display || display === 'none') {{\n",
       "            console.log([gd, 'removed!']);\n",
       "            Plotly.purge(gd);\n",
       "            observer.disconnect();\n",
       "        }}\n",
       "}});\n",
       "\n",
       "// Listen for the removal of the full notebook cells\n",
       "var notebookContainer = gd.closest('#notebook-container');\n",
       "if (notebookContainer) {{\n",
       "    x.observe(notebookContainer, {childList: true});\n",
       "}}\n",
       "\n",
       "// Listen for the clearing of the current output cell\n",
       "var outputEl = gd.closest('.output');\n",
       "if (outputEl) {{\n",
       "    x.observe(outputEl, {childList: true});\n",
       "}}\n",
       "\n",
       "                        })                };                });            </script>        </div>"
      ]
     },
     "metadata": {},
     "output_type": "display_data"
    }
   ],
   "source": [
    "# Call the function get_top_n_grams for unigrams\n",
    "common_words = get_top_n_grams(df_clean, 20, (3,3))\n",
    "df4 = pd.DataFrame(common_words, columns = ['trigram' , 'count'])\n",
    "# plot the top 20 Trigrams\n",
    "fig = go.Figure([go.Bar(x=df4['trigram'], y=df4['count'])])\n",
    "fig.update_layout(title=go.layout.Title(text=\"Top 20 trigrams in the text\"))\n",
    "fig.show()"
   ]
  },
  {
   "cell_type": "markdown",
   "metadata": {},
   "source": [
    "### Preforming LDA"
   ]
  },
  {
   "cell_type": "code",
   "execution_count": 80,
   "metadata": {},
   "outputs": [
    {
     "data": {
      "text/html": [
       "\n",
       "<link rel=\"stylesheet\" type=\"text/css\" href=\"https://cdn.jsdelivr.net/gh/bmabey/pyLDAvis@3.2.2/pyLDAvis/js/ldavis.v1.0.0.css\">\n",
       "\n",
       "\n",
       "<div id=\"ldavis_el50381404242009509923597363412\"></div>\n",
       "<script type=\"text/javascript\">\n",
       "\n",
       "var ldavis_el50381404242009509923597363412_data = {\"mdsDat\": {\"x\": [32.42095184326172, 0.648955225944519, 71.01968383789062, 3.7859814167022705, -42.666500091552734, -3.6216893196105957, -3.632401704788208, -36.58440017700195, 44.391380310058594, 40.235809326171875], \"y\": [8.115229606628418, 71.70709991455078, 9.971006393432617, 33.18513488769531, -9.22206974029541, -43.52651596069336, -4.171707630157471, 35.804412841796875, 50.61538314819336, -31.591665267944336], \"topics\": [1, 2, 3, 4, 5, 6, 7, 8, 9, 10], \"cluster\": [1, 1, 1, 1, 1, 1, 1, 1, 1, 1], \"Freq\": [40.2930636051617, 27.50378572958587, 10.943838254992356, 7.119210021601126, 4.814927398666759, 4.130082360719777, 2.8347899989238265, 1.6185086767197963, 0.7150674244736951, 0.02672652915508334]}, \"tinfo\": {\"Term\": [\"coronavirus\", \"virus\", \"australia\", \"case\", \"people\", \"university\", \"area\", \"south\", \"woman\", \"patient\", \"spread\", \"bushfire\", \"sydney\", \"melbourne\", \"study\", \"year\", \"time\", \"climate\", \"wuhan\", \"australian\", \"china\", \"smoke\", \"group\", \"cancer\", \"infect\", \"change\", \"hospital\", \"city\", \"picture\", \"outbreak\", \"darwin\", \"yokohama\", \"greg\", \"auckland\", \"howard\", \"teacher\", \"evacuee\", \"qanta\", \"closure\", \"cabin\", \"sutton\", \"crew\", \"camp\", \"security\", \"norwegian\", \"komesaroff\", \"plunge\", \"princess\", \"dsilva\", \"jewel\", \"diamond\", \"macintyre\", \"route\", \"brett\", \"wave\", \"cancellation\", \"employer\", \"airline\", \"confine\", \"surplus\", \"ship\", \"board\", \"school\", \"intensive\", \"cruise\", \"christmas\", \"distancing\", \"athlete\", \"passenger\", \"flight\", \"quarantine\", \"minister\", \"facility\", \"island\", \"australian\", \"advice\", \"health\", \"australia\", \"picture\", \"japan\", \"aedt\", \"home\", \"queensland\", \"morrison\", \"coronavirus\", \"thursday\", \"leave\", \"south\", \"week\", \"people\", \"tell\", \"travel\", \"china\", \"government\", \"sydney\", \"student\", \"test\", \"case\", \"virus\", \"university\", \"victoria\", \"wuhan\", \"sanitiser\", \"coronaviruse\", \"eastwood\", \"chatswood\", \"warehouse\", \"priceline\", \"cole\", \"syndrome\", \"pharmacy\", \"pasta\", \"virology\", \"buying\", \"sneeze\", \"seafood\", \"surveillance\", \"bulk\", \"cooper\", \"shelf\", \"snake\", \"ghost\", \"chemist\", \"virologist\", \"racist\", \"approximately\", \"meat\", \"turner\", \"wenliang\", \"iceberg\", \"horby\", \"mutate\", \"corona\", \"sell\", \"pneumonia\", \"acute\", \"store\", \"cold\", \"discharge\", \"mask\", \"symptom\", \"virus\", \"fever\", \"thailand\", \"owner\", \"spread\", \"chinese\", \"outbreak\", \"wuhan\", \"hand\", \"customer\", \"china\", \"case\", \"coronavirus\", \"face\", \"people\", \"hubei\", \"supply\", \"wear\", \"confirm\", \"infection\", \"infect\", \"death\", \"treat\", \"patient\", \"student\", \"disease\", \"city\", \"australia\", \"hospital\", \"deadly\", \"health\", \"test\", \"travel\", \"week\", \"tell\", \"south\", \"report\", \"include\", \"sydney\", \"australian\", \"university\", \"coffee\", \"sleep\", \"skin\", \"print\", \"curator\", \"liquid\", \"islamic\", \"engineer\", \"metal\", \"allergic\", \"bench\", \"widodo\", \"lunch\", \"chemical\", \"cream\", \"farnesol\", \"dermatitis\", \"awhen\", \"massachusetts\", \"alloy\", \"reset\", \"marriage\", \"toothpaste\", \"clock\", \"nonprofit\", \"murdoch\", \"hormone\", \"strategic\", \"flexibility\", \"faculty\", \"rhythm\", \"molecule\", \"award\", \"awake\", \"didnat\", \"lewis\", \"structure\", \"technique\", \"object\", \"light\", \"material\", \"leader\", \"museum\", \"researcher\", \"shift\", \"lecturer\", \"colleague\", \"technology\", \"athe\", \"create\", \"body\", \"history\", \"phone\", \"university\", \"work\", \"time\", \"feel\", \"cell\", \"like\", \"right\", \"fast\", \"london\", \"science\", \"trade\", \"write\", \"research\", \"woman\", \"year\", \"monash\", \"world\", \"professor\", \"help\", \"need\", \"think\", \"study\", \"change\", \"australia\", \"long\", \"people\", \"australian\", \"benign\", \"distinguish\", \"lithium\", \"analysis\", \"cohort\", \"lithiumion\", \"battery\", \"inclusion\", \"dysfunction\", \"metric\", \"masse\", \"connection\", \"obtain\", \"component\", \"projection\", \"creative\", \"continuous\", \"median\", \"grid\", \"calculate\", \"variability\", \"accuracy\", \"format\", \"section\", \"diagnostic\", \"combination\", \"marker\", \"download\", \"sensitivity\", \"correlate\", \"comparison\", \"brain\", \"author\", \"concentration\", \"label\", \"cancer\", \"table\", \"score\", \"value\", \"area\", \"datum\", \"primary\", \"network\", \"clinical\", \"study\", \"phase\", \"normal\", \"level\", \"patient\", \"result\", \"vehicle\", \"distance\", \"cell\", \"mass\", \"base\", \"provide\", \"image\", \"resource\", \"include\", \"woman\", \"high\", \"test\", \"group\", \"research\", \"marini\", \"coach\", \"quarterback\", \"heather\", \"marsupial\", \"native\", \"mountain\", \"perry\", \"fauna\", \"extinction\", \"scout\", \"carcass\", \"surrogate\", \"gridiron\", \"taronga\", \"coaching\", \"warrior\", \"critter\", \"aboriginal\", \"bull\", \"lake\", \"tradition\", \"river\", \"tower\", \"endanger\", \"offthefield\", \"oregon\", \"indigenous\", \"captivity\", \"conditioning\", \"specie\", \"offensive\", \"biobank\", \"devil\", \"mouse\", \"koala\", \"gene\", \"mammal\", \"conservation\", \"freeze\", \"century\", \"volcano\", \"title\", \"football\", \"brown\", \"organism\", \"water\", \"research\", \"discover\", \"scientist\", \"kangaroo\", \"year\", \"decade\", \"cell\", \"university\", \"australia\", \"genetic\", \"national\", \"team\", \"rain\", \"researcher\", \"like\", \"monash\", \"season\", \"australian\", \"world\", \"animal\", \"time\", \"area\", \"high\", \"know\", \"heatwave\", \"nicholl\", \"warming\", \"ravage\", \"perish\", \"drought\", \"devastation\", \"satellite\", \"rainfall\", \"graphic\", \"meteorologys\", \"wwfaustralia\", \"constance\", \"neville\", \"atomic\", \"disastrous\", \"cyclone\", \"frequency\", \"weatherzone\", \"riskiest\", \"hough\", \"inferno\", \"bomb\", \"grassland\", \"plume\", \"rage\", \"storm\", \"flooding\", \"outlook\", \"gosper\", \"climate\", \"bushfire\", \"flood\", \"forest\", \"weather\", \"destroy\", \"bureau\", \"summer\", \"blaze\", \"rain\", \"season\", \"smoke\", \"forecast\", \"wind\", \"hectare\", \"disaster\", \"emission\", \"extreme\", \"change\", \"average\", \"temperature\", \"burn\", \"quality\", \"year\", \"australia\", \"condition\", \"south\", \"event\", \"million\", \"month\", \"country\", \"increase\", \"area\", \"monash\", \"people\", \"ombudsman\", \"outsource\", \"tenix\", \"jakupovic\", \"contractor\", \"tournament\", \"hazelwood\", \"pollutant\", \"parking\", \"wine\", \"lawfulness\", \"unlawfully\", \"rubberstamp\", \"recommendation\", \"polluted\", \"hazard\", \"slovenian\", \"pollution\", \"qualify\", \"qualifier\", \"particulate\", \"conditionsa\", \"echo\", \"prolonged\", \"infringement\", \"bloodstream\", \"premature\", \"glass\", \"thisa\", \"heatrelate\", \"refund\", \"player\", \"council\", \"wildfire\", \"reduction\", \"fine\", \"review\", \"fuel\", \"smoke\", \"burn\", \"exposure\", \"phillip\", \"internal\", \"tennis\", \"play\", \"victorian\", \"issue\", \"language\", \"quality\", \"target\", \"million\", \"city\", \"melbourne\", \"risk\", \"increase\", \"year\", \"government\", \"people\", \"open\", \"state\", \"aspen\", \"mornington\", \"noosa\", \"abercrombie\", \"backpacker\", \"woollahra\", \"colorado\", \"yarra\", \"toorak\", \"wealthy\", \"sydneys\", \"violent\", \"kuringgai\", \"boroondara\", \"moreland\", \"bayside\", \"bronte\", \"ruby\", \"sutherland\", \"blacktown\", \"canterburybankstown\", \"moonee\", \"wyndham\", \"penrith\", \"banyule\", \"beach\", \"rich\", \"affluent\", \"skiing\", \"brookvale\", \"bondi\", \"hotspot\", \"stonnington\", \"cluster\", \"party\", \"peninsula\", \"injury\", \"inner\", \"geelong\", \"waverley\", \"suburb\", \"exclusive\", \"ignore\", \"northern\", \"argument\", \"attend\", \"group\", \"woman\", \"coronavirus\", \"sydney\", \"case\", \"melbourne\", \"virus\", \"police\", \"australia\", \"people\", \"south\", \"hospital\", \"victoria\", \"australian\", \"picture\", \"clap\", \"burville\", \"flipper\", \"farne\", \"clapping\", \"grey\", \"highfrequency\", \"underwater\", \"noise\", \"hocking\", \"seal\", \"ballarat\", \"band\", \"loud\", \"aiave\", \"marine\", \"breast\", \"solar\", \"debut\", \"harmful\", \"attract\", \"donald\", \"disturb\", \"opposite\", \"disorder\", \"stressful\", \"shelter\", \"distinctive\", \"surprising\", \"renewable\", \"tonne\", \"male\", \"energy\", \"cancer\", \"survey\", \"newcastle\", \"wild\", \"sound\", \"heart\", \"behaviour\", \"study\", \"researcher\", \"produce\", \"diagnosis\", \"capture\", \"time\", \"cell\", \"monash\", \"university\", \"stop\", \"body\", \"film\", \"spread\", \"patient\", \"source\", \"people\", \"australia\", \"year\", \"believe\", \"highfrequency\", \"reddit\", \"bloody\", \"rashe\", \"fireravaged\", \"balsam\", \"brookvale\", \"transmissibility\", \"mainak\", \"specialized\", \"farne\", \"consular\", \"jinpe\", \"clarify\", \"inhabit\", \"aany\", \"tear\", \"angie\", \"superpower\", \"discharged\", \"chickenpox\", \"nationality\", \"definitive\", \"staterun\", \"persontoperson\", \"servant\", \"attractive\", \"cramp\", \"administrator\", \"natasha\", \"barren\", \"clip\", \"xinhua\", \"yanzhong\", \"correct\", \"heartbreaking\", \"displace\", \"inclusive\", \"chilling\", \"brigham\", \"aeven\", \"cardiff\", \"stricken\", \"chemical\", \"tunnel\", \"outer\", \"virus\", \"people\", \"bush\", \"wuhan\", \"farnesol\", \"dermatitis\", \"animal\", \"molecule\", \"interior\", \"burn\", \"skin\", \"bind\", \"naturally\", \"infect\", \"china\", \"allergic\", \"australia\", \"coronavirus\", \"week\", \"case\", \"spread\", \"video\", \"disease\", \"cause\", \"patient\", \"reduction\", \"symptom\", \"confirm\", \"koala\", \"government\", \"australian\", \"sydney\", \"health\", \"city\", \"chinese\", \"cell\", \"south\", \"come\", \"world\", \"outbreak\", \"state\", \"university\"], \"Freq\": [1551.0, 1064.0, 1769.0, 893.0, 1470.0, 708.0, 426.0, 671.0, 440.0, 421.0, 462.0, 232.0, 438.0, 421.0, 300.0, 472.0, 455.0, 194.0, 610.0, 1022.0, 979.0, 169.0, 245.0, 135.0, 354.0, 250.0, 385.0, 328.0, 413.0, 442.0, 80.00997003517881, 83.681021988897, 44.186558550324676, 36.322191996288446, 27.22501400067101, 22.966108733393398, 96.4540926232828, 109.88873419390383, 35.65156857263976, 45.666710535589964, 20.445828486741533, 78.07395951968194, 37.74032966006576, 41.550285685311266, 17.553312523958056, 21.671746675511358, 16.606642178779556, 216.98819164461298, 19.896386021719668, 14.923012154432909, 199.84672422899007, 19.450049100794594, 31.179195843892163, 16.1270734600334, 20.77492345076468, 15.236945208504814, 14.86559640579157, 87.46499786164557, 27.046529958791, 15.641853405884799, 367.74668776469434, 173.00114533937523, 253.58089329843827, 47.35421136915431, 282.9812311064119, 110.88489579870844, 47.30125938248859, 34.24462065913438, 318.3986707728969, 344.8677933124303, 280.68959492103716, 239.77165977822594, 78.76058304069089, 166.19909126438597, 715.4626583054627, 110.9436065389981, 567.0746028057832, 1062.2576821415287, 290.950588742836, 251.6671403513856, 211.74766977981935, 277.1186998324652, 253.10769815702997, 141.2590356381951, 792.0833605438061, 180.17464816518398, 217.25764265796494, 386.75945028280523, 317.55087921467936, 674.882101939369, 291.4678791714818, 275.49166050966096, 441.2991403327204, 271.853014769505, 244.74357815566066, 258.7752135225215, 271.0218806091557, 334.3661091385178, 342.64991468634986, 265.954564612446, 224.40929199262354, 235.7301334635677, 64.57156664072947, 70.44112878723391, 40.88810594806679, 53.36304983655563, 36.98731848868619, 22.204576752175846, 17.520310822196976, 41.71006099103879, 29.38642913826901, 21.193678687331705, 17.27244308057541, 14.989921533063008, 14.861454964760211, 45.8181525100237, 16.827929147076013, 14.626935356083212, 19.720213666196717, 63.93082696100774, 15.501504339751113, 18.11932213574429, 61.19521846276678, 12.03275038951788, 16.952809031340955, 12.087149679482453, 14.693568680803132, 13.283421123814344, 11.437431374355285, 10.313682977096, 10.295422603210936, 10.31004597387783, 35.297069668397285, 100.4053549163676, 65.00507497403737, 38.14893502193937, 112.72635809234546, 39.13861705109948, 34.71106252114894, 320.4935561118089, 219.19394861612645, 697.2071422474962, 56.41439387314344, 46.37869857838632, 31.288828598641935, 298.7480405661572, 323.23007871765475, 277.6297045239577, 366.9171432151787, 109.12345534255678, 72.59629559860382, 526.2087008777644, 485.84741267676446, 720.5348141201279, 190.09144172039973, 666.455708855873, 104.48077611675578, 85.17834845797442, 147.47321281326833, 223.97807619867044, 136.27896146756802, 183.664269811688, 135.08563842494996, 94.17817796197467, 197.38875178813714, 215.02485490954078, 173.33242790262113, 157.82475523222385, 422.25315069627356, 170.3707386783868, 123.97469065349644, 256.3955699119774, 201.8114419731187, 174.93371108913968, 179.79181348759718, 170.97050737806495, 188.487682040114, 148.81262618319298, 163.19810575018104, 152.0446895411766, 163.47244732343918, 154.71997994022317, 35.272392154704356, 55.7753376992831, 30.062236633732056, 47.54516092688747, 15.40530941857973, 15.226772537041807, 17.807268057058195, 14.04635555021158, 28.25862396351427, 10.13603948847074, 9.716804389751514, 15.5590215037672, 9.29102653061796, 25.990308231456638, 6.32949164873353, 6.325592245831143, 6.308563924639052, 7.537686016906269, 6.227757466079772, 5.802884376922592, 7.543657496617924, 11.239558213553126, 6.421621982299455, 38.44780754531925, 7.05901526636916, 5.5899376865975725, 8.101416805662131, 6.065065337839526, 8.585318416134792, 9.823431812655473, 10.831110631963414, 9.816766207068197, 17.634691775151648, 10.579141273797022, 18.28214989687542, 11.07277665210835, 19.479967859603782, 20.564931417576915, 15.55283111701722, 46.509889732588874, 49.85675578425559, 32.1027959713641, 18.212769270329837, 79.86309762044117, 31.925797662106824, 19.176102035165616, 19.119639694856936, 53.78285067225676, 39.223298923885345, 46.81764272443576, 47.673392753835415, 33.626810895629134, 29.99383132235906, 196.96185830634684, 137.359844256249, 126.50743488435691, 59.30960860951089, 57.100352917764084, 80.83243591624179, 51.03876471576591, 29.592331914016814, 27.02300096358144, 31.716847643895836, 34.65972092518641, 48.17164055217128, 51.469945327589855, 75.48788352351887, 77.68487735077954, 54.25739205552772, 63.74397483648834, 52.28471721551445, 53.21445640595223, 57.56097101697085, 48.39861022150857, 52.99010246914319, 49.8416898060777, 72.47658960141605, 45.800155009792114, 59.99537968268311, 48.2943590959379, 61.542593485507666, 23.482235109660056, 17.36774845071101, 90.60338172943061, 28.51484362787857, 12.92232945530485, 55.72019450179598, 11.934697571391627, 12.400153729019472, 11.375301638397014, 28.251109219011678, 62.32927197444199, 35.660087695657836, 20.56131790663959, 17.047928432499752, 10.647857910440555, 8.753662514020286, 28.268998888233686, 7.591029794090219, 16.831005727329284, 8.416515187079973, 13.667962483727258, 7.4192329807492765, 36.40940888530918, 24.17998225364562, 21.325737336040408, 13.937677593781592, 6.129282522189703, 16.55831386628619, 6.832050190881907, 26.83904389820098, 94.43757213445657, 54.689542578697235, 25.8738839663246, 44.64882654882498, 106.1931934474426, 37.85639044017119, 34.46434045240219, 61.615557713783936, 242.3919829668769, 100.42369541025631, 42.633744495656906, 40.869823560810055, 21.142670284661726, 117.17263305952304, 27.801658484559646, 52.30315198449277, 70.89951101793076, 118.10943264878925, 75.77652776242188, 29.878208842924646, 39.05085015971338, 53.29599533884612, 37.39584119737526, 52.15837511304217, 52.651560023835536, 48.84727317689088, 36.888301629185975, 60.639537902246694, 58.63632603190878, 50.726964470678894, 59.80586867075761, 48.33968254764919, 38.56081555082799, 42.98735280134046, 60.42571926970114, 21.635405515021436, 14.744865369663726, 43.54168852713599, 12.849814998774724, 37.091843978179725, 12.548588557420816, 7.956666914326394, 18.1212266705311, 5.774588122897357, 5.351415608070267, 6.1412963888420435, 4.648974794936176, 6.154064969973491, 4.648794747012985, 4.633523568229023, 4.740962028704305, 5.808525482093226, 9.051374708411258, 13.057625456606331, 7.585859075654043, 7.3132346129556405, 11.596163367705737, 3.5954330737768907, 3.5126609637772117, 3.495073007776848, 11.776752925061045, 3.5268562361072306, 6.7968223828760665, 73.27916611265512, 9.813056981489028, 7.021102458618185, 6.999510522818094, 28.26975055439558, 17.46355347695937, 22.6311848129184, 11.779921261774614, 11.656337619668227, 11.913241238081838, 9.951601707334575, 13.021273302672746, 11.483943413214169, 22.365188859935852, 18.689855656870094, 8.304582574939325, 33.839174965069596, 55.60593140642145, 18.568026890444944, 34.37738922500919, 13.824127866178431, 57.393507433484075, 19.414411061441978, 31.848090370128503, 58.86063853509495, 82.16384748616007, 17.660714466859616, 30.44555808942065, 23.87317852121856, 17.991121248577155, 22.233819890475495, 26.991668387471268, 24.006848042538596, 18.94709782604351, 32.72930141539773, 23.80884709251033, 21.055937106640155, 20.78360727039022, 19.61218525424646, 19.15204204542921, 18.934977000304137, 23.170206181397166, 14.552574501725868, 14.6305545010119, 11.030191068402742, 7.287103124120728, 29.88167466454529, 13.230543380434197, 11.104628983798479, 17.877862902082715, 6.634254792085089, 4.262512604871203, 5.857056074817367, 4.951524896103491, 7.453843693502875, 7.210844627589368, 4.095185418134266, 17.909863281095575, 5.681689971990882, 3.2544268904234603, 3.314881722161328, 3.2446926428250586, 5.343801320804889, 7.088159129914375, 3.2995673513328065, 8.509969476779432, 6.239233399501894, 15.712628807141268, 8.844276435957301, 9.695522121449846, 3.8668809848447263, 143.66431743369947, 155.90662504884, 32.381491048074025, 19.307896758379137, 56.41675656866167, 28.39763719283156, 21.693676899708382, 39.226132989890644, 25.142625232494776, 34.197429051892065, 48.39599207936192, 82.2013194097382, 21.39932351963287, 16.943358594461593, 17.540012000610812, 21.011294258126775, 24.47052096365804, 39.03914424991985, 81.70148941637024, 31.32272630350622, 39.162014677002034, 40.79036676877863, 34.73600705479387, 60.079104240036635, 93.29347590149527, 35.75977852757229, 51.5297245625107, 25.83440760875437, 28.088300941655636, 28.576093399970006, 28.72391086180956, 24.208391365549517, 26.299876756046856, 24.64555346359519, 24.24230817768667, 12.150004515007275, 7.404319555406595, 7.296829815044703, 7.6774336657996916, 14.12384659561835, 23.8612089591307, 5.3088647466349865, 7.454569503859528, 12.094350701894456, 14.263437719475188, 3.7288329645594294, 3.738267779312513, 3.7235004981407083, 15.91653330698656, 10.349949336915222, 13.475905426709733, 3.465470288743001, 44.63032372978777, 8.105574631155545, 4.031584416929015, 5.293574837490035, 2.7496880709607883, 2.7423795110108355, 2.7425160870213774, 10.925686481596829, 2.5974882400650574, 2.5991446384256895, 21.213968300545478, 3.595352079792102, 2.571207315654227, 10.85732523170647, 37.181433490882, 48.26155136757774, 30.83129859677311, 24.2672082368371, 42.81044882011261, 36.76674378452733, 14.585927685459719, 69.02985193591107, 47.346453516963855, 25.023197593886326, 9.631526755677385, 13.307640934715417, 17.69544630678162, 28.481834003428588, 17.72793832852244, 30.740854829324512, 10.766451792833665, 20.230030838672157, 15.60715187419402, 24.602807406850193, 29.17451510741369, 29.56042084229163, 22.86079510201752, 18.786828928476115, 22.27956789124903, 18.66561678883467, 16.627309576278375, 14.92209102891183, 14.883983460497156, 31.1372686991413, 10.54530826460426, 8.441215307932353, 12.619724526559683, 10.058581410398842, 8.318090157694321, 13.632944233727677, 6.952151391063924, 12.682832895667959, 13.960575209201883, 3.854204820310563, 4.208884937911533, 3.833753499412658, 3.8319368735210815, 3.825760779982505, 3.811302432370024, 3.813140827470913, 7.605135758115361, 3.7990336719763937, 3.7931715061328046, 3.789633127285287, 3.781655227011078, 3.7521635055084293, 3.7643191435292844, 3.7595730387019404, 31.019397510175843, 10.664821258643245, 2.9282138256575596, 4.963234685125286, 2.3113974638634605, 17.733693365099956, 14.349185383977357, 15.562256794771834, 15.779743792343407, 24.131292723090162, 10.05546247414895, 8.896700138300268, 9.39328317601154, 6.566082097787535, 14.810643128098427, 21.417317462080888, 7.993733722754176, 9.41756097407903, 18.79757272526095, 5.999719458077412, 12.51605788336414, 23.5604282431314, 28.17096657568184, 32.26709773863137, 19.65418452313024, 23.798795807508974, 19.05930447763443, 21.257000051966315, 11.904695945567825, 18.272243474071146, 16.591548571199166, 14.664862555445655, 11.404956564095906, 10.738566101535497, 10.709048403718564, 10.694871200423941, 12.298860495027343, 4.683989571391647, 3.52454933084221, 2.4014519989904253, 2.3640429793816127, 7.37275839321687, 1.8198576206125276, 3.454182071023379, 2.932008455332297, 1.842784040200368, 15.016063025486233, 2.503119224089423, 5.062370859523114, 2.39529591597018, 1.8762197784319015, 3.4303382706018013, 5.085677819545247, 3.094961318211177, 1.2585908874887193, 1.165334387433135, 1.8629251515457566, 1.8429902135876888, 1.7967102186223711, 1.1010498212180626, 1.6897488513290932, 1.2751495272977476, 1.9074014291288157, 1.6948608638069123, 1.2435506046182117, 1.29214957051392, 1.8839769543839822, 7.323169603959276, 6.1686516706769945, 16.774782483593167, 2.242449147426487, 2.9042447884981333, 3.9088920298547123, 3.2845340383753667, 4.217553444659349, 3.4235778248743407, 9.64805128960461, 6.1824781348448505, 4.180324053374791, 2.613798335454865, 2.7696557811027156, 7.563455516753463, 5.229497325393067, 5.890425362077996, 7.730646017345559, 4.010675308390268, 3.62634843739877, 3.2177020327294725, 4.380685611935, 4.137441108567372, 3.3708501582566637, 3.7981230237266423, 3.7996878845972333, 3.546785674229768, 3.381748827639906, 0.008074951111777992, 0.00927979604531747, 0.008352111763398541, 0.009010246690203944, 0.008942209184059729, 0.008913634382211537, 0.007861886984570632, 0.00867973936570079, 0.008105634740835066, 0.008725429710155025, 0.008179788447249576, 0.008300538991334656, 0.008595007336748095, 0.00819195345094821, 0.008042572801838736, 0.008118254060427812, 0.008247468087385166, 0.00846529728385612, 0.00847711498947973, 0.008472484373676006, 0.008485699553076759, 0.008394340938847345, 0.008165185609329191, 0.00839296751339807, 0.007962197354080837, 0.008344857144214542, 0.008432103556423143, 0.008081299854758913, 0.008097800821567974, 0.008105978283566254, 0.008418042040845373, 0.009294935853595036, 0.008359066317253059, 0.008309868965567879, 0.008556448051881932, 0.010200981755206086, 0.010469093383527651, 0.008516041945159558, 0.009259113785490398, 0.009257106692218343, 0.00863259771959473, 0.009468873065364257, 0.01000601848738436, 0.018895218922933374, 0.010631571672531993, 0.00962318109201437, 0.04818909073480993, 0.048467294777057156, 0.010588340785056194, 0.03559252581772643, 0.010185002631364714, 0.010165625275296008, 0.024364045522394878, 0.011478252105447615, 0.009390597458542963, 0.01898754796889587, 0.014173571946442618, 0.01181472857931972, 0.01006739119624368, 0.0225714440495713, 0.02786359008420178, 0.010820847567377233, 0.028434019886126507, 0.027564413808170235, 0.02154841911306346, 0.023465056304847923, 0.020908754017848946, 0.015580760245741473, 0.01925985827586094, 0.017770636982462208, 0.019576565309028033, 0.01325380231668597, 0.01817281918162549, 0.019038721559039254, 0.012311055027987787, 0.01912266615980335, 0.02113671277641718, 0.01858796187629939, 0.0201034150647282, 0.017518268168298042, 0.018482106833044357, 0.0157807785445252, 0.01859498644905319, 0.016849958168311266, 0.016621191562886363, 0.01677582988024969, 0.01636987430441537, 0.016757863744000984], \"Total\": [1551.0, 1064.0, 1769.0, 893.0, 1470.0, 708.0, 426.0, 671.0, 440.0, 421.0, 462.0, 232.0, 438.0, 421.0, 300.0, 472.0, 455.0, 194.0, 610.0, 1022.0, 979.0, 169.0, 245.0, 135.0, 354.0, 250.0, 385.0, 328.0, 413.0, 442.0, 81.78602643886842, 85.95131751174408, 45.61429754444271, 37.62193853625619, 28.346777437660613, 23.99304083155038, 100.90157742971965, 115.02313214914173, 37.60676112162732, 48.282584605314035, 21.621995716659583, 82.60639947135677, 40.04750935294791, 44.12601729788068, 18.663257961652583, 23.116176998280864, 17.72927420949658, 231.79634181337272, 21.31455058558536, 16.031845234133396, 214.73916350425554, 20.92906794521533, 33.573961140635966, 17.370576970231372, 22.398188227931517, 16.428781135602172, 16.069854569031293, 94.59215928103268, 29.277001094936345, 16.952815063539795, 408.0696137525483, 192.13187429467916, 285.56370975270784, 51.920399917516896, 326.325522845657, 125.61500409124457, 52.23644634161781, 37.5514687328437, 383.5855631767704, 427.50559366591693, 345.0266106660511, 294.9524538853253, 90.42983029554827, 204.6197602655462, 1022.7694627006925, 134.17659062582604, 857.0375390152658, 1769.2552397069626, 413.1535611156141, 353.196851578374, 292.62323117413507, 401.56960173834744, 368.65868752260343, 188.29328020260894, 1551.4461491768207, 254.349537709384, 323.19119684338614, 671.3682331783966, 534.7183658050708, 1470.222560424148, 502.6459633743102, 467.8909565798197, 979.695508343311, 478.39833709289, 438.40038816493006, 495.02350170718813, 562.3352184767087, 893.1167692140543, 1064.2253821447293, 708.8539792609909, 382.7063956121612, 610.1077252172618, 65.81320042486408, 72.20931437633698, 42.00730558530674, 54.83835527903233, 38.11482724980416, 23.2230129119879, 18.519239499905204, 44.097882397650025, 31.239322702274585, 22.541584271674175, 18.46717905980406, 16.126790900548933, 15.996395638584982, 49.45148689075171, 18.167595562072876, 15.794645545742327, 21.332702594056222, 69.210664334412, 16.787870974975334, 19.623921182811625, 66.36320011317733, 13.072717827170932, 18.42973634545238, 13.143219704924087, 16.020427134107415, 14.483390373203322, 12.528886811439303, 11.30873920591203, 11.291236532914366, 11.328840900242957, 38.804696862084214, 112.11274447792643, 73.7601862151821, 43.76660262505445, 135.63929947989794, 45.39199958210842, 40.23524810685637, 429.3372649036206, 289.23743969527015, 1064.2253821447293, 68.65024459081143, 55.362751302194084, 36.60581817241373, 462.24115165508255, 520.0362447393393, 442.7253261620937, 610.1077252172618, 152.98311482738538, 96.12839887074927, 979.695508343311, 893.1167692140543, 1551.4461491768207, 311.1063256300685, 1470.222560424148, 151.3948526750466, 118.51053830965454, 248.19804726070373, 434.30155725171886, 224.26769945986496, 354.27502971032175, 230.5752613193397, 138.96334903614698, 421.8162834764502, 495.02350170718813, 363.97831332583166, 328.37414363400967, 1769.2552397069626, 385.34088118637357, 225.02127472532771, 857.0375390152658, 562.3352184767087, 467.8909565798197, 534.7183658050708, 502.6459633743102, 671.3682331783966, 349.0367073549861, 495.41805774743096, 438.40038816493006, 1022.7694627006925, 708.8539792609909, 36.760959975775656, 58.73171553447496, 31.8127650691116, 50.347218820340615, 16.550207368849787, 16.380035103425406, 19.457883467389294, 15.424067647418585, 31.306386429298453, 11.255026222055172, 10.922015651212426, 17.583621830657957, 10.549863668277363, 29.891359323563442, 7.3626420176689225, 7.371570203092539, 7.356470649444052, 8.796892687760607, 7.27559651567803, 6.795208309043292, 8.861643242655335, 13.266766718477331, 7.582294704835465, 45.43605510457145, 8.347716283159993, 6.614809655731023, 9.591868957585257, 7.184741143903772, 10.203539168101456, 11.750124811684202, 12.977835958994064, 11.79575703640367, 21.954281978032366, 12.86966486809246, 23.155123811648465, 13.680571234749467, 25.80924125914907, 27.74481596441141, 20.335449871502497, 71.65852621119215, 78.9971282011397, 47.748604085378034, 24.556290037454648, 140.38769389590905, 48.257462346879684, 26.189882894716956, 26.13975158173454, 96.32495152702671, 67.36974783999061, 87.66525352952205, 91.18331166684162, 57.348974847853945, 49.33952515628791, 708.8539792609909, 432.69155970766155, 455.56717485083567, 150.45241324600505, 153.38896054791067, 288.08602729732104, 144.8900703559936, 55.27962042203456, 47.69782709609544, 64.95746358770361, 79.34034218555738, 158.6230962936278, 190.35745752970422, 440.7865923242512, 472.39945755457535, 233.8896758074321, 364.0389964970576, 218.57808469778234, 232.80248471199326, 343.15982758849213, 204.6462946174703, 300.5599919109141, 250.5758529882541, 1769.2552397069626, 177.27436166873235, 1470.222560424148, 1022.7694627006925, 64.45953489038585, 24.710166753388723, 18.49065114464048, 97.7159277183422, 30.776259871635762, 14.00569583603149, 60.57070271170091, 13.039992686227249, 13.607418576590524, 12.637214290207867, 31.52907586838041, 69.78030390558415, 39.93906267295119, 23.103264052887635, 19.169627763591308, 12.008346001158921, 9.892925704570455, 32.066414267798294, 8.647759814399027, 19.18564201607107, 9.603457042726358, 15.640808742350995, 8.509592799501853, 41.778888079348725, 27.757908264192196, 24.7167090922504, 16.341853420262606, 7.194794165993727, 19.58272810917672, 8.087359729903788, 31.866861520426585, 115.6277674905257, 66.69889091994023, 30.896098164649132, 54.857837807829824, 135.91627236817035, 47.25556367123246, 44.07295437366129, 85.89001502399282, 426.4693913108973, 161.56188060063678, 60.12002936540066, 63.74944832744347, 27.024891892727467, 300.5599919109141, 39.79475484060531, 101.6546701052878, 161.95128656030312, 421.8162834764502, 221.6124373770614, 44.47109821971793, 71.49033923012303, 153.38896054791067, 71.22601420068784, 157.5955408480719, 173.7477736837031, 164.17488169975994, 74.44620353894824, 495.41805774743096, 440.7865923242512, 263.44227676326, 562.3352184767087, 245.45990072741702, 190.35745752970422, 44.44764399860862, 62.89153676189335, 22.783770323095055, 15.928409977748831, 47.651783896572844, 14.576968589763887, 42.11998652136166, 14.684914643829432, 9.316427804342661, 21.37311554072022, 6.811691903544682, 6.426787960014263, 7.43364216308484, 5.648698844790735, 7.511472500240816, 5.674209925839065, 5.675370860777438, 5.885023189887673, 7.211547427351966, 11.244043871260894, 16.32715384501687, 9.58916123337355, 9.309194005796273, 14.780984995257157, 4.624794403742085, 4.523774019320717, 4.529310265767766, 15.395456635598988, 4.618247575371122, 8.924589988073798, 98.2335872136588, 13.097144717983596, 9.27822235324151, 9.334277512158996, 41.93137788003589, 25.168695344170885, 34.138408164597855, 16.632648935061653, 16.43555016015739, 17.03937528517501, 13.88756671110015, 19.68402374524272, 16.914481518243115, 39.89669915945615, 32.48454339054819, 11.359463399972913, 90.07184220830695, 190.35745752970422, 39.51893032628928, 142.3812960842001, 26.381414514206238, 472.39945755457535, 52.41770005448371, 153.38896054791067, 708.8539792609909, 1769.2552397069626, 48.73342944459963, 237.07161648765472, 123.04171282906222, 55.07467161362629, 140.38769389590905, 288.08602729732104, 233.8896758074321, 83.76265788278694, 1022.7694627006925, 364.0389964970576, 188.51927379250677, 455.56717485083567, 426.4693913108973, 263.44227676326, 275.29691353057024, 24.55634490201452, 15.806442885398225, 16.054602630023375, 12.566321583977329, 8.419378242254362, 34.8994220286901, 15.539787984436348, 13.365616169224946, 21.764094019034975, 8.11235111035522, 5.279173631042551, 7.258381044803489, 6.242641445900761, 9.41772839792452, 9.203677028235107, 5.245132862368673, 23.02566725346159, 7.352489164217168, 4.243396475023501, 4.324016652914003, 4.236179830770369, 6.989801571937717, 9.274987151184607, 4.320449366449709, 11.159783097971626, 8.183405363800107, 20.701456929509433, 11.764877975704067, 13.032593393256864, 5.204524097072988, 194.27719791823796, 232.6741518689749, 45.99636649823271, 27.58798743756947, 86.10826401710862, 41.56427955099514, 31.294493428953476, 59.83370089172688, 38.556295867095805, 55.07467161362629, 83.76265788278694, 169.95664840919378, 34.29514759901592, 26.27269143971099, 27.55488208914707, 34.60021599678, 43.50084631730552, 81.4867432599784, 250.5758529882541, 72.70934813395061, 102.4704400752727, 112.08528011078879, 88.38401884183571, 472.39945755457535, 1769.2552397069626, 168.68626632061668, 671.3682331783966, 106.22876905792953, 174.81228999714526, 190.3326423967835, 428.8044099795377, 139.44638791009916, 426.4693913108973, 233.8896758074321, 1470.222560424148, 13.331318159852286, 8.450369527669315, 8.44052432862599, 9.213431429483737, 17.171613541204344, 29.179233307714025, 6.519513985535841, 9.202188625103425, 15.142482031777655, 17.94685028257311, 4.765093916057908, 4.78037178389551, 4.7632670766518554, 20.49753331683945, 13.57174655884594, 18.24381858585002, 4.718457054869763, 60.82719844788563, 11.176064106239467, 5.5657127844751315, 7.3317365707302855, 3.8213396199849545, 3.8139875990240393, 3.8194394886901155, 15.410150453481963, 3.8012527761549557, 3.8086792854800793, 31.11344619583608, 5.3184388694471805, 3.8112820932762954, 16.378088056489293, 59.244106758102106, 80.56237327921149, 50.82263647366536, 39.51629175219884, 73.7074231705373, 65.47973623757574, 25.601394114927132, 169.95664840919378, 112.08528011078879, 54.575585224682534, 16.608202718378326, 26.334443145989407, 44.24688084991049, 103.14299188217723, 50.72350127309916, 157.72657941532123, 20.098092911755995, 88.38401884183571, 48.94036703280421, 174.81228999714526, 328.37414363400967, 421.78788836838834, 275.1735872965395, 139.44638791009916, 472.39945755457535, 478.39833709289, 1470.222560424148, 148.53298567576897, 317.02607002230275, 34.302305874069056, 12.16648423030649, 9.914416003109134, 15.069378438538799, 12.242571764720406, 10.198584269088139, 16.906031623509627, 8.94131198250166, 16.349029604706935, 18.26563811604832, 5.129942162579556, 5.61815425338376, 5.127499375608395, 5.149229257299103, 5.14344406875374, 5.132986457533273, 5.1423098770574605, 10.275968062226697, 5.136080273239586, 5.1437742630859615, 5.145031679283543, 5.141930751381152, 5.116472695806113, 5.137465324283397, 5.152739220167713, 42.753781824563575, 14.816140382429495, 4.133025456449299, 7.0360296043526995, 3.326496575030917, 29.499651910493686, 24.137611361341627, 26.55095971625094, 27.435881790671047, 48.057131322884885, 17.530069219068274, 15.737129659213483, 16.95252560481803, 10.731186194404819, 33.608656104897015, 68.69663707184067, 15.884194070193885, 21.560488562030066, 67.66409090109498, 10.975817523990703, 55.91513035704088, 245.45990072741702, 440.7865923242512, 1551.4461491768207, 438.40038816493006, 893.1167692140543, 421.78788836838834, 1064.2253821447293, 74.01322035336725, 1769.2552397069626, 1470.222560424148, 671.3682331783966, 385.34088118637357, 382.7063956121612, 1022.7694627006925, 413.1535611156141, 14.024362956243454, 6.058107076137118, 4.822180128307309, 3.568916641395662, 3.5868290279230934, 11.821392927199716, 2.9558765397082776, 5.761866027237201, 5.122785335326917, 3.927554789390397, 33.73283919092582, 5.712396565345697, 11.828419359308052, 5.723880759031916, 4.735775383661258, 9.484630690073848, 14.533977344354089, 9.112847884020734, 4.367490416429125, 4.178738829668813, 6.850994622836723, 7.042578990463145, 6.94648147821487, 4.5263817320730695, 6.955993862436323, 5.396390830137539, 8.123652295554589, 7.270230402683366, 5.372703469476694, 5.693122860427223, 8.694838295461695, 42.6527538738638, 36.620969167277416, 135.91627236817035, 11.223390896686512, 17.36122663801382, 31.290801119877248, 23.15452039341535, 37.141698006808106, 26.59438228083265, 300.5599919109141, 140.38769389590905, 55.161899134810014, 16.94646950357557, 20.029066095937655, 455.56717485083567, 153.38896054791067, 233.8896758074321, 708.8539792609909, 126.96671994089108, 91.18331166684162, 36.70690558789132, 462.24115165508255, 421.8162834764502, 74.93263514806328, 1470.222560424148, 1769.2552397069626, 472.39945755457535, 139.32879399092587, 2.9558765397082776, 3.7791881327326298, 3.490829093550745, 3.791334411069569, 3.7734092662415963, 3.769346091744587, 3.326496575030917, 3.7431061847990534, 3.5190110804310915, 3.793141124724913, 3.568916641395662, 3.6231001065080983, 3.7522792133568235, 3.5865872874314975, 3.5395973774635, 3.573533181151765, 3.63735329383409, 3.7374014794319597, 3.744684907886503, 3.747610320475903, 3.7596362273713173, 3.739006134264037, 3.6405446746770083, 3.742129972236362, 3.5564405640325254, 3.7312915786837584, 3.770830399134416, 3.6170411518025833, 3.6266959139655204, 3.630821772836713, 3.7838026458857863, 4.223846964287371, 3.7594604520526587, 3.7427212326349926, 3.8805976147356978, 5.0379507837946, 5.536164813792182, 3.9031436166078803, 4.590428076614482, 4.685547181602322, 4.027314905646118, 4.996798246837041, 5.883475491309191, 29.891359323563442, 7.690664058630928, 5.720011277728733, 1064.2253821447293, 1470.222560424148, 8.23301495607719, 610.1077252172618, 7.371570203092539, 7.356470649444052, 188.51927379250677, 11.79575703640367, 5.635199520377295, 112.08528011078879, 31.8127650691116, 15.224921742912507, 7.849854027372283, 354.27502971032175, 979.695508343311, 11.255026222055172, 1769.2552397069626, 1551.4461491768207, 534.7183658050708, 893.1167692140543, 462.24115165508255, 96.23383938892601, 363.97831332583166, 221.37679797109234, 421.8162834764502, 39.51629175219884, 289.23743969527015, 434.30155725171886, 25.168695344170885, 478.39833709289, 1022.7694627006925, 438.40038816493006, 857.0375390152658, 328.37414363400967, 520.0362447393393, 153.38896054791067, 671.3682331783966, 394.1842372512074, 364.0389964970576, 442.7253261620937, 317.02607002230275, 708.8539792609909], \"Category\": [\"Default\", \"Default\", \"Default\", \"Default\", \"Default\", \"Default\", \"Default\", \"Default\", \"Default\", \"Default\", \"Default\", \"Default\", \"Default\", \"Default\", \"Default\", \"Default\", \"Default\", \"Default\", \"Default\", \"Default\", \"Default\", \"Default\", \"Default\", \"Default\", \"Default\", \"Default\", \"Default\", \"Default\", \"Default\", \"Default\", \"Topic1\", \"Topic1\", \"Topic1\", \"Topic1\", \"Topic1\", \"Topic1\", \"Topic1\", \"Topic1\", \"Topic1\", \"Topic1\", \"Topic1\", \"Topic1\", \"Topic1\", \"Topic1\", \"Topic1\", \"Topic1\", \"Topic1\", \"Topic1\", \"Topic1\", \"Topic1\", \"Topic1\", \"Topic1\", \"Topic1\", \"Topic1\", \"Topic1\", \"Topic1\", \"Topic1\", \"Topic1\", \"Topic1\", \"Topic1\", \"Topic1\", \"Topic1\", \"Topic1\", \"Topic1\", \"Topic1\", \"Topic1\", \"Topic1\", \"Topic1\", \"Topic1\", \"Topic1\", \"Topic1\", \"Topic1\", \"Topic1\", \"Topic1\", \"Topic1\", \"Topic1\", \"Topic1\", \"Topic1\", \"Topic1\", \"Topic1\", \"Topic1\", \"Topic1\", \"Topic1\", \"Topic1\", \"Topic1\", \"Topic1\", \"Topic1\", \"Topic1\", \"Topic1\", \"Topic1\", \"Topic1\", \"Topic1\", \"Topic1\", \"Topic1\", \"Topic1\", \"Topic1\", \"Topic1\", \"Topic1\", \"Topic1\", \"Topic1\", \"Topic1\", \"Topic1\", \"Topic2\", \"Topic2\", \"Topic2\", \"Topic2\", \"Topic2\", \"Topic2\", \"Topic2\", \"Topic2\", \"Topic2\", \"Topic2\", \"Topic2\", \"Topic2\", \"Topic2\", \"Topic2\", \"Topic2\", \"Topic2\", \"Topic2\", \"Topic2\", \"Topic2\", \"Topic2\", \"Topic2\", \"Topic2\", \"Topic2\", \"Topic2\", \"Topic2\", \"Topic2\", \"Topic2\", \"Topic2\", \"Topic2\", \"Topic2\", \"Topic2\", \"Topic2\", \"Topic2\", \"Topic2\", \"Topic2\", \"Topic2\", \"Topic2\", \"Topic2\", \"Topic2\", \"Topic2\", \"Topic2\", \"Topic2\", \"Topic2\", \"Topic2\", \"Topic2\", \"Topic2\", \"Topic2\", \"Topic2\", \"Topic2\", \"Topic2\", \"Topic2\", \"Topic2\", \"Topic2\", \"Topic2\", \"Topic2\", \"Topic2\", \"Topic2\", \"Topic2\", \"Topic2\", \"Topic2\", \"Topic2\", \"Topic2\", \"Topic2\", \"Topic2\", \"Topic2\", \"Topic2\", \"Topic2\", \"Topic2\", \"Topic2\", \"Topic2\", \"Topic2\", \"Topic2\", \"Topic2\", \"Topic2\", \"Topic2\", \"Topic2\", \"Topic2\", \"Topic2\", \"Topic2\", \"Topic2\", \"Topic3\", \"Topic3\", \"Topic3\", \"Topic3\", \"Topic3\", \"Topic3\", \"Topic3\", \"Topic3\", \"Topic3\", \"Topic3\", \"Topic3\", \"Topic3\", \"Topic3\", \"Topic3\", \"Topic3\", \"Topic3\", \"Topic3\", \"Topic3\", \"Topic3\", \"Topic3\", \"Topic3\", \"Topic3\", \"Topic3\", \"Topic3\", \"Topic3\", \"Topic3\", \"Topic3\", \"Topic3\", \"Topic3\", \"Topic3\", \"Topic3\", \"Topic3\", \"Topic3\", \"Topic3\", \"Topic3\", \"Topic3\", \"Topic3\", \"Topic3\", \"Topic3\", \"Topic3\", \"Topic3\", \"Topic3\", \"Topic3\", \"Topic3\", \"Topic3\", \"Topic3\", \"Topic3\", \"Topic3\", \"Topic3\", \"Topic3\", \"Topic3\", \"Topic3\", \"Topic3\", \"Topic3\", \"Topic3\", \"Topic3\", \"Topic3\", \"Topic3\", \"Topic3\", \"Topic3\", \"Topic3\", \"Topic3\", \"Topic3\", \"Topic3\", \"Topic3\", \"Topic3\", \"Topic3\", \"Topic3\", \"Topic3\", \"Topic3\", \"Topic3\", \"Topic3\", \"Topic3\", \"Topic3\", \"Topic3\", \"Topic3\", \"Topic3\", \"Topic3\", \"Topic3\", \"Topic3\", \"Topic4\", \"Topic4\", \"Topic4\", \"Topic4\", \"Topic4\", \"Topic4\", \"Topic4\", \"Topic4\", \"Topic4\", \"Topic4\", \"Topic4\", \"Topic4\", \"Topic4\", \"Topic4\", \"Topic4\", \"Topic4\", \"Topic4\", \"Topic4\", \"Topic4\", \"Topic4\", \"Topic4\", \"Topic4\", \"Topic4\", \"Topic4\", \"Topic4\", \"Topic4\", \"Topic4\", \"Topic4\", \"Topic4\", \"Topic4\", \"Topic4\", \"Topic4\", \"Topic4\", \"Topic4\", \"Topic4\", \"Topic4\", \"Topic4\", \"Topic4\", \"Topic4\", \"Topic4\", \"Topic4\", \"Topic4\", \"Topic4\", \"Topic4\", \"Topic4\", \"Topic4\", \"Topic4\", \"Topic4\", \"Topic4\", \"Topic4\", \"Topic4\", \"Topic4\", \"Topic4\", \"Topic4\", \"Topic4\", \"Topic4\", \"Topic4\", \"Topic4\", \"Topic4\", \"Topic4\", \"Topic4\", \"Topic4\", \"Topic4\", \"Topic4\", \"Topic5\", \"Topic5\", \"Topic5\", \"Topic5\", \"Topic5\", \"Topic5\", \"Topic5\", \"Topic5\", \"Topic5\", \"Topic5\", \"Topic5\", \"Topic5\", \"Topic5\", \"Topic5\", \"Topic5\", \"Topic5\", \"Topic5\", \"Topic5\", \"Topic5\", \"Topic5\", \"Topic5\", \"Topic5\", \"Topic5\", \"Topic5\", \"Topic5\", \"Topic5\", \"Topic5\", \"Topic5\", \"Topic5\", \"Topic5\", \"Topic5\", \"Topic5\", \"Topic5\", \"Topic5\", \"Topic5\", \"Topic5\", \"Topic5\", \"Topic5\", \"Topic5\", \"Topic5\", \"Topic5\", \"Topic5\", \"Topic5\", \"Topic5\", \"Topic5\", \"Topic5\", \"Topic5\", \"Topic5\", \"Topic5\", \"Topic5\", \"Topic5\", \"Topic5\", \"Topic5\", \"Topic5\", \"Topic5\", \"Topic5\", \"Topic5\", \"Topic5\", \"Topic5\", \"Topic5\", \"Topic5\", \"Topic5\", \"Topic5\", \"Topic5\", \"Topic5\", \"Topic5\", \"Topic5\", \"Topic5\", \"Topic5\", \"Topic5\", \"Topic5\", \"Topic6\", \"Topic6\", \"Topic6\", \"Topic6\", \"Topic6\", \"Topic6\", \"Topic6\", \"Topic6\", \"Topic6\", \"Topic6\", \"Topic6\", \"Topic6\", \"Topic6\", \"Topic6\", \"Topic6\", \"Topic6\", \"Topic6\", \"Topic6\", \"Topic6\", \"Topic6\", \"Topic6\", \"Topic6\", \"Topic6\", \"Topic6\", \"Topic6\", \"Topic6\", \"Topic6\", \"Topic6\", \"Topic6\", \"Topic6\", \"Topic6\", \"Topic6\", \"Topic6\", \"Topic6\", \"Topic6\", \"Topic6\", \"Topic6\", \"Topic6\", \"Topic6\", \"Topic6\", \"Topic6\", \"Topic6\", \"Topic6\", \"Topic6\", \"Topic6\", \"Topic6\", \"Topic6\", \"Topic6\", \"Topic6\", \"Topic6\", \"Topic6\", \"Topic6\", \"Topic6\", \"Topic6\", \"Topic6\", \"Topic6\", \"Topic6\", \"Topic6\", \"Topic6\", \"Topic6\", \"Topic6\", \"Topic6\", \"Topic6\", \"Topic6\", \"Topic6\", \"Topic7\", \"Topic7\", \"Topic7\", \"Topic7\", \"Topic7\", \"Topic7\", \"Topic7\", \"Topic7\", \"Topic7\", \"Topic7\", \"Topic7\", \"Topic7\", \"Topic7\", \"Topic7\", \"Topic7\", \"Topic7\", \"Topic7\", \"Topic7\", \"Topic7\", \"Topic7\", \"Topic7\", \"Topic7\", \"Topic7\", \"Topic7\", \"Topic7\", \"Topic7\", \"Topic7\", \"Topic7\", \"Topic7\", \"Topic7\", \"Topic7\", \"Topic7\", \"Topic7\", \"Topic7\", \"Topic7\", \"Topic7\", \"Topic7\", \"Topic7\", \"Topic7\", \"Topic7\", \"Topic7\", \"Topic7\", \"Topic7\", \"Topic7\", \"Topic7\", \"Topic7\", \"Topic7\", \"Topic7\", \"Topic7\", \"Topic7\", \"Topic7\", \"Topic7\", \"Topic7\", \"Topic7\", \"Topic7\", \"Topic7\", \"Topic7\", \"Topic7\", \"Topic7\", \"Topic7\", \"Topic8\", \"Topic8\", \"Topic8\", \"Topic8\", \"Topic8\", \"Topic8\", \"Topic8\", \"Topic8\", \"Topic8\", \"Topic8\", \"Topic8\", \"Topic8\", \"Topic8\", \"Topic8\", \"Topic8\", \"Topic8\", \"Topic8\", \"Topic8\", \"Topic8\", \"Topic8\", \"Topic8\", \"Topic8\", \"Topic8\", \"Topic8\", \"Topic8\", \"Topic8\", \"Topic8\", \"Topic8\", \"Topic8\", \"Topic8\", \"Topic8\", \"Topic8\", \"Topic8\", \"Topic8\", \"Topic8\", \"Topic8\", \"Topic8\", \"Topic8\", \"Topic8\", \"Topic8\", \"Topic8\", \"Topic8\", \"Topic8\", \"Topic8\", \"Topic8\", \"Topic8\", \"Topic8\", \"Topic8\", \"Topic8\", \"Topic8\", \"Topic8\", \"Topic8\", \"Topic8\", \"Topic8\", \"Topic8\", \"Topic8\", \"Topic8\", \"Topic8\", \"Topic8\", \"Topic8\", \"Topic8\", \"Topic9\", \"Topic9\", \"Topic9\", \"Topic9\", \"Topic9\", \"Topic9\", \"Topic9\", \"Topic9\", \"Topic9\", \"Topic9\", \"Topic9\", \"Topic9\", \"Topic9\", \"Topic9\", \"Topic9\", \"Topic9\", \"Topic9\", \"Topic9\", \"Topic9\", \"Topic9\", \"Topic9\", \"Topic9\", \"Topic9\", \"Topic9\", \"Topic9\", \"Topic9\", \"Topic9\", \"Topic9\", \"Topic9\", \"Topic9\", \"Topic9\", \"Topic9\", \"Topic9\", \"Topic9\", \"Topic9\", \"Topic9\", \"Topic9\", \"Topic9\", \"Topic9\", \"Topic9\", \"Topic9\", \"Topic9\", \"Topic9\", \"Topic9\", \"Topic9\", \"Topic9\", \"Topic9\", \"Topic9\", \"Topic9\", \"Topic9\", \"Topic9\", \"Topic9\", \"Topic9\", \"Topic9\", \"Topic9\", \"Topic9\", \"Topic9\", \"Topic9\", \"Topic9\", \"Topic10\", \"Topic10\", \"Topic10\", \"Topic10\", \"Topic10\", \"Topic10\", \"Topic10\", \"Topic10\", \"Topic10\", \"Topic10\", \"Topic10\", \"Topic10\", \"Topic10\", \"Topic10\", \"Topic10\", \"Topic10\", \"Topic10\", \"Topic10\", \"Topic10\", \"Topic10\", \"Topic10\", \"Topic10\", \"Topic10\", \"Topic10\", \"Topic10\", \"Topic10\", \"Topic10\", \"Topic10\", \"Topic10\", \"Topic10\", \"Topic10\", \"Topic10\", \"Topic10\", \"Topic10\", \"Topic10\", \"Topic10\", \"Topic10\", \"Topic10\", \"Topic10\", \"Topic10\", \"Topic10\", \"Topic10\", \"Topic10\", \"Topic10\", \"Topic10\", \"Topic10\", \"Topic10\", \"Topic10\", \"Topic10\", \"Topic10\", \"Topic10\", \"Topic10\", \"Topic10\", \"Topic10\", \"Topic10\", \"Topic10\", \"Topic10\", \"Topic10\", \"Topic10\", \"Topic10\", \"Topic10\", \"Topic10\", \"Topic10\", \"Topic10\", \"Topic10\", \"Topic10\", \"Topic10\", \"Topic10\", \"Topic10\", \"Topic10\", \"Topic10\", \"Topic10\", \"Topic10\", \"Topic10\", \"Topic10\", \"Topic10\", \"Topic10\", \"Topic10\", \"Topic10\", \"Topic10\", \"Topic10\", \"Topic10\", \"Topic10\", \"Topic10\", \"Topic10\", \"Topic10\", \"Topic10\", \"Topic10\"], \"logprob\": [30.0, 29.0, 28.0, 27.0, 26.0, 25.0, 24.0, 23.0, 22.0, 21.0, 20.0, 19.0, 18.0, 17.0, 16.0, 15.0, 14.0, 13.0, 12.0, 11.0, 10.0, 9.0, 8.0, 7.0, 6.0, 5.0, 4.0, 3.0, 2.0, 1.0, -6.5322, -6.4873, -7.1259, -7.3219, -7.6102, -7.7803, -6.3453, -6.2149, -7.3406, -7.093, -7.8966, -6.5567, -7.2836, -7.1875, -8.0491, -7.8383, -8.1046, -5.5345, -7.9238, -8.2115, -5.6168, -7.9465, -7.4746, -8.1339, -7.8806, -8.1906, -8.2153, -6.4431, -7.6168, -8.1644, -5.007, -5.7611, -5.3787, -7.0567, -5.269, -6.2059, -7.0578, -7.3808, -5.1511, -5.0712, -5.2771, -5.4347, -6.5479, -5.8012, -4.3414, -6.2053, -4.5739, -3.9462, -5.2412, -5.3862, -5.559, -5.2899, -5.3805, -5.9638, -4.2397, -5.7204, -5.5333, -4.9566, -5.1537, -4.3998, -5.2394, -5.2958, -4.8246, -5.3091, -5.4141, -5.3584, -5.3122, -5.1021, -5.0776, -5.331, -5.5009, -5.4517, -6.3647, -6.2777, -6.8217, -6.5554, -6.9219, -7.4322, -7.6691, -6.8018, -7.152, -7.4788, -7.6834, -7.8251, -7.8337, -6.7078, -7.7095, -7.8496, -7.5509, -6.3747, -7.7916, -7.6355, -6.4184, -8.0449, -7.7021, -8.0404, -7.8451, -7.946, -8.0956, -8.199, -8.2008, -8.1994, -6.9687, -5.9233, -6.358, -6.891, -5.8075, -6.8654, -6.9854, -4.7626, -5.1425, -3.9854, -6.4998, -6.6957, -7.0892, -4.8329, -4.7541, -4.9062, -4.6274, -5.84, -6.2476, -4.2668, -4.3466, -3.9525, -5.285, -4.0305, -5.8835, -6.0878, -5.5389, -5.121, -5.6178, -5.3194, -5.6266, -5.9873, -5.2473, -5.1617, -5.3773, -5.471, -4.4869, -5.3945, -5.7124, -4.9858, -5.2252, -5.3681, -5.3407, -5.391, -5.2935, -5.5298, -5.4375, -5.5083, -5.4359, -5.4909, -6.0479, -5.5896, -6.2077, -5.7493, -6.8762, -6.8879, -6.7313, -6.9686, -6.2696, -7.2949, -7.3371, -6.8663, -7.3819, -6.3532, -7.7657, -7.7663, -7.769, -7.591, -7.7819, -7.8526, -7.5902, -7.1915, -7.7513, -5.9617, -7.6566, -7.89, -7.5189, -7.8084, -7.4609, -7.3262, -7.2285, -7.3269, -6.7411, -7.2521, -6.705, -7.2065, -6.6416, -6.5874, -6.8667, -5.7713, -5.7018, -6.142, -6.7088, -5.2306, -6.1475, -6.6573, -6.6602, -5.626, -5.9417, -5.7647, -5.7466, -6.0956, -6.21, -4.3279, -4.6883, -4.7707, -5.5282, -5.5661, -5.2186, -5.6784, -6.2234, -6.3143, -6.1541, -6.0654, -5.7362, -5.67, -5.287, -5.2583, -5.6172, -5.4561, -5.6542, -5.6366, -5.5581, -5.7315, -5.6408, -5.7021, -5.3277, -5.7867, -5.5167, -5.7336, -5.0612, -6.0247, -6.3264, -4.6745, -5.8305, -6.622, -5.1606, -6.7015, -6.6633, -6.7495, -5.8398, -5.0485, -5.6069, -6.1576, -6.3449, -6.8156, -7.0115, -5.8392, -7.154, -6.3578, -7.0508, -6.5659, -7.1769, -5.5861, -5.9954, -6.1211, -6.5464, -7.3679, -6.3741, -7.2593, -5.8911, -4.633, -5.1793, -5.9277, -5.3821, -4.5157, -5.5472, -5.641, -5.0601, -3.6904, -4.5716, -5.4283, -5.4706, -6.1297, -4.4173, -5.8559, -5.2239, -4.9197, -4.4094, -4.8532, -5.7838, -5.5161, -5.2051, -5.5594, -5.2267, -5.2173, -5.2923, -5.5731, -5.076, -5.1096, -5.2545, -5.0899, -5.3027, -5.5287, -5.029, -4.6885, -5.7156, -6.099, -5.0162, -6.2366, -5.1765, -6.2603, -6.7159, -5.8928, -7.0364, -7.1125, -6.9749, -7.2533, -6.9728, -7.2533, -7.2566, -7.2337, -7.0306, -6.587, -6.2205, -6.7636, -6.8002, -6.3392, -7.5102, -7.5335, -7.5385, -6.3238, -7.5295, -6.8734, -4.4956, -6.5062, -6.841, -6.8441, -5.4481, -5.9298, -5.6706, -6.3235, -6.334, -6.3122, -6.4922, -6.2233, -6.3489, -5.6824, -5.8619, -6.6731, -5.2683, -4.7716, -5.8685, -5.2525, -6.1635, -4.74, -5.8239, -5.3289, -4.7147, -4.3812, -5.9186, -5.374, -5.6171, -5.9, -5.6883, -5.4944, -5.6116, -5.8482, -5.3016, -5.6198, -5.7427, -5.7557, -5.8137, -5.8375, -5.8489, -5.4936, -5.9587, -5.9534, -6.2358, -6.6504, -5.2392, -6.0539, -6.2291, -5.7529, -6.7442, -7.1866, -6.8688, -7.0368, -6.6277, -6.6609, -7.2267, -5.7511, -6.8992, -7.4565, -7.4381, -7.4595, -6.9605, -6.678, -7.4427, -6.4952, -6.8056, -5.882, -6.4567, -6.3648, -7.284, -3.669, -3.5872, -5.1589, -5.676, -4.6037, -5.2902, -5.5595, -4.9671, -5.4119, -5.1043, -4.7571, -4.2273, -5.5731, -5.8066, -5.772, -5.5914, -5.439, -4.9719, -4.2334, -5.1921, -4.9688, -4.928, -5.0887, -4.5408, -4.1007, -5.0597, -4.6943, -5.3848, -5.3011, -5.2839, -5.2787, -5.4498, -5.3669, -5.4319, -5.4484, -5.7628, -6.2581, -6.2727, -6.2219, -5.6123, -5.0879, -6.5908, -6.2513, -5.7674, -5.6024, -6.944, -6.9415, -6.9455, -5.4928, -5.9232, -5.6592, -7.0173, -4.4617, -6.1676, -6.866, -6.5937, -7.2487, -7.2513, -7.2513, -5.869, -7.3056, -7.305, -5.2055, -6.9805, -7.3158, -5.8753, -4.6443, -4.3835, -4.8316, -5.071, -4.5034, -4.6556, -5.5801, -4.0256, -4.4027, -5.0403, -5.9951, -5.6718, -5.3868, -4.9109, -5.385, -4.8346, -5.8837, -5.253, -5.5124, -5.0573, -4.8868, -4.8737, -5.1307, -5.327, -5.1565, -5.3335, -5.4491, -5.5573, -5.5599, -4.2613, -5.344, -5.5666, -5.1644, -5.3913, -5.5812, -5.0872, -5.7606, -5.1594, -5.0634, -6.3505, -6.2625, -6.3558, -6.3563, -6.3579, -6.3617, -6.3612, -5.6709, -6.3649, -6.3665, -6.3674, -6.3695, -6.3773, -6.3741, -6.3754, -4.2651, -5.3327, -6.6253, -6.0976, -6.8618, -4.8242, -5.036, -4.9548, -4.941, -4.5162, -5.3916, -5.514, -5.4597, -5.8178, -5.0043, -4.6355, -5.621, -5.4571, -4.766, -5.908, -5.1727, -4.5401, -4.3614, -4.2256, -4.7214, -4.53, -4.7521, -4.643, -5.2227, -4.7943, -4.8908, -5.0142, -5.2656, -5.3258, -5.3286, -5.3299, -4.3733, -5.3386, -5.623, -6.0067, -6.0224, -4.885, -6.284, -5.6432, -5.8071, -6.2715, -4.1737, -5.9653, -5.261, -6.0093, -6.2535, -5.6501, -5.2564, -5.753, -6.6528, -6.7298, -6.2607, -6.2714, -6.2968, -6.7865, -6.3582, -6.6397, -6.2371, -6.3552, -6.6648, -6.6265, -6.2494, -4.8918, -5.0633, -4.0629, -6.0752, -5.8166, -5.5195, -5.6936, -5.4435, -5.6521, -4.616, -5.0611, -5.4524, -5.922, -5.8641, -4.8595, -5.2285, -5.1095, -4.8376, -5.4938, -5.5946, -5.7141, -5.4056, -5.4627, -5.6676, -5.5483, -5.5479, -5.6168, -5.6644, -8.4151, -8.276, -8.3813, -8.3055, -8.3131, -8.3163, -8.4418, -8.3428, -8.4113, -8.3376, -8.4022, -8.3875, -8.3527, -8.4007, -8.4191, -8.4097, -8.3939, -8.3679, -8.3665, -8.367, -8.3655, -8.3763, -8.404, -8.3764, -8.4291, -8.3822, -8.3718, -8.4143, -8.4122, -8.4112, -8.3735, -8.2744, -8.3805, -8.3864, -8.3571, -8.1813, -8.1554, -8.3619, -8.2782, -8.2784, -8.3483, -8.2558, -8.2006, -7.5649, -8.14, -8.2397, -6.6287, -6.6229, -8.1441, -6.9317, -8.1829, -8.1848, -7.3107, -8.0634, -8.2641, -7.5601, -7.8525, -8.0345, -8.1945, -7.3871, -7.1765, -8.1224, -7.1562, -7.1873, -7.4335, -7.3483, -7.4637, -7.7578, -7.5458, -7.6263, -7.5295, -7.9195, -7.6039, -7.5574, -7.9933, -7.553, -7.4528, -7.5813, -7.5029, -7.6406, -7.587, -7.745, -7.5809, -7.6795, -7.6932, -7.6839, -7.7084, -7.685], \"loglift\": [30.0, 29.0, 28.0, 27.0, 26.0, 25.0, 24.0, 23.0, 22.0, 21.0, 20.0, 19.0, 18.0, 17.0, 16.0, 15.0, 14.0, 13.0, 12.0, 11.0, 10.0, 9.0, 8.0, 7.0, 6.0, 5.0, 4.0, 3.0, 2.0, 1.0, 0.887, 0.8822, 0.8772, 0.8738, 0.8686, 0.8652, 0.8639, 0.8633, 0.8556, 0.8533, 0.8531, 0.8526, 0.8497, 0.8488, 0.8477, 0.8445, 0.8436, 0.843, 0.8401, 0.8373, 0.8371, 0.8357, 0.835, 0.8347, 0.8338, 0.8337, 0.8311, 0.8307, 0.8297, 0.8285, 0.8049, 0.8041, 0.7902, 0.8169, 0.7665, 0.7843, 0.8097, 0.8168, 0.7227, 0.6942, 0.7026, 0.7019, 0.7708, 0.701, 0.5517, 0.7189, 0.496, 0.3988, 0.5583, 0.5701, 0.5855, 0.5381, 0.5329, 0.6216, 0.2367, 0.5642, 0.5118, 0.3575, 0.3879, 0.1304, 0.364, 0.3793, 0.1115, 0.3438, 0.3261, 0.2603, 0.1791, -0.0735, -0.2243, -0.0713, 0.3752, -0.042, 1.2718, 1.2661, 1.2638, 1.2636, 1.2608, 1.246, 1.2354, 1.2352, 1.2297, 1.2292, 1.224, 1.2177, 1.2173, 1.2145, 1.2142, 1.214, 1.2122, 1.2115, 1.2111, 1.2111, 1.2098, 1.208, 1.2073, 1.2071, 1.2044, 1.2044, 1.1997, 1.1987, 1.1985, 1.1966, 1.1961, 1.1806, 1.1645, 1.1535, 1.1058, 1.1426, 1.1432, 0.9985, 1.0136, 0.8679, 1.0945, 1.1138, 1.1339, 0.8544, 0.8153, 0.8242, 0.7823, 0.953, 1.0101, 0.6693, 0.682, 0.5239, 0.7982, 0.4997, 0.92, 0.9606, 0.7703, 0.6287, 0.7927, 0.6339, 0.7562, 0.9018, 0.5315, 0.457, 0.549, 0.5582, -0.1419, 0.4747, 0.6947, 0.0841, 0.2661, 0.307, 0.2009, 0.2125, 0.0206, 0.4384, 0.1804, 0.2319, -0.5428, -0.2312, 2.1711, 2.1607, 2.1558, 2.1551, 2.1407, 2.1394, 2.1237, 2.1188, 2.11, 2.1077, 2.0955, 2.0901, 2.0853, 2.0725, 2.0612, 2.0594, 2.0587, 2.0579, 2.0569, 2.0545, 2.0514, 2.0466, 2.0462, 2.0454, 2.0447, 2.0441, 2.0435, 2.043, 2.0397, 2.0333, 2.0316, 2.0287, 1.9933, 2.0164, 1.9761, 2.0009, 1.931, 1.9129, 1.9443, 1.7801, 1.7521, 1.8154, 1.9135, 1.6483, 1.7993, 1.9007, 1.8997, 1.6296, 1.6715, 1.5851, 1.5639, 1.6786, 1.7147, 0.9318, 1.065, 0.9312, 1.2815, 1.2242, 0.9415, 1.169, 1.5875, 1.6442, 1.4955, 1.3842, 1.0206, 0.9045, 0.4478, 0.4072, 0.7513, 0.47, 0.782, 0.7365, 0.427, 0.7706, 0.4769, 0.5975, -0.9827, 0.859, -0.9865, -0.8406, 2.5961, 2.5914, 2.5797, 2.5668, 2.5661, 2.5619, 2.5589, 2.5538, 2.5495, 2.5372, 2.5326, 2.5295, 2.5291, 2.5258, 2.5251, 2.5221, 2.52, 2.5163, 2.512, 2.5114, 2.5104, 2.5075, 2.5053, 2.5048, 2.5044, 2.4948, 2.4832, 2.4821, 2.4746, 2.4737, 2.4707, 2.4399, 2.4439, 2.465, 2.4365, 2.3956, 2.4206, 2.3965, 2.3102, 2.0774, 2.1669, 2.2987, 2.1978, 2.3969, 1.7004, 2.2837, 1.9778, 1.8163, 1.3694, 1.5692, 2.2447, 2.0377, 1.5853, 1.9981, 1.5366, 1.4485, 1.4301, 1.9402, 0.5419, 0.6252, 0.995, 0.4014, 1.0175, 1.0457, 3.0, 2.9935, 2.9817, 2.9562, 2.9432, 2.9073, 2.9063, 2.8762, 2.8757, 2.8684, 2.8683, 2.8503, 2.8425, 2.8387, 2.8341, 2.8341, 2.8306, 2.8173, 2.8171, 2.8165, 2.81, 2.7991, 2.7921, 2.7908, 2.7817, 2.7805, 2.7742, 2.7655, 2.7638, 2.7611, 2.7404, 2.7448, 2.7547, 2.7456, 2.6392, 2.668, 2.6224, 2.6885, 2.6899, 2.6756, 2.7002, 2.6202, 2.6462, 2.4547, 2.4807, 2.7202, 2.0545, 1.8028, 2.2781, 1.6123, 2.3872, 0.9256, 2.0402, 1.4614, 0.545, -0.0361, 2.0184, 0.981, 1.3937, 1.9146, 1.1907, 0.6657, 0.7569, 1.5471, -0.4085, 0.3062, 0.8414, -0.0539, -0.0459, 0.412, 0.3566, 3.1288, 3.1042, 3.094, 3.0565, 3.0424, 3.0316, 3.026, 3.0015, 2.9902, 2.9857, 2.973, 2.9724, 2.9552, 2.953, 2.9429, 2.9394, 2.9356, 2.9291, 2.9215, 2.9211, 2.9202, 2.9184, 2.918, 2.9173, 2.9158, 2.9156, 2.9111, 2.9015, 2.8911, 2.8898, 2.8851, 2.7865, 2.8359, 2.83, 2.764, 2.8059, 2.8205, 2.7646, 2.7593, 2.7103, 2.6383, 2.4605, 2.7152, 2.7482, 2.7352, 2.6881, 2.6116, 2.451, 2.0662, 2.3447, 2.225, 2.1761, 2.253, 1.1247, 0.2443, 1.6357, 0.6197, 1.773, 1.3585, 1.2907, 0.4836, 1.4359, 0.4009, 0.9366, -0.9182, 3.4704, 3.4311, 3.4176, 3.3808, 3.3678, 3.362, 3.3578, 3.3526, 3.3384, 3.3335, 3.318, 3.3173, 3.3169, 3.3103, 3.2922, 3.2603, 3.2546, 3.2536, 3.242, 3.2407, 3.2375, 3.2341, 3.2334, 3.232, 3.2193, 3.1824, 3.1811, 3.1802, 3.1717, 3.1696, 3.1521, 3.0973, 3.0508, 3.0634, 3.0756, 3.0199, 2.9861, 3.0006, 2.6622, 2.7014, 2.7834, 3.0183, 2.8807, 2.6467, 2.2764, 2.512, 1.9279, 2.939, 2.0887, 2.4203, 1.6024, 1.1423, 0.9051, 1.0752, 1.5587, 0.509, 0.3194, -0.9189, 1.2652, 0.5045, 4.0269, 3.9807, 3.9628, 3.9463, 3.9272, 3.9198, 3.9085, 3.872, 3.8697, 3.8549, 3.8377, 3.8349, 3.8329, 3.8282, 3.8277, 3.8259, 3.8246, 3.8227, 3.8221, 3.8191, 3.8179, 3.8164, 3.8135, 3.8127, 3.8084, 3.8028, 3.7949, 3.779, 3.7747, 3.7596, 3.6148, 3.6036, 3.5894, 3.5705, 3.4348, 3.5679, 3.5533, 3.5332, 3.6324, 3.3042, 2.9582, 3.437, 3.2954, 2.8428, 3.5197, 2.6268, 1.7801, 1.3734, 0.2508, 1.0188, 0.4986, 1.0267, 0.2103, 2.2964, -0.4493, -0.3606, 0.2998, 0.6036, 0.5502, -0.4355, 0.4696, 4.8093, 4.6833, 4.6271, 4.5444, 4.5237, 4.4684, 4.4555, 4.4289, 4.3825, 4.1838, 4.1312, 4.1154, 4.0919, 4.0694, 4.0147, 3.9235, 3.8905, 3.8606, 3.6964, 3.6635, 3.6383, 3.6, 3.5883, 3.5269, 3.5255, 3.4979, 3.4915, 3.4844, 3.4772, 3.4576, 3.4112, 3.1785, 3.1594, 2.8484, 3.3301, 3.1525, 2.8605, 2.9876, 2.7651, 2.8905, 1.5017, 1.8179, 2.3607, 3.0713, 2.9621, 0.8423, 1.5619, 1.259, 0.4221, 1.4856, 1.7159, 2.5063, 0.2817, 0.3161, 1.8391, -1.0181, -1.2028, 0.0488, 1.2221, 2.3245, 2.2178, 2.1919, 2.1852, 2.1823, 2.1802, 2.1796, 2.1606, 2.1539, 2.1526, 2.1489, 2.1485, 2.1483, 2.1455, 2.1402, 2.1401, 2.1382, 2.1371, 2.1365, 2.1352, 2.1336, 2.1283, 2.1273, 2.1273, 2.1255, 2.1244, 2.1243, 2.1234, 2.1228, 2.1227, 2.1192, 2.1082, 2.1186, 2.1171, 2.1102, 2.025, 1.9566, 2.0997, 2.0211, 2.0004, 2.082, 1.9587, 1.8506, 0.8609, 1.6433, 1.8397, -1.7754, -2.0928, 1.5711, -1.522, 1.6428, 1.6429, -0.7266, 1.2922, 1.8302, -0.456, 0.511, 1.0659, 1.5683, -1.4339, -2.2404, 1.2802, -2.8112, -2.7109, -1.8919, -2.3197, -1.7764, -0.5012, -1.6196, -1.2028, -1.7507, 0.2271, -1.4478, -1.8078, 0.6044, -1.9001, -2.5597, -1.8411, -2.4331, -1.6114, -2.0176, -0.9547, -2.2669, -1.833, -1.7671, -1.9535, -1.644, -2.4253]}, \"token.table\": {\"Topic\": [2, 7, 9, 1, 5, 8, 5, 4, 5, 1, 2, 4, 1, 1, 2, 1, 2, 3, 5, 6, 7, 8, 9, 1, 3, 5, 8, 7, 9, 1, 2, 3, 3, 1, 2, 3, 4, 9, 2, 1, 2, 3, 4, 5, 6, 7, 9, 2, 1, 2, 3, 4, 5, 6, 7, 8, 9, 1, 2, 3, 7, 8, 1, 8, 1, 2, 3, 5, 6, 7, 9, 1, 2, 7, 4, 6, 1, 2, 5, 8, 1, 5, 9, 4, 5, 1, 1, 2, 3, 4, 5, 6, 7, 8, 9, 1, 2, 3, 4, 5, 6, 7, 8, 9, 1, 3, 4, 5, 9, 1, 3, 4, 6, 3, 4, 1, 2, 3, 4, 5, 3, 1, 2, 8, 1, 9, 3, 1, 2, 3, 7, 9, 8, 1, 5, 1, 2, 3, 4, 5, 6, 7, 3, 4, 5, 8, 1, 2, 8, 1, 2, 3, 5, 8, 9, 1, 2, 3, 4, 5, 6, 7, 8, 9, 3, 4, 6, 9, 1, 3, 3, 4, 5, 8, 1, 5, 6, 7, 7, 3, 8, 1, 2, 3, 4, 1, 2, 3, 4, 5, 8, 9, 5, 6, 1, 2, 8, 8, 1, 3, 4, 5, 8, 2, 4, 9, 1, 3, 8, 8, 1, 4, 5, 6, 7, 2, 4, 5, 1, 2, 6, 1, 3, 5, 6, 7, 9, 1, 3, 6, 1, 2, 3, 4, 5, 6, 7, 2, 1, 2, 3, 4, 1, 8, 9, 1, 1, 2, 3, 4, 5, 7, 9, 8, 5, 1, 2, 3, 4, 5, 6, 9, 5, 3, 1, 2, 3, 4, 5, 7, 8, 9, 1, 2, 3, 4, 5, 6, 7, 8, 2, 3, 4, 5, 9, 1, 3, 5, 7, 1, 2, 3, 4, 5, 6, 7, 2, 1, 2, 3, 7, 2, 3, 2, 2, 5, 1, 2, 3, 4, 5, 7, 8, 1, 2, 3, 8, 1, 2, 3, 1, 2, 3, 4, 5, 6, 7, 8, 2, 9, 9, 4, 8, 9, 1, 3, 5, 6, 7, 1, 2, 4, 9, 1, 3, 5, 1, 2, 3, 1, 2, 3, 1, 4, 8, 1, 5, 5, 3, 1, 4, 1, 2, 4, 2, 1, 2, 3, 5, 8, 4, 7, 9, 1, 2, 3, 4, 5, 6, 7, 8, 1, 4, 7, 3, 4, 1, 2, 4, 7, 1, 2, 3, 4, 5, 6, 7, 9, 3, 5, 7, 1, 8, 1, 2, 3, 4, 5, 8, 1, 2, 3, 4, 5, 1, 3, 5, 6, 6, 1, 4, 1, 5, 7, 1, 2, 1, 2, 3, 1, 2, 3, 5, 8, 1, 2, 3, 4, 4, 1, 2, 3, 4, 5, 7, 8, 1, 2, 3, 4, 5, 6, 7, 8, 1, 3, 1, 2, 3, 4, 5, 6, 7, 9, 4, 1, 2, 6, 5, 1, 2, 3, 8, 3, 1, 2, 3, 5, 6, 1, 2, 1, 2, 3, 4, 5, 6, 1, 2, 3, 6, 8, 1, 2, 3, 4, 7, 8, 9, 3, 5, 9, 1, 3, 4, 5, 6, 7, 4, 3, 1, 3, 5, 6, 7, 5, 6, 1, 3, 5, 1, 2, 4, 9, 1, 4, 1, 2, 1, 3, 5, 6, 1, 5, 6, 7, 6, 1, 2, 4, 2, 1, 2, 3, 4, 5, 7, 9, 1, 2, 3, 4, 5, 7, 8, 9, 4, 7, 9, 3, 1, 2, 3, 4, 5, 9, 1, 2, 8, 4, 5, 9, 4, 2, 3, 9, 1, 2, 3, 9, 4, 1, 5, 6, 1, 4, 2, 7, 3, 6, 9, 1, 5, 3, 4, 6, 9, 3, 1, 2, 3, 1, 2, 3, 4, 5, 6, 7, 1, 2, 6, 7, 8, 1, 2, 3, 4, 6, 7, 3, 5, 1, 2, 3, 6, 1, 2, 3, 5, 6, 7, 8, 1, 2, 3, 4, 5, 2, 3, 9, 3, 1, 2, 3, 4, 5, 5, 1, 2, 3, 7, 9, 1, 2, 1, 2, 3, 4, 5, 9, 1, 2, 3, 4, 7, 5, 1, 3, 1, 2, 3, 5, 8, 9, 1, 5, 6, 3, 5, 6, 1, 3, 5, 7, 1, 2, 3, 6, 1, 5, 6, 4, 3, 5, 1, 6, 1, 3, 5, 7, 9, 1, 2, 8, 3, 4, 5, 1, 2, 3, 4, 5, 2, 3, 4, 7, 6, 1, 2, 3, 4, 5, 6, 7, 8, 6, 9, 6, 1, 1, 4, 9, 4, 5, 1, 2, 3, 4, 5, 7, 8, 9, 1, 2, 3, 4, 5, 6, 2, 9, 1, 5, 7, 7, 1, 2, 3, 4, 5, 6, 7, 8, 1, 2, 3, 4, 7, 9, 5, 6, 5, 7, 6, 1, 5, 6, 7, 1, 2, 3, 4, 5, 6, 7, 9, 1, 2, 3, 4, 5, 6, 7, 9, 9, 1, 3, 4, 5, 6, 7, 9, 1, 2, 3, 5, 6, 7, 8, 2, 3, 1, 2, 3, 4, 7, 8, 9, 1, 2, 3, 5, 8, 6, 1, 1, 2, 2, 1, 2, 3, 6, 7, 8, 1, 2, 3, 4, 5, 6, 8, 9, 1, 2, 3, 4, 5, 6, 7, 8, 9, 4, 5, 7, 1, 2, 3, 4, 5, 6, 7, 9, 1, 5, 1, 2, 8, 1, 2, 8, 6, 9, 1, 7, 5, 9, 1, 3, 5, 8, 1, 2, 3, 8, 1, 2, 1, 3, 5, 3, 4, 7, 2, 3, 1, 2, 3, 5, 9, 1, 2, 3, 4, 5, 6, 7, 7, 1, 2, 3, 5, 8, 1, 2, 1, 3, 5, 6, 1, 2, 3, 4, 5, 7, 8, 9, 1, 2, 5, 6, 1, 2, 8, 1, 2, 4, 5, 6, 1, 4, 5, 7, 9, 7, 1, 3, 6, 1, 2, 3, 4, 5, 6, 8, 9, 1, 3, 5, 8, 1, 2, 3, 4, 5, 6, 7, 1, 3, 1, 2, 3, 4, 5, 6, 1, 2, 3, 4, 5, 6, 7, 9, 3, 4, 4, 1, 2, 3, 4, 1, 2, 3, 4, 5, 6, 3, 7, 9, 3, 1, 2, 4, 1, 2, 3, 4, 5, 9, 3, 4, 5, 9, 2, 5, 9, 5, 3, 4, 1, 3, 3, 5, 1, 2, 3, 4, 7, 1, 2, 3, 4, 3, 1, 4, 7, 2, 3, 4, 5, 2, 1, 4, 6, 1, 2, 3, 4, 5, 6, 7, 8, 9, 1, 3, 4, 6, 4, 1, 2, 3, 4, 5, 6, 7, 9, 1, 2, 3, 6, 7, 3, 4, 1, 2, 3, 4, 5, 6, 7, 8, 9, 1, 2, 3, 5, 6, 7, 8, 8, 8, 8, 1, 2, 3, 6, 1, 5, 6, 8, 3, 4, 5, 3, 1, 2, 3, 5, 2, 1, 3, 1, 2, 3, 4, 5, 6, 7, 1, 2, 5, 3, 4, 1, 2, 3, 4, 5, 6, 7, 9, 1, 2, 3, 4, 5, 3, 6, 1, 2, 5, 6, 8, 9, 6, 7, 9, 3, 8, 1, 2, 3, 4, 6, 1, 2, 3, 5, 6, 7, 8, 1, 3, 4, 5, 7, 1, 4, 3, 5, 6, 5, 7, 1, 2, 3, 4, 5, 6, 7, 3, 9, 5, 3, 4, 5, 1, 2, 3, 8, 3, 7, 1, 3, 6, 7, 1, 2, 5, 2, 4, 7, 1, 4, 7, 1, 2, 3, 4, 6, 8, 1, 2, 3, 5, 8, 2, 1, 2, 4, 7, 9, 1, 2, 5, 8, 8, 1, 2, 3, 5, 6, 7, 8, 9, 6, 5, 6, 1, 1, 2, 1, 4, 1, 5, 7, 8, 1, 2, 3, 4, 1, 2, 3, 4, 5, 6, 7, 8, 1, 2, 3, 4, 5, 6, 7, 1, 3, 5, 6, 7, 1, 5, 6, 1, 1, 2, 7, 1, 2, 3, 5, 7, 8, 7, 1, 4, 7, 1, 2, 3, 4, 5, 6, 7, 9, 7, 2, 1, 4, 5, 7, 1, 2, 2, 3, 1, 2, 3, 4, 5, 6, 7, 9, 1, 2, 3, 4, 5, 6, 9, 4, 5, 6, 7, 1, 2, 3, 4, 5, 6, 7, 1, 2, 3, 1, 7, 1, 7, 1, 2, 3, 4, 5, 6, 7, 1, 2, 3, 8, 5, 1, 2, 3, 5, 6, 8, 9, 1, 2, 5, 6, 1, 5, 6, 5, 6, 3, 6, 1, 2, 5, 7, 2, 5, 1, 4, 6, 7, 9, 1, 7, 3, 9, 1, 2, 3, 4, 5, 6, 7, 8, 9, 1, 2, 3, 4, 5, 6, 7, 9, 1, 2, 3, 4, 5, 7, 9, 3, 1, 2, 3, 4, 5, 6, 1, 2, 3, 4, 5, 6, 7, 1, 2, 3, 4, 7, 3, 9, 1, 3, 5, 8, 1, 2, 3, 4, 5, 6, 7, 8, 9, 1, 2, 3, 4, 6, 7, 6, 5, 7, 1, 2, 5, 7, 1, 8, 2, 5, 6, 1, 2, 3, 5, 6, 1, 2, 3, 4, 5, 6, 7, 9, 1, 2, 3, 4, 5, 6, 7, 9, 1, 2, 3, 4, 7, 5, 1, 2, 2, 3, 7, 9, 1, 2, 3, 5, 6, 7, 1, 3, 4, 1, 5, 1, 2, 3, 1, 3, 4, 1, 7, 2, 3, 1, 5, 9, 1, 2, 3, 5, 1, 2, 8, 5, 8, 3, 5, 1, 3, 7, 7, 1, 2, 3, 4, 5, 6, 7, 2, 2, 3, 4, 9, 3, 5, 7, 9, 1, 2, 3, 4, 6, 8, 9, 1, 2, 3, 5, 6, 8, 4, 5, 1, 2, 5, 1, 2, 3, 6, 8, 9, 1, 2, 3, 4, 5, 6, 7, 8, 9, 2, 1, 7, 8, 1, 2, 3, 5, 7, 9, 1, 2, 3, 4, 5, 1, 5, 6, 3, 3, 9, 1, 5, 3, 4, 5, 1, 2, 3, 5, 1, 2, 3, 4, 5, 7, 9, 1, 2, 5, 6, 8, 1, 5, 6, 7, 2, 1, 2, 3, 6, 1, 2, 3, 9, 5, 2, 1, 9, 8, 1, 1, 2, 3, 5, 6, 7, 8, 9, 8, 1, 2, 4, 7, 8, 1, 2, 4, 1, 2, 3, 4, 7, 1, 2, 3, 4, 6, 7, 5, 1, 1, 2, 3, 4, 5, 6, 7, 9, 1, 5, 3, 4, 5, 1, 2, 3, 4, 5, 6, 7, 9, 1, 2, 3, 5, 7, 8, 9, 1, 2, 3, 4, 6, 7, 7, 1, 5, 6, 7, 1, 2, 3, 4, 5, 7, 8, 1, 2, 1, 2, 3, 5, 6, 7, 8, 9, 7, 9, 1, 2, 3, 6, 8, 1, 2, 3, 4, 5, 6, 7, 8, 9, 1, 3, 5, 6, 9, 3, 9, 1, 8, 3, 1, 5, 6, 7, 5, 6, 1, 2, 3, 5, 7, 2, 1, 2, 3, 4, 5, 6, 8, 9, 1, 2, 3, 5, 7, 8, 9, 3, 5, 2, 5, 9, 1, 2, 3, 4, 5, 6, 7, 9, 7, 1, 3, 4, 5, 7, 4, 1, 2, 3, 4, 1, 2, 3, 5, 6, 7, 8, 9, 1, 2, 7, 1, 2, 3, 5, 6, 9, 3, 8, 2, 2, 1, 2, 3, 8, 1, 4, 5, 2, 6, 5, 1, 2, 3, 5, 6, 1, 1, 2, 8, 1, 3, 8, 1, 2, 3, 5, 1, 2, 3, 5, 6, 7, 6, 1, 2, 3, 5, 6, 7, 8, 9, 2, 2, 3, 1, 2, 5, 6, 8, 9, 1, 3, 5, 6, 7, 1, 5, 6, 7, 1, 5, 7, 1, 2, 3, 4, 5, 7, 8, 9, 1, 2, 8, 1, 2, 3, 4, 5, 6, 9, 1, 2, 3, 4, 5, 6, 7, 8, 9, 1, 2, 3, 4, 5, 6, 7, 8, 1, 2, 3, 8, 6, 8, 2, 3, 2, 1, 8, 1, 2, 3, 4, 5, 6, 7, 9, 1, 2], \"Freq\": [0.279835095774232, 0.279835095774232, 0.279835095774232, 0.06635973766791704, 0.06635973766791704, 0.8626765896829215, 0.8319989656094048, 0.8950943797485269, 0.06393531283918048, 0.09139388849227643, 0.8682419406766262, 0.02284847212306911, 0.8271992113945182, 0.8272680016854963, 0.16396302736108936, 0.7244810986105285, 0.1811202746526321, 0.023921545708838202, 0.013669454690764686, 0.01708681836345586, 0.02050418203614703, 0.01708681836345586, 0.0034173636726911715, 0.24830439720470932, 0.49660879440941863, 0.24830439720470932, 0.725860518308376, 0.4223173267254469, 0.4223173267254469, 0.9197379641321388, 0.06343020442290613, 0.8884919326446489, 0.8829751388217191, 0.03070123847820637, 0.010233746159402124, 0.010233746159402124, 0.9312709005055932, 0.020467492318804247, 0.8026967443850759, 0.12200344048277466, 0.5569722282909279, 0.015913492236883653, 0.0742629637721237, 0.11139444565818556, 0.106089948245891, 0.00530449741229455, 0.00530449741229455, 0.9130182915152988, 0.13365554752895936, 0.13131071336178463, 0.009379336668698902, 0.5674498684562835, 0.046896683343494505, 0.06096568834654286, 0.023448341671747253, 0.023448341671747253, 0.0023448341671747255, 0.18221877282748586, 0.09110938641374293, 0.09110938641374293, 0.09110938641374293, 0.5466563184824575, 0.0583051182431414, 0.9037293327686916, 0.1187476613242006, 0.10390420365867553, 0.5788948489554779, 0.014843457665525075, 0.02968691533105015, 0.10390420365867553, 0.044530372996575224, 0.9054239726783981, 0.0532602336869646, 0.0266301168434823, 0.10865222637997755, 0.7605655846598429, 0.5186431617850694, 0.14307397566484673, 0.10730548174863505, 0.23249521045537594, 0.43789262218948, 0.14596420739649332, 0.29192841479298665, 0.26519357652084996, 0.5303871530416999, 0.9568884911474423, 0.600252567388692, 0.23851844014880227, 0.04069508931448759, 0.005086886164310949, 0.04634718505261087, 0.052564490364546475, 0.0028260478690616386, 0.010173772328621898, 0.002260838295249311, 0.6990822722766807, 0.15937120333020832, 0.04693139729969325, 0.01759927398738497, 0.03226533564353911, 0.01955474887487219, 0.010755111881179703, 0.010755111881179703, 0.002933212331230828, 0.029985506091857402, 0.0449782591377861, 0.8246014175260785, 0.059971012183714804, 0.014992753045928701, 0.11002711763089665, 0.09627372792703456, 0.34383474259655206, 0.4263550808197245, 0.8547231114985839, 0.07770210104532581, 0.045549200880293336, 0.045549200880293336, 0.8198856158452801, 0.045549200880293336, 0.045549200880293336, 0.9094120258089144, 0.08168218403928121, 0.08168218403928121, 0.8168218403928121, 0.35011574863919936, 0.5251736229587991, 0.795894016357488, 0.08454214968402159, 0.08454214968402159, 0.08454214968402159, 0.2536264490520648, 0.4227107484201079, 0.7762861323049465, 0.528568793664396, 0.264284396832198, 0.38072143207301967, 0.19036071603650984, 0.03807214320730197, 0.3299585744632837, 0.02538142880486798, 0.03172678600608497, 0.006345357201216995, 0.04952889541795702, 0.9245393811351977, 0.016509631805985674, 0.779273437226689, 0.21050769349319126, 0.023389743721465694, 0.7250820553654366, 0.07520385241064458, 0.22561155723193374, 0.4512231144638675, 0.03760192620532229, 0.07520385241064458, 0.11280577861596687, 0.32297702944971113, 0.4378133065873862, 0.04306360392662815, 0.007177267321104692, 0.04306360392662815, 0.05741813856883753, 0.021531801963314074, 0.035886336605523456, 0.021531801963314074, 0.9155819144875447, 0.9618437381751463, 0.015513608680244295, 0.015513608680244295, 0.1970453477960606, 0.7881813911842424, 0.10777926653704654, 0.10777926653704654, 0.7544548657593259, 0.7776391022261221, 0.1556166085217859, 0.0518722028405953, 0.6484025355074413, 0.1037444056811906, 0.7892134979338472, 0.28646489793713625, 0.5729297958742725, 0.900423215226975, 0.0780713770428013, 0.010409516939040173, 0.005204758469520086, 0.09870227167097735, 0.1974045433419547, 0.5264121155785458, 0.08773535259642432, 0.02193383814910608, 0.02193383814910608, 0.04386767629821216, 0.10781686095082939, 0.7547180266558057, 0.13559482030962916, 0.20339223046444374, 0.6101766913933312, 0.7768152863518254, 0.017296883295475508, 0.10378129977285305, 0.8129535148873489, 0.025945324943213263, 0.025945324943213263, 0.06880429054669353, 0.5504343243735482, 0.3440214527334677, 0.9210977866434613, 0.8536889812370037, 0.777860552092766, 0.6012331457101866, 0.061567742416903624, 0.030783871208451812, 0.5848935529605844, 0.2462709696676145, 0.09235161362535543, 0.9496889282231132, 0.08893597458792743, 0.8004237712913468, 0.2236815245433448, 0.03195450350619212, 0.7029990771362266, 0.0981395593527289, 0.05353066873785212, 0.06245244686082748, 0.3657929030419895, 0.41932357177984164, 0.8253403145835766, 0.12146218673656742, 0.12146218673656742, 0.7287731204194045, 0.171914240059313, 0.038680704013345425, 0.012893568004448476, 0.004297856001482825, 0.06446784002224237, 0.6704655362313207, 0.038680704013345425, 0.9301292546361112, 0.9527244735555683, 0.04142280319806819, 0.05212231100540386, 0.8860792870918657, 0.9488729914536572, 0.0249703418803594, 0.0249703418803594, 0.9130318236143571, 0.02207241228536339, 0.0073574707617877965, 0.02207241228536339, 0.7798919007495064, 0.014714941523575593, 0.029429883047151186, 0.12507700295039254, 0.7774490516950537, 0.8661293996735462, 0.049927440211644344, 0.14978232063493302, 0.09985488042328869, 0.19970976084657738, 0.19970976084657738, 0.14978232063493302, 0.14978232063493302, 0.7779936153345417, 0.8005126087554143, 0.3739712560698206, 0.5441617678141701, 0.007837720935595044, 0.03806893025860449, 0.006718046516224323, 0.0011196744193707204, 0.02687218606489729, 0.0011196744193707204, 0.28006548368314566, 0.3929951142005431, 0.10841244529670155, 0.049689037427654875, 0.013551555662087694, 0.09937807485530975, 0.049689037427654875, 0.004517185220695898, 0.03259686995817578, 0.37160431752320394, 0.3455268215566633, 0.20861996773232502, 0.03259686995817578, 0.07200685482221396, 0.07200685482221396, 0.7200685482221396, 0.14401370964442792, 0.2673841042582051, 0.0838069580510792, 0.19954037631209334, 0.05188049784114427, 0.019954037631209332, 0.32724621715183305, 0.05188049784114427, 0.9664768341486851, 0.0334544839254499, 0.0334544839254499, 0.8698165820616972, 0.0669089678508998, 0.9191841245746015, 0.06027436882456404, 0.7979495404792277, 0.6535338207961969, 0.21784460693206564, 0.4501398610530957, 0.5369015122764815, 0.007145077159572948, 0.001020725308510421, 0.001020725308510421, 0.001020725308510421, 0.002041450617020842, 0.3730509208973304, 0.6211105538651428, 0.0019229428912233525, 0.0019229428912233525, 0.883652401263877, 0.09552998932582454, 0.015921664887637424, 0.36848211817450793, 0.4811584683601013, 0.024362454094182345, 0.003045306761772793, 0.006090613523545586, 0.018271840570636758, 0.08831389609141099, 0.012181227047091172, 0.07130448656527487, 0.8556538387832985, 0.5575955766026779, 0.2788165796227257, 0.2788165796227257, 0.2788165796227257, 0.056620128959392224, 0.11324025791878445, 0.03603099115597687, 0.7412089609229527, 0.05147284450853839, 0.11100876968937348, 0.07400584645958232, 0.7770613878256144, 0.03700292322979116, 0.23675100174201402, 0.23675100174201402, 0.23675100174201402, 0.0660268589140381, 0.0660268589140381, 0.8363402129111493, 0.9572746741887515, 0.026590963171909763, 0.026590963171909763, 0.2186917134932461, 0.14579447566216405, 0.5831779026486562, 0.015900390600821043, 0.9540234360492625, 0.8811799466972722, 0.9520970078872784, 0.03249257720629098, 0.9422847389824385, 0.0881212556579382, 0.8591822426648975, 0.02203031391448455, 0.9719621586022545, 0.11476773184395087, 0.11476773184395087, 0.7268623016783554, 0.11830097355424252, 0.8281068148796976, 0.849627671775458, 0.04045846056073609, 0.08091692112147218, 0.4718605728555938, 0.3424794480403503, 0.06088523520717339, 0.005073769600597782, 0.04059015680478226, 0.053274580806276714, 0.010147539201195564, 0.01775819360209224, 0.0627611225133672, 0.8472751539304573, 0.0627611225133672, 0.043283927228239934, 0.9089624717930386, 0.09709963970248374, 0.03236654656749458, 0.8415302107548591, 0.03236654656749458, 0.3971870470631866, 0.21934210061698362, 0.04149715417078068, 0.04742531905232078, 0.011856329763080195, 0.21341393573544354, 0.06520981369694108, 0.011856329763080195, 0.11204996547027152, 0.7843497582919007, 0.785065002940464, 0.9222256033822341, 0.03415650382897163, 0.46281206374653056, 0.5157706581055863, 0.00460509516165702, 0.00230254758082851, 0.00230254758082851, 0.011512737904142551, 0.014330691384678467, 0.0429920741540354, 0.028661382769356935, 0.888502865850065, 0.014330691384678467, 0.12168743854089807, 0.060843719270449036, 0.7301246312453885, 0.060843719270449036, 0.800943005189455, 0.8280201793517002, 0.9097409875262754, 0.05823564556705393, 0.05823564556705393, 0.815299037938755, 0.046876385942708584, 0.9375277188541716, 0.025770076327463667, 0.9019526714612283, 0.025770076327463667, 0.5104914536803137, 0.4647276996256391, 0.001933679748789067, 0.001933679748789067, 0.020625917320416715, 0.013848628928786789, 0.9694040250150752, 0.25769226786171406, 0.25769226786171406, 0.8655482424154856, 0.16136565335463562, 0.09930194052592961, 0.049650970262964805, 0.024825485131482403, 0.012412742565741201, 0.5958116431555777, 0.037238227697223604, 0.5177185561375027, 0.30083645829611644, 0.08628642602291711, 0.004664131136373898, 0.013992393409121694, 0.06762990147742153, 0.004664131136373898, 0.004664131136373898, 0.829407207187821, 0.8149248578976346, 0.1368843357757346, 0.07984919586917852, 0.5361303151216272, 0.04562811192524487, 0.11407027981311219, 0.03422108394393365, 0.011407027981311218, 0.03422108394393365, 0.916029568013646, 0.9442367722012384, 0.02421119928721124, 0.02421119928721124, 0.8496143241358127, 0.8672321966487776, 0.12257698892562227, 0.003064424723140557, 0.006128849446281114, 0.9063330546680924, 0.18724955592157674, 0.7594009767930613, 0.05201376553377132, 0.17371917851365004, 0.7817363033114252, 0.9781622054935827, 0.012227027568669785, 0.19806652337193625, 0.049516630842984063, 0.018568736566119026, 0.6189578855373008, 0.024758315421492032, 0.0804645251198491, 0.4221823030553968, 0.55105900609336, 0.004444024242688387, 0.008888048485376774, 0.008888048485376774, 0.3512952757226521, 0.5854921262044201, 0.00867395742525067, 0.004336978712625335, 0.00867395742525067, 0.030358850988377345, 0.00867395742525067, 0.22896444059460658, 0.22896444059460658, 0.22896444059460658, 0.24800782915861652, 0.05723257595968074, 0.01907752531989358, 0.362472981077978, 0.22893030383872295, 0.05723257595968074, 0.8240525163356668, 0.8156085011300135, 0.12029560127141165, 0.04811824050856466, 0.04811824050856466, 0.6736553671199053, 0.09623648101712932, 0.06435094230381622, 0.8365622499496109, 0.10713201945168034, 0.10713201945168034, 0.7499241361617625, 0.17702802341024623, 0.11801868227349749, 0.5310840702307387, 0.17702802341024623, 0.07205153864493484, 0.864618463739218, 0.9313624805846678, 0.06519537364092674, 0.12956095697880976, 0.7773657418728585, 0.04318698565960325, 0.04318698565960325, 0.2312124294468134, 0.08670466104255502, 0.6069326272978851, 0.05780310736170335, 0.7626117593127321, 0.04970765918202915, 0.8698840356855102, 0.07456148877304374, 0.8005101233735088, 0.0759129858837374, 0.17713030039538727, 0.17713030039538727, 0.05060865725582493, 0.48078224393033686, 0.025304328627912466, 0.025304328627912466, 0.40936504880887203, 0.47530304324788497, 0.019231915044712108, 0.06319057800405407, 0.008242249304876619, 0.01098966573983549, 0.01098966573983549, 0.0027474164349588727, 0.28752181780958386, 0.28752181780958386, 0.28752181780958386, 0.7225218422028995, 0.37767340721504555, 0.013987903970927614, 0.027975807941855228, 0.545528254866177, 0.027975807941855228, 0.013987903970927614, 0.8997549276730599, 0.038287443730768506, 0.038287443730768506, 0.13754722266173441, 0.41264166798520324, 0.27509444532346883, 0.9307909667119428, 0.14395777245446328, 0.43187331736338985, 0.28791554490892657, 0.2839868750791921, 0.14199343753959606, 0.14199343753959606, 0.2839868750791921, 0.8339362963792717, 0.08596130897336242, 0.057307539315574946, 0.8596130897336242, 0.9383261410881276, 0.8818718945446536, 0.9760207047019204, 0.7865783309750849, 0.3678089360214326, 0.551713404032149, 0.045976117002679076, 0.9334247510184043, 0.864903312623683, 0.21845407650074924, 0.5188284316892795, 0.05461351912518731, 0.16384055737556194, 0.9076723676288517, 0.9514221922533004, 0.019821295671943757, 0.019821295671943757, 0.5365778075515146, 0.0094136457465178, 0.028240937239553402, 0.0094136457465178, 0.094136457465178, 0.2447547894094628, 0.0753091659721424, 0.25182265982923585, 0.06295566495730896, 0.06295566495730896, 0.06295566495730896, 0.5036453196584717, 0.3298178100316414, 0.05496963500527357, 0.10993927001054714, 0.018323211668424523, 0.018323211668424523, 0.4580802917106131, 0.09357550125013758, 0.8421795112512382, 0.39270191346224237, 0.08590354356986553, 0.036815804387085226, 0.47860545703210794, 0.2700041531777886, 0.6107236798069028, 0.04821502735317654, 0.02892901641190592, 0.02892901641190592, 0.0032143351568784356, 0.006428670313756871, 0.8736055319556323, 0.011058297872856105, 0.011058297872856105, 0.05529148936428052, 0.04423319149142442, 0.0851054789652626, 0.8510547896526259, 0.5603941478492698, 0.8139378496975943, 0.12662894474596983, 0.21707819099309114, 0.5426954774827278, 0.10853909549654557, 0.01808984924942426, 0.8586982229681386, 0.3855039527027332, 0.18610535647718154, 0.39215057257691827, 0.019939859622555164, 0.006646619874185055, 0.16023249539117168, 0.8157290674459649, 0.38139962428808616, 0.05448566061258374, 0.3269139636755024, 0.02724283030629187, 0.10897132122516748, 0.0817284909188756, 0.2713430905558302, 0.054268618111166046, 0.06783577263895756, 0.013567154527791512, 0.583387644695035, 0.7950370045569083, 0.09800521010653084, 0.8820468909587775, 0.8070069844971605, 0.17777545165734548, 0.004678301359403829, 0.0023391506797019145, 0.007017452039105743, 0.8295003283927694, 0.13044508635764815, 0.15218593408392284, 0.6957071272407901, 0.08499875664372585, 0.08499875664372585, 0.7649888097935327, 0.2757120321166426, 0.1002589207696882, 0.5514240642332852, 0.0501294603848441, 0.2332691520543144, 0.0291586440067893, 0.0874759320203679, 0.6123315241425753, 0.03624766040882687, 0.21748596245296123, 0.6887055477677105, 0.8226010532971421, 0.2347503903784649, 0.7042511711353947, 0.13600836093261645, 0.8160501655956987, 0.2343622371916709, 0.11718111859583545, 0.039060372865278484, 0.5859055929791772, 0.039060372865278484, 0.18637268646431548, 0.18637268646431548, 0.6523044026251041, 0.14646259942445383, 0.1757551193093446, 0.6737279573524877, 0.020519795372431242, 0.4719552935659186, 0.10259897686215622, 0.041039590744862485, 0.3693563167037624, 0.9172478747909975, 0.22498311360111603, 0.06428088960031887, 0.6749493408033481, 0.7685621058512517, 0.5685638492242211, 0.30936562384259086, 0.06270924807620085, 0.002090308269206695, 0.006270924807620085, 0.010451541346033476, 0.03971585711492721, 0.002090308269206695, 0.8628817841802569, 0.12326882631146525, 0.694372215838563, 0.9646098343864691, 0.08459240007995257, 0.16918480015990514, 0.5921468005596681, 0.9250950733714333, 0.8851595982340307, 0.456286341142034, 0.11814557047427665, 0.09777564453043586, 0.1955512890608717, 0.028517896321377124, 0.00407398518876816, 0.09777564453043586, 0.00407398518876816, 0.1830267348889653, 0.7124969322463292, 0.07844002923812798, 0.006536669103177332, 0.006536669103177332, 0.013073338206354665, 0.47861330452147705, 0.23930665226073852, 0.10962617231631586, 0.05481308615815793, 0.712570120056053, 0.7669283340894695, 0.6615812892530726, 0.2987033686927453, 0.007000860203736217, 0.010501290305604326, 0.0035004301018681087, 0.0011668100339560362, 0.00933448027164829, 0.008167670237692253, 0.10769566860585632, 0.1346195857573204, 0.24231525436317672, 0.1346195857573204, 0.2692391715146408, 0.10769566860585632, 0.19849340394841986, 0.5954802118452596, 0.9417135810136873, 0.7871366974626398, 0.9366214757031353, 0.0725824190983467, 0.03629120954917335, 0.6532417718851203, 0.2540384668442135, 0.32216150997178866, 0.34363894396990796, 0.227660800380064, 0.025772920797743095, 0.042954867996238495, 0.021477433998119248, 0.004295486799623849, 0.008590973599247698, 0.28469234673141725, 0.30746773446993064, 0.07212206117195903, 0.19359079577736374, 0.07212206117195903, 0.030367183651351173, 0.03416308160777007, 0.0037958979564188967, 0.676618246104888, 0.052311309974746006, 0.5928615130471214, 0.10462261994949201, 0.10462261994949201, 0.1394968265993227, 0.25461134309350064, 0.5092226861870013, 0.6897932482959359, 0.17680621165708105, 0.04233388166437152, 0.024902283331983247, 0.03984365333117319, 0.014941369999189947, 0.012451141665991624, 0.8856425928949089, 0.8340397513118227, 0.495665031470204, 0.44116782905724966, 0.015570629260844106, 0.010380419507229403, 0.0025951048768073507, 0.028546153644880858, 0.0025951048768073507, 0.16571648039732423, 0.04142912009933106, 0.04142912009933106, 0.12428736029799316, 0.5800076813906347, 0.7081852328857428, 0.9524892224302249, 0.2972359971615934, 0.6869454156623492, 0.8842718730990063, 0.1391434146479995, 0.1391434146479995, 0.04638113821599983, 0.18552455286399933, 0.04638113821599983, 0.4174302439439985, 0.21318730147774595, 0.2984622220688444, 0.060910657565070275, 0.2984622220688444, 0.006091065756507028, 0.07918385483459135, 0.030455328782535138, 0.012182131513014055, 0.3875514769747927, 0.3290150559733917, 0.07266590193277363, 0.1231283338305331, 0.03835144824229719, 0.008073989103641514, 0.022203470035014165, 0.018166475483193407, 0.0020184972759103785, 0.920245914913305, 0.5124074839291073, 0.25620374196455364, 0.315533450951535, 0.1577667254757675, 0.06454093314917762, 0.12908186629835525, 0.014342429588706138, 0.17210915506447363, 0.1362530810927083, 0.007171214794353069, 0.19486268390786707, 0.7794507356314683, 0.45162652341268983, 0.5193705019245932, 0.025403991941963803, 0.36563446362312535, 0.6064181347895737, 0.01783582749381099, 0.7153278885732227, 0.14306557771464454, 0.19467687931120375, 0.7138152241410805, 0.5650360158852908, 0.2825180079426454, 0.127087978768039, 0.127087978768039, 0.127087978768039, 0.5718959044561756, 0.17696478211762018, 0.11797652141174678, 0.05898826070587339, 0.5308943463528605, 0.9052318563544643, 0.07704100905144377, 0.17745600601787506, 0.5323680180536252, 0.17745600601787506, 0.41770391494590003, 0.037973083176900006, 0.49365008129970006, 0.0513930511340539, 0.9250749204129702, 0.8112608468731112, 0.11240361131374432, 0.01954845414152075, 0.0390969082830415, 0.014661340606140563, 0.48184649842610816, 0.21556290719062732, 0.05072068404485349, 0.03170042752803343, 0.012680171011213373, 0.006340085505606686, 0.19654265067380727, 0.8682975568037922, 0.7134831436742903, 0.2718031023521106, 0.005662564632335637, 0.0028312823161678186, 0.005662564632335637, 0.9356377747499399, 0.7995140631648711, 0.151621892671677, 0.03790547316791925, 0.5306766243508695, 0.26533831217543474, 0.4032010333006296, 0.33418464021313443, 0.15256255314077877, 0.007264883482894227, 0.06901639308749516, 0.018162208707235568, 0.01089732522434134, 0.007264883482894227, 0.0397318965614005, 0.11919568968420151, 0.6754422415438085, 0.11919568968420151, 0.9517144639287078, 0.04325974836039581, 0.7801073597449998, 0.10937361441437679, 0.03645787147145893, 0.8203021081078259, 0.7962196059031847, 0.12249532398510535, 0.24877982313811206, 0.04975596462762241, 0.04975596462762241, 0.5473156109038465, 0.04975596462762241, 0.8394378097187938, 0.2513162474560118, 0.670176659882698, 0.06282906186400294, 0.6714291791343411, 0.1670837588629236, 0.09591845416204872, 0.02165900577852713, 0.027847293143820596, 0.006188287365293466, 0.006188287365293466, 0.003094143682646733, 0.1527307325534809, 0.7254709796290344, 0.07636536627674045, 0.03818268313837023, 0.24698784955379693, 0.1296686210157434, 0.1049698360603637, 0.43840343295798956, 0.03704817743306954, 0.006174696238844923, 0.030873481194224617, 0.14619272585050255, 0.804059992177764, 0.09768551448252767, 0.1255956614775356, 0.6558884543826858, 0.013955073497503953, 0.04186522049251186, 0.05582029399001581, 0.35058972122852144, 0.20132875080449747, 0.2811660140545568, 0.006942370717396464, 0.09372200468485227, 0.05206778038047348, 0.010413556076094696, 0.003471185358698232, 0.9157489532402276, 0.9193835234367858, 0.9281937971661354, 0.20965315631366788, 0.1886878406823011, 0.5660635220469032, 0.020965315631366787, 0.2594847871231313, 0.2594847871231313, 0.2594847871231313, 0.05076876269800395, 0.07333265723045014, 0.09589655176289634, 0.3494132886755421, 0.17470664433777106, 0.3494132886755421, 0.8530915927437351, 0.9078282917201603, 0.047780436406324234, 0.8525122346680674, 0.11722572509119593, 0.023445145018239185, 0.3282320302553486, 0.023445145018239185, 0.3282320302553486, 0.1641160151276743, 0.060122714301508416, 0.060122714301508416, 0.7214725716181011, 0.12024542860301683, 0.21086746182886199, 0.316301192743293, 0.316301192743293, 0.9674303547190503, 0.061192569427900946, 0.8566959719906132, 0.07537631596455577, 0.8291394756101135, 0.06295671965841687, 0.9233652216567807, 0.2352462929642804, 0.7453347895897993, 0.004658342434936245, 0.0023291712174681226, 0.00931668486987249, 0.40715460952635957, 0.014039814121598606, 0.04211944236479582, 0.5194731224991485, 0.8246746486106983, 0.0317167558026295, 0.8880691624736259, 0.063433511605259, 0.025317376030526965, 0.6329344007631741, 0.22785638427474267, 0.10126950412210786, 0.9363046237428383, 0.031185276646420023, 0.8731877460997607, 0.062370553292840046, 0.4054170466143141, 0.33429124896268003, 0.09957611671228767, 0.00474171984344227, 0.021337739295490214, 0.01422515953032681, 0.07112579765163406, 0.04504633851270157, 0.00474171984344227, 0.06388472858458925, 0.8943862001842495, 0.03194236429229463, 0.7576943437660839, 0.8704450005665816, 0.2688598152954093, 0.23453728568322937, 0.13729011844871963, 0.017161264806089954, 0.03432252961217991, 0.16017180485683957, 0.14301054005074962, 0.005720421602029985, 0.8136904671873307, 0.11188243923825798, 0.03390376946613878, 0.027123015572911024, 0.013561507786455512, 0.8477624597673837, 0.08477624597673838, 0.21805152289829896, 0.17957184238683443, 0.23087808306878713, 0.08123488107975843, 0.1026124813639054, 0.10688800142073478, 0.0513062406819527, 0.008551040113658783, 0.02565312034097635, 0.4308246812916928, 0.1838885834781616, 0.1208410691427919, 0.06830147386331716, 0.15236482631047674, 0.03677771669563232, 0.010507919055894948, 0.7779179054337861, 0.7776890244223463, 0.904123146159118, 0.7488318215513585, 0.12214987160057621, 0.09559555168740747, 0.026554319913168742, 0.023741698005834783, 0.8784428262158869, 0.07122509401750435, 0.023741698005834783, 0.11924244450790084, 0.19078791121264133, 0.6677576892442447, 0.9070555786592654, 0.16289105536296292, 0.04072276384074073, 0.7330097491333332, 0.04072276384074073, 0.8827028367734903, 0.5508394862459544, 0.2754197431229772, 0.5146124272803996, 0.1771616552932523, 0.0927989622964655, 0.021090673249196706, 0.12654403949518023, 0.05905388509775077, 0.008436269299678683, 0.2674507513737561, 0.5349015027475122, 0.8918177959942061, 0.6369545194808847, 0.2547818077923539, 0.5187087347923858, 0.22729933322362972, 0.16901745290987852, 0.014570470078437803, 0.023312752125500484, 0.03496912818825073, 0.008742282047062682, 0.0029140940156875605, 0.25098256408145525, 0.015686410255090953, 0.015686410255090953, 0.6431428204587291, 0.06274564102036381, 0.10618271814043607, 0.7432790269830526, 0.17279885013604138, 0.057599616712013794, 0.11519923342402759, 0.28799808356006895, 0.17279885013604138, 0.17279885013604138, 0.9489801158144692, 0.19520630566031394, 0.5856189169809418, 0.838552696636472, 0.806905822540755, 0.2459306589073232, 0.16723284805697977, 0.04918613178146464, 0.5115357705272322, 0.009837226356292928, 0.32513552915618915, 0.11823110151134152, 0.01477888768891769, 0.16256776457809458, 0.08867332613350613, 0.01477888768891769, 0.2807988660894361, 0.9644618338869141, 0.7868033459354116, 0.09835041824192645, 0.04917520912096322, 0.04917520912096322, 0.07511443181744364, 0.9013731818093236, 0.0763525196928539, 0.763525196928539, 0.0763525196928539, 0.8842174659733851, 0.9001360447715069, 0.5116708565052316, 0.060592601428251104, 0.10772018031689086, 0.0942551577772795, 0.08752264650747382, 0.026930045079222715, 0.10098766904708517, 0.4418540278713978, 0.2209270139356989, 0.6623525048998754, 0.0880323273018675, 0.0880323273018675, 0.70425861841494, 0.35688041921991137, 0.6279288388806036, 0.0022587368305057682, 0.01355242098303461, 0.5244744904054143, 0.1748248301351381, 0.07673069893497986, 0.07673069893497986, 0.7673069893497986, 0.8283661415136553, 0.08195418514810879, 0.8468599131971242, 0.027318061716036263, 0.06603937174245435, 0.06603937174245435, 0.7924724609094522, 0.13639333469674755, 0.13639333469674755, 0.6819666734837377, 0.16646852984731503, 0.16646852984731503, 0.10404283115457189, 0.04161713246182876, 0.02080856623091438, 0.4994055895419451, 0.8290197299564527, 0.15381183669003368, 0.0026069802828819267, 0.0026069802828819267, 0.00782094084864578, 0.9316115383419907, 0.23707003242226174, 0.46702796387185563, 0.27974263825826884, 0.0023707003242226174, 0.00948280129689047, 0.11408968070841995, 0.11408968070841995, 0.1711345210626299, 0.5704484035420997, 0.7785940629308175, 0.4591141628280195, 0.4529926406569792, 0.040810147806935065, 0.004761183910809091, 0.016324059122774025, 0.011562875211964935, 0.011562875211964935, 0.0027206765204623377, 0.8314153134098521, 0.8852622105953181, 0.06809709312271678, 0.8435400356018894, 0.03201093728985323, 0.9283171814057436, 0.276418338146814, 0.7036103152827992, 0.06021121110795563, 0.06021121110795563, 0.6021121110795563, 0.24084484443182252, 0.3445513499805843, 0.020267726469446135, 0.608031794083384, 0.020267726469446135, 0.7043385980123951, 0.22993871756418396, 0.009681630213228798, 0.0024204075533071994, 0.024204075533071995, 0.0024204075533071994, 0.0024204075533071994, 0.026624483086379193, 0.26177251122250517, 0.019390556386852238, 0.23268667664222684, 0.009695278193426119, 0.17451500748167012, 0.019390556386852238, 0.2714677894159313, 0.15191384413554648, 0.016879316015060722, 0.15191384413554648, 0.016879316015060722, 0.6245346925572467, 0.08960747634797288, 0.08960747634797288, 0.8064672871317559, 0.9588660990360255, 0.08134469702253838, 0.8812342177441658, 0.027114899007512794, 0.5134217889530216, 0.20266649563935063, 0.05404439883716017, 0.040533299127870126, 0.013511099709290042, 0.1621331965114805, 0.7606886019380337, 0.07368248409768668, 0.07368248409768668, 0.736824840976867, 0.08220007048793813, 0.01644001409758763, 0.01644001409758763, 0.09864008458552577, 0.01644001409758763, 0.01644001409758763, 0.7398006343914433, 0.03288002819517526, 0.7876746176652293, 0.9473361653536104, 0.2328674843937628, 0.7152358449237001, 0.01663339174241163, 0.01663339174241163, 0.9361666293021752, 0.05608371511948515, 0.03972414061513139, 0.9533793747631533, 0.09064227443983598, 0.16315609399170475, 0.4532113721991799, 0.09064227443983598, 0.07251381955186878, 0.03625690977593439, 0.018128454887967195, 0.07251381955186878, 0.3888770464684303, 0.24247627603325655, 0.23790125195715736, 0.0228751203804959, 0.0457502407609918, 0.05032526483709098, 0.00457502407609918, 0.8868195152066509, 0.05216585383568535, 0.05216585383568535, 0.785455564588315, 0.4316602072641966, 0.0920875108830286, 0.04028828601132502, 0.3050398798000323, 0.08633204145283932, 0.011510938860378576, 0.03453281658113573, 0.9563293743155192, 0.03477561361147343, 0.008693903402868358, 0.17967150636830856, 0.7186860254732342, 0.17895387687365027, 0.7158155074946011, 0.1131426261335222, 0.02262852522670444, 0.0565713130667611, 0.09051410090681776, 0.10182836352016998, 0.3959991914673277, 0.2262852522670444, 0.8144299347158993, 0.17389963018844823, 0.005796654339614941, 0.005796654339614941, 0.9655996214858005, 0.6862716343406065, 0.27396614651541995, 0.002712536104113069, 0.008137608312339208, 0.008137608312339208, 0.016275216624678415, 0.002712536104113069, 0.05426013597024433, 0.9224223114941537, 0.1221985170652273, 0.7331911023913638, 0.018157166819176913, 0.32682900274518445, 0.6173436718520151, 0.13784171293214348, 0.827050277592861, 0.791278129209835, 0.8753556023924722, 0.04878635807258157, 0.09757271614516314, 0.04878635807258157, 0.7805817291613051, 0.5292141935664508, 0.2646070967832254, 0.10122407297434291, 0.1771421277051001, 0.07591805473075718, 0.6073444378460574, 0.025306018243585728, 0.30528593952814354, 0.6716290669619157, 0.5269515648174286, 0.17565052160580952, 0.32088315538139356, 0.4268891977841754, 0.08022078884534839, 0.07162570432620392, 0.028650281730481567, 0.011460112692192628, 0.03151530990352972, 0.025785253557433413, 0.002865028173048157, 0.07879911927096071, 0.05253274618064047, 0.2679170055212664, 0.20487771010449785, 0.2941833786115866, 0.047279471562576426, 0.05253274618064047, 0.0052532746180640475, 0.12821636640990886, 0.007123131467217159, 0.5698505173773727, 0.0854775776066059, 0.1567088922787775, 0.007123131467217159, 0.04273878880330295, 0.9027671032266529, 0.24178533147876222, 0.08059511049292073, 0.040297555246460365, 0.4970031813730112, 0.08059511049292073, 0.040297555246460365, 0.34294104112347346, 0.22110672388223945, 0.036099056960365625, 0.34294104112347346, 0.018049528480182812, 0.03158667484031992, 0.004512382120045703, 0.21380660345369656, 0.04581570074007783, 0.01527190024669261, 0.1527190024669261, 0.5650603091276266, 0.8475989398199043, 0.07705444907453676, 0.06749396092290695, 0.1349879218458139, 0.06749396092290695, 0.7424335701519764, 0.34508921057978953, 0.17254460528989476, 0.35199099479138535, 0.03450892105797895, 0.03450892105797895, 0.013803568423191583, 0.027607136846383166, 0.013803568423191583, 0.013803568423191583, 0.5051356904040624, 0.18170348575685696, 0.029072557721097115, 0.11265616116925131, 0.08721767316329135, 0.0835836034481542, 0.6937993631403493, 0.7519447973306306, 0.10742068533294723, 0.9233346005896041, 0.029784987115793683, 0.029784987115793683, 0.8397597564089639, 0.19462886492921042, 0.7785154597168417, 0.9876438097583102, 0.07481884765646302, 0.8230073242210931, 0.8894687641505942, 0.059531373978583074, 0.017509227640759725, 0.03151660975336751, 0.0035018455281519453, 0.06157875906899167, 0.06157875906899167, 0.49263007255193336, 0.10776282837073542, 0.20013096697422292, 0.06157875906899167, 0.015394689767247918, 0.015394689767247918, 0.04214036650187379, 0.28795917109613756, 0.2949825655131165, 0.021070183250936896, 0.2387954101772848, 0.07023394416978965, 0.02809357766791586, 0.007023394416978965, 0.11344826030060923, 0.04537930412024369, 0.022689652060121846, 0.7714481700441428, 0.022689652060121846, 0.8808384297119645, 0.060665516622940056, 0.9302045882184141, 0.44467054537274225, 0.029644703024849485, 0.05928940604969897, 0.44467054537274225, 0.09550795309283021, 0.07163096481962267, 0.011938494136603776, 0.22683138859547175, 0.5730477185569813, 0.011938494136603776, 0.04787106818643645, 0.07180660227965469, 0.8616792273558562, 0.9518194156629044, 0.022662367039592964, 0.06243714782469009, 0.8919592546384298, 0.0356783701855372, 0.05106540796690054, 0.05106540796690054, 0.8681119354373091, 0.2680037137040782, 0.5360074274081564, 0.9247129848481859, 0.05779456155301162, 0.24619468278996096, 0.3692920241849414, 0.24619468278996096, 0.22794402078026502, 0.08288873482918728, 0.6631098786334982, 0.02072218370729682, 0.9018069162658939, 0.09557192862600505, 0.002450562272461668, 0.1421256100715338, 0.710628050357669, 0.943017682833496, 0.031433922761116534, 0.01702657569082942, 0.9534882386864476, 0.01702657569082942, 0.6358010606250617, 0.07060624054616778, 0.005883853378847315, 0.005883853378847315, 0.01176770675769463, 0.01176770675769463, 0.48247597706547984, 0.40598588314046474, 0.953069035606137, 0.9377112406383866, 0.1097351796855391, 0.4389407187421564, 0.32920553905661726, 0.47506922247148614, 0.04318811113377147, 0.2591286668026288, 0.1295643334013144, 0.3336330018369326, 0.20017980110215958, 0.04003596022043192, 0.2669064014695461, 0.05338128029390922, 0.05338128029390922, 0.04003596022043192, 0.5764347803110398, 0.2800251645955439, 0.01936344223267059, 0.023831928901748414, 0.07745376893068236, 0.02234243334538914, 0.26363374499347747, 0.5272674899869549, 0.010179817599707444, 0.23413580479327123, 0.7431266847786435, 0.30719895771192235, 0.6468485095483436, 0.010816864708166282, 0.006490118824899769, 0.017306983533066048, 0.008653491766533024, 0.6024741119446838, 0.16717868027784422, 0.06308629444446952, 0.009462944166670427, 0.05046903555557561, 0.03785177666668171, 0.047314720833352135, 0.01577157361111738, 0.0031543147222234755, 0.8016824702128525, 0.0376634219887703, 0.3013073759101624, 0.6026147518203248, 0.30716710660995505, 0.5040690980265929, 0.08663687622332067, 0.007876079656665515, 0.0551325575966586, 0.03150431862666206, 0.044234967468917176, 0.8330918873312735, 0.022117483734458588, 0.06635245120337577, 0.02948997831261145, 0.1449173365051216, 0.04830577883504054, 0.7728924613606486, 0.8351031553991307, 0.5559271176664456, 0.18530903922214853, 0.5099026934728405, 0.33993512898189365, 0.7361704208667788, 0.1549832464982692, 0.0387458116245673, 0.5232074822847529, 0.43432281347962115, 0.034341803856528186, 0.006060318327622621, 0.1430662801346667, 0.16302901689764346, 0.1763375080729613, 0.38927336687804664, 0.053233964701271334, 0.0399254735259535, 0.03327122793829459, 0.17468103988046454, 0.39303233973104523, 0.07278376661686023, 0.058227013293488186, 0.305691819790813, 0.2841208173093396, 0.033425978506981126, 0.651806580886132, 0.016712989253490563, 0.8011354957213737, 0.22782784033477324, 0.7172357936465084, 0.04219034080273579, 0.008438068160547157, 0.9437960562910285, 0.3722520722318594, 0.1861260361159297, 0.1861260361159297, 0.8071413539107051, 0.935731970800232, 0.7127970569359608, 0.1781992642339902, 0.7788040270400597, 0.9249839960235563, 0.5588498701507282, 0.3467150214812681, 0.00912407951266495, 0.013686119268997425, 0.020529178903496138, 0.004562039756332475, 0.04562039756332475, 0.0022810198781662377, 0.779735886532613, 0.22127149260976736, 0.7571633887740477, 0.003457367072027615, 0.003457367072027615, 0.00691473414405523, 0.02267682586167199, 0.9524266861902235, 0.02267682586167199, 0.1269691764073188, 0.042323058802439605, 0.021161529401219802, 0.8041381172463524, 0.021161529401219802, 0.1225981814966419, 0.18389727224496283, 0.20433030249440315, 0.06129909074832095, 0.10216515124720157, 0.326928483991045, 0.798778135686131, 0.9586112973956785, 0.41449357967612666, 0.032509300366755034, 0.26007440293404027, 0.06501860073351007, 0.1950558022005302, 0.008127325091688758, 0.008127325091688758, 0.008127325091688758, 0.5498503550343399, 0.27492517751716994, 0.7568981544853979, 0.1441710770448377, 0.10812830778362827, 0.062289156702212606, 0.09343373505331891, 0.5606024103199134, 0.19724899622367323, 0.041526104468141735, 0.020763052234070867, 0.010381526117035434, 0.020763052234070867, 0.5789363114477023, 0.3401996881702993, 0.03779996535225547, 0.027852606049030348, 0.001989471860645025, 0.0079578874425801, 0.001989471860645025, 0.1463836789320052, 0.3415619175080122, 0.009758911928800348, 0.03903564771520139, 0.3805975652232136, 0.07807129543040278, 0.8293323646090965, 0.1356027788795453, 0.22600463146590885, 0.20340416831931796, 0.4068083366386359, 0.48191895349201663, 0.3592163417172965, 0.01778298721372755, 0.1066979232823653, 0.01066979232823653, 0.00711319488549102, 0.016004688492354795, 0.1445014890306391, 0.830883561926175, 0.35671303082449324, 0.29318879245848756, 0.23455103396679006, 0.06841071824031376, 0.009772959748616252, 0.014659439622924379, 0.004886479874308126, 0.009772959748616252, 0.7521003997956596, 0.1880250999489149, 0.7076875453403234, 0.2083746661279841, 0.007863194948225816, 0.035384377267016175, 0.035384377267016175, 0.33145496062011326, 0.2502375199383637, 0.2787733774751946, 0.021950659643716113, 0.04609638525180383, 0.039511187358689, 0.015365461750601278, 0.002195065964371611, 0.01756052771497289, 0.059120937223020996, 0.059120937223020996, 0.6503303094532309, 0.17736281166906298, 0.059120937223020996, 0.6900645873002289, 0.23002152910007628, 0.12233141956169644, 0.7951542271510268, 0.7913171715910242, 0.06854189686578455, 0.03427094843289227, 0.06854189686578455, 0.8225027623894146, 0.8118538787401851, 0.13530897979003087, 0.28989035547904124, 0.2646824984808637, 0.44113749746810627, 0.8342752619652772, 0.10428440774565965, 0.8014733891822664, 0.5877437811796785, 0.3740187698416136, 0.01709800090704519, 0.004274500226761298, 0.008549000453522596, 0.002137250113380649, 0.002137250113380649, 0.002137250113380649, 0.2374726877906208, 0.6764373531005563, 0.05037299437982866, 0.007196142054261237, 0.007196142054261237, 0.014392284108522474, 0.007196142054261237, 0.6501389167283543, 0.2600555666913417, 0.8975798942802894, 0.17355488573889963, 0.5206646572166989, 0.37525358928973757, 0.21866280578913277, 0.2779133725190913, 0.009875094454993093, 0.08323293897779893, 0.021160916689270913, 0.002821455558569455, 0.01128582223427782, 0.8367550016665048, 0.02328559378457802, 0.16299915649204616, 0.7218534073219186, 0.03492839067686703, 0.05821398446144505, 0.8330333508451716, 0.04497302922717625, 0.13491908768152874, 0.13491908768152874, 0.6745954384076437, 0.5853050865316712, 0.28220066672062716, 0.00783890740890631, 0.028742660499323138, 0.041807506180833655, 0.020903753090416827, 0.028742660499323138, 0.0026129691363021034, 0.4534387300310021, 0.1577178191412181, 0.3548650930677408, 0.3013492985850582, 0.3948714946976625, 0.14547897173071775, 0.07273948586535887, 0.05195677561811348, 0.03117406537086809, 0.1779944008119232, 0.7119776032476928, 0.9179422487846142, 0.9205520748430093, 0.3223001497189941, 0.6549364558429706, 0.0009396505822711199, 0.01973266222769352, 0.05080262109730905, 0.2540131054865452, 0.6604340742650177, 0.9707508250661195, 0.9343115083987701, 0.8809996954657299, 0.12212473654708393, 0.27755621942519076, 0.1887382292091297, 0.3774764584182594, 0.02220449755401526, 0.9375758336476557, 0.38680511233252823, 0.1487711970509724, 0.4463135911529172, 0.10949521649850195, 0.10949521649850195, 0.7664665154895137, 0.38275885345791355, 0.5922689627190872, 0.016116162250859517, 0.004029040562714879, 0.10451958476612434, 0.05806643598118019, 0.01161328719623604, 0.13935944635483247, 0.6503440829892182, 0.03483986158870812, 0.7069808389713066, 0.5947055877185364, 0.33662580436898293, 0.02992229372168737, 0.009350716788027303, 0.020571576933660067, 0.005610430072816382, 0.0018701433576054605, 0.0018701433576054605, 0.8779710572496052, 0.056871104805976215, 0.9099376768956194, 0.19174964479220524, 0.28762446718830786, 0.31958274132034203, 0.031958274132034205, 0.031958274132034205, 0.12783309652813682, 0.05902881487768748, 0.03935254325179165, 0.03935254325179165, 0.2361152595107499, 0.6099644204027705, 0.15224934259890968, 0.03806233564972742, 0.6470597060453661, 0.15224934259890968, 0.055720083705775816, 0.055720083705775816, 0.7800811718808615, 0.4491969661689422, 0.1474636505100063, 0.17015036597308417, 0.13385162123215955, 0.02722405855569347, 0.002268671546307789, 0.0635228032966181, 0.006806014638923367, 0.09805282513877885, 0.09805282513877885, 0.7844226011102308, 0.3628450716858761, 0.25191154658446174, 0.3166227695602868, 0.018488920850235725, 0.039288956806750916, 0.0023111151062794656, 0.006933345318838397, 0.35985155782907674, 0.35985155782907674, 0.1758053412294726, 0.00824087537013153, 0.06592700296105224, 0.024722626110394587, 0.0027469584567105096, 0.0027469584567105096, 0.0027469584567105096, 0.25217008704681854, 0.2836913479276708, 0.3026041044561822, 0.037825513057022773, 0.0063042521761704625, 0.07565102611404555, 0.02521700870468185, 0.012608504352340925, 0.3868169345273566, 0.6015331142861858, 0.0016390548073193076, 0.00655621922927723, 0.8266306167951316, 0.7817885949589319, 0.5319912326536121, 0.2659956163268061, 0.8015558235652797, 0.11184041021686991, 0.7828828715180894, 0.3238784413344171, 0.18839987763897467, 0.16511449950382048, 0.019051673019671596, 0.12066059579125343, 0.1270111534644773, 0.04657075627030834, 0.008467410230965153, 0.9772974101126786, 0.011634492977531887], \"Term\": [\"aany\", \"aany\", \"aany\", \"abercrombie\", \"abercrombie\", \"abercrombie\", \"aboriginal\", \"accuracy\", \"accuracy\", \"acute\", \"acute\", \"acute\", \"administrator\", \"advice\", \"advice\", \"aedt\", \"aedt\", \"aedt\", \"aedt\", \"aedt\", \"aedt\", \"aedt\", \"aedt\", \"aeven\", \"aeven\", \"aeven\", \"affluent\", \"aiave\", \"aiave\", \"airline\", \"airline\", \"allergic\", \"alloy\", \"analysis\", \"analysis\", \"analysis\", \"analysis\", \"analysis\", \"angie\", \"animal\", \"animal\", \"animal\", \"animal\", \"animal\", \"animal\", \"animal\", \"animal\", \"approximately\", \"area\", \"area\", \"area\", \"area\", \"area\", \"area\", \"area\", \"area\", \"area\", \"argument\", \"argument\", \"argument\", \"argument\", \"argument\", \"aspen\", \"aspen\", \"athe\", \"athe\", \"athe\", \"athe\", \"athe\", \"athe\", \"athe\", \"athlete\", \"athlete\", \"athlete\", \"atomic\", \"atomic\", \"attend\", \"attend\", \"attend\", \"attend\", \"attract\", \"attract\", \"attract\", \"attractive\", \"attractive\", \"auckland\", \"australia\", \"australia\", \"australia\", \"australia\", \"australia\", \"australia\", \"australia\", \"australia\", \"australia\", \"australian\", \"australian\", \"australian\", \"australian\", \"australian\", \"australian\", \"australian\", \"australian\", \"australian\", \"author\", \"author\", \"author\", \"author\", \"author\", \"average\", \"average\", \"average\", \"average\", \"awake\", \"awake\", \"award\", \"award\", \"award\", \"award\", \"award\", \"awhen\", \"backpacker\", \"backpacker\", \"backpacker\", \"ballarat\", \"ballarat\", \"balsam\", \"band\", \"band\", \"band\", \"band\", \"band\", \"banyule\", \"barren\", \"barren\", \"base\", \"base\", \"base\", \"base\", \"base\", \"base\", \"base\", \"battery\", \"battery\", \"battery\", \"bayside\", \"beach\", \"beach\", \"beach\", \"behaviour\", \"behaviour\", \"behaviour\", \"behaviour\", \"behaviour\", \"behaviour\", \"believe\", \"believe\", \"believe\", \"believe\", \"believe\", \"believe\", \"believe\", \"believe\", \"believe\", \"bench\", \"benign\", \"benign\", \"benign\", \"bind\", \"bind\", \"biobank\", \"biobank\", \"biobank\", \"blacktown\", \"blaze\", \"blaze\", \"blaze\", \"blaze\", \"bloodstream\", \"bloody\", \"bloody\", \"board\", \"board\", \"board\", \"board\", \"body\", \"body\", \"body\", \"body\", \"body\", \"body\", \"body\", \"bomb\", \"bomb\", \"bondi\", \"bondi\", \"bondi\", \"boroondara\", \"brain\", \"brain\", \"brain\", \"brain\", \"brain\", \"breast\", \"breast\", \"breast\", \"brett\", \"brigham\", \"bronte\", \"brookvale\", \"brown\", \"brown\", \"brown\", \"brown\", \"brown\", \"bulk\", \"bull\", \"bull\", \"bureau\", \"bureau\", \"bureau\", \"burn\", \"burn\", \"burn\", \"burn\", \"burn\", \"burville\", \"bush\", \"bush\", \"bush\", \"bushfire\", \"bushfire\", \"bushfire\", \"bushfire\", \"bushfire\", \"bushfire\", \"bushfire\", \"buying\", \"cabin\", \"cabin\", \"calculate\", \"calculate\", \"camp\", \"camp\", \"camp\", \"cancellation\", \"cancer\", \"cancer\", \"cancer\", \"cancer\", \"cancer\", \"cancer\", \"cancer\", \"canterburybankstown\", \"captivity\", \"capture\", \"capture\", \"capture\", \"capture\", \"capture\", \"capture\", \"capture\", \"carcass\", \"cardiff\", \"case\", \"case\", \"case\", \"case\", \"case\", \"case\", \"case\", \"case\", \"cause\", \"cause\", \"cause\", \"cause\", \"cause\", \"cause\", \"cause\", \"cause\", \"cell\", \"cell\", \"cell\", \"cell\", \"cell\", \"century\", \"century\", \"century\", \"century\", \"change\", \"change\", \"change\", \"change\", \"change\", \"change\", \"change\", \"chatswood\", \"chemical\", \"chemical\", \"chemical\", \"chemical\", \"chemist\", \"chemist\", \"chickenpox\", \"chilling\", \"chilling\", \"china\", \"china\", \"china\", \"china\", \"china\", \"china\", \"china\", \"chinese\", \"chinese\", \"chinese\", \"chinese\", \"christmas\", \"christmas\", \"christmas\", \"city\", \"city\", \"city\", \"city\", \"city\", \"city\", \"city\", \"city\", \"clap\", \"clap\", \"clapping\", \"clarify\", \"clarify\", \"clarify\", \"climate\", \"climate\", \"climate\", \"climate\", \"climate\", \"clinical\", \"clinical\", \"clinical\", \"clinical\", \"clip\", \"clip\", \"clip\", \"clock\", \"clock\", \"clock\", \"closure\", \"closure\", \"closure\", \"cluster\", \"cluster\", \"cluster\", \"coach\", \"coach\", \"coaching\", \"coffee\", \"cohort\", \"cohort\", \"cold\", \"cold\", \"cold\", \"cole\", \"colleague\", \"colleague\", \"colleague\", \"colorado\", \"colorado\", \"combination\", \"combination\", \"combination\", \"come\", \"come\", \"come\", \"come\", \"come\", \"come\", \"come\", \"come\", \"comparison\", \"comparison\", \"comparison\", \"component\", \"component\", \"concentration\", \"concentration\", \"concentration\", \"concentration\", \"condition\", \"condition\", \"condition\", \"condition\", \"condition\", \"condition\", \"condition\", \"condition\", \"conditioning\", \"conditioning\", \"conditionsa\", \"confine\", \"confine\", \"confirm\", \"confirm\", \"confirm\", \"confirm\", \"confirm\", \"confirm\", \"connection\", \"connection\", \"connection\", \"connection\", \"connection\", \"conservation\", \"conservation\", \"conservation\", \"conservation\", \"constance\", \"consular\", \"continuous\", \"contractor\", \"contractor\", \"contractor\", \"cooper\", \"cooper\", \"corona\", \"corona\", \"corona\", \"coronavirus\", \"coronavirus\", \"coronavirus\", \"coronavirus\", \"coronavirus\", \"coronaviruse\", \"coronaviruse\", \"correct\", \"correct\", \"correlate\", \"council\", \"council\", \"council\", \"council\", \"council\", \"council\", \"council\", \"country\", \"country\", \"country\", \"country\", \"country\", \"country\", \"country\", \"country\", \"cramp\", \"cream\", \"create\", \"create\", \"create\", \"create\", \"create\", \"create\", \"create\", \"create\", \"creative\", \"crew\", \"crew\", \"crew\", \"critter\", \"cruise\", \"cruise\", \"cruise\", \"cruise\", \"curator\", \"customer\", \"customer\", \"customer\", \"cyclone\", \"cyclone\", \"darwin\", \"darwin\", \"datum\", \"datum\", \"datum\", \"datum\", \"datum\", \"datum\", \"deadly\", \"deadly\", \"deadly\", \"deadly\", \"deadly\", \"death\", \"death\", \"death\", \"death\", \"death\", \"death\", \"death\", \"debut\", \"debut\", \"debut\", \"decade\", \"decade\", \"decade\", \"decade\", \"decade\", \"decade\", \"definitive\", \"dermatitis\", \"destroy\", \"destroy\", \"destroy\", \"destroy\", \"destroy\", \"devastation\", \"devastation\", \"devil\", \"devil\", \"devil\", \"diagnosis\", \"diagnosis\", \"diagnosis\", \"diagnosis\", \"diagnostic\", \"diagnostic\", \"diamond\", \"diamond\", \"didnat\", \"didnat\", \"didnat\", \"didnat\", \"disaster\", \"disaster\", \"disaster\", \"disaster\", \"disastrous\", \"discharge\", \"discharge\", \"discharge\", \"discharged\", \"discover\", \"discover\", \"discover\", \"discover\", \"discover\", \"discover\", \"discover\", \"disease\", \"disease\", \"disease\", \"disease\", \"disease\", \"disease\", \"disease\", \"disease\", \"disorder\", \"disorder\", \"disorder\", \"displace\", \"distance\", \"distance\", \"distance\", \"distance\", \"distance\", \"distance\", \"distancing\", \"distancing\", \"distancing\", \"distinctive\", \"distinctive\", \"distinctive\", \"distinguish\", \"disturb\", \"disturb\", \"disturb\", \"donald\", \"donald\", \"donald\", \"donald\", \"download\", \"drought\", \"drought\", \"drought\", \"dsilva\", \"dysfunction\", \"eastwood\", \"echo\", \"emission\", \"emission\", \"emission\", \"employer\", \"endanger\", \"energy\", \"energy\", \"energy\", \"energy\", \"engineer\", \"evacuee\", \"evacuee\", \"evacuee\", \"event\", \"event\", \"event\", \"event\", \"event\", \"event\", \"event\", \"exclusive\", \"exclusive\", \"exclusive\", \"exclusive\", \"exclusive\", \"exposure\", \"exposure\", \"exposure\", \"exposure\", \"exposure\", \"exposure\", \"extinction\", \"extinction\", \"extreme\", \"extreme\", \"extreme\", \"extreme\", \"face\", \"face\", \"face\", \"face\", \"face\", \"face\", \"face\", \"facility\", \"facility\", \"facility\", \"facility\", \"facility\", \"faculty\", \"faculty\", \"farne\", \"farnesol\", \"fast\", \"fast\", \"fast\", \"fast\", \"fast\", \"fauna\", \"feel\", \"feel\", \"feel\", \"feel\", \"feel\", \"fever\", \"fever\", \"film\", \"film\", \"film\", \"film\", \"film\", \"film\", \"fine\", \"fine\", \"fine\", \"fine\", \"fine\", \"fireravaged\", \"flexibility\", \"flexibility\", \"flight\", \"flight\", \"flight\", \"flight\", \"flight\", \"flipper\", \"flood\", \"flood\", \"flood\", \"flooding\", \"flooding\", \"flooding\", \"football\", \"football\", \"football\", \"football\", \"forecast\", \"forecast\", \"forecast\", \"forecast\", \"forest\", \"forest\", \"forest\", \"format\", \"freeze\", \"freeze\", \"frequency\", \"frequency\", \"fuel\", \"fuel\", \"fuel\", \"fuel\", \"fuel\", \"geelong\", \"geelong\", \"geelong\", \"gene\", \"gene\", \"gene\", \"genetic\", \"genetic\", \"genetic\", \"genetic\", \"genetic\", \"ghost\", \"glass\", \"glass\", \"glass\", \"gosper\", \"government\", \"government\", \"government\", \"government\", \"government\", \"government\", \"government\", \"government\", \"graphic\", \"graphic\", \"grassland\", \"greg\", \"grey\", \"grey\", \"grey\", \"grid\", \"gridiron\", \"group\", \"group\", \"group\", \"group\", \"group\", \"group\", \"group\", \"group\", \"hand\", \"hand\", \"hand\", \"hand\", \"hand\", \"hand\", \"harmful\", \"harmful\", \"hazard\", \"hazard\", \"hazard\", \"hazelwood\", \"health\", \"health\", \"health\", \"health\", \"health\", \"health\", \"health\", \"health\", \"heart\", \"heart\", \"heart\", \"heart\", \"heart\", \"heart\", \"heartbreaking\", \"heartbreaking\", \"heather\", \"heatrelate\", \"heatwave\", \"hectare\", \"hectare\", \"hectare\", \"hectare\", \"help\", \"help\", \"help\", \"help\", \"help\", \"help\", \"help\", \"help\", \"high\", \"high\", \"high\", \"high\", \"high\", \"high\", \"high\", \"high\", \"highfrequency\", \"history\", \"history\", \"history\", \"history\", \"history\", \"hocking\", \"hocking\", \"home\", \"home\", \"home\", \"home\", \"home\", \"home\", \"home\", \"horby\", \"hormone\", \"hospital\", \"hospital\", \"hospital\", \"hospital\", \"hospital\", \"hospital\", \"hospital\", \"hotspot\", \"hotspot\", \"hotspot\", \"hotspot\", \"hotspot\", \"hough\", \"howard\", \"hubei\", \"hubei\", \"iceberg\", \"ignore\", \"ignore\", \"ignore\", \"ignore\", \"ignore\", \"ignore\", \"image\", \"image\", \"image\", \"image\", \"image\", \"image\", \"image\", \"image\", \"include\", \"include\", \"include\", \"include\", \"include\", \"include\", \"include\", \"include\", \"include\", \"inclusion\", \"inclusive\", \"inclusive\", \"increase\", \"increase\", \"increase\", \"increase\", \"increase\", \"increase\", \"increase\", \"increase\", \"indigenous\", \"indigenous\", \"infect\", \"infect\", \"infect\", \"infection\", \"infection\", \"infection\", \"inferno\", \"inferno\", \"infringement\", \"infringement\", \"inhabit\", \"inhabit\", \"injury\", \"injury\", \"injury\", \"injury\", \"inner\", \"inner\", \"inner\", \"inner\", \"intensive\", \"intensive\", \"interior\", \"interior\", \"interior\", \"internal\", \"internal\", \"internal\", \"islamic\", \"islamic\", \"island\", \"island\", \"island\", \"island\", \"island\", \"issue\", \"issue\", \"issue\", \"issue\", \"issue\", \"issue\", \"issue\", \"jakupovic\", \"japan\", \"japan\", \"japan\", \"japan\", \"japan\", \"jewel\", \"jinpe\", \"kangaroo\", \"kangaroo\", \"kangaroo\", \"kangaroo\", \"know\", \"know\", \"know\", \"know\", \"know\", \"know\", \"know\", \"know\", \"koala\", \"koala\", \"koala\", \"koala\", \"komesaroff\", \"komesaroff\", \"kuringgai\", \"label\", \"label\", \"label\", \"lake\", \"lake\", \"language\", \"language\", \"language\", \"language\", \"language\", \"lawfulness\", \"leader\", \"leader\", \"leader\", \"leave\", \"leave\", \"leave\", \"leave\", \"leave\", \"leave\", \"leave\", \"leave\", \"lecturer\", \"lecturer\", \"lecturer\", \"lecturer\", \"level\", \"level\", \"level\", \"level\", \"level\", \"level\", \"level\", \"lewis\", \"lewis\", \"light\", \"light\", \"light\", \"light\", \"light\", \"light\", \"like\", \"like\", \"like\", \"like\", \"like\", \"like\", \"like\", \"like\", \"liquid\", \"lithium\", \"lithiumion\", \"london\", \"london\", \"london\", \"london\", \"long\", \"long\", \"long\", \"long\", \"long\", \"long\", \"loud\", \"loud\", \"loud\", \"lunch\", \"macintyre\", \"macintyre\", \"mainak\", \"male\", \"male\", \"male\", \"male\", \"male\", \"male\", \"mammal\", \"mammal\", \"mammal\", \"mammal\", \"marine\", \"marine\", \"marine\", \"marini\", \"marker\", \"marker\", \"marriage\", \"marriage\", \"marsupial\", \"marsupial\", \"mask\", \"mask\", \"mask\", \"mask\", \"mask\", \"mass\", \"mass\", \"mass\", \"mass\", \"massachusetts\", \"masse\", \"masse\", \"masse\", \"material\", \"material\", \"material\", \"material\", \"meat\", \"median\", \"median\", \"median\", \"melbourne\", \"melbourne\", \"melbourne\", \"melbourne\", \"melbourne\", \"melbourne\", \"melbourne\", \"melbourne\", \"melbourne\", \"metal\", \"metal\", \"metal\", \"meteorologys\", \"metric\", \"million\", \"million\", \"million\", \"million\", \"million\", \"million\", \"million\", \"million\", \"minister\", \"minister\", \"minister\", \"minister\", \"minister\", \"molecule\", \"molecule\", \"monash\", \"monash\", \"monash\", \"monash\", \"monash\", \"monash\", \"monash\", \"monash\", \"monash\", \"month\", \"month\", \"month\", \"month\", \"month\", \"month\", \"month\", \"moonee\", \"moreland\", \"mornington\", \"morrison\", \"morrison\", \"morrison\", \"morrison\", \"mountain\", \"mountain\", \"mountain\", \"mountain\", \"mouse\", \"mouse\", \"mouse\", \"murdoch\", \"museum\", \"museum\", \"museum\", \"museum\", \"mutate\", \"natasha\", \"natasha\", \"national\", \"national\", \"national\", \"national\", \"national\", \"national\", \"national\", \"nationality\", \"nationality\", \"native\", \"naturally\", \"naturally\", \"need\", \"need\", \"need\", \"need\", \"need\", \"need\", \"need\", \"need\", \"network\", \"network\", \"network\", \"network\", \"network\", \"neville\", \"neville\", \"newcastle\", \"newcastle\", \"newcastle\", \"newcastle\", \"newcastle\", \"newcastle\", \"nicholl\", \"noise\", \"noise\", \"nonprofit\", \"noosa\", \"normal\", \"normal\", \"normal\", \"normal\", \"normal\", \"northern\", \"northern\", \"northern\", \"northern\", \"northern\", \"northern\", \"northern\", \"norwegian\", \"object\", \"object\", \"object\", \"object\", \"obtain\", \"obtain\", \"offensive\", \"offensive\", \"offensive\", \"offthefield\", \"ombudsman\", \"open\", \"open\", \"open\", \"open\", \"open\", \"open\", \"open\", \"opposite\", \"opposite\", \"oregon\", \"organism\", \"organism\", \"organism\", \"outbreak\", \"outbreak\", \"outbreak\", \"outbreak\", \"outer\", \"outer\", \"outlook\", \"outlook\", \"outlook\", \"outsource\", \"owner\", \"owner\", \"owner\", \"parking\", \"parking\", \"parking\", \"particulate\", \"particulate\", \"particulate\", \"party\", \"party\", \"party\", \"party\", \"party\", \"party\", \"passenger\", \"passenger\", \"passenger\", \"passenger\", \"passenger\", \"pasta\", \"patient\", \"patient\", \"patient\", \"patient\", \"patient\", \"peninsula\", \"peninsula\", \"peninsula\", \"peninsula\", \"penrith\", \"people\", \"people\", \"people\", \"people\", \"people\", \"people\", \"people\", \"people\", \"perish\", \"perry\", \"perry\", \"persontoperson\", \"pharmacy\", \"pharmacy\", \"phase\", \"phase\", \"phillip\", \"phillip\", \"phillip\", \"phillip\", \"phone\", \"phone\", \"phone\", \"phone\", \"picture\", \"picture\", \"picture\", \"picture\", \"picture\", \"picture\", \"picture\", \"picture\", \"play\", \"play\", \"play\", \"play\", \"play\", \"play\", \"play\", \"player\", \"player\", \"player\", \"player\", \"player\", \"plume\", \"plume\", \"plume\", \"plunge\", \"pneumonia\", \"pneumonia\", \"pneumonia\", \"police\", \"police\", \"police\", \"police\", \"police\", \"police\", \"pollutant\", \"polluted\", \"polluted\", \"polluted\", \"pollution\", \"pollution\", \"pollution\", \"pollution\", \"pollution\", \"pollution\", \"pollution\", \"pollution\", \"premature\", \"priceline\", \"primary\", \"primary\", \"primary\", \"primary\", \"princess\", \"princess\", \"print\", \"print\", \"produce\", \"produce\", \"produce\", \"produce\", \"produce\", \"produce\", \"produce\", \"produce\", \"professor\", \"professor\", \"professor\", \"professor\", \"professor\", \"professor\", \"professor\", \"projection\", \"projection\", \"projection\", \"prolonged\", \"provide\", \"provide\", \"provide\", \"provide\", \"provide\", \"provide\", \"provide\", \"qanta\", \"qanta\", \"qanta\", \"qualifier\", \"qualifier\", \"qualify\", \"qualify\", \"quality\", \"quality\", \"quality\", \"quality\", \"quality\", \"quality\", \"quality\", \"quarantine\", \"quarantine\", \"quarantine\", \"quarantine\", \"quarterback\", \"queensland\", \"queensland\", \"queensland\", \"queensland\", \"queensland\", \"queensland\", \"queensland\", \"racist\", \"racist\", \"rage\", \"rage\", \"rain\", \"rain\", \"rain\", \"rainfall\", \"rainfall\", \"rashe\", \"ravage\", \"recommendation\", \"recommendation\", \"recommendation\", \"recommendation\", \"reddit\", \"reddit\", \"reduction\", \"reduction\", \"reduction\", \"reduction\", \"reduction\", \"refund\", \"refund\", \"renewable\", \"renewable\", \"report\", \"report\", \"report\", \"report\", \"report\", \"report\", \"report\", \"report\", \"report\", \"research\", \"research\", \"research\", \"research\", \"research\", \"research\", \"research\", \"research\", \"researcher\", \"researcher\", \"researcher\", \"researcher\", \"researcher\", \"researcher\", \"researcher\", \"reset\", \"resource\", \"resource\", \"resource\", \"resource\", \"resource\", \"resource\", \"result\", \"result\", \"result\", \"result\", \"result\", \"result\", \"result\", \"review\", \"review\", \"review\", \"review\", \"review\", \"rhythm\", \"rhythm\", \"rich\", \"rich\", \"rich\", \"rich\", \"right\", \"right\", \"right\", \"right\", \"right\", \"right\", \"right\", \"right\", \"right\", \"risk\", \"risk\", \"risk\", \"risk\", \"risk\", \"risk\", \"riskiest\", \"river\", \"river\", \"route\", \"route\", \"route\", \"rubberstamp\", \"ruby\", \"ruby\", \"sanitiser\", \"satellite\", \"satellite\", \"school\", \"school\", \"school\", \"school\", \"school\", \"science\", \"science\", \"science\", \"science\", \"science\", \"science\", \"science\", \"science\", \"scientist\", \"scientist\", \"scientist\", \"scientist\", \"scientist\", \"scientist\", \"scientist\", \"scientist\", \"score\", \"score\", \"score\", \"score\", \"score\", \"scout\", \"seafood\", \"seafood\", \"seal\", \"seal\", \"seal\", \"seal\", \"season\", \"season\", \"season\", \"season\", \"season\", \"season\", \"section\", \"section\", \"section\", \"security\", \"security\", \"sell\", \"sell\", \"sell\", \"sensitivity\", \"sensitivity\", \"sensitivity\", \"servant\", \"servant\", \"shelf\", \"shelf\", \"shelter\", \"shelter\", \"shelter\", \"shift\", \"shift\", \"shift\", \"shift\", \"ship\", \"ship\", \"ship\", \"skiing\", \"skiing\", \"skin\", \"skin\", \"sleep\", \"sleep\", \"sleep\", \"slovenian\", \"smoke\", \"smoke\", \"smoke\", \"smoke\", \"smoke\", \"smoke\", \"smoke\", \"snake\", \"sneeze\", \"solar\", \"solar\", \"solar\", \"sound\", \"sound\", \"sound\", \"sound\", \"source\", \"source\", \"source\", \"source\", \"source\", \"source\", \"source\", \"south\", \"south\", \"south\", \"south\", \"south\", \"south\", \"specialized\", \"specialized\", \"specie\", \"specie\", \"specie\", \"spread\", \"spread\", \"spread\", \"spread\", \"spread\", \"spread\", \"state\", \"state\", \"state\", \"state\", \"state\", \"state\", \"state\", \"state\", \"state\", \"staterun\", \"stonnington\", \"stonnington\", \"stonnington\", \"stop\", \"stop\", \"stop\", \"stop\", \"stop\", \"stop\", \"store\", \"store\", \"store\", \"store\", \"store\", \"storm\", \"storm\", \"storm\", \"strategic\", \"stressful\", \"stressful\", \"stricken\", \"stricken\", \"structure\", \"structure\", \"structure\", \"student\", \"student\", \"student\", \"student\", \"study\", \"study\", \"study\", \"study\", \"study\", \"study\", \"study\", \"suburb\", \"suburb\", \"suburb\", \"suburb\", \"suburb\", \"summer\", \"summer\", \"summer\", \"summer\", \"superpower\", \"supply\", \"supply\", \"supply\", \"supply\", \"surplus\", \"surprising\", \"surprising\", \"surprising\", \"surrogate\", \"surveillance\", \"survey\", \"survey\", \"sutherland\", \"sutton\", \"sydney\", \"sydney\", \"sydney\", \"sydney\", \"sydney\", \"sydney\", \"sydney\", \"sydney\", \"sydneys\", \"symptom\", \"symptom\", \"symptom\", \"symptom\", \"symptom\", \"syndrome\", \"syndrome\", \"syndrome\", \"table\", \"table\", \"table\", \"table\", \"table\", \"target\", \"target\", \"target\", \"target\", \"target\", \"target\", \"taronga\", \"teacher\", \"team\", \"team\", \"team\", \"team\", \"team\", \"team\", \"team\", \"team\", \"tear\", \"tear\", \"technique\", \"technique\", \"technique\", \"technology\", \"technology\", \"technology\", \"technology\", \"technology\", \"technology\", \"technology\", \"technology\", \"tell\", \"tell\", \"tell\", \"tell\", \"tell\", \"tell\", \"tell\", \"temperature\", \"temperature\", \"temperature\", \"temperature\", \"temperature\", \"temperature\", \"tenix\", \"tennis\", \"tennis\", \"tennis\", \"tennis\", \"test\", \"test\", \"test\", \"test\", \"test\", \"test\", \"test\", \"thailand\", \"thailand\", \"think\", \"think\", \"think\", \"think\", \"think\", \"think\", \"think\", \"think\", \"thisa\", \"thisa\", \"thursday\", \"thursday\", \"thursday\", \"thursday\", \"thursday\", \"time\", \"time\", \"time\", \"time\", \"time\", \"time\", \"time\", \"time\", \"time\", \"title\", \"title\", \"title\", \"title\", \"title\", \"tonne\", \"tonne\", \"toorak\", \"toorak\", \"toothpaste\", \"tournament\", \"tournament\", \"tournament\", \"tournament\", \"tower\", \"tower\", \"trade\", \"trade\", \"trade\", \"tradition\", \"tradition\", \"transmissibility\", \"travel\", \"travel\", \"travel\", \"travel\", \"travel\", \"travel\", \"travel\", \"travel\", \"treat\", \"treat\", \"treat\", \"treat\", \"treat\", \"treat\", \"treat\", \"tunnel\", \"tunnel\", \"turner\", \"underwater\", \"underwater\", \"university\", \"university\", \"university\", \"university\", \"university\", \"university\", \"university\", \"university\", \"unlawfully\", \"value\", \"value\", \"value\", \"value\", \"value\", \"variability\", \"vehicle\", \"vehicle\", \"vehicle\", \"vehicle\", \"victoria\", \"victoria\", \"victoria\", \"victoria\", \"victoria\", \"victoria\", \"victoria\", \"victoria\", \"victorian\", \"victorian\", \"victorian\", \"video\", \"video\", \"video\", \"video\", \"video\", \"video\", \"violent\", \"violent\", \"virologist\", \"virology\", \"virus\", \"virus\", \"virus\", \"virus\", \"volcano\", \"volcano\", \"volcano\", \"warehouse\", \"warming\", \"warrior\", \"water\", \"water\", \"water\", \"water\", \"water\", \"wave\", \"waverley\", \"waverley\", \"waverley\", \"wealthy\", \"wealthy\", \"wealthy\", \"wear\", \"wear\", \"wear\", \"wear\", \"weather\", \"weather\", \"weather\", \"weather\", \"weather\", \"weather\", \"weatherzone\", \"week\", \"week\", \"week\", \"week\", \"week\", \"week\", \"week\", \"week\", \"wenliang\", \"widodo\", \"widodo\", \"wild\", \"wild\", \"wild\", \"wild\", \"wild\", \"wild\", \"wildfire\", \"wildfire\", \"wildfire\", \"wildfire\", \"wildfire\", \"wind\", \"wind\", \"wind\", \"wind\", \"wine\", \"wine\", \"wine\", \"woman\", \"woman\", \"woman\", \"woman\", \"woman\", \"woman\", \"woman\", \"woman\", \"woollahra\", \"woollahra\", \"woollahra\", \"work\", \"work\", \"work\", \"work\", \"work\", \"work\", \"work\", \"world\", \"world\", \"world\", \"world\", \"world\", \"world\", \"world\", \"world\", \"world\", \"write\", \"write\", \"write\", \"write\", \"write\", \"write\", \"write\", \"write\", \"wuhan\", \"wuhan\", \"wuhan\", \"wuhan\", \"wwfaustralia\", \"wyndham\", \"xinhua\", \"xinhua\", \"yanzhong\", \"yarra\", \"yarra\", \"year\", \"year\", \"year\", \"year\", \"year\", \"year\", \"year\", \"year\", \"yokohama\", \"yokohama\"]}, \"R\": 30, \"lambda.step\": 0.01, \"plot.opts\": {\"xlab\": \"PC1\", \"ylab\": \"PC2\"}, \"topic.order\": [4, 8, 3, 1, 5, 6, 9, 2, 10, 7]};\n",
       "\n",
       "function LDAvis_load_lib(url, callback){\n",
       "  var s = document.createElement('script');\n",
       "  s.src = url;\n",
       "  s.async = true;\n",
       "  s.onreadystatechange = s.onload = callback;\n",
       "  s.onerror = function(){console.warn(\"failed to load library \" + url);};\n",
       "  document.getElementsByTagName(\"head\")[0].appendChild(s);\n",
       "}\n",
       "\n",
       "if(typeof(LDAvis) !== \"undefined\"){\n",
       "   // already loaded: just create the visualization\n",
       "   !function(LDAvis){\n",
       "       new LDAvis(\"#\" + \"ldavis_el50381404242009509923597363412\", ldavis_el50381404242009509923597363412_data);\n",
       "   }(LDAvis);\n",
       "}else if(typeof define === \"function\" && define.amd){\n",
       "   // require.js is available: use it to load d3/LDAvis\n",
       "   require.config({paths: {d3: \"https://d3js.org/d3.v5\"}});\n",
       "   require([\"d3\"], function(d3){\n",
       "      window.d3 = d3;\n",
       "      LDAvis_load_lib(\"https://cdn.jsdelivr.net/gh/bmabey/pyLDAvis@3.2.2/pyLDAvis/js/ldavis.v3.0.0.js\", function(){\n",
       "        new LDAvis(\"#\" + \"ldavis_el50381404242009509923597363412\", ldavis_el50381404242009509923597363412_data);\n",
       "      });\n",
       "    });\n",
       "}else{\n",
       "    // require.js not available: dynamically load d3 & LDAvis\n",
       "    LDAvis_load_lib(\"https://d3js.org/d3.v5.js\", function(){\n",
       "         LDAvis_load_lib(\"https://cdn.jsdelivr.net/gh/bmabey/pyLDAvis@3.2.2/pyLDAvis/js/ldavis.v3.0.0.js\", function(){\n",
       "                 new LDAvis(\"#\" + \"ldavis_el50381404242009509923597363412\", ldavis_el50381404242009509923597363412_data);\n",
       "            })\n",
       "         });\n",
       "}\n",
       "</script>"
      ],
      "text/plain": [
       "PreparedData(topic_coordinates=               x          y  topics  cluster       Freq\n",
       "topic                                                  \n",
       "3      32.420952   8.115230       1        1  40.293064\n",
       "7       0.648955  71.707100       2        1  27.503786\n",
       "2      71.019684   9.971006       3        1  10.943838\n",
       "0       3.785981  33.185135       4        1   7.119210\n",
       "4     -42.666500  -9.222070       5        1   4.814927\n",
       "5      -3.621689 -43.526516       6        1   4.130082\n",
       "8      -3.632402  -4.171708       7        1   2.834790\n",
       "1     -36.584400  35.804413       8        1   1.618509\n",
       "9      44.391380  50.615383       9        1   0.715067\n",
       "6      40.235809 -31.591665      10        1   0.026727, topic_info=             Term         Freq        Total Category  logprob  loglift\n",
       "910   coronavirus  1551.000000  1551.000000  Default  30.0000  30.0000\n",
       "4103        virus  1064.000000  1064.000000  Default  29.0000  29.0000\n",
       "299     australia  1769.000000  1769.000000  Default  28.0000  28.0000\n",
       "584          case   893.000000   893.000000  Default  27.0000  27.0000\n",
       "2766       people  1470.000000  1470.000000  Default  26.0000  26.0000\n",
       "...           ...          ...          ...      ...      ...      ...\n",
       "764          come     0.016850   394.184237  Topic10  -7.6795  -1.8330\n",
       "4236        world     0.016621   364.038996  Topic10  -7.6932  -1.7671\n",
       "2661     outbreak     0.016776   442.725326  Topic10  -7.6839  -1.9535\n",
       "3605        state     0.016370   317.026070  Topic10  -7.7084  -1.6440\n",
       "4014   university     0.016758   708.853979  Topic10  -7.6850  -2.4253\n",
       "\n",
       "[730 rows x 6 columns], token_table=      Topic      Freq         Term\n",
       "term                              \n",
       "2         2  0.279835         aany\n",
       "2         7  0.279835         aany\n",
       "2         9  0.279835         aany\n",
       "5         1  0.066360  abercrombie\n",
       "5         5  0.066360  abercrombie\n",
       "...     ...       ...          ...\n",
       "4260      6  0.127011         year\n",
       "4260      7  0.046571         year\n",
       "4260      9  0.008467         year\n",
       "4269      1  0.977297     yokohama\n",
       "4269      2  0.011634     yokohama\n",
       "\n",
       "[1942 rows x 3 columns], R=30, lambda_step=0.01, plot_opts={'xlab': 'PC1', 'ylab': 'PC2'}, topic_order=[4, 8, 3, 1, 5, 6, 9, 2, 10, 7])"
      ]
     },
     "execution_count": 80,
     "metadata": {},
     "output_type": "execute_result"
    }
   ],
   "source": [
    "# Creating the countvectorizer \n",
    "vectorizer = CountVectorizer(analyzer='word',       \n",
    "                             min_df=3,                       \n",
    "                             stop_words='english',             \n",
    "                             lowercase=True,                   \n",
    "                             token_pattern='[a-zA-Z0-9]{3,}',  \n",
    "                             max_features=5000, #keep only 5000 words to count          \n",
    "                            )\n",
    "\n",
    "# fit and transform the data using count vectorizer\n",
    "data_vectorized = vectorizer.fit_transform(df_clean)\n",
    "\n",
    "# create the lda model\n",
    "lda_model = LatentDirichletAllocation(n_components=10, # Number of topics\n",
    "                                      learning_method='online',\n",
    "                                      random_state=0,       \n",
    "                                      n_jobs = -1  # Use all available CPUs\n",
    "                                     )\n",
    "# fit and transform the lda model\n",
    "lda_output = lda_model.fit_transform(data_vectorized)\n",
    "\n",
    "# plot the topic \n",
    "pyLDAvis.enable_notebook()\n",
    "pyLDAvis.sklearn.prepare(lda_model, data_vectorized, vectorizer, mds='tsne')"
   ]
  },
  {
   "cell_type": "markdown",
   "metadata": {},
   "source": [
    "#### LDAvis Interpretation:\n",
    "* The light blue indicates the overall freqency of words in the entire document.\n",
    "* The red indicaes the frequency of words within the particual topic. \n",
    "\n",
    "#### Lambda Interpretation:\n",
    "* If the lambda value is 0, it indicates how excusive the word is in all the topics.\n",
    "* As we increase the value of, it indicates how probable a word is to appear in a all topics.\n"
   ]
  },
  {
   "cell_type": "markdown",
   "metadata": {},
   "source": [
    "#### Topic Distribution"
   ]
  },
  {
   "cell_type": "code",
   "execution_count": 81,
   "metadata": {},
   "outputs": [
    {
     "data": {
      "text/html": [
       "<div>\n",
       "<style scoped>\n",
       "    .dataframe tbody tr th:only-of-type {\n",
       "        vertical-align: middle;\n",
       "    }\n",
       "\n",
       "    .dataframe tbody tr th {\n",
       "        vertical-align: top;\n",
       "    }\n",
       "\n",
       "    .dataframe thead th {\n",
       "        text-align: right;\n",
       "    }\n",
       "</style>\n",
       "<table border=\"1\" class=\"dataframe\">\n",
       "  <thead>\n",
       "    <tr style=\"text-align: right;\">\n",
       "      <th></th>\n",
       "      <th>Word 0</th>\n",
       "      <th>Word 1</th>\n",
       "      <th>Word 2</th>\n",
       "      <th>Word 3</th>\n",
       "      <th>Word 4</th>\n",
       "      <th>Word 5</th>\n",
       "      <th>Word 6</th>\n",
       "      <th>Word 7</th>\n",
       "      <th>Word 8</th>\n",
       "      <th>Word 9</th>\n",
       "      <th>Word 10</th>\n",
       "      <th>Word 11</th>\n",
       "      <th>Word 12</th>\n",
       "      <th>Word 13</th>\n",
       "      <th>Word 14</th>\n",
       "      <th>Word 15</th>\n",
       "      <th>Word 16</th>\n",
       "    </tr>\n",
       "  </thead>\n",
       "  <tbody>\n",
       "    <tr>\n",
       "      <th>Topic 0</th>\n",
       "      <td>area</td>\n",
       "      <td>patient</td>\n",
       "      <td>study</td>\n",
       "      <td>cancer</td>\n",
       "      <td>datum</td>\n",
       "      <td>brain</td>\n",
       "      <td>analysis</td>\n",
       "      <td>result</td>\n",
       "      <td>level</td>\n",
       "      <td>connection</td>\n",
       "      <td>value</td>\n",
       "      <td>benign</td>\n",
       "      <td>include</td>\n",
       "      <td>test</td>\n",
       "      <td>woman</td>\n",
       "      <td>battery</td>\n",
       "      <td>author</td>\n",
       "    </tr>\n",
       "    <tr>\n",
       "      <th>Topic 1</th>\n",
       "      <td>coronavirus</td>\n",
       "      <td>aspen</td>\n",
       "      <td>beach</td>\n",
       "      <td>woman</td>\n",
       "      <td>party</td>\n",
       "      <td>case</td>\n",
       "      <td>group</td>\n",
       "      <td>suburb</td>\n",
       "      <td>virus</td>\n",
       "      <td>sydney</td>\n",
       "      <td>melbourne</td>\n",
       "      <td>northern</td>\n",
       "      <td>australia</td>\n",
       "      <td>bondi</td>\n",
       "      <td>people</td>\n",
       "      <td>cluster</td>\n",
       "      <td>stonnington</td>\n",
       "    </tr>\n",
       "    <tr>\n",
       "      <th>Topic 2</th>\n",
       "      <td>university</td>\n",
       "      <td>work</td>\n",
       "      <td>time</td>\n",
       "      <td>like</td>\n",
       "      <td>researcher</td>\n",
       "      <td>year</td>\n",
       "      <td>woman</td>\n",
       "      <td>australia</td>\n",
       "      <td>world</td>\n",
       "      <td>people</td>\n",
       "      <td>feel</td>\n",
       "      <td>need</td>\n",
       "      <td>cell</td>\n",
       "      <td>sleep</td>\n",
       "      <td>monash</td>\n",
       "      <td>technology</td>\n",
       "      <td>help</td>\n",
       "    </tr>\n",
       "    <tr>\n",
       "      <th>Topic 3</th>\n",
       "      <td>australia</td>\n",
       "      <td>coronavirus</td>\n",
       "      <td>australian</td>\n",
       "      <td>people</td>\n",
       "      <td>health</td>\n",
       "      <td>china</td>\n",
       "      <td>south</td>\n",
       "      <td>ship</td>\n",
       "      <td>flight</td>\n",
       "      <td>virus</td>\n",
       "      <td>case</td>\n",
       "      <td>passenger</td>\n",
       "      <td>week</td>\n",
       "      <td>tell</td>\n",
       "      <td>picture</td>\n",
       "      <td>cruise</td>\n",
       "      <td>quarantine</td>\n",
       "    </tr>\n",
       "    <tr>\n",
       "      <th>Topic 4</th>\n",
       "      <td>australia</td>\n",
       "      <td>specie</td>\n",
       "      <td>coach</td>\n",
       "      <td>university</td>\n",
       "      <td>year</td>\n",
       "      <td>research</td>\n",
       "      <td>marsupial</td>\n",
       "      <td>marini</td>\n",
       "      <td>mountain</td>\n",
       "      <td>scientist</td>\n",
       "      <td>water</td>\n",
       "      <td>australian</td>\n",
       "      <td>cell</td>\n",
       "      <td>national</td>\n",
       "      <td>mouse</td>\n",
       "      <td>like</td>\n",
       "      <td>monash</td>\n",
       "    </tr>\n",
       "    <tr>\n",
       "      <th>Topic 5</th>\n",
       "      <td>bushfire</td>\n",
       "      <td>climate</td>\n",
       "      <td>australia</td>\n",
       "      <td>smoke</td>\n",
       "      <td>change</td>\n",
       "      <td>year</td>\n",
       "      <td>weather</td>\n",
       "      <td>south</td>\n",
       "      <td>season</td>\n",
       "      <td>burn</td>\n",
       "      <td>summer</td>\n",
       "      <td>temperature</td>\n",
       "      <td>extreme</td>\n",
       "      <td>condition</td>\n",
       "      <td>quality</td>\n",
       "      <td>rain</td>\n",
       "      <td>flood</td>\n",
       "    </tr>\n",
       "    <tr>\n",
       "      <th>Topic 6</th>\n",
       "      <td>people</td>\n",
       "      <td>virus</td>\n",
       "      <td>wuhan</td>\n",
       "      <td>australia</td>\n",
       "      <td>china</td>\n",
       "      <td>coronavirus</td>\n",
       "      <td>animal</td>\n",
       "      <td>case</td>\n",
       "      <td>infect</td>\n",
       "      <td>week</td>\n",
       "      <td>australian</td>\n",
       "      <td>spread</td>\n",
       "      <td>health</td>\n",
       "      <td>patient</td>\n",
       "      <td>disease</td>\n",
       "      <td>government</td>\n",
       "      <td>confirm</td>\n",
       "    </tr>\n",
       "    <tr>\n",
       "      <th>Topic 7</th>\n",
       "      <td>coronavirus</td>\n",
       "      <td>virus</td>\n",
       "      <td>people</td>\n",
       "      <td>china</td>\n",
       "      <td>case</td>\n",
       "      <td>australia</td>\n",
       "      <td>wuhan</td>\n",
       "      <td>chinese</td>\n",
       "      <td>mask</td>\n",
       "      <td>spread</td>\n",
       "      <td>outbreak</td>\n",
       "      <td>health</td>\n",
       "      <td>confirm</td>\n",
       "      <td>symptom</td>\n",
       "      <td>student</td>\n",
       "      <td>test</td>\n",
       "      <td>patient</td>\n",
       "    </tr>\n",
       "    <tr>\n",
       "      <th>Topic 8</th>\n",
       "      <td>smoke</td>\n",
       "      <td>council</td>\n",
       "      <td>burn</td>\n",
       "      <td>pollution</td>\n",
       "      <td>fine</td>\n",
       "      <td>player</td>\n",
       "      <td>review</td>\n",
       "      <td>wildfire</td>\n",
       "      <td>issue</td>\n",
       "      <td>melbourne</td>\n",
       "      <td>city</td>\n",
       "      <td>play</td>\n",
       "      <td>exposure</td>\n",
       "      <td>million</td>\n",
       "      <td>reduction</td>\n",
       "      <td>tournament</td>\n",
       "      <td>risk</td>\n",
       "    </tr>\n",
       "    <tr>\n",
       "      <th>Topic 9</th>\n",
       "      <td>cancer</td>\n",
       "      <td>seal</td>\n",
       "      <td>clap</td>\n",
       "      <td>study</td>\n",
       "      <td>university</td>\n",
       "      <td>time</td>\n",
       "      <td>grey</td>\n",
       "      <td>male</td>\n",
       "      <td>researcher</td>\n",
       "      <td>energy</td>\n",
       "      <td>monash</td>\n",
       "      <td>cell</td>\n",
       "      <td>breast</td>\n",
       "      <td>band</td>\n",
       "      <td>burville</td>\n",
       "      <td>spread</td>\n",
       "      <td>heart</td>\n",
       "    </tr>\n",
       "  </tbody>\n",
       "</table>\n",
       "</div>"
      ],
      "text/plain": [
       "              Word 0       Word 1      Word 2      Word 3      Word 4  \\\n",
       "Topic 0         area      patient       study      cancer       datum   \n",
       "Topic 1  coronavirus        aspen       beach       woman       party   \n",
       "Topic 2   university         work        time        like  researcher   \n",
       "Topic 3    australia  coronavirus  australian      people      health   \n",
       "Topic 4    australia       specie       coach  university        year   \n",
       "Topic 5     bushfire      climate   australia       smoke      change   \n",
       "Topic 6       people        virus       wuhan   australia       china   \n",
       "Topic 7  coronavirus        virus      people       china        case   \n",
       "Topic 8        smoke      council        burn   pollution        fine   \n",
       "Topic 9       cancer         seal        clap       study  university   \n",
       "\n",
       "              Word 5     Word 6     Word 7      Word 8      Word 9  \\\n",
       "Topic 0        brain   analysis     result       level  connection   \n",
       "Topic 1         case      group     suburb       virus      sydney   \n",
       "Topic 2         year      woman  australia       world      people   \n",
       "Topic 3        china      south       ship      flight       virus   \n",
       "Topic 4     research  marsupial     marini    mountain   scientist   \n",
       "Topic 5         year    weather      south      season        burn   \n",
       "Topic 6  coronavirus     animal       case      infect        week   \n",
       "Topic 7    australia      wuhan    chinese        mask      spread   \n",
       "Topic 8       player     review   wildfire       issue   melbourne   \n",
       "Topic 9         time       grey       male  researcher      energy   \n",
       "\n",
       "            Word 10      Word 11    Word 12    Word 13    Word 14     Word 15  \\\n",
       "Topic 0       value       benign    include       test      woman     battery   \n",
       "Topic 1   melbourne     northern  australia      bondi     people     cluster   \n",
       "Topic 2        feel         need       cell      sleep     monash  technology   \n",
       "Topic 3        case    passenger       week       tell    picture      cruise   \n",
       "Topic 4       water   australian       cell   national      mouse        like   \n",
       "Topic 5      summer  temperature    extreme  condition    quality        rain   \n",
       "Topic 6  australian       spread     health    patient    disease  government   \n",
       "Topic 7    outbreak       health    confirm    symptom    student        test   \n",
       "Topic 8        city         play   exposure    million  reduction  tournament   \n",
       "Topic 9      monash         cell     breast       band   burville      spread   \n",
       "\n",
       "             Word 16  \n",
       "Topic 0       author  \n",
       "Topic 1  stonnington  \n",
       "Topic 2         help  \n",
       "Topic 3   quarantine  \n",
       "Topic 4       monash  \n",
       "Topic 5        flood  \n",
       "Topic 6      confirm  \n",
       "Topic 7      patient  \n",
       "Topic 8         risk  \n",
       "Topic 9        heart  "
      ]
     },
     "execution_count": 81,
     "metadata": {},
     "output_type": "execute_result"
    }
   ],
   "source": [
    "# Get the topics Distribution\n",
    "def show_topics(vectorizer=vectorizer, lda_model=lda_model, n_words=15):\n",
    "    keywords = np.array(vectorizer.get_feature_names())\n",
    "    topic_keywords = []\n",
    "    for topic_weights in lda_model.components_:\n",
    "        top_keyword_locs = (-topic_weights).argsort()[:n_words]\n",
    "        topic_keywords.append(keywords.take(top_keyword_locs))\n",
    "    return topic_keywords\n",
    "\n",
    "topic_keywords_lda = show_topics(vectorizer=vectorizer, lda_model=lda_model, n_words=17)\n",
    "\n",
    "df_topic_keywords_lda = pd.DataFrame(topic_keywords_lda)\n",
    "df_topic_keywords_lda.columns = ['Word '+str(i) for i in range(df_topic_keywords_lda.shape[1])]\n",
    "df_topic_keywords_lda.index = ['Topic '+str(i) for i in range(df_topic_keywords_lda.shape[0])]\n",
    "df_topic_keywords_lda"
   ]
  },
  {
   "cell_type": "markdown",
   "metadata": {},
   "source": [
    "#### Most Dominant Topics"
   ]
  },
  {
   "cell_type": "code",
   "execution_count": 82,
   "metadata": {},
   "outputs": [
    {
     "name": "stdout",
     "output_type": "stream",
     "text": [
      "                                           body_clean  dominant_topic\n",
      "0    canberra  experienced  worst  quality  record...               3\n",
      "1         dawn broke over  blackened australian la...               3\n",
      "2    your babys brain  body grow   during  first  ...               2\n",
      "3    living  polluted cities  make your bones weak...               0\n",
      "4    researchers have developed   battery they cla...               0\n",
      "5    scientists have discovered  specific protein ...               2\n",
      "6    washington   xinhua   international team iden...               2\n",
      "7       published     aedt  january          updat...               3\n",
      "8    while firefighters  celebrating  reprieve thi...               5\n",
      "9    washington urdupoint  pakistan point news    ...               2\n",
      "10       rework  particle bonds  sulfur cathodes  ...               2\n",
      "11      published                 updated         ...               5\n",
      "12    terrifying image shows  devastation caused  ...               5\n",
      "13    thing   desire from  smartphones today  that...               0\n",
      "14   scientists have created what they    worlds m...               0\n"
     ]
    }
   ],
   "source": [
    "# Create Document - Topic Matrix\n",
    "lda_output = lda_model.transform(data_vectorized)\n",
    "\n",
    "# Return Most dominant topic:\n",
    "def most_dominant(model_output, df_topic_keywords, df_clean = df, col = 'body_clean'):\n",
    "    # column names\n",
    "    topicnames = df_topic_keywords.T.columns\n",
    "\n",
    "    # index names\n",
    "    docnames = [\"Doc\" + str(i) for i in range(len(df_clean))]\n",
    "\n",
    "    # Make the pandas dataframe\n",
    "    df_document_topic = pd.DataFrame(np.round(model_output, 2), columns=topicnames, index=docnames)\n",
    "\n",
    "    # Get dominant topic for each document\n",
    "    dominant_topic = np.argmax(df_document_topic.values, axis=1)\n",
    "    df_document_topic['dominant_topic'] = dominant_topic\n",
    "\n",
    "    df_document_topic.reset_index(inplace=True)\n",
    "    df_sent_topic= pd.merge(df_clean, df_document_topic, left_index=True, right_index=True)\n",
    "    df_sent_topic.drop('index', axis=1, inplace=True)\n",
    "\n",
    "    df_topic_theme = df_sent_topic[[col, 'dominant_topic']]\n",
    "\n",
    "    print(df_topic_theme.head(15))\n",
    "    return(df_topic_theme)\n",
    "#run function\n",
    "df_topic_theme_lda = most_dominant(lda_output, df_topic_keywords_lda)"
   ]
  },
  {
   "cell_type": "markdown",
   "metadata": {},
   "source": [
    "#### Second run on LDAvis"
   ]
  },
  {
   "cell_type": "code",
   "execution_count": 83,
   "metadata": {},
   "outputs": [
    {
     "data": {
      "text/html": [
       "\n",
       "<link rel=\"stylesheet\" type=\"text/css\" href=\"https://cdn.jsdelivr.net/gh/bmabey/pyLDAvis@3.2.2/pyLDAvis/js/ldavis.v1.0.0.css\">\n",
       "\n",
       "\n",
       "<div id=\"ldavis_el50381404241746512167655654451\"></div>\n",
       "<script type=\"text/javascript\">\n",
       "\n",
       "var ldavis_el50381404241746512167655654451_data = {\"mdsDat\": {\"x\": [1.425140142440796, 93.69695281982422, 141.6940155029297, -126.23350524902344, -59.868133544921875, 151.9666290283203, 12.54269027709961, 49.37258529663086, 203.50599670410156, 119.92347717285156, -19.31559181213379, -95.84105682373047, 37.55474853515625, 243.64891052246094], \"y\": [-203.13143920898438, -55.01815414428711, 25.3204288482666, 5.739787578582764, 101.51930236816406, 133.119140625, -101.44165802001953, 57.773475646972656, -84.54183959960938, -166.0689697265625, -8.882428169250488, -109.37347412109375, 165.05709838867188, 32.73354721069336], \"topics\": [1, 2, 3, 4, 5, 6, 7, 8, 9, 10, 11, 12, 13, 14], \"cluster\": [1, 1, 1, 1, 1, 1, 1, 1, 1, 1, 1, 1, 1, 1], \"Freq\": [40.084976242561716, 22.87849359687008, 21.745621306834824, 3.991373835242018, 3.842919427761841, 3.6909551817074537, 1.5188147976167121, 0.9135336693835721, 0.6950584840865581, 0.4978852239565474, 0.0830972053059669, 0.019090343239279082, 0.019090342792247892, 0.019090342641186274]}, \"tinfo\": {\"Term\": [\"coronavirus\", \"virus\", \"university\", \"work\", \"people\", \"area\", \"patient\", \"health\", \"woman\", \"case\", \"australia\", \"sydney\", \"melbourne\", \"australian\", \"city\", \"government\", \"study\", \"south\", \"include\", \"test\", \"wuhan\", \"china\", \"spread\", \"officer\", \"issue\", \"school\", \"year\", \"research\", \"aedt\", \"cancer\", \"yokohama\", \"evacuee\", \"darwin\", \"auckland\", \"qanta\", \"howard\", \"teacher\", \"tokyo\", \"sutton\", \"confine\", \"airline\", \"cabin\", \"dsilva\", \"norwegian\", \"immigration\", \"bali\", \"princess\", \"macintyre\", \"brett\", \"jewel\", \"camp\", \"reasonable\", \"diamond\", \"jeannette\", \"route\", \"komesaroff\", \"jetstar\", \"employer\", \"prison\", \"cleaner\", \"ship\", \"passenger\", \"board\", \"flight\", \"intensive\", \"christmas\", \"detention\", \"cruise\", \"crew\", \"reporter\", \"quarantine\", \"school\", \"arrive\", \"island\", \"facility\", \"japan\", \"advice\", \"gold\", \"hunt\", \"minister\", \"positive\", \"picture\", \"health\", \"australian\", \"queensland\", \"coronavirus\", \"australia\", \"isolation\", \"test\", \"thursday\", \"hospital\", \"china\", \"travel\", \"south\", \"people\", \"medical\", \"wuhan\", \"case\", \"week\", \"virus\", \"confirm\", \"home\", \"sydney\", \"government\", \"tell\", \"chinese\", \"student\", \"warehouse\", \"coronaviruse\", \"priceline\", \"pharmacy\", \"eastwood\", \"cole\", \"sanitiser\", \"shelf\", \"pasta\", \"buying\", \"corona\", \"virologist\", \"camel\", \"bulk\", \"snake\", \"virology\", \"turner\", \"chemist\", \"iceberg\", \"horby\", \"mutate\", \"yang\", \"cooper\", \"teaching\", \"approximately\", \"chatswood\", \"pharmaceutical\", \"syndrome\", \"wenliang\", \"pharmacist\", \"sell\", \"racist\", \"supermarket\", \"store\", \"owner\", \"seafood\", \"woolworth\", \"customer\", \"pneumonia\", \"mask\", \"package\", \"panic\", \"hand\", \"virus\", \"spread\", \"cold\", \"toilet\", \"stock\", \"supply\", \"face\", \"outbreak\", \"chinese\", \"symptom\", \"coronavirus\", \"people\", \"case\", \"food\", \"china\", \"student\", \"wuhan\", \"death\", \"wear\", \"animal\", \"market\", \"confirm\", \"australia\", \"infect\", \"university\", \"disease\", \"week\", \"tell\", \"report\", \"health\", \"city\", \"travel\", \"south\", \"include\", \"government\", \"climate\", \"emission\", \"sleep\", \"burn\", \"drought\", \"smoke\", \"blaze\", \"forest\", \"hectare\", \"cyclone\", \"heatwave\", \"flood\", \"wildfire\", \"australiaas\", \"mountain\", \"lake\", \"nasa\", \"clarke\", \"warming\", \"devastation\", \"nicholl\", \"vegetation\", \"violence\", \"gender\", \"landscape\", \"acre\", \"outlook\", \"flooding\", \"ravage\", \"harassment\", \"rural\", \"hazard\", \"bushfire\", \"destroy\", \"tournament\", \"summer\", \"disaster\", \"wind\", \"tennis\", \"clock\", \"shift\", \"season\", \"quality\", \"domestic\", \"weather\", \"change\", \"year\", \"peak\", \"athe\", \"leader\", \"event\", \"light\", \"time\", \"impact\", \"monash\", \"like\", \"month\", \"australia\", \"university\", \"woman\", \"feel\", \"write\", \"work\", \"increase\", \"million\", \"australian\", \"open\", \"people\", \"long\", \"help\", \"need\", \"country\", \"world\", \"south\", \"risk\", \"area\", \"state\", \"home\", \"know\", \"early\", \"tell\", \"government\", \"cancer\", \"benign\", \"masse\", \"clap\", \"breast\", \"cohort\", \"versus\", \"participant\", \"referral\", \"burville\", \"marker\", \"diagnostic\", \"dysfunction\", \"combination\", \"flipper\", \"sensitivity\", \"noise\", \"grey\", \"chemotherapy\", \"farne\", \"clapping\", \"discriminate\", \"clinical\", \"correlate\", \"scholarship\", \"concentration\", \"highgrade\", \"score\", \"highfrequency\", \"curve\", \"median\", \"conventional\", \"evaluate\", \"phase\", \"status\", \"diagnosis\", \"distinguish\", \"blood\", \"value\", \"normal\", \"study\", \"seal\", \"training\", \"patient\", \"level\", \"analysis\", \"journal\", \"factor\", \"mass\", \"table\", \"woman\", \"stage\", \"group\", \"sexual\", \"compare\", \"test\", \"disease\", \"risk\", \"high\", \"research\", \"include\", \"lithium\", \"battery\", \"lithiumion\", \"metric\", \"grid\", \"projection\", \"connection\", \"section\", \"shaibani\", \"cathode\", \"sulfur\", \"refine\", \"experimental\", \"solar\", \"outperform\", \"mahdokht\", \"majumder\", \"environmentally\", \"format\", \"label\", \"correspond\", \"data\", \"brain\", \"energy\", \"simulate\", \"assignment\", \"mainak\", \"mapping\", \"efficient\", \"music\", \"network\", \"intrinsic\", \"area\", \"obtain\", \"vehicle\", \"datum\", \"distance\", \"location\", \"analysis\", \"primary\", \"generate\", \"resource\", \"reference\", \"define\", \"pattern\", \"cell\", \"author\", \"access\", \"provide\", \"image\", \"result\", \"available\", \"base\", \"technology\", \"site\", \"different\", \"include\", \"individual\", \"view\", \"case\", \"skin\", \"print\", \"curator\", \"marsupial\", \"implant\", \"liquid\", \"cream\", \"farnesol\", \"dermatitis\", \"alloy\", \"fragrance\", \"mystery\", \"molecule\", \"diego\", \"devil\", \"allergic\", \"brigham\", \"organism\", \"cosmetic\", \"islamic\", \"cheaply\", \"icon\", \"biobank\", \"fauna\", \"massachusetts\", \"faculty\", \"balsam\", \"rashe\", \"mouse\", \"bench\", \"chemical\", \"metal\", \"technique\", \"flexible\", \"extinction\", \"gene\", \"material\", \"cell\", \"coffee\", \"museum\", \"device\", \"researcher\", \"specie\", \"freeze\", \"object\", \"reaction\", \"manufacture\", \"scientist\", \"genetic\", \"layer\", \"university\", \"create\", \"team\", \"research\", \"technology\", \"professor\", \"method\", \"work\", \"small\", \"like\", \"melbourne\", \"australia\", \"study\", \"institute\", \"time\", \"aspen\", \"mornington\", \"noosa\", \"abercrombie\", \"colorado\", \"woollahra\", \"backpacker\", \"yarra\", \"sydneys\", \"kuringgai\", \"boroondara\", \"moreland\", \"bronte\", \"bayside\", \"ruby\", \"violent\", \"wealthy\", \"sutherland\", \"blacktown\", \"canterburybankstown\", \"moonee\", \"wyndham\", \"penrith\", \"toorak\", \"banyule\", \"affluent\", \"skiing\", \"beach\", \"brookvale\", \"rich\", \"stonnington\", \"bondi\", \"hotspot\", \"cluster\", \"party\", \"peninsula\", \"inner\", \"injury\", \"geelong\", \"waverley\", \"ignore\", \"suburb\", \"northern\", \"exclusive\", \"argument\", \"group\", \"woman\", \"attend\", \"police\", \"coronavirus\", \"melbourne\", \"sydney\", \"case\", \"virus\", \"australia\", \"people\", \"south\", \"area\", \"hospital\", \"marini\", \"heather\", \"coach\", \"quarterback\", \"perry\", \"warrior\", \"coaching\", \"wine\", \"gridiron\", \"offthefield\", \"scout\", \"conditioning\", \"oregon\", \"language\", \"football\", \"offensive\", \"competition\", \"inclusive\", \"accent\", \"hire\", \"passion\", \"heath\", \"brown\", \"greece\", \"division\", \"european\", \"earn\", \"laugh\", \"women\", \"career\", \"debate\", \"position\", \"word\", \"club\", \"womena\", \"sport\", \"program\", \"play\", \"strength\", \"team\", \"game\", \"player\", \"head\", \"university\", \"monash\", \"woman\", \"think\", \"australian\", \"staff\", \"great\", \"intelligence\", \"artificial\", \"urdupoint\", \"fourstar\", \"innovative\", \"steve\", \"participation\", \"innovation\", \"pakistan\", \"martin\", \"meteorological\", \"healthcare\", \"agenda\", \"atmospheric\", \"cycle\", \"cloud\", \"gary\", \"forum\", \"supervision\", \"consultant\", \"griffith\", \"verbal\", \"enhancementa\", \"intelligent\", \"draft\", \"emirate\", \"headline\", \"furthermore\", \"title\", \"sustainable\", \"digital\", \"session\", \"rain\", \"prof\", \"conference\", \"senior\", \"research\", \"panel\", \"technology\", \"meteorology\", \"director\", \"weather\", \"development\", \"project\", \"second\", \"university\", \"international\", \"professor\", \"science\", \"centre\", \"scientist\", \"health\", \"expert\", \"national\", \"institute\", \"service\", \"school\", \"ombudsman\", \"outsource\", \"tenix\", \"parking\", \"lawfulness\", \"unlawfully\", \"rubberstamp\", \"contractor\", \"infringement\", \"precinct\", \"glass\", \"refund\", \"deborah\", \"recommendation\", \"phillip\", \"council\", \"eira\", \"kilda\", \"review\", \"internal\", \"fine\", \"administrative\", \"disagree\", \"disclose\", \"kingston\", \"private\", \"chapel\", \"genuine\", \"contrary\", \"appeal\", \"stonnington\", \"opinion\", \"glen\", \"issue\", \"legal\", \"agency\", \"port\", \"victorian\", \"million\", \"officer\", \"city\", \"decision\", \"determine\", \"melbourne\", \"government\", \"ballarat\", \"debut\", \"donald\", \"gallery\", \"precinct\", \"beautiful\", \"trump\", \"shelter\", \"aany\", \"barangaroo\", \"inhabit\", \"worka\", \"colourful\", \"rally\", \"piece\", \"aiave\", \"exhibit\", \"deakin\", \"grim\", \"alfre\", \"decorate\", \"thisa\", \"artist\", \"peculiar\", \"colour\", \"interested\", \"inferno\", \"attract\", \"dictate\", \"ultimately\", \"reassure\", \"work\", \"imperial\", \"guardian\", \"public\", \"inside\", \"head\", \"people\", \"draw\", \"combination\", \"sydney\", \"circumstance\", \"language\", \"positive\", \"camp\", \"wednesday\", \"displace\", \"rashe\", \"balsam\", \"tunnel\", \"outer\", \"reddit\", \"precinct\", \"cardiff\", \"abundant\", \"xinhua\", \"brigham\", \"heartbreaking\", \"interior\", \"dermatitis\", \"fireravaged\", \"farnesol\", \"barrier\", \"aany\", \"stricken\", \"unlawfully\", \"lawfulness\", \"chilling\", \"inclusive\", \"urdupoint\", \"clip\", \"inhabit\", \"mainak\", \"martin\", \"cream\", \"rubberstamp\", \"chemical\", \"allergic\", \"molecule\", \"mystery\", \"visible\", \"immunology\", \"naturally\", \"washington\", \"bind\", \"peru\", \"skin\", \"immune\", \"reaction\", \"trigger\", \"virus\", \"animal\", \"people\", \"wuhan\", \"cell\", \"week\", \"china\", \"video\", \"surface\", \"infect\", \"coronavirus\", \"australia\", \"case\", \"inside\", \"spread\", \"cause\", \"patient\", \"health\", \"south\", \"sydney\", \"disease\", \"precinct\", \"bernard\", \"unlawfully\", \"aany\", \"inhabit\", \"lawfulness\", \"attendee\", \"agriculture\", \"brookvale\", \"rubberstamp\", \"mainak\", \"weatherzone\", \"martin\", \"inclusive\", \"reconfigure\", \"kilda\", \"administrator\", \"beef\", \"colourful\", \"bloody\", \"dawn\", \"consular\", \"passion\", \"worka\", \"harman\", \"seaboard\", \"qualification\", \"precious\", \"hough\", \"riskiest\", \"snowy\", \"choke\", \"knee\", \"theyave\", \"dynamic\", \"stateas\", \"manmade\", \"nick\", \"meteorologys\", \"honour\", \"onsite\", \"heartbreaking\", \"formula\", \"organizer\", \"sentiment\", \"perish\", \"shade\", \"bomb\", \"bushfire\", \"smoke\", \"dalila\", \"atomic\", \"climate\", \"quality\", \"emission\", \"pump\", \"tasman\", \"eerie\", \"rage\", \"australia\", \"carbon\", \"yesterday\", \"countryas\", \"south\", \"average\", \"australiaas\", \"cyclone\", \"come\", \"change\", \"worst\", \"haze\", \"heatwave\", \"tournament\", \"destroy\", \"datum\", \"australian\", \"million\", \"land\", \"people\", \"week\", \"condition\", \"turn\", \"expert\", \"time\", \"home\", \"university\", \"animal\", \"season\", \"monash\", \"wale\", \"health\", \"country\", \"sydney\", \"national\", \"year\", \"precinct\", \"lawfulness\", \"unlawfully\", \"inhabit\", \"martin\", \"aany\", \"mainak\", \"rubberstamp\", \"bloody\", \"inclusive\", \"brookvale\", \"worka\", \"horror\", \"edition\", \"passion\", \"transmissibility\", \"justify\", \"nathan\", \"afflict\", \"skyline\", \"servant\", \"barangaroo\", \"proud\", \"persontoperson\", \"attendee\", \"lifethreatening\", \"sickness\", \"liberal\", \"tear\", \"natasha\", \"seventytwo\", \"clarify\", \"rashe\", \"container\", \"resistance\", \"dawn\", \"refugee\", \"disastrous\", \"explanation\", \"delete\", \"fossil\", \"brigham\", \"suburban\", \"hero\", \"adaptation\", \"aabsolutely\", \"nick\", \"write\", \"climate\", \"election\", \"rational\", \"emission\", \"australiaas\", \"cosmetic\", \"opposite\", \"change\", \"bush\", \"herea\", \"athe\", \"countryas\", \"conflict\", \"proof\", \"protein\", \"vietnam\", \"warming\", \"washington\", \"australia\", \"land\", \"devastation\", \"arson\", \"state\", \"weather\", \"leader\", \"carbon\", \"molecule\", \"million\", \"morrison\", \"time\", \"human\", \"social\", \"skin\", \"people\", \"read\", \"point\", \"australian\", \"cell\", \"year\", \"look\", \"world\", \"national\", \"medium\", \"global\", \"country\", \"bushfire\", \"need\"], \"Freq\": [1573.0, 1069.0, 717.0, 432.0, 1488.0, 409.0, 435.0, 873.0, 455.0, 898.0, 1800.0, 445.0, 423.0, 1047.0, 326.0, 483.0, 317.0, 678.0, 496.0, 568.0, 612.0, 986.0, 466.0, 171.0, 149.0, 293.0, 470.0, 186.0, 298.0, 155.0, 87.35277842214833, 101.68114938553288, 82.40121864853504, 37.65113718916552, 115.35868694993303, 28.24434283640892, 23.774703234259295, 52.16954227551401, 21.22367094985207, 28.875551979053967, 93.08488508390026, 47.53444053775081, 20.849953944709544, 18.203381588740193, 21.490235254981656, 28.618571188689902, 227.5081066765569, 20.27825967829124, 16.790280124989785, 15.48148502698654, 38.50086278827779, 14.532226242225333, 208.46575077540123, 14.624966315741048, 32.41045843019443, 22.253349715527676, 12.154342415366315, 15.374720628687951, 13.425658339893337, 12.15682340273005, 392.4583971578564, 366.4217177921775, 183.77371160922803, 401.24533669352127, 49.90990229709981, 119.43262311282474, 30.59334609072651, 303.9234013692456, 78.79781099099932, 58.34955565686911, 307.13152052317304, 251.93047853779922, 202.32193590458468, 177.78397904480954, 81.66310955408322, 284.1128640456132, 116.92680327756683, 85.46816848964383, 56.006716983462425, 234.69523919901465, 164.69442788784664, 313.3583623705868, 594.6213858969097, 695.1249285433765, 279.79956006421315, 942.4401489101663, 1057.0172921753328, 139.1843140255407, 384.7270799296886, 197.10633199285402, 276.9935152316727, 597.9974679601789, 313.361234655562, 406.27995399530704, 701.0597141801276, 233.39938395549208, 343.60653759262874, 436.9997601074864, 308.9669029507539, 473.61246064755466, 268.7092075540733, 257.1209536568584, 267.40718898812634, 270.23101562637294, 276.84550003704777, 258.18780499413555, 250.9358065021776, 36.79110439668116, 69.54899691007797, 22.070746745813913, 29.684048306656415, 39.71759899974653, 17.39246513969867, 61.94556761599636, 64.89671827918777, 20.945338652771152, 14.883296180005132, 35.96874131865744, 11.94474992544295, 12.001386448481819, 14.459611541457653, 15.350558757639607, 16.860244963665703, 13.178266852800231, 60.915687079240186, 10.237882354856765, 10.219097448837642, 10.233717023482335, 22.363783640300742, 19.382799977553763, 10.108951383775544, 11.850290099687971, 49.706853335292784, 9.243205338989677, 39.9516290696688, 11.210764753119912, 9.033618011115857, 100.10540921574058, 16.48409686472241, 54.262259195818274, 114.36257985319126, 31.648987272445392, 40.94993413188679, 15.707916531522338, 76.22080763178381, 59.211956797094935, 284.39677336278726, 22.787340182384895, 41.100812498354635, 105.79691582204755, 572.9381970146667, 274.2818077948869, 36.35134483874223, 52.36395666386342, 77.63715104054423, 82.11299409738625, 173.88691914798514, 231.32173319545757, 260.562310219757, 161.19230959495064, 592.8513152397413, 563.8920137724779, 376.91807349750445, 105.75232116736993, 373.243974019856, 227.85910056963792, 261.99376052366694, 125.08457565122494, 123.60671396759831, 100.98394595777599, 95.71457632915013, 156.70750893863635, 324.3444678718672, 137.16192333544328, 189.47434670827747, 132.35534752436462, 154.8041114454433, 150.00914996970712, 128.14254408766877, 174.86701326678843, 121.12891730871952, 130.72026112767372, 142.40893127377655, 131.42646598521745, 123.30603820626446, 168.0941699648046, 38.99550484301111, 56.15575529198812, 102.48506680047045, 29.417870050412187, 151.05628614847072, 33.772925505553765, 23.849808056082818, 23.707226034854646, 19.383497172783734, 19.821492893038393, 39.644040457209016, 45.85390112385463, 50.944331603691694, 40.84103747534244, 15.580731626287387, 17.546059919044062, 15.153203670314738, 12.75847934128121, 12.432801930712511, 12.439895039095632, 11.656849890294396, 35.40036387534496, 21.765257588670913, 10.92232910695034, 10.644503202678674, 10.507117762072358, 9.42922122350682, 9.823261548507068, 9.613673933703708, 21.754316563340417, 16.46943416091831, 185.47634406898914, 33.419085655680234, 25.31603272319018, 47.86312695001397, 28.312766724648974, 21.318628738328087, 36.65319111044763, 38.20682136151583, 40.983904192341434, 61.890966506331964, 65.82332513516236, 41.85615598080497, 57.98944729540208, 154.9643640007776, 263.83873076460577, 47.79854282582694, 50.928477888697316, 37.599075453133246, 67.88159897300295, 50.07195445700078, 183.89645237853875, 87.2480245637563, 107.529382295405, 123.07620789187632, 91.53004110293018, 344.3542592338444, 191.6709478038632, 144.82428656872887, 77.31931149024096, 78.40862475038475, 132.405922317007, 72.28300689399815, 78.44344573325053, 190.71486504110734, 73.86457274264458, 192.55985908769443, 76.5783623943446, 85.60915965560102, 99.09583662754561, 107.29514793928423, 95.45494817971455, 109.0030930603923, 84.67376236679435, 89.67007683340344, 84.22998058421842, 87.53027833448688, 81.72399837552848, 79.37072597908588, 79.40147313791765, 78.75605659635504, 151.04568051943124, 67.69734891856343, 32.85299608312041, 18.68723612770272, 16.553205991992805, 31.745037118644486, 11.94446324598463, 13.114928943036132, 6.9627258280584625, 7.125854863038673, 15.4137794922074, 26.703603304796072, 12.606672510820768, 22.700899678497958, 5.360131095619356, 17.96284905994906, 5.295827598476391, 12.584603892587044, 4.8231927127633805, 3.628344648740546, 3.60312023804214, 13.709226573446799, 23.295112662985513, 6.811968524300495, 6.750046354356081, 26.11988435718983, 9.573220778897586, 36.70654675628022, 2.7430771354201897, 13.346178205700943, 25.50124114047895, 22.115981572715473, 8.884475703426647, 28.196944531005787, 19.98180507608277, 13.643056393942004, 17.722866633768284, 27.52328352709259, 48.71750114926903, 55.83303828326665, 126.89045905969614, 24.58157238455817, 21.23511440673641, 140.6829701770819, 65.9091573994449, 43.16071324738026, 24.07060957658889, 28.245586980789927, 34.45729634765844, 25.24598617132955, 70.66585830929353, 35.800141636654025, 44.8822502221301, 24.46128577137122, 27.302854832894862, 45.83908484267026, 35.11544242578918, 30.829013390438863, 30.507097658501465, 27.70867205979638, 25.37751437169404, 16.071049125203505, 52.71655312525699, 11.918888081308237, 10.393844876263318, 6.999486918126538, 15.500320474784113, 56.22119564330039, 33.26452269969033, 4.53905732225062, 4.51486928977694, 3.776675804804451, 3.781617739984996, 12.626076981224308, 7.33640127163918, 3.0459336546431954, 3.0388696914929736, 3.0442274269124763, 3.0330149491189986, 6.17128700674494, 39.7414472500039, 9.078685628963338, 6.753873212758718, 82.94816383779012, 26.870443865345898, 5.72428164458692, 10.533757758868017, 2.294244257821949, 7.920428630353531, 5.311392887048566, 8.674293063596526, 38.03172621892106, 7.26962839591599, 207.49693915044566, 22.626505102974647, 23.785142683803432, 70.68209751595394, 35.14198351264072, 24.840224630940593, 44.75445412040859, 29.008555093527782, 10.430985869308703, 30.597437227740574, 13.215467728765615, 15.032870891949173, 19.308532755700703, 44.64507622252736, 25.57505818998841, 22.088818164578385, 43.72864661802863, 40.640162894261294, 46.38880142779278, 29.496012570926645, 37.56490798744072, 26.99631129531007, 24.124093299273618, 25.417453735656515, 35.10633448602739, 21.895015452366255, 20.244718297995163, 27.234529625368108, 30.341907126185962, 47.81406341903849, 15.497953677418678, 46.9557850778582, 9.705612170316867, 14.510743209011206, 6.25382698647998, 6.235575636882437, 6.206266423557891, 5.8069424700690035, 5.389448168415201, 4.667397941308168, 9.721047434573656, 4.787672436348925, 8.074996561225982, 8.863847014666412, 3.6181819265694433, 9.42159264787867, 7.1443386484066735, 15.10918490394316, 2.8791944845078787, 2.9785964512463954, 7.511460517550004, 7.499423087091992, 5.514654868029928, 8.791539684006066, 2.7319829571807337, 2.725451107268624, 33.16162428225655, 7.754000621715368, 22.14152947901593, 23.479713423134637, 20.577985982534322, 7.59996339009656, 16.40881216520707, 25.401030441883474, 47.00612564128103, 84.69301651561602, 23.773191523643565, 16.86420476698856, 11.889154696378489, 48.37547936118782, 37.16107128370199, 11.16759189773191, 12.032025165528276, 13.70002563494598, 11.637160644333516, 39.30498494914465, 20.64501798775037, 15.954659687397346, 94.61166370478165, 27.955922610562226, 29.282556112906644, 34.50831627855264, 23.862852455717736, 31.018378387887473, 16.50660456547772, 34.73796277857566, 22.23677944079538, 26.35718126721086, 28.8490945108726, 40.86692719241272, 26.216932560719243, 17.61917006967051, 17.98706771030419, 32.174818363866144, 10.900151758667342, 8.695956637951193, 13.0934756688216, 14.36776361027432, 8.628481212089392, 10.266409917101397, 7.25153037613422, 3.9943275020150324, 3.9664767999815025, 3.96695356334223, 3.958145928698136, 3.954413004454169, 3.947113871641964, 8.051665864233607, 4.315065804629949, 14.41648730747937, 3.9276303125207908, 3.9283606146986427, 3.9261963829711632, 3.915271163362105, 3.8802518829237815, 3.889537104138365, 12.803552658189075, 3.8899152074880625, 3.029922203933298, 5.267957087639421, 32.65205104444565, 2.368891610405632, 10.999803066816595, 16.187614902043045, 18.308127707986024, 14.754683310341207, 16.212894553602904, 24.96808985381855, 10.604902250408767, 9.644676431371359, 9.196412687199066, 6.769198612976675, 15.17743800334396, 10.384302073561535, 21.882480138889836, 19.0712779934808, 7.725828132645542, 6.181455199513124, 24.00139831952121, 28.661393132769046, 12.090155078662402, 12.576796024349315, 28.40947693280062, 17.748648339055848, 17.90937195574784, 20.44452140652395, 18.799604086999896, 16.468459213281573, 16.07196381200491, 13.76874726850258, 11.296725562409149, 11.016581286792446, 33.5844165000437, 11.539948990358017, 45.27633834627616, 15.181429610138142, 9.676914277051226, 3.6518993197422303, 3.6335195475575732, 11.068831524494547, 3.5232155085453005, 2.74256046270866, 4.043455050196121, 5.31255710617777, 2.6320513272936226, 9.999242148030579, 20.44984539722299, 6.377887643634821, 5.157029337253079, 1.695275423342207, 2.7442469441209183, 2.6503015430659977, 1.5898235417383426, 3.6336898249313307, 12.307292577698396, 1.6031000476763135, 4.019966263555703, 8.21370454414136, 5.707939267227926, 2.387798052063002, 8.66547168675794, 6.5651510265306054, 3.5893278296383597, 11.971545198838816, 7.180366928531153, 7.059014471146364, 4.609795562812412, 12.80803502175416, 9.00198565757803, 11.78110385410722, 5.29194308374383, 9.933154627121827, 6.670900210045455, 6.175717103447192, 6.597470224430085, 9.08971198788523, 7.337467672561419, 8.087912434871162, 6.764264296887192, 7.954786957248889, 6.366299903939822, 5.97131831741225, 5.002033006396958, 4.256165200872365, 2.169347680098674, 3.4040206659209185, 2.996513991967608, 1.9353673121983934, 4.020663196429975, 4.884082463555981, 2.1647928151211207, 1.322578887065204, 3.2030358301804833, 9.844326246848539, 2.1759389842634485, 1.9465032586557367, 7.148513455406003, 4.449184299540105, 1.3652255421430757, 3.224360703451408, 1.3154885671454475, 1.9981931051076258, 1.318566578093991, 1.536212394271903, 1.3175704738778984, 1.315301491864475, 1.566818025939348, 1.3302359995242923, 1.313697229534376, 1.3095803889269004, 3.7529012230554275, 2.376997777762932, 3.3124522496386453, 6.264296732575428, 10.060352533498902, 9.429122999780567, 6.335539652623788, 7.111627073651941, 19.603765806450586, 2.574749347295056, 10.119339912083591, 3.1736456219841584, 8.134364234706036, 7.575209674717723, 7.468261956353277, 4.189530159356858, 5.934417891482596, 11.900334597807108, 7.96962798498446, 7.569138386924404, 4.611862986161568, 6.30100346850863, 5.576069271317624, 8.475609575741661, 5.261221763331451, 5.203164164243708, 4.445535064791185, 4.511142908894654, 4.264730069999869, 6.8201331838645105, 4.109111976821189, 4.114692749562835, 6.795005919450899, 2.085090197966341, 2.084539984316078, 2.0806061707819348, 7.470244623015161, 6.139419944516487, 1.405811412439653, 11.652784985895696, 6.019888833911942, 2.814522614114655, 6.732584036519029, 5.486989313307989, 26.589511298421705, 4.772881885955947, 1.4055136570762, 20.624436104404374, 7.4596224374472255, 20.125842894669486, 1.402045366357575, 1.4045619597755872, 1.4026804914878543, 2.0515910430396644, 5.673992749205441, 1.4044301502106193, 1.397533851953214, 2.0496682675882165, 1.3891122199785555, 4.7895934718069375, 3.4151014667271777, 4.644252358885572, 12.12100390065831, 3.3782067812351735, 4.625971695454772, 5.2187068082574, 4.20055924036646, 6.158831505650383, 6.010941366121932, 5.477770893193003, 3.9974521676087496, 3.3856741476296626, 4.2365905007620235, 4.154524002787124, 0.7689632286628917, 0.3785873619386895, 0.5694813735098566, 0.3913327878453946, 0.20730015755594916, 0.36744639458162676, 0.3780860809418432, 0.5561830218088574, 0.201561314924068, 0.20665877624941098, 0.18553875982999735, 0.19127534997297807, 0.18238327818814348, 0.18409621294434617, 0.34394244655447653, 0.1968374457507785, 0.19316149006229988, 0.18341427263216878, 0.19097341150907093, 0.2071610826602957, 0.16370908686225563, 0.16665558531367072, 0.19001169518570923, 0.2075205845169403, 0.1726261939499955, 0.19587646462450092, 0.16300504671913024, 0.19623305535940133, 0.16035279287350862, 0.19983559819841126, 0.3940454779842128, 1.3699439576376613, 0.20722290746322916, 0.25444560193347504, 0.39184472943680937, 0.311838800108783, 0.30851623287188895, 0.2929511020548054, 0.21271482851878964, 0.20798625486311495, 0.23263725750214875, 0.20550338071871754, 0.20238472046737235, 0.21275793440096386, 0.20390062448934107, 0.20522199054097173, 0.016169091188598567, 0.00975898144161342, 0.009445518516354971, 0.01772978079935882, 0.011549911798138865, 0.00830519864614166, 0.0057003855912463085, 0.010496659693389112, 0.010800550420879807, 0.007796958142170388, 0.009756644862894895, 0.009633737751341803, 0.011709404709911653, 0.01467429284288988, 0.007650457232267603, 0.014006271235032557, 0.010647288495517727, 0.00571950334081406, 0.011150574906514882, 0.005709491756902716, 0.00563535289622374, 0.008241250267915043, 0.006078605782297942, 0.007300200699686793, 0.007561355744154892, 0.005651182847783596, 0.005708112459264025, 0.0056896866389279785, 0.012834654946270091, 0.005369841249908613, 0.04472934490803347, 0.01745122094595967, 0.01845553721759842, 0.008968146672171065, 0.015279503240286504, 0.009927498358506188, 0.011080530469862312, 0.010715315523679977, 0.01544096049434604, 0.01072045600516301, 0.021092584718708784, 0.026007444300229544, 0.015974293480093375, 0.016046933060463824, 0.03792073342419068, 0.02243923898321478, 0.03668219401174772, 0.027503190727018827, 0.0173602182925129, 0.020764495808332877, 0.021606464406294948, 0.015464079112111596, 0.01398891529151907, 0.017779770481832373, 0.020898279603312794, 0.020314790813276366, 0.01797572352877439, 0.014168008398103922, 0.01631311452723353, 0.015316960612601628, 0.015317649322704213, 0.01559025142664497, 0.01511323403046696, 0.014740526370089865, 0.014692906697148452, 0.005744295817161939, 0.007388793758517431, 0.006026151628873501, 0.005906833140543075, 0.005946054450489192, 0.005688003522912408, 0.0068220275586074915, 0.006822360875416274, 0.005921989682240323, 0.005487378034960695, 0.005685929208112466, 0.006437975501509463, 0.005625783695455591, 0.00582365168775265, 0.005886178448906752, 0.005847796288717895, 0.006224347988088774, 0.006290132972630787, 0.005899256474885326, 0.0059037613413750675, 0.006347818133060415, 0.006102403725570369, 0.0059319288780246395, 0.005802488242592957, 0.0061887866676990965, 0.006057326075910469, 0.00676026211960536, 0.006211308490282857, 0.006148251691802513, 0.006240556717228127, 0.006225603742574259, 0.009217339069734968, 0.007045060806911, 0.00722451933260571, 0.006405062021467815, 0.007179581969959958, 0.006173855030730719, 0.006429056129532704, 0.006803530537271071, 0.0063537524571332295, 0.00909728516298109, 0.006726845747592772, 0.007274078952303818, 0.007693714036452991, 0.00742903946540105, 0.007934258390936423, 0.007200682272571344, 0.008220000720479615, 0.025429676426585418, 0.022825054961809324, 0.007396842256313825, 0.0077790830066892715, 0.018362728692411262, 0.014871661611181105, 0.011913678331487433, 0.007150219105305746, 0.008003543336678878, 0.007015465708468949, 0.0074239723099829335, 0.026324997460471667, 0.010291772496712552, 0.008614405532767877, 0.007937032235476859, 0.01794172931203262, 0.010916972000765364, 0.010501156272152666, 0.008825988695164487, 0.013985141079022795, 0.012580385958831103, 0.00848909761609666, 0.008643454180794059, 0.008782300540266812, 0.009061245032129043, 0.009388569944556741, 0.011086493181087087, 0.013548303030667626, 0.010992334181480051, 0.010504136522828616, 0.013894174258447058, 0.0124380429177211, 0.010785827732586736, 0.01009898512213996, 0.011010382838468884, 0.011516358680600509, 0.011211747884342267, 0.01158025539163577, 0.010386967988154668, 0.009745568831208511, 0.010504453322646443, 0.010599617090533706, 0.011235346052884048, 0.010706748232087077, 0.010580429694807311, 0.010321669884032854, 0.010339934009786889, 0.005944348451448922, 0.006134056282405276, 0.0061150893050579145, 0.0063076870636526354, 0.006181176886034124, 0.00583893602803122, 0.006105378549141258, 0.005743581358792037, 0.0063862646641513225, 0.006112627547490352, 0.005880962260543907, 0.006088128268775848, 0.006302286179963983, 0.0066280277046054225, 0.006075197846210311, 0.00628186144147185, 0.006269877600837751, 0.00626529063866342, 0.0062872079244845735, 0.006336954977955553, 0.006267803205794872, 0.005987392700656214, 0.006092964120667813, 0.006073649764031984, 0.006296369673310469, 0.006313046753141997, 0.006160224880272386, 0.006514264525071296, 0.006408446011724837, 0.006127370802717102, 0.006248401561816707, 0.006502739957006746, 0.006189602052051358, 0.006286672613729874, 0.006476416575552401, 0.006256694990272685, 0.006256602788260347, 0.006851494780609941, 0.00627902872357344, 0.00631070357134406, 0.006361137218473208, 0.006632739467743807, 0.006550458592788183, 0.006914635155493617, 0.006844857671394977, 0.006371465518363264, 0.0063662862766707354, 0.011993265360395178, 0.012156290902726439, 0.0068517341910640265, 0.006578820382354478, 0.008893132173316725, 0.009024711718915068, 0.007117613278969936, 0.006525846934990699, 0.010752522785361696, 0.006875756925300118, 0.006751552478996325, 0.008852769097433606, 0.007071157350002358, 0.007414935570237844, 0.00693744620074212, 0.007533329156894408, 0.007706697644938726, 0.007224133932346076, 0.006837329308009792, 0.011002842566388277, 0.00865165962349499, 0.007157434267466088, 0.006905078161907861, 0.009183186587955913, 0.008176121316824015, 0.007843080788091381, 0.0075740245791281365, 0.007035963799573078, 0.008472214875112785, 0.008331167813498902, 0.008745909850674104, 0.008240607250674908, 0.008224675741643348, 0.0074338642346496635, 0.00889645219561626, 0.0075842452470260896, 0.0076677531535491485, 0.00830270689037929, 0.00783681419901425, 0.008090925502910993, 0.007808463845573018, 0.00792066252842782, 0.00783584912106061, 0.007695690839496712, 0.007747545728143985, 0.0077796278604114815, 0.007616175739854855, 0.0075975068312621], \"Total\": [1573.0, 1069.0, 717.0, 432.0, 1488.0, 409.0, 435.0, 873.0, 455.0, 898.0, 1800.0, 445.0, 423.0, 1047.0, 326.0, 483.0, 317.0, 678.0, 496.0, 568.0, 612.0, 986.0, 466.0, 171.0, 149.0, 293.0, 470.0, 186.0, 298.0, 155.0, 88.80894620701399, 104.14178115044221, 84.55865314757615, 38.76661126115829, 118.78015079244746, 29.142876155937664, 24.639441646940938, 54.43234313867754, 22.16587436849584, 30.160374429176148, 97.3944801540873, 49.75534359628822, 21.848482358274442, 19.11136487167866, 22.56323825056757, 30.072607025568086, 239.50313550728845, 21.444655632174104, 17.762721643386804, 16.379015665576443, 40.776887159799465, 15.432531810074604, 221.83283160256389, 15.584543856425782, 34.543204764172145, 23.735779539299024, 12.978139569432338, 16.41898249076989, 14.346893816337511, 12.992851083837147, 420.9207685829939, 393.71935138685916, 198.1479223572187, 437.96840617961806, 53.440571999942186, 129.23953976600208, 32.712038719606234, 336.1928309089959, 85.11374102532946, 63.15682878787598, 354.27749644361944, 293.8889679833935, 238.86933620094862, 211.0218825896139, 92.95827561669631, 360.7927586586761, 137.89633037750036, 98.5083053424789, 62.330099916268345, 302.7429201816596, 205.0835643104511, 423.1488522988221, 873.9681184878131, 1047.4613870065818, 376.4685262064911, 1573.2607420242373, 1800.3300853956582, 172.28140940123538, 568.8345359338866, 259.16345584924034, 388.82753996563133, 986.8318829975985, 475.66944789485996, 678.0190687393871, 1488.5555191862077, 344.18122746423387, 612.6775528480707, 898.8362765421898, 544.9130989523435, 1069.4548771367138, 438.12926699441914, 410.6624593274789, 445.6343717600258, 483.38822169979, 514.2064865236763, 522.9519127251989, 504.0379597514269, 37.75471249421823, 71.70025584380691, 22.93247094699336, 30.959327384348057, 41.601361594691795, 18.25248630600861, 65.22970837388999, 68.70749160218645, 22.267978519111605, 15.874866661620128, 38.4666469657055, 12.825048475083088, 12.894986916802505, 15.541872878721525, 16.521023283181243, 18.191090159253747, 14.235678603864807, 65.91631976947768, 11.079237834754577, 11.060357678472032, 11.090161015444425, 24.240399543805136, 21.060144785623265, 10.984942973887403, 12.892994400381077, 54.2596976207949, 10.120094292544733, 43.75792456752064, 12.28650174430766, 9.934058714093982, 111.56702174688522, 18.172511316025254, 62.25992299480217, 135.19412818053377, 36.44665630136653, 48.93476170708847, 17.501984655632086, 96.32384893438058, 73.26218002025544, 430.09937937847985, 26.196855489822582, 51.16379310647739, 153.00632300884402, 1069.4548771367138, 466.349551329267, 44.957321454006795, 68.85487835038184, 110.72494437857603, 118.80980931085743, 312.3652775303818, 445.5307545672796, 522.9519127251989, 288.262301917781, 1573.2607420242373, 1488.5555191862077, 898.8362765421898, 174.81035341372709, 986.8318829975985, 504.0379597514269, 612.6775528480707, 233.88580826931263, 250.0471158571214, 186.26555121955417, 174.72904346183253, 438.12926699441914, 1800.3300853956582, 357.7315824172428, 717.1225643245648, 370.6374596190303, 544.9130989523435, 514.2064865236763, 353.68201917413637, 873.9681184878131, 326.23621828961063, 475.66944789485996, 678.0190687393871, 496.94110370572093, 483.38822169979, 171.95581411000737, 40.098278796396094, 57.84873088226995, 105.94680262505406, 30.41791755251693, 156.56106298931564, 35.02037604916612, 24.8314329264495, 24.717461252633257, 20.267513957137595, 20.794452837800367, 41.66183945413699, 48.34361494762564, 53.73860440516357, 43.229606201502925, 16.492248113560258, 18.643059793280184, 16.185741380082078, 13.651014857609827, 13.352710270274297, 13.39216359476207, 12.568464804398436, 38.172335502990094, 23.504676725751448, 11.822269853731155, 11.555503284141379, 11.410428473530972, 10.271429988713727, 10.704484779227881, 10.509265992273662, 23.785391537989376, 18.036168868660788, 211.60170050498218, 37.284266625817196, 28.238471860991115, 54.89472308830398, 31.85946540578712, 23.678603098070944, 42.45354351084024, 44.725685619554476, 48.512626592771404, 76.23609948470913, 81.74035872102198, 50.42868036819033, 75.39667385157314, 240.25545400751597, 470.8106530011891, 60.73371437313444, 66.83449253464383, 47.368192283592805, 105.23171614472076, 70.71957220388677, 461.064999193751, 160.71213000192742, 230.1202136244966, 289.9615597182937, 189.50716449135933, 1800.3300853956582, 717.1225643245648, 455.7031427719041, 152.28498625196008, 157.0168796937565, 432.78292352348626, 138.8783074104299, 166.91248004085162, 1047.4613870065818, 150.91173826487204, 1488.5555191862077, 175.87562729270505, 236.32718915740446, 347.5434944102035, 432.11347836666795, 365.45131857677484, 678.0190687393871, 279.8326995195172, 409.22263914624386, 321.38130143047533, 410.6624593274789, 280.7389568686667, 257.65855543769874, 514.2064865236763, 483.38822169979, 155.56637984194418, 71.10745961471757, 34.54862845502683, 19.73074887351873, 17.616161461668835, 33.9258467704845, 13.305724459139316, 14.79071389589263, 7.8565083207464, 8.079237328362412, 17.549870089338928, 30.443849990813217, 14.61474201485596, 26.568494793128064, 6.291186761122943, 21.0850304380188, 6.281885053248861, 15.374238750674914, 5.901833627029509, 4.495672631503455, 4.495628150744007, 17.1335810270687, 29.391067807896874, 8.617058368446187, 8.568788070301853, 33.47438629716224, 12.382604005832281, 47.84064154781372, 3.59589565359257, 17.63003338042463, 33.941989593825106, 30.39337109809626, 11.762177956716132, 42.73242207343681, 29.135126022635056, 18.99729214562647, 25.681627273961443, 43.64121781249239, 87.56232204657806, 108.33093197338593, 317.09255440920015, 40.70427927646018, 34.218845027932254, 435.3607835538375, 169.56581049802813, 99.24061039400213, 41.47294828567705, 54.01949643661907, 75.37935215478008, 48.18158478889512, 455.7031427719041, 108.15954611160106, 254.49136856463602, 52.36680490363901, 76.19794550870877, 568.8345359338866, 370.6374596190303, 279.8326995195172, 267.6862244467068, 186.10734270902262, 496.94110370572093, 16.963110967940484, 55.829692463358214, 12.817297257571918, 11.600368822436469, 7.872703748251112, 17.689809244972594, 65.10708158973262, 38.97526121973499, 5.383031347158689, 5.374168716103529, 4.631434000503151, 4.689333579114424, 15.669829852814045, 9.219960609140578, 3.8817068627850024, 3.8759344524765855, 3.8848456163300114, 3.87202887528362, 7.902882926212893, 51.65696611596414, 11.839224085609763, 8.893659235087641, 109.34765253745476, 35.507549901986636, 7.631961047439635, 14.166636332380385, 3.144055357629543, 10.93325377653781, 7.744261372056234, 12.732193931392288, 61.40971812927899, 10.805353783626803, 409.22263914624386, 39.3479241405531, 42.71886271081431, 158.2190578279378, 70.16865104158515, 46.7310953250005, 99.24061039400213, 59.42474614575536, 16.60918235870462, 71.83753279517047, 22.90357702826119, 27.364186116150968, 39.856561669035855, 154.914505682672, 68.33945737160282, 55.1327514386352, 170.7214491918981, 161.19426349303788, 221.25096433653894, 97.18250534290891, 156.8025495385353, 89.26175113244628, 73.0404896983832, 105.96898070699464, 496.94110370572093, 83.21457431455333, 60.31522110655029, 898.8362765421898, 31.656973882343937, 50.47323452730393, 16.45726431908116, 50.65456296982718, 10.680172262799992, 16.118379882081722, 7.1053730740168435, 7.101781362956799, 7.073099318987122, 6.6430406905257176, 6.254324935847872, 5.527253243194453, 11.590763004891558, 5.727880993966801, 9.690911791553475, 10.871348032303022, 4.459403241868134, 11.710892054636968, 8.968727660609146, 19.305925450512554, 3.702315573801103, 3.8327614272901402, 9.696980262034938, 9.687372325714907, 7.123848499398861, 11.35865718006601, 3.547134873447414, 3.5518018141965486, 43.380068847865, 10.163950404129073, 29.023253416923104, 30.862441302420823, 27.496505506147596, 10.064616963581596, 22.419063693656128, 36.0367649406868, 77.15478231023435, 154.914505682672, 36.568011241870565, 24.646208546868568, 16.960014025633374, 143.35327352804964, 102.51121869979214, 17.64660605696481, 19.86619382964752, 24.35021090324502, 19.08387677866267, 140.6315348179657, 49.92290190203524, 32.468214405431155, 717.1225643245648, 88.59496810823849, 122.95881130436311, 186.10734270902262, 89.26175113244628, 216.55934692907155, 45.3827366155696, 432.78292352348626, 150.44888976481624, 289.9615597182937, 423.3755469868957, 1800.3300853956582, 317.09255440920015, 103.94662079190316, 461.064999193751, 35.37165071148705, 12.39387728118099, 10.04380875200954, 15.413413321212335, 17.05489230285294, 10.339896525157307, 12.469323325261788, 9.030966750593572, 5.084033922906861, 5.082654679494848, 5.103527606755869, 5.094149241471192, 5.101154063700968, 5.0923808692717465, 10.406605318009372, 5.578208932073862, 18.66444561450589, 5.090558816928821, 5.107126667995218, 5.1080910122383285, 5.104180338122442, 5.074819155290056, 5.095080078256593, 16.817361805856663, 5.115645618454108, 4.055559046654842, 7.054956374299889, 44.163358904628026, 3.217099182945, 15.073167675770176, 23.27564356839073, 30.1235853910304, 24.827981813363998, 28.126017788585692, 48.92613578254824, 17.896003382735604, 17.189253957606507, 16.134222619508083, 10.794122859985062, 34.355911290368134, 21.236562215465554, 69.40737107353532, 68.66055489886826, 15.679370016658696, 10.816977217467928, 254.49136856463602, 455.7031427719041, 55.95307331376353, 76.80778067628081, 1573.2607420242373, 423.3755469868957, 445.6343717600258, 898.8362765421898, 1069.4548771367138, 1800.3300853956582, 1488.5555191862077, 678.0190687393871, 409.22263914624386, 388.82753996563133, 35.5195591395653, 12.741879309878808, 50.779015994274864, 18.176536722258117, 11.833426354262633, 4.5538669303475485, 4.551185525496768, 14.044584368619066, 4.548515930873511, 3.6246863361889834, 5.4568843771876745, 7.3642136387175645, 3.6531788359370503, 16.65201686756089, 34.67610929221791, 11.234159028772893, 9.497945312464667, 3.2467216723940244, 5.764218604224118, 5.662149531116538, 3.4115875676963174, 7.979229166972213, 28.028924817007717, 3.654514489635419, 9.640076709713068, 20.02928482129784, 14.44751083724942, 6.491775628241288, 24.15603018843204, 18.506360203460037, 10.192636674739857, 41.31116839776444, 23.878671637195783, 25.34112709713442, 14.772496509801364, 71.09324292027752, 56.92879652820227, 100.23576296585983, 21.868901566122243, 122.95881130436311, 55.81305247161789, 57.01371274550979, 104.31629762823022, 717.1225643245648, 230.1202136244966, 455.7031427719041, 206.2947138877533, 1047.4613870065818, 203.28787794293393, 89.70041916226384, 6.792914677493048, 7.274134194412884, 3.9208301529235445, 6.241428464958176, 5.8899435325098555, 4.434947103326247, 9.314763485391879, 11.382056622952534, 5.070055732857935, 3.1360220578838436, 7.624534785194267, 25.176369292844967, 5.67724316757731, 5.562345829562858, 21.05228876452727, 13.596672672507639, 4.254847662006527, 10.089585447566941, 4.158347662193407, 6.4082567497056475, 4.2626759110375145, 5.106742614365218, 4.45954293233537, 4.466080033331648, 5.350584985228995, 5.016242637043176, 5.007505247393863, 5.055208315662236, 14.559597422096594, 9.409321058636529, 13.547509133327956, 26.94774126306946, 46.66420181359613, 43.51467667552972, 28.013977357615605, 43.305122555729916, 186.10734270902262, 11.204462942304666, 89.26175113244628, 15.887350336342399, 78.74564248680916, 75.39667385157314, 73.51812267886089, 33.45127101516661, 98.73501294857881, 717.1225643245648, 236.2625093225985, 216.55934692907155, 62.713526534381806, 206.20131117133974, 140.6315348179657, 873.9681184878131, 247.6635911400768, 238.99384660075367, 103.94662079190316, 181.50713690085544, 293.8889679833935, 7.8307409676057596, 5.055436071695055, 5.072242614906951, 9.64497569353991, 2.9798903562957837, 2.987341392360482, 2.9908762294748286, 11.237380112793575, 10.564597073490898, 2.4859457928702473, 21.638724878991027, 11.673955014044544, 5.777247972160336, 14.796330316677084, 12.37426158006366, 60.04915031488141, 11.024253071771453, 3.262072082278125, 50.21008556142928, 20.280216069309684, 58.23914112824737, 4.168711126361932, 4.416804537276093, 4.4919869007080955, 7.233373023533753, 21.145214656286466, 5.365602712554611, 5.357488791255501, 8.121139033087083, 6.2055827376750115, 23.27564356839073, 16.33120549665738, 29.78615713986386, 149.62250660557794, 23.657928130601775, 47.29147710642903, 60.856823644450515, 47.99462074306213, 166.91248004085162, 171.8910997111117, 326.23621828961063, 87.19180724115402, 38.27030914682054, 423.3755469868957, 483.38822169979, 3.9368596024746347, 3.422131080060103, 5.6766673815351965, 4.487486468972478, 2.4859457928702473, 4.484096656269833, 4.618864054976349, 7.08706368744912, 2.9637818669147813, 3.3833997456465363, 3.1000423115144566, 3.3376418597246857, 3.337425381863226, 3.8494598848611083, 7.723742414055949, 4.706768371227962, 4.931605518635667, 4.8835602748438225, 5.149223836334952, 5.6596587255870014, 4.6269696960222095, 4.808455170643857, 5.553347729779593, 6.182685754255397, 5.182074921090553, 6.71809052062779, 5.662204860793139, 7.038551947161679, 6.453841861353025, 8.26012474799047, 16.587496529675832, 432.78292352348626, 10.013362003083383, 24.04591578987311, 198.5907495911881, 76.64119960010309, 104.31629762823022, 1488.5555191862077, 30.54474966375932, 26.568494793128064, 445.6343717600258, 27.097998643853973, 16.65201686756089, 205.0835643104511, 40.776887159799465, 195.83028555734947, 5.106258645162864, 3.5518018141965486, 3.547134873447414, 7.4394510107231575, 4.970887032360703, 3.5976861928561403, 2.4859457928702473, 4.702337101732321, 4.872139281645669, 3.5257820731987564, 4.459403241868134, 4.405180783011056, 5.433637440138875, 7.073099318987122, 3.7281578507995143, 7.101781362956799, 5.484510595608332, 2.9637818669147813, 5.827505561579586, 2.987341392360482, 2.9798903562957837, 4.393715679905671, 3.2467216723940244, 3.9208301529235445, 4.098336898653141, 3.1000423115144566, 3.144055357629543, 3.1360220578838436, 7.1053730740168435, 2.9908762294748286, 29.023253416923104, 10.871348032303022, 11.590763004891558, 5.527253243194453, 11.101478581160075, 6.350576748577866, 7.52347018028164, 7.866893371672222, 15.038344792857904, 8.105119336962831, 31.656973882343937, 60.64139879626047, 24.35021090324502, 44.785104544962685, 1069.4548771367138, 186.26555121955417, 1488.5555191862077, 612.6775528480707, 154.914505682672, 544.9130989523435, 986.8318829975985, 97.65341639895968, 51.62521147046131, 357.7315824172428, 1573.2607420242373, 1800.3300853956582, 898.8362765421898, 76.64119960010309, 466.349551329267, 220.35920229935985, 435.3607835538375, 873.9681184878131, 678.0190687393871, 445.6343717600258, 370.6374596190303, 2.4859457928702473, 3.5581700094308433, 2.987341392360482, 2.9637818669147813, 3.1000423115144566, 2.9798903562957837, 3.574074278227242, 3.6950657345880855, 3.217099182945, 2.9908762294748286, 3.144055357629543, 3.570411026289211, 3.1360220578838436, 3.2467216723940244, 3.2822814143125103, 3.262072082278125, 3.5112145119255334, 3.5572623553888625, 3.337425381863226, 3.341728807150157, 3.628365764543451, 3.505769234219072, 3.4115875676963174, 3.3376418597246857, 3.5648200594286075, 3.5070742982450036, 3.9165520288854876, 3.6036956884750775, 3.5672489705257573, 3.636312057456447, 3.646521710355419, 6.443279050160297, 4.417944992067821, 4.661774121460739, 3.8763277230738367, 4.757279783401232, 3.635799265418596, 3.9310251095861073, 4.450573640250715, 3.8801591144888308, 8.605436586171205, 4.405180783011056, 5.376511006119239, 6.274537399900697, 5.806787690335838, 7.104622637388627, 5.466391432028551, 8.034062080356286, 211.60170050498218, 156.56106298931564, 6.205909658355893, 7.811319888723769, 171.95581411000737, 81.74035872102198, 40.098278796396094, 5.940389178352462, 9.625160373667262, 5.580580263708522, 7.0650013393800535, 1800.3300853956582, 31.134291116024116, 14.711905563899526, 9.805401214470953, 678.0190687393871, 66.95413568423103, 53.73860440516357, 20.267513957137595, 395.17790790209125, 240.25545400751597, 16.290532216431306, 18.5362879658132, 20.794452837800367, 28.238471860991115, 37.284266625817196, 158.2190578279378, 1047.4613870065818, 166.91248004085162, 116.66833508666136, 1488.5555191862077, 544.9130989523435, 167.24256924677593, 94.5235726215093, 247.6635911400768, 461.064999193751, 410.6624593274789, 717.1225643245648, 186.26555121955417, 76.23609948470913, 230.1202136244966, 305.29659190770553, 873.9681184878131, 432.11347836666795, 445.6343717600258, 238.99384660075367, 470.8106530011891, 2.4859457928702473, 2.9798903562957837, 2.987341392360482, 3.1000423115144566, 3.1360220578838436, 2.9637818669147813, 3.144055357629543, 2.9908762294748286, 3.341728807150157, 3.2467216723940244, 3.217099182945, 3.3376418597246857, 3.515239483158422, 3.719432347431283, 3.4115875676963174, 3.531545274648197, 3.5350244790806653, 3.5349693768193147, 3.548586716632199, 3.5794055585340385, 3.540608976339925, 3.3833997456465363, 3.456952674169037, 3.4474510155905675, 3.574074278227242, 3.5855162834401373, 3.5011028343647497, 3.708091997607709, 3.649245948382828, 3.497759807058077, 3.5889688727827904, 3.8235262746329073, 3.5518018141965486, 3.65940915994928, 3.872262789198942, 3.628365764543451, 3.6304274639989322, 4.442819322942672, 3.6621323118129037, 3.7477817594130984, 3.849534833471844, 4.459403241868134, 4.347468013282344, 5.770642181615903, 5.604247371670493, 3.945353164425048, 3.9310251095861073, 157.0168796937565, 171.95581411000737, 6.036733817929245, 4.86272995132459, 40.098278796396094, 53.73860440516357, 8.968727660609146, 4.797443269142097, 240.25545400751597, 7.212230611703508, 6.417924109389571, 66.83449253464383, 9.805401214470953, 15.43421298516505, 8.427414720669763, 18.498272235348967, 23.880622605860125, 13.651014857609827, 7.866893371672222, 1800.3300853956582, 116.66833508666136, 13.352710270274297, 8.895052022838303, 321.38130143047533, 75.39667385157314, 47.368192283592805, 31.134291116024116, 11.590763004891558, 166.91248004085162, 193.01693672404573, 461.064999193751, 181.95740922835813, 187.71801316578458, 31.656973882343937, 1488.5555191862077, 62.03284382104367, 89.2198703522361, 1047.4613870065818, 154.914505682672, 470.8106530011891, 176.85289746491395, 365.45131857677484, 238.99384660075367, 133.26261970226662, 191.57765108284005, 432.11347836666795, 211.60170050498218, 347.5434944102035], \"Category\": [\"Default\", \"Default\", \"Default\", \"Default\", \"Default\", \"Default\", \"Default\", \"Default\", \"Default\", \"Default\", \"Default\", \"Default\", \"Default\", \"Default\", \"Default\", \"Default\", \"Default\", \"Default\", \"Default\", \"Default\", \"Default\", \"Default\", \"Default\", \"Default\", \"Default\", \"Default\", \"Default\", \"Default\", \"Default\", \"Default\", \"Topic1\", \"Topic1\", \"Topic1\", \"Topic1\", \"Topic1\", \"Topic1\", \"Topic1\", \"Topic1\", \"Topic1\", \"Topic1\", \"Topic1\", \"Topic1\", \"Topic1\", \"Topic1\", \"Topic1\", \"Topic1\", \"Topic1\", \"Topic1\", \"Topic1\", \"Topic1\", \"Topic1\", \"Topic1\", \"Topic1\", \"Topic1\", \"Topic1\", \"Topic1\", \"Topic1\", \"Topic1\", \"Topic1\", \"Topic1\", \"Topic1\", \"Topic1\", \"Topic1\", \"Topic1\", \"Topic1\", \"Topic1\", \"Topic1\", \"Topic1\", \"Topic1\", \"Topic1\", \"Topic1\", \"Topic1\", \"Topic1\", \"Topic1\", \"Topic1\", \"Topic1\", \"Topic1\", \"Topic1\", \"Topic1\", \"Topic1\", \"Topic1\", \"Topic1\", \"Topic1\", \"Topic1\", \"Topic1\", \"Topic1\", \"Topic1\", \"Topic1\", \"Topic1\", \"Topic1\", \"Topic1\", \"Topic1\", \"Topic1\", \"Topic1\", \"Topic1\", \"Topic1\", \"Topic1\", \"Topic1\", \"Topic1\", \"Topic1\", \"Topic1\", \"Topic1\", \"Topic1\", \"Topic1\", \"Topic1\", \"Topic1\", \"Topic1\", \"Topic2\", \"Topic2\", \"Topic2\", \"Topic2\", \"Topic2\", \"Topic2\", \"Topic2\", \"Topic2\", \"Topic2\", \"Topic2\", \"Topic2\", \"Topic2\", \"Topic2\", \"Topic2\", \"Topic2\", \"Topic2\", \"Topic2\", \"Topic2\", \"Topic2\", \"Topic2\", \"Topic2\", \"Topic2\", \"Topic2\", \"Topic2\", \"Topic2\", \"Topic2\", \"Topic2\", \"Topic2\", \"Topic2\", \"Topic2\", \"Topic2\", \"Topic2\", \"Topic2\", \"Topic2\", \"Topic2\", \"Topic2\", \"Topic2\", \"Topic2\", \"Topic2\", \"Topic2\", \"Topic2\", \"Topic2\", \"Topic2\", \"Topic2\", \"Topic2\", \"Topic2\", \"Topic2\", \"Topic2\", \"Topic2\", \"Topic2\", \"Topic2\", \"Topic2\", \"Topic2\", \"Topic2\", \"Topic2\", \"Topic2\", \"Topic2\", \"Topic2\", \"Topic2\", \"Topic2\", \"Topic2\", \"Topic2\", \"Topic2\", \"Topic2\", \"Topic2\", \"Topic2\", \"Topic2\", \"Topic2\", \"Topic2\", \"Topic2\", \"Topic2\", \"Topic2\", \"Topic2\", \"Topic2\", \"Topic2\", \"Topic2\", \"Topic2\", \"Topic2\", \"Topic3\", \"Topic3\", \"Topic3\", \"Topic3\", \"Topic3\", \"Topic3\", \"Topic3\", \"Topic3\", \"Topic3\", \"Topic3\", \"Topic3\", \"Topic3\", \"Topic3\", \"Topic3\", \"Topic3\", \"Topic3\", \"Topic3\", \"Topic3\", \"Topic3\", \"Topic3\", \"Topic3\", \"Topic3\", \"Topic3\", \"Topic3\", \"Topic3\", \"Topic3\", \"Topic3\", \"Topic3\", \"Topic3\", \"Topic3\", \"Topic3\", \"Topic3\", \"Topic3\", \"Topic3\", \"Topic3\", \"Topic3\", \"Topic3\", \"Topic3\", \"Topic3\", \"Topic3\", \"Topic3\", \"Topic3\", \"Topic3\", \"Topic3\", \"Topic3\", \"Topic3\", \"Topic3\", \"Topic3\", \"Topic3\", \"Topic3\", \"Topic3\", \"Topic3\", \"Topic3\", \"Topic3\", \"Topic3\", \"Topic3\", \"Topic3\", \"Topic3\", \"Topic3\", \"Topic3\", \"Topic3\", \"Topic3\", \"Topic3\", \"Topic3\", \"Topic3\", \"Topic3\", \"Topic3\", \"Topic3\", \"Topic3\", \"Topic3\", \"Topic3\", \"Topic3\", \"Topic3\", \"Topic3\", \"Topic3\", \"Topic3\", \"Topic3\", \"Topic3\", \"Topic3\", \"Topic3\", \"Topic3\", \"Topic3\", \"Topic4\", \"Topic4\", \"Topic4\", \"Topic4\", \"Topic4\", \"Topic4\", \"Topic4\", \"Topic4\", \"Topic4\", \"Topic4\", \"Topic4\", \"Topic4\", \"Topic4\", \"Topic4\", \"Topic4\", \"Topic4\", \"Topic4\", \"Topic4\", \"Topic4\", \"Topic4\", \"Topic4\", \"Topic4\", \"Topic4\", \"Topic4\", \"Topic4\", \"Topic4\", \"Topic4\", \"Topic4\", \"Topic4\", \"Topic4\", \"Topic4\", \"Topic4\", \"Topic4\", \"Topic4\", \"Topic4\", \"Topic4\", \"Topic4\", \"Topic4\", \"Topic4\", \"Topic4\", \"Topic4\", \"Topic4\", \"Topic4\", \"Topic4\", \"Topic4\", \"Topic4\", \"Topic4\", \"Topic4\", \"Topic4\", \"Topic4\", \"Topic4\", \"Topic4\", \"Topic4\", \"Topic4\", \"Topic4\", \"Topic4\", \"Topic4\", \"Topic4\", \"Topic4\", \"Topic4\", \"Topic4\", \"Topic5\", \"Topic5\", \"Topic5\", \"Topic5\", \"Topic5\", \"Topic5\", \"Topic5\", \"Topic5\", \"Topic5\", \"Topic5\", \"Topic5\", \"Topic5\", \"Topic5\", \"Topic5\", \"Topic5\", \"Topic5\", \"Topic5\", \"Topic5\", \"Topic5\", \"Topic5\", \"Topic5\", \"Topic5\", \"Topic5\", \"Topic5\", \"Topic5\", \"Topic5\", \"Topic5\", \"Topic5\", \"Topic5\", \"Topic5\", \"Topic5\", \"Topic5\", \"Topic5\", \"Topic5\", \"Topic5\", \"Topic5\", \"Topic5\", \"Topic5\", \"Topic5\", \"Topic5\", \"Topic5\", \"Topic5\", \"Topic5\", \"Topic5\", \"Topic5\", \"Topic5\", \"Topic5\", \"Topic5\", \"Topic5\", \"Topic5\", \"Topic5\", \"Topic5\", \"Topic5\", \"Topic5\", \"Topic5\", \"Topic5\", \"Topic5\", \"Topic5\", \"Topic5\", \"Topic5\", \"Topic6\", \"Topic6\", \"Topic6\", \"Topic6\", \"Topic6\", \"Topic6\", \"Topic6\", \"Topic6\", \"Topic6\", \"Topic6\", \"Topic6\", \"Topic6\", \"Topic6\", \"Topic6\", \"Topic6\", \"Topic6\", \"Topic6\", \"Topic6\", \"Topic6\", \"Topic6\", \"Topic6\", \"Topic6\", \"Topic6\", \"Topic6\", \"Topic6\", \"Topic6\", \"Topic6\", \"Topic6\", \"Topic6\", \"Topic6\", \"Topic6\", \"Topic6\", \"Topic6\", \"Topic6\", \"Topic6\", \"Topic6\", \"Topic6\", \"Topic6\", \"Topic6\", \"Topic6\", \"Topic6\", \"Topic6\", \"Topic6\", \"Topic6\", \"Topic6\", \"Topic6\", \"Topic6\", \"Topic6\", \"Topic6\", \"Topic6\", \"Topic6\", \"Topic6\", \"Topic6\", \"Topic6\", \"Topic6\", \"Topic6\", \"Topic6\", \"Topic6\", \"Topic6\", \"Topic6\", \"Topic6\", \"Topic6\", \"Topic6\", \"Topic6\", \"Topic6\", \"Topic7\", \"Topic7\", \"Topic7\", \"Topic7\", \"Topic7\", \"Topic7\", \"Topic7\", \"Topic7\", \"Topic7\", \"Topic7\", \"Topic7\", \"Topic7\", \"Topic7\", \"Topic7\", \"Topic7\", \"Topic7\", \"Topic7\", \"Topic7\", \"Topic7\", \"Topic7\", \"Topic7\", \"Topic7\", \"Topic7\", \"Topic7\", \"Topic7\", \"Topic7\", \"Topic7\", \"Topic7\", \"Topic7\", \"Topic7\", \"Topic7\", \"Topic7\", \"Topic7\", \"Topic7\", \"Topic7\", \"Topic7\", \"Topic7\", \"Topic7\", \"Topic7\", \"Topic7\", \"Topic7\", \"Topic7\", \"Topic7\", \"Topic7\", \"Topic7\", \"Topic7\", \"Topic7\", \"Topic7\", \"Topic7\", \"Topic7\", \"Topic7\", \"Topic7\", \"Topic7\", \"Topic7\", \"Topic7\", \"Topic7\", \"Topic7\", \"Topic7\", \"Topic7\", \"Topic8\", \"Topic8\", \"Topic8\", \"Topic8\", \"Topic8\", \"Topic8\", \"Topic8\", \"Topic8\", \"Topic8\", \"Topic8\", \"Topic8\", \"Topic8\", \"Topic8\", \"Topic8\", \"Topic8\", \"Topic8\", \"Topic8\", \"Topic8\", \"Topic8\", \"Topic8\", \"Topic8\", \"Topic8\", \"Topic8\", \"Topic8\", \"Topic8\", \"Topic8\", \"Topic8\", \"Topic8\", \"Topic8\", \"Topic8\", \"Topic8\", \"Topic8\", \"Topic8\", \"Topic8\", \"Topic8\", \"Topic8\", \"Topic8\", \"Topic8\", \"Topic8\", \"Topic8\", \"Topic8\", \"Topic8\", \"Topic8\", \"Topic8\", \"Topic8\", \"Topic8\", \"Topic8\", \"Topic8\", \"Topic8\", \"Topic8\", \"Topic9\", \"Topic9\", \"Topic9\", \"Topic9\", \"Topic9\", \"Topic9\", \"Topic9\", \"Topic9\", \"Topic9\", \"Topic9\", \"Topic9\", \"Topic9\", \"Topic9\", \"Topic9\", \"Topic9\", \"Topic9\", \"Topic9\", \"Topic9\", \"Topic9\", \"Topic9\", \"Topic9\", \"Topic9\", \"Topic9\", \"Topic9\", \"Topic9\", \"Topic9\", \"Topic9\", \"Topic9\", \"Topic9\", \"Topic9\", \"Topic9\", \"Topic9\", \"Topic9\", \"Topic9\", \"Topic9\", \"Topic9\", \"Topic9\", \"Topic9\", \"Topic9\", \"Topic9\", \"Topic9\", \"Topic9\", \"Topic9\", \"Topic9\", \"Topic9\", \"Topic9\", \"Topic9\", \"Topic9\", \"Topic9\", \"Topic9\", \"Topic9\", \"Topic9\", \"Topic9\", \"Topic9\", \"Topic9\", \"Topic9\", \"Topic9\", \"Topic10\", \"Topic10\", \"Topic10\", \"Topic10\", \"Topic10\", \"Topic10\", \"Topic10\", \"Topic10\", \"Topic10\", \"Topic10\", \"Topic10\", \"Topic10\", \"Topic10\", \"Topic10\", \"Topic10\", \"Topic10\", \"Topic10\", \"Topic10\", \"Topic10\", \"Topic10\", \"Topic10\", \"Topic10\", \"Topic10\", \"Topic10\", \"Topic10\", \"Topic10\", \"Topic10\", \"Topic10\", \"Topic10\", \"Topic10\", \"Topic10\", \"Topic10\", \"Topic10\", \"Topic10\", \"Topic10\", \"Topic10\", \"Topic10\", \"Topic10\", \"Topic10\", \"Topic10\", \"Topic10\", \"Topic10\", \"Topic10\", \"Topic10\", \"Topic10\", \"Topic11\", \"Topic11\", \"Topic11\", \"Topic11\", \"Topic11\", \"Topic11\", \"Topic11\", \"Topic11\", \"Topic11\", \"Topic11\", \"Topic11\", \"Topic11\", \"Topic11\", \"Topic11\", \"Topic11\", \"Topic11\", \"Topic11\", \"Topic11\", \"Topic11\", \"Topic11\", \"Topic11\", \"Topic11\", \"Topic11\", \"Topic11\", \"Topic11\", \"Topic11\", \"Topic11\", \"Topic11\", \"Topic11\", \"Topic11\", \"Topic11\", \"Topic11\", \"Topic11\", \"Topic11\", \"Topic11\", \"Topic11\", \"Topic11\", \"Topic11\", \"Topic11\", \"Topic11\", \"Topic11\", \"Topic11\", \"Topic11\", \"Topic11\", \"Topic11\", \"Topic11\", \"Topic12\", \"Topic12\", \"Topic12\", \"Topic12\", \"Topic12\", \"Topic12\", \"Topic12\", \"Topic12\", \"Topic12\", \"Topic12\", \"Topic12\", \"Topic12\", \"Topic12\", \"Topic12\", \"Topic12\", \"Topic12\", \"Topic12\", \"Topic12\", \"Topic12\", \"Topic12\", \"Topic12\", \"Topic12\", \"Topic12\", \"Topic12\", \"Topic12\", \"Topic12\", \"Topic12\", \"Topic12\", \"Topic12\", \"Topic12\", \"Topic12\", \"Topic12\", \"Topic12\", \"Topic12\", \"Topic12\", \"Topic12\", \"Topic12\", \"Topic12\", \"Topic12\", \"Topic12\", \"Topic12\", \"Topic12\", \"Topic12\", \"Topic12\", \"Topic12\", \"Topic12\", \"Topic12\", \"Topic12\", \"Topic12\", \"Topic12\", \"Topic12\", \"Topic12\", \"Topic12\", \"Topic12\", \"Topic12\", \"Topic12\", \"Topic12\", \"Topic12\", \"Topic12\", \"Topic12\", \"Topic12\", \"Topic12\", \"Topic12\", \"Topic12\", \"Topic12\", \"Topic13\", \"Topic13\", \"Topic13\", \"Topic13\", \"Topic13\", \"Topic13\", \"Topic13\", \"Topic13\", \"Topic13\", \"Topic13\", \"Topic13\", \"Topic13\", \"Topic13\", \"Topic13\", \"Topic13\", \"Topic13\", \"Topic13\", \"Topic13\", \"Topic13\", \"Topic13\", \"Topic13\", \"Topic13\", \"Topic13\", \"Topic13\", \"Topic13\", \"Topic13\", \"Topic13\", \"Topic13\", \"Topic13\", \"Topic13\", \"Topic13\", \"Topic13\", \"Topic13\", \"Topic13\", \"Topic13\", \"Topic13\", \"Topic13\", \"Topic13\", \"Topic13\", \"Topic13\", \"Topic13\", \"Topic13\", \"Topic13\", \"Topic13\", \"Topic13\", \"Topic13\", \"Topic13\", \"Topic13\", \"Topic13\", \"Topic13\", \"Topic13\", \"Topic13\", \"Topic13\", \"Topic13\", \"Topic13\", \"Topic13\", \"Topic13\", \"Topic13\", \"Topic13\", \"Topic13\", \"Topic13\", \"Topic13\", \"Topic13\", \"Topic13\", \"Topic13\", \"Topic13\", \"Topic13\", \"Topic13\", \"Topic13\", \"Topic13\", \"Topic13\", \"Topic13\", \"Topic13\", \"Topic13\", \"Topic13\", \"Topic13\", \"Topic13\", \"Topic13\", \"Topic13\", \"Topic13\", \"Topic13\", \"Topic13\", \"Topic13\", \"Topic13\", \"Topic13\", \"Topic13\", \"Topic13\", \"Topic13\", \"Topic13\", \"Topic13\", \"Topic13\", \"Topic13\", \"Topic13\", \"Topic13\", \"Topic13\", \"Topic14\", \"Topic14\", \"Topic14\", \"Topic14\", \"Topic14\", \"Topic14\", \"Topic14\", \"Topic14\", \"Topic14\", \"Topic14\", \"Topic14\", \"Topic14\", \"Topic14\", \"Topic14\", \"Topic14\", \"Topic14\", \"Topic14\", \"Topic14\", \"Topic14\", \"Topic14\", \"Topic14\", \"Topic14\", \"Topic14\", \"Topic14\", \"Topic14\", \"Topic14\", \"Topic14\", \"Topic14\", \"Topic14\", \"Topic14\", \"Topic14\", \"Topic14\", \"Topic14\", \"Topic14\", \"Topic14\", \"Topic14\", \"Topic14\", \"Topic14\", \"Topic14\", \"Topic14\", \"Topic14\", \"Topic14\", \"Topic14\", \"Topic14\", \"Topic14\", \"Topic14\", \"Topic14\", \"Topic14\", \"Topic14\", \"Topic14\", \"Topic14\", \"Topic14\", \"Topic14\", \"Topic14\", \"Topic14\", \"Topic14\", \"Topic14\", \"Topic14\", \"Topic14\", \"Topic14\", \"Topic14\", \"Topic14\", \"Topic14\", \"Topic14\", \"Topic14\", \"Topic14\", \"Topic14\", \"Topic14\", \"Topic14\", \"Topic14\", \"Topic14\", \"Topic14\", \"Topic14\", \"Topic14\", \"Topic14\", \"Topic14\", \"Topic14\", \"Topic14\", \"Topic14\", \"Topic14\", \"Topic14\", \"Topic14\", \"Topic14\", \"Topic14\", \"Topic14\", \"Topic14\", \"Topic14\", \"Topic14\", \"Topic14\", \"Topic14\", \"Topic14\", \"Topic14\", \"Topic14\", \"Topic14\", \"Topic14\"], \"logprob\": [30.0, 29.0, 28.0, 27.0, 26.0, 25.0, 24.0, 23.0, 22.0, 21.0, 20.0, 19.0, 18.0, 17.0, 16.0, 15.0, 14.0, 13.0, 12.0, 11.0, 10.0, 9.0, 8.0, 7.0, 6.0, 5.0, 4.0, 3.0, 2.0, 1.0, -6.4392, -6.2873, -6.4976, -7.2808, -6.1611, -7.5683, -7.7406, -6.9547, -7.8541, -7.5462, -6.3757, -7.0477, -7.8718, -8.0076, -7.8416, -7.5551, -5.482, -7.8996, -8.0884, -8.1695, -7.2585, -8.2328, -5.5694, -8.2264, -7.4307, -7.8067, -8.4115, -8.1765, -8.312, -8.4113, -4.9367, -5.0054, -5.6955, -4.9146, -6.999, -6.1264, -7.4884, -5.1924, -6.5423, -6.8427, -5.1819, -5.38, -5.5993, -5.7286, -6.5066, -5.2598, -6.1476, -6.461, -6.8837, -5.4509, -5.8051, -5.1618, -4.5213, -4.3651, -5.2751, -4.0607, -3.946, -5.9734, -4.9566, -5.6254, -5.2852, -4.5156, -5.1618, -4.9021, -4.3566, -5.4564, -5.0697, -4.8292, -5.1759, -4.7488, -5.3155, -5.3596, -5.3204, -5.3099, -5.2857, -5.3555, -5.384, -6.7431, -6.1063, -7.2541, -6.9578, -6.6666, -7.4923, -6.2221, -6.1756, -7.3065, -7.6481, -6.7657, -7.8681, -7.8634, -7.677, -7.6172, -7.5234, -7.7698, -6.2389, -8.0223, -8.0241, -8.0227, -7.2409, -7.384, -8.035, -7.876, -6.4422, -8.1245, -6.6607, -7.9315, -8.1474, -5.7422, -7.546, -6.3545, -5.609, -6.8937, -6.636, -7.5942, -6.0147, -6.2673, -4.698, -7.2222, -6.6323, -5.6869, -3.9976, -4.7342, -6.7551, -6.3902, -5.9963, -5.9403, -5.19, -4.9046, -4.7855, -5.2658, -3.9634, -4.0135, -4.4163, -5.6873, -4.4261, -4.9196, -4.7801, -5.5194, -5.5313, -5.7334, -5.787, -5.294, -4.5666, -5.4272, -5.1041, -5.4629, -5.3062, -5.3377, -5.4952, -5.1843, -5.5515, -5.4753, -5.3897, -5.4699, -5.5337, -5.1731, -6.6341, -6.2695, -5.6679, -6.916, -5.2799, -6.7779, -7.1258, -7.1318, -7.3332, -7.3108, -6.6176, -6.4721, -6.3669, -6.5879, -7.5516, -7.4328, -7.5794, -7.7514, -7.7773, -7.7767, -7.8417, -6.7309, -7.2173, -7.9068, -7.9325, -7.9455, -8.0538, -8.0128, -8.0344, -7.2178, -7.4961, -5.0747, -6.7885, -7.0662, -6.4292, -6.9543, -7.238, -6.6961, -6.6546, -6.5844, -6.1722, -6.1106, -6.5634, -6.2373, -5.2544, -4.7223, -6.4306, -6.3672, -6.6706, -6.0798, -6.3841, -5.0832, -5.8288, -5.6198, -5.4848, -5.7809, -4.4559, -5.0418, -5.3221, -5.9496, -5.9357, -5.4117, -6.017, -5.9352, -5.0468, -5.9954, -5.0372, -5.9593, -5.8478, -5.7015, -5.622, -5.7389, -5.6062, -5.8588, -5.8015, -5.864, -5.8256, -5.8942, -5.9235, -5.9231, -5.9312, -3.5847, -4.3873, -5.1103, -5.6745, -5.7957, -5.1446, -6.122, -6.0286, -6.6617, -6.6386, -5.8671, -5.3175, -6.0681, -5.4799, -6.9233, -5.714, -6.9354, -6.0698, -7.0289, -7.3135, -7.3205, -5.9842, -5.4541, -6.6836, -6.6928, -5.3396, -6.3433, -4.9994, -7.5932, -6.0111, -5.3636, -5.506, -6.418, -5.2631, -5.6075, -5.9891, -5.7275, -5.2873, -4.7163, -4.5799, -3.759, -5.4003, -5.5467, -3.6558, -4.414, -4.8374, -5.4213, -5.2614, -5.0626, -5.3736, -4.3443, -5.0244, -4.7983, -5.4052, -5.2953, -4.7772, -5.0437, -5.1739, -5.1844, -5.2806, -5.3684, -5.7874, -4.5995, -6.0863, -6.2232, -6.6186, -5.8235, -4.5351, -5.0599, -7.0517, -7.057, -7.2356, -7.2343, -6.0286, -6.5716, -7.4506, -7.4529, -7.4512, -7.4549, -6.7445, -4.882, -6.3585, -6.6543, -4.1462, -5.2734, -6.8197, -6.2098, -7.734, -6.495, -6.8946, -6.404, -4.926, -6.5807, -3.2293, -5.4453, -5.3953, -4.3062, -5.005, -5.3519, -4.7632, -5.1968, -6.2196, -5.1435, -5.983, -5.8542, -5.6039, -4.7657, -5.3228, -5.4693, -4.7864, -4.8597, -4.7274, -5.1802, -4.9383, -5.2687, -5.3812, -5.329, -5.006, -5.4782, -5.5565, -5.2599, -5.1115, -4.6567, -5.7834, -4.6749, -6.2514, -5.8492, -6.6909, -6.6938, -6.6985, -6.765, -6.8396, -6.9835, -6.2498, -6.958, -6.4353, -6.3421, -7.2381, -6.2811, -6.5577, -5.8088, -7.4666, -7.4326, -6.5076, -6.5092, -6.8167, -6.3503, -7.519, -7.5214, -5.0227, -6.4759, -5.4266, -5.3679, -5.4998, -6.4959, -5.7262, -5.2893, -4.6738, -4.085, -5.3555, -5.6989, -6.0484, -4.6451, -4.9088, -6.111, -6.0365, -5.9067, -6.0699, -4.8527, -5.4966, -5.7543, -3.9743, -5.1934, -5.1471, -4.9829, -5.3517, -5.0895, -5.7203, -4.9762, -5.4223, -5.2523, -5.162, -4.8137, -5.2577, -5.6551, -5.6344, -4.1649, -5.2473, -5.4732, -5.064, -4.9711, -5.481, -5.3072, -5.6549, -6.2512, -6.2582, -6.2581, -6.2603, -6.2613, -6.2631, -5.5502, -6.174, -4.9677, -6.2681, -6.2679, -6.2684, -6.2712, -6.2802, -6.2778, -5.0864, -6.2777, -6.5276, -5.9745, -4.1502, -6.7737, -5.2382, -4.8519, -4.7288, -4.9445, -4.8503, -4.4185, -5.2748, -5.3697, -5.4173, -5.7237, -4.9163, -5.2958, -4.5504, -4.6879, -5.5915, -5.8146, -4.458, -4.2806, -5.1437, -5.1043, -4.2894, -4.7598, -4.7508, -4.6184, -4.7023, -4.8347, -4.859, -5.0137, -5.2116, -5.2367, -3.6137, -4.6819, -3.315, -4.4077, -4.858, -5.8325, -5.8375, -4.7236, -5.8684, -6.1188, -5.7306, -5.4577, -6.16, -4.8252, -4.1098, -5.2749, -5.4874, -6.5999, -6.1182, -6.1531, -6.6641, -5.8375, -4.6175, -6.6558, -5.7365, -5.0219, -5.3859, -6.2574, -4.9684, -5.246, -5.8498, -4.6452, -5.1564, -5.1734, -5.5996, -4.5777, -4.9303, -4.6612, -5.4616, -4.8319, -5.23, -5.3071, -5.2411, -4.9206, -5.1347, -5.0374, -5.2161, -5.054, -5.2767, -5.3408, -5.2446, -5.406, -6.08, -5.6295, -5.757, -6.1941, -5.463, -5.2684, -6.0821, -6.5748, -5.6903, -4.5675, -6.077, -6.1884, -4.8875, -5.3617, -6.5431, -5.6837, -6.5802, -6.1622, -6.5779, -6.4251, -6.5786, -6.5804, -6.4054, -6.5691, -6.5816, -6.5847, -5.5319, -5.9886, -5.6567, -5.0196, -4.5458, -4.6106, -5.0082, -4.8927, -3.8787, -5.9087, -4.54, -5.6995, -4.7583, -4.8295, -4.8438, -5.4218, -5.0736, -4.3779, -4.7788, -4.8303, -5.3258, -5.0137, -5.1359, -4.7172, -5.1941, -5.2052, -5.3625, -5.3479, -5.404, -4.6009, -5.1076, -5.1062, -4.6046, -5.786, -5.7862, -5.7881, -4.5099, -4.7061, -6.1802, -4.0652, -4.7257, -5.486, -4.6138, -4.8184, -3.2403, -4.9578, -6.1804, -3.4943, -4.5113, -3.5188, -6.1829, -6.1811, -6.1824, -5.8022, -4.7849, -6.1812, -6.1861, -5.8031, -6.1921, -4.9543, -5.2926, -4.9852, -4.0259, -5.3034, -4.9891, -4.8685, -5.0856, -4.7029, -4.7272, -4.8201, -5.1351, -5.3012, -5.077, -5.0966, -4.9931, -5.7017, -5.2935, -5.6686, -6.304, -5.7316, -5.7031, -5.3171, -6.3321, -6.3071, -6.4149, -6.3845, -6.4321, -6.4227, -5.7977, -6.3558, -6.3747, -6.4264, -6.3861, -6.3047, -6.5401, -6.5223, -6.3911, -6.303, -6.4871, -6.3607, -6.5444, -6.3589, -6.5608, -6.3407, -5.6617, -4.4157, -6.3044, -6.0991, -5.6673, -5.8957, -5.9064, -5.9582, -6.2782, -6.3007, -6.1887, -6.3127, -6.328, -6.278, -6.3206, -6.3141, -7.3843, -7.8892, -7.9218, -7.2921, -7.7207, -8.0505, -8.4268, -7.8163, -7.7878, -8.1136, -7.8894, -7.9021, -7.707, -7.4813, -8.1326, -7.5279, -7.8021, -8.4235, -7.7559, -8.4252, -8.4383, -8.0582, -8.3626, -8.1795, -8.1443, -8.4355, -8.4255, -8.4287, -7.6152, -8.4866, -6.3667, -7.3079, -7.252, -7.9737, -7.4408, -7.8721, -7.7622, -7.7957, -7.4303, -7.7952, -7.1184, -6.909, -7.3964, -7.3918, -6.5319, -7.0565, -6.5651, -6.8531, -7.3132, -7.1341, -7.0944, -7.4288, -7.5291, -7.2893, -7.1277, -7.156, -7.2783, -7.5164, -7.3754, -7.4384, -7.4384, -7.4207, -7.4518, -7.4768, -7.48, -8.4192, -8.1674, -8.3713, -8.3912, -8.3846, -8.429, -8.2472, -8.2472, -8.3887, -8.4649, -8.4294, -8.3051, -8.44, -8.4054, -8.3948, -8.4013, -8.3389, -8.3284, -8.3925, -8.3918, -8.3192, -8.3587, -8.387, -8.4091, -8.3446, -8.3661, -8.2563, -8.341, -8.3512, -8.3363, -8.3387, -7.9463, -8.215, -8.1899, -8.3103, -8.1961, -8.347, -8.3065, -8.2499, -8.3183, -7.9594, -8.2613, -8.183, -8.127, -8.162, -8.0962, -8.1932, -8.0608, -6.9314, -7.0395, -8.1663, -8.1159, -7.257, -7.4679, -7.6897, -8.2002, -8.0875, -8.2192, -8.1626, -6.8968, -7.836, -8.0139, -8.0958, -7.2802, -7.777, -7.8159, -7.9897, -7.5294, -7.6352, -8.0286, -8.0106, -7.9946, -7.9634, -7.9279, -7.7616, -7.5611, -7.7702, -7.8156, -7.5359, -7.6466, -7.7891, -7.8549, -7.7685, -7.7236, -7.7504, -7.7181, -7.8268, -7.8905, -7.8156, -7.8065, -7.7483, -7.7965, -7.8084, -7.8331, -7.8313, -8.3849, -8.3535, -8.3566, -8.3256, -8.3459, -8.4028, -8.3582, -8.4193, -8.3132, -8.357, -8.3956, -8.361, -8.3264, -8.2761, -8.3631, -8.3297, -8.3316, -8.3323, -8.3288, -8.321, -8.3319, -8.3777, -8.3602, -8.3634, -8.3274, -8.3247, -8.3492, -8.2934, -8.3097, -8.3546, -8.335, -8.2951, -8.3445, -8.3289, -8.2992, -8.3337, -8.3337, -8.2429, -8.3301, -8.3251, -8.3172, -8.2753, -8.2878, -8.2337, -8.2439, -8.3155, -8.3163, -7.683, -7.6695, -8.2429, -8.2835, -7.9821, -7.9674, -8.2048, -8.2916, -7.7922, -8.2394, -8.2576, -7.9866, -8.2113, -8.1639, -8.2304, -8.148, -8.1253, -8.1899, -8.245, -7.7692, -8.0096, -8.1992, -8.2351, -7.95, -8.0661, -8.1077, -8.1426, -8.2163, -8.0306, -8.0474, -7.9988, -8.0583, -8.0602, -8.1613, -7.9817, -8.1413, -8.1303, -8.0508, -8.1085, -8.0766, -8.1122, -8.0979, -8.1087, -8.1267, -8.12, -8.1159, -8.1371, -8.1395], \"loglift\": [30.0, 29.0, 28.0, 27.0, 26.0, 25.0, 24.0, 23.0, 22.0, 21.0, 20.0, 19.0, 18.0, 17.0, 16.0, 15.0, 14.0, 13.0, 12.0, 11.0, 10.0, 9.0, 8.0, 7.0, 6.0, 5.0, 4.0, 3.0, 2.0, 1.0, 0.8976, 0.8903, 0.8883, 0.885, 0.8849, 0.8829, 0.8784, 0.8717, 0.8707, 0.8706, 0.8689, 0.8685, 0.8674, 0.8655, 0.8654, 0.8646, 0.8628, 0.8582, 0.8579, 0.8578, 0.8567, 0.8541, 0.852, 0.8506, 0.8504, 0.8497, 0.8486, 0.8485, 0.8478, 0.8477, 0.8442, 0.8423, 0.8389, 0.8266, 0.8458, 0.8353, 0.8472, 0.8133, 0.8371, 0.835, 0.7714, 0.7601, 0.7481, 0.7428, 0.7846, 0.6752, 0.7492, 0.7722, 0.8072, 0.6596, 0.6948, 0.6138, 0.529, 0.5041, 0.6174, 0.4017, 0.3816, 0.7008, 0.5231, 0.6405, 0.575, 0.4133, 0.4968, 0.402, 0.1612, 0.5258, 0.3358, 0.193, 0.3468, 0.0997, 0.4253, 0.4459, 0.4034, 0.3326, 0.295, 0.2084, 0.2167, 1.4491, 1.4445, 1.4367, 1.4329, 1.4286, 1.4267, 1.4233, 1.4179, 1.4137, 1.4105, 1.4078, 1.4039, 1.4032, 1.4028, 1.4015, 1.399, 1.3978, 1.3961, 1.396, 1.3959, 1.3946, 1.3944, 1.392, 1.3919, 1.3906, 1.3873, 1.3843, 1.384, 1.3833, 1.38, 1.3666, 1.3775, 1.3375, 1.3076, 1.3338, 1.2968, 1.3668, 1.2409, 1.2621, 1.0613, 1.3355, 1.256, 1.106, 0.8508, 0.9442, 1.2625, 1.2012, 1.12, 1.1055, 0.8892, 0.8195, 0.7783, 0.8937, 0.499, 0.5043, 0.6059, 0.9724, 0.5027, 0.681, 0.6255, 0.8491, 0.7704, 0.8628, 0.8731, 0.4468, -0.2389, 0.5164, 0.144, 0.4452, 0.2165, 0.243, 0.4597, -0.134, 0.4842, 0.1833, -0.0855, 0.1449, 0.1088, 1.503, 1.4979, 1.4961, 1.4925, 1.4923, 1.49, 1.4895, 1.4854, 1.484, 1.4812, 1.4778, 1.4761, 1.4729, 1.4724, 1.4689, 1.4689, 1.4651, 1.4598, 1.4581, 1.4544, 1.452, 1.4505, 1.4504, 1.4489, 1.4466, 1.4436, 1.4433, 1.4402, 1.4398, 1.4367, 1.4365, 1.4349, 1.394, 1.4163, 1.4165, 1.3887, 1.4077, 1.4208, 1.3788, 1.3682, 1.3571, 1.3173, 1.3092, 1.3394, 1.2633, 1.0873, 0.9466, 1.2863, 1.254, 1.2948, 1.0874, 1.1805, 0.6066, 0.9149, 0.7649, 0.6688, 0.798, -0.1283, 0.2063, 0.3794, 0.8479, 0.8313, 0.3414, 0.8727, 0.7707, -0.1776, 0.8113, -0.5194, 0.6943, 0.5103, 0.271, 0.1327, 0.1833, -0.302, 0.3304, 0.0076, 0.1867, -0.02, 0.2917, 0.3483, -0.3424, -0.2887, 3.1915, 3.1719, 3.1707, 3.1667, 3.1588, 3.1546, 3.1131, 3.1008, 3.1003, 3.0955, 3.0913, 3.0899, 3.0732, 3.0637, 3.0609, 3.0608, 3.0503, 3.0208, 3.0192, 3.0067, 2.9997, 2.9981, 2.9886, 2.986, 2.9825, 2.973, 2.9637, 2.9561, 2.9503, 2.9427, 2.9351, 2.9031, 2.9405, 2.8053, 2.8439, 2.89, 2.8501, 2.7601, 2.6347, 2.5582, 2.3052, 2.7167, 2.7439, 2.0914, 2.2761, 2.3884, 2.677, 2.5726, 2.4382, 2.5747, 1.3572, 2.1154, 1.4858, 2.4599, 2.1947, 0.7026, 0.8645, 1.0153, 1.0492, 1.3165, 0.2464, 3.2049, 3.2016, 3.1863, 3.1491, 3.1414, 3.1268, 3.1122, 3.1005, 3.0884, 3.0847, 3.0549, 3.0438, 3.043, 3.0304, 3.0165, 3.0156, 3.0151, 3.0147, 3.0116, 2.9967, 2.9934, 2.9837, 2.9826, 2.9802, 2.9713, 2.9626, 2.9438, 2.9366, 2.8818, 2.8752, 2.7798, 2.8626, 2.5798, 2.7056, 2.6734, 2.4531, 2.5674, 2.627, 2.4626, 2.5418, 2.7938, 2.4054, 2.709, 2.6599, 2.5342, 2.0148, 2.2761, 2.3443, 1.8969, 1.8811, 1.6967, 2.0666, 1.83, 2.0631, 2.1511, 1.8312, 0.6088, 1.9238, 2.1672, -0.2377, 3.2569, 3.2452, 3.2392, 3.2235, 3.2036, 3.1942, 3.1716, 3.1692, 3.1685, 3.1648, 3.1505, 3.1302, 3.1234, 3.12, 3.1169, 3.0951, 3.0902, 3.0818, 3.0719, 3.0542, 3.0478, 3.0472, 3.0439, 3.0433, 3.0432, 3.0431, 3.0382, 3.0345, 3.0307, 3.0286, 3.0286, 3.0259, 3.0094, 3.0184, 2.9872, 2.9495, 2.8037, 2.6954, 2.8687, 2.9199, 2.9441, 2.213, 2.2846, 2.8418, 2.7978, 2.7241, 2.8046, 2.0245, 2.4163, 2.5888, 1.2738, 2.1458, 1.8644, 1.6142, 1.98, 1.356, 2.2879, 0.7769, 1.3874, 0.9013, 0.6131, -0.4861, 0.8065, 1.5244, 0.0554, 4.0925, 4.0588, 4.0431, 4.0241, 4.0158, 4.0063, 3.9928, 3.9678, 3.946, 3.9393, 3.9353, 3.9349, 3.9326, 3.9325, 3.9307, 3.9305, 3.929, 3.9279, 3.9248, 3.9241, 3.9221, 3.9188, 3.9173, 3.9146, 3.9133, 3.8957, 3.8952, 3.8853, 3.8812, 3.8722, 3.8241, 3.6893, 3.6668, 3.6364, 3.5145, 3.664, 3.6094, 3.6251, 3.7206, 3.3703, 3.4718, 3.0329, 2.9062, 3.4795, 3.6277, 1.8261, 1.4209, 2.6551, 2.3778, 0.1731, 1.0153, 0.9731, 0.4039, 0.1462, -0.507, -0.3412, 0.2905, 0.5975, 0.6235, 4.6396, 4.5965, 4.5809, 4.5155, 4.4944, 4.4749, 4.4704, 4.4575, 4.4402, 4.4167, 4.3958, 4.369, 4.3678, 4.1856, 4.1675, 4.1295, 4.0849, 4.0458, 3.9534, 3.9365, 3.9321, 3.909, 3.8726, 3.8716, 3.8209, 3.8042, 3.7669, 3.6954, 3.6704, 3.6593, 3.6519, 3.457, 3.494, 3.4175, 3.531, 2.9817, 2.8512, 2.5546, 3.2767, 2.1796, 2.5714, 2.4729, 1.9349, 0.3275, 1.25, 0.6641, 1.278, -0.1847, 1.232, 1.9861, 4.6629, 4.433, 4.3771, 4.3627, 4.2931, 4.1397, 4.1288, 4.1229, 4.1179, 4.1056, 4.1017, 4.0299, 4.0099, 3.9189, 3.8888, 3.8518, 3.8322, 3.8282, 3.818, 3.8036, 3.7956, 3.7677, 3.7497, 3.7465, 3.7408, 3.6416, 3.6308, 3.6182, 3.6132, 3.5931, 3.5604, 3.5099, 3.4346, 3.4396, 3.4824, 3.1624, 2.7183, 3.4984, 2.7918, 3.3583, 2.6988, 2.671, 2.6821, 2.8914, 2.1573, 0.8702, 1.5796, 1.6151, 2.359, 1.4808, 1.7413, 0.3331, 1.1172, 1.1418, 1.817, 1.2742, 0.7361, 5.1644, 5.0953, 5.0933, 4.9523, 4.9455, 4.9427, 4.9396, 4.8942, 4.7598, 4.7325, 4.6836, 4.6403, 4.5834, 4.5151, 4.4893, 4.4879, 4.4654, 4.4606, 4.4128, 4.3024, 4.24, 4.2129, 4.1569, 4.1386, 4.0425, 3.987, 3.9622, 3.9588, 3.9258, 3.8058, 3.7216, 3.7377, 3.4441, 2.7894, 3.3562, 2.9779, 2.8463, 2.8667, 2.003, 1.9493, 1.2156, 2.2201, 2.8774, 0.6981, 0.5459, 5.4598, 4.8913, 4.7935, 4.6534, 4.6087, 4.5912, 4.5901, 4.548, 4.4048, 4.2973, 4.277, 4.2336, 4.1861, 4.0527, 3.9813, 3.9185, 3.853, 3.811, 3.7984, 3.7853, 3.7513, 3.7307, 3.7178, 3.6986, 3.6911, 3.5578, 3.5451, 3.5131, 3.3979, 3.3712, 3.353, 1.3374, 3.215, 2.5443, 0.8648, 1.5885, 1.2695, -1.4404, 2.1259, 2.2429, -0.4649, 2.2112, 2.6828, 0.2219, 1.7947, 0.232, 2.8086, 2.6667, 2.6354, 2.5244, 2.4991, 2.4926, 2.4859, 2.459, 2.4521, 2.4496, 2.4389, 2.4385, 2.4238, 2.3858, 2.3748, 2.3351, 2.3194, 2.3134, 2.3049, 2.3037, 2.2932, 2.285, 2.2831, 2.2776, 2.2685, 2.2564, 2.2524, 2.2517, 2.2473, 2.2412, 2.0885, 2.1293, 2.1211, 2.14, 1.9754, 2.1028, 2.0431, 1.965, 1.6824, 1.9356, 1.25, 0.8094, 1.2344, 0.6296, -1.6834, -0.4604, -2.0473, -1.4475, -0.5327, -1.6114, -2.1655, -0.1869, 0.3502, -1.3457, -2.6653, -2.8284, -2.2561, -0.0322, -1.697, -1.0103, -1.6912, -2.3704, -2.1476, -1.7529, -1.5719, 2.4935, 2.3867, 2.3577, 2.3456, 2.3073, 2.3025, 2.3024, 2.2692, 2.2662, 2.2629, 2.2485, 2.2455, 2.2404, 2.2403, 2.2401, 2.2397, 2.2285, 2.226, 2.2256, 2.2251, 2.2153, 2.2103, 2.2092, 2.209, 2.2076, 2.2025, 2.2018, 2.2004, 2.2004, 2.1961, 2.1909, 2.014, 2.1226, 2.0941, 2.1582, 2.0676, 2.1855, 2.1479, 2.0804, 2.1492, 1.7116, 2.0793, 1.9583, 1.8599, 1.9024, 1.7664, 1.9315, 1.6789, -0.4628, -0.2696, 1.8315, 1.6519, -0.5809, -0.0481, 0.4423, 1.8414, 1.4715, 1.8848, 1.7055, -2.5692, 0.549, 1.1208, 1.4446, -1.9761, -0.1577, 0.0233, 0.8247, -1.6854, -1.2936, 1.0042, 0.8931, 0.794, 0.5193, 0.2769, -1.0023, -2.6919, -1.0643, -0.7516, -3.0181, -2.1239, -1.0852, -0.5804, -1.4572, -2.0338, -1.9448, -2.47, -1.2306, -0.401, -1.4308, -1.7045, -2.698, -2.0418, -2.0845, -1.4862, -2.1625, 2.5278, 2.378, 2.3724, 2.3663, 2.3345, 2.3341, 2.3196, 2.3085, 2.3036, 2.2887, 2.2592, 2.2571, 2.2398, 2.2337, 2.233, 2.2319, 2.229, 2.2283, 2.228, 2.2272, 2.2271, 2.2268, 2.2227, 2.2223, 2.2223, 2.2217, 2.221, 2.2195, 2.2191, 2.2166, 2.2104, 2.187, 2.2114, 2.1971, 2.1703, 2.2009, 2.2003, 2.0892, 2.1952, 2.1771, 2.1582, 2.053, 2.0659, 1.8368, 1.856, 2.1353, 2.1381, -0.916, -0.9934, 1.7826, 1.9582, 0.1499, -0.1282, 1.4248, 1.9637, -1.4506, 1.6082, 1.7067, -0.3655, 1.3291, 0.9229, 1.4614, 0.7576, 0.525, 1.0196, 1.5157, -3.4416, -0.9456, 1.0324, 1.4027, -1.8993, -0.5656, -0.1423, 0.2424, 1.1568, -1.3247, -1.4868, -2.309, -1.4387, -1.4718, 0.2071, -3.4639, -0.4456, -0.7981, -3.1816, -1.3281, -2.4077, -1.4641, -2.1757, -1.7617, -1.1957, -1.5519, -2.3612, -1.6684, -2.1671]}, \"token.table\": {\"Topic\": [2, 3, 2, 3, 3, 7, 5, 6, 2, 8, 1, 2, 3, 4, 5, 3, 3, 4, 5, 1, 4, 10, 1, 1, 2, 3, 1, 2, 3, 4, 6, 7, 8, 10, 1, 2, 7, 1, 2, 3, 4, 9, 10, 3, 9, 3, 3, 4, 1, 2, 1, 1, 6, 6, 1, 3, 4, 5, 8, 1, 2, 3, 5, 6, 1, 3, 6, 10, 2, 1, 2, 3, 4, 5, 6, 7, 9, 10, 1, 3, 7, 8, 1, 2, 3, 7, 3, 6, 9, 1, 3, 1, 7, 2, 3, 5, 1, 2, 3, 4, 6, 10, 3, 9, 3, 5, 1, 2, 3, 7, 8, 9, 3, 1, 3, 4, 1, 1, 2, 3, 4, 5, 6, 7, 8, 9, 1, 3, 1, 2, 3, 4, 5, 6, 7, 8, 1, 3, 4, 5, 6, 1, 2, 3, 4, 5, 6, 1, 3, 5, 6, 1, 2, 7, 1, 2, 1, 11, 6, 7, 1, 3, 6, 1, 2, 3, 4, 5, 6, 9, 5, 6, 7, 1, 2, 3, 7, 3, 1, 3, 3, 6, 1, 3, 4, 5, 3, 6, 1, 3, 6, 4, 6, 7, 3, 1, 3, 4, 5, 6, 3, 7, 1, 2, 3, 4, 6, 3, 1, 2, 7, 7, 1, 3, 4, 5, 6, 7, 4, 1, 6, 7, 7, 1, 3, 5, 8, 2, 3, 6, 4, 3, 1, 2, 3, 6, 2, 1, 2, 3, 2, 1, 7, 1, 3, 4, 8, 7, 3, 6, 1, 6, 3, 8, 1, 2, 3, 4, 5, 6, 7, 8, 9, 5, 1, 2, 3, 4, 5, 6, 7, 8, 2, 3, 4, 5, 6, 1, 2, 3, 4, 5, 6, 7, 9, 1, 2, 3, 4, 5, 6, 6, 7, 10, 1, 2, 6, 1, 3, 6, 9, 2, 6, 4, 2, 3, 1, 2, 3, 5, 6, 7, 1, 2, 3, 7, 1, 3, 1, 2, 3, 6, 1, 2, 1, 2, 3, 6, 7, 10, 4, 4, 4, 7, 3, 1, 1, 3, 9, 1, 2, 4, 1, 3, 1, 3, 2, 3, 9, 1, 2, 3, 8, 1, 4, 5, 7, 1, 3, 8, 9, 8, 1, 3, 6, 1, 4, 1, 2, 5, 2, 3, 7, 9, 3, 6, 3, 3, 4, 5, 1, 2, 3, 4, 6, 7, 8, 10, 1, 2, 3, 4, 5, 6, 9, 3, 8, 1, 3, 4, 5, 1, 2, 3, 4, 6, 3, 8, 1, 2, 3, 9, 1, 1, 2, 3, 4, 7, 1, 2, 3, 2, 3, 5, 1, 1, 3, 9, 1, 3, 1, 3, 10, 1, 6, 10, 4, 5, 6, 9, 1, 2, 1, 2, 3, 1, 2, 3, 6, 7, 8, 1, 2, 3, 4, 3, 5, 6, 1, 6, 1, 2, 3, 5, 6, 7, 10, 1, 2, 3, 4, 6, 7, 3, 6, 1, 2, 3, 4, 5, 6, 1, 2, 3, 1, 2, 6, 6, 1, 4, 1, 2, 6, 1, 2, 3, 5, 6, 9, 3, 3, 1, 3, 3, 5, 1, 2, 3, 4, 5, 3, 8, 3, 6, 8, 1, 2, 3, 4, 7, 1, 3, 6, 7, 8, 2, 10, 3, 1, 2, 3, 5, 9, 10, 3, 2, 4, 5, 2, 6, 6, 1, 3, 6, 1, 3, 1, 2, 3, 4, 5, 9, 10, 3, 1, 2, 3, 4, 5, 6, 9, 1, 3, 6, 6, 1, 2, 4, 1, 4, 1, 2, 3, 3, 5, 6, 1, 2, 3, 4, 5, 6, 8, 10, 3, 5, 6, 9, 1, 2, 3, 4, 6, 8, 9, 1, 3, 10, 1, 3, 3, 3, 6, 10, 2, 4, 5, 1, 2, 3, 4, 6, 7, 5, 6, 1, 2, 3, 5, 4, 5, 8, 3, 6, 8, 1, 3, 1, 2, 3, 11, 2, 3, 9, 1, 2, 3, 4, 5, 9, 3, 1, 3, 4, 5, 1, 2, 3, 4, 5, 6, 7, 8, 10, 1, 2, 3, 8, 1, 2, 3, 5, 6, 1, 3, 1, 5, 6, 1, 7, 10, 3, 2, 9, 3, 1, 3, 4, 5, 1, 9, 5, 3, 4, 5, 8, 9, 1, 2, 1, 4, 5, 1, 2, 3, 9, 1, 3, 7, 8, 1, 2, 3, 5, 1, 5, 1, 2, 3, 5, 7, 9, 3, 6, 3, 6, 1, 2, 3, 6, 7, 1, 3, 4, 5, 9, 1, 3, 4, 5, 2, 6, 8, 4, 6, 3, 6, 1, 2, 3, 4, 6, 8, 1, 2, 3, 5, 6, 10, 3, 6, 2, 5, 6, 1, 2, 3, 7, 4, 1, 3, 3, 1, 2, 3, 1, 3, 6, 8, 3, 4, 5, 2, 3, 4, 1, 3, 8, 9, 3, 2, 9, 6, 3, 6, 4, 5, 6, 9, 1, 6, 1, 2, 3, 8, 1, 2, 9, 1, 2, 7, 3, 3, 4, 5, 6, 1, 3, 4, 5, 1, 2, 3, 4, 6, 1, 5, 10, 1, 3, 5, 6, 10, 1, 2, 7, 10, 1, 2, 3, 4, 5, 9, 1, 2, 3, 5, 7, 1, 2, 3, 5, 6, 7, 8, 10, 1, 2, 3, 4, 5, 6, 7, 8, 1, 8, 3, 4, 5, 8, 3, 9, 1, 3, 6, 1, 2, 3, 4, 5, 6, 7, 9, 1, 2, 3, 6, 1, 2, 3, 5, 6, 3, 3, 2, 3, 1, 2, 3, 1, 2, 3, 6, 8, 9, 2, 4, 5, 9, 1, 2, 3, 4, 5, 6, 7, 8, 9, 1, 2, 4, 9, 3, 1, 8, 8, 3, 3, 1, 2, 3, 4, 5, 6, 8, 3, 2, 3, 1, 2, 3, 4, 5, 6, 9, 4, 1, 4, 1, 3, 8, 1, 2, 3, 6, 7, 8, 3, 7, 2, 1, 3, 6, 7, 1, 2, 3, 4, 6, 7, 9, 1, 2, 3, 6, 7, 3, 1, 1, 2, 3, 4, 5, 6, 7, 1, 2, 6, 2, 6, 1, 2, 3, 7, 1, 2, 3, 4, 5, 6, 7, 1, 1, 2, 4, 6, 2, 4, 6, 1, 2, 3, 4, 5, 6, 9, 1, 2, 6, 6, 1, 2, 3, 4, 5, 6, 7, 8, 9, 10, 3, 8, 1, 2, 3, 4, 5, 1, 2, 3, 4, 5, 6, 1, 2, 3, 7, 3, 1, 10, 3, 3, 4, 7, 1, 2, 3, 7, 1, 3, 5, 9, 5, 6, 9, 1, 2, 3, 6, 9, 1, 2, 3, 4, 5, 6, 9, 3, 9, 1, 9, 1, 2, 3, 3, 5, 6, 8, 1, 3, 6, 3, 4, 10, 1, 2, 3, 4, 5, 6, 7, 9, 3, 4, 5, 6, 1, 3, 6, 1, 2, 3, 4, 6, 8, 9, 1, 2, 3, 7, 1, 2, 3, 5, 8, 9, 10, 1, 2, 3, 6, 7, 9, 1, 1, 1, 1, 2, 3, 4, 5, 6, 1, 5, 2, 10, 1, 10, 3, 1, 2, 3, 4, 5, 6, 7, 8, 1, 2, 7, 1, 2, 3, 4, 5, 8, 3, 1, 2, 3, 7, 3, 1, 3, 4, 8, 3, 8, 10, 3, 5, 6, 1, 3, 6, 1, 2, 3, 8, 10, 1, 2, 3, 4, 5, 6, 8, 9, 3, 7, 1, 1, 2, 3, 5, 6, 1, 2, 3, 5, 6, 8, 6, 8, 5, 5, 1, 2, 3, 5, 1, 2, 3, 4, 5, 6, 8, 9, 1, 2, 3, 9, 1, 5, 5, 5, 3, 1, 5, 6, 9, 3, 5, 6, 3, 8, 4, 5, 1, 2, 3, 5, 6, 3, 6, 3, 9, 1, 2, 3, 5, 6, 1, 3, 4, 5, 6, 4, 6, 1, 4, 1, 2, 3, 4, 5, 6, 9, 3, 4, 5, 1, 2, 3, 4, 5, 6, 1, 2, 3, 4, 5, 6, 1, 2, 3, 4, 6, 7, 8, 10, 1, 3, 5, 6, 3, 9, 3, 9, 3, 1, 2, 3, 4, 5, 6, 9, 5, 1, 2, 3, 5, 6, 8, 10, 1, 2, 3, 4, 6, 1, 2, 3, 4, 5, 6, 7, 8, 9, 10, 1, 2, 3, 6, 7, 8, 9, 7, 7, 7, 1, 2, 3, 3, 7, 9, 3, 4, 5, 6, 1, 3, 6, 2, 3, 5, 2, 6, 3, 1, 6, 2, 1, 2, 3, 4, 5, 6, 9, 3, 5, 6, 1, 2, 3, 4, 5, 6, 8, 1, 3, 5, 3, 2, 3, 4, 7, 1, 2, 3, 4, 5, 1, 2, 3, 6, 7, 8, 1, 3, 5, 6, 1, 3, 4, 5, 3, 8, 1, 2, 3, 10, 8, 10, 2, 3, 1, 2, 3, 4, 5, 6, 8, 9, 1, 2, 3, 6, 10, 3, 4, 8, 3, 5, 6, 3, 1, 2, 3, 7, 6, 8, 3, 5, 10, 1, 2, 3, 1, 2, 4, 1, 6, 9, 3, 4, 5, 9, 1, 2, 3, 2, 3, 5, 10, 1, 4, 3, 4, 5, 9, 1, 2, 3, 4, 5, 7, 1, 2, 3, 7, 4, 8, 1, 2, 1, 2, 4, 5, 9, 1, 3, 4, 5, 6, 1, 2, 3, 2, 1, 2, 3, 7, 7, 1, 2, 3, 6, 7, 8, 9, 10, 3, 3, 8, 1, 1, 6, 2, 2, 1, 2, 1, 4, 5, 1, 3, 7, 10, 1, 2, 3, 5, 6, 7, 9, 10, 3, 1, 2, 3, 4, 6, 8, 1, 3, 6, 8, 1, 2, 3, 1, 2, 3, 4, 5, 6, 7, 9, 1, 2, 3, 7, 1, 2, 7, 10, 1, 3, 4, 5, 6, 8, 10, 1, 2, 4, 5, 7, 10, 1, 3, 2, 1, 3, 4, 5, 1, 2, 2, 6, 1, 1, 3, 7, 9, 10, 1, 2, 3, 5, 6, 9, 1, 2, 3, 4, 5, 6, 9, 1, 3, 4, 5, 6, 8, 1, 3, 4, 5, 6, 9, 3, 5, 3, 1, 2, 3, 4, 6, 2, 4, 9, 1, 2, 3, 4, 5, 6, 8, 9, 10, 1, 2, 3, 5, 3, 6, 7, 1, 2, 2, 3, 1, 2, 3, 4, 5, 8, 9, 1, 2, 3, 6, 7, 3, 8, 9, 1, 2, 3, 7, 1, 2, 3, 3, 9, 3, 6, 1, 2, 3, 3, 1, 2, 3, 6, 1, 2, 3, 6, 9, 1, 1, 2, 1, 2, 3, 9, 10, 1, 5, 2, 3, 2, 3, 4, 5, 6, 8, 10, 4, 5, 3, 1, 3, 10, 1, 2, 3, 4, 5, 6, 7, 10, 1, 2, 3, 6, 1, 2, 3, 4, 5, 6, 9, 1, 3, 4, 5, 6, 8, 9, 3, 1, 2, 3, 5, 6, 8, 9, 1, 2, 3, 4, 5, 6, 9, 1, 2, 3, 4, 5, 10, 1, 3, 7, 1, 2, 3, 4, 3, 1, 3, 10, 1, 7, 2, 3, 1, 2, 3, 4, 1, 2, 3, 9, 1, 2, 3, 4, 5, 6, 8, 9, 1, 2, 3, 4, 5, 6, 9, 1, 2, 3, 4, 5, 8, 1, 2, 3, 1, 2, 2, 4, 6, 1, 2, 3, 6, 8, 1, 2, 3, 4, 5, 6, 9, 10, 1, 3, 5, 6, 1, 2, 3, 6, 1, 2, 3, 4, 6, 9, 1, 4, 5, 1, 3, 1, 3, 1, 2, 3, 4, 7, 8, 9, 1, 3, 9, 1, 1, 3, 4, 3, 5, 1, 2, 3, 6, 1, 3, 6, 11, 1, 2, 3, 1, 2, 1, 7, 5, 9, 1, 3, 4, 5, 6, 3, 7, 6, 3, 1, 3, 1, 2, 3, 4, 5, 6, 1, 2, 3, 5, 2, 3, 1, 2, 3, 4, 6, 7, 5, 6, 1, 2, 3, 6, 7, 2, 3, 6, 1, 3, 8, 1, 2, 3, 6, 7, 1, 2, 3, 6, 7, 8, 9, 1, 2, 3, 4, 5, 6, 1, 2, 3, 4, 5, 6, 7, 8, 10, 3, 7, 1, 2, 3, 4, 8, 3, 8, 9, 1, 2, 4, 7, 8, 1, 7, 10, 1, 2, 3, 4, 5, 6, 3, 4, 5, 6, 8, 1, 3, 1, 2, 3, 6, 1, 2, 3, 4, 5, 6, 8, 1, 2, 3, 7, 1, 2, 3, 5, 1, 3, 1, 2, 4, 5, 9, 1, 2, 3, 1, 2, 3, 5, 6, 3, 9, 7, 1, 1, 2, 3, 7, 7, 1, 2, 3, 5, 7, 1, 2, 4, 1, 2, 4, 5, 10, 1, 3, 1, 2, 1, 2, 3, 4, 5, 6, 8, 3, 4, 3, 4, 5, 6, 1, 2, 3, 5, 6, 9, 1, 2, 3, 6, 7, 8, 10, 1, 3, 8, 1, 2, 3, 4, 5, 6, 7, 8, 9, 10, 2, 3, 5, 1, 2, 3, 4, 6, 7, 8, 3, 1, 2, 3, 7, 1, 2, 3, 4, 5, 6, 7, 9, 3, 8, 9, 1, 2, 3, 1, 2, 1, 3, 7, 1, 3, 1, 4, 9, 2, 1, 2, 3, 5, 6, 7, 1, 2, 3, 6, 2, 3, 3, 6, 1, 2, 3, 4, 5, 6, 7, 2, 1, 3, 1, 2, 3, 4, 5, 6, 7, 8, 9, 10, 6, 9, 1, 3, 4, 5, 8, 10, 3, 1, 2, 3, 5, 3, 7, 9, 4, 1, 2, 3, 10, 1, 2, 3, 4, 5, 6, 1, 2, 3, 1, 2, 3, 4, 5, 6, 7, 8, 10, 3, 7, 3, 7, 2, 1, 2, 1, 2, 3, 6, 7, 1, 3, 5, 6, 1, 2, 3, 6, 7, 2, 3, 8, 1, 2, 3, 6, 7, 1, 2, 7, 1, 3, 7, 1, 2, 3, 6, 1, 2, 3, 9, 3, 1, 2, 3, 1, 2, 3, 4, 6, 7, 8, 2, 1, 3, 1, 3, 3, 6, 8, 1, 2, 3, 4, 6, 7, 8, 1, 3, 4, 6, 8, 3, 8, 1, 7, 1, 2, 1, 2, 3, 6, 8, 1, 2, 3, 4, 5, 6, 8, 11, 3, 6, 1, 2, 3, 5, 6, 7, 8, 9, 1, 2, 3, 1, 2, 3, 4, 5, 7, 10, 1, 2, 3, 6, 7, 7, 2, 6, 1, 2, 3, 1, 7, 1, 2, 3, 4, 5, 6, 8, 9, 10, 1, 2, 3, 1, 2], \"Freq\": [0.5069254681770567, 0.5069254681770567, 0.33740674749487337, 0.33740674749487337, 0.06487855604467405, 0.8434212285807626, 0.41049729582534783, 0.41049729582534783, 0.3469681039741216, 0.5204521559611824, 0.235794507997111, 0.09069019538350423, 0.235794507997111, 0.03627607815340169, 0.39903685968741864, 0.9519273829549472, 0.5353082762129702, 0.17843609207099004, 0.17843609207099004, 0.23988229687498355, 0.23988229687498355, 0.23988229687498355, 0.8544052178557482, 0.8484634774522624, 0.12328101809135436, 0.02175547378082724, 0.6608016617112967, 0.15765318832706066, 0.14088157254758613, 0.0033543231558949074, 0.0033543231558949074, 0.01341729262357963, 0.010062969467684722, 0.010062969467684722, 0.5636046572079005, 0.28180232860395027, 0.7397253906275876, 0.401763724935905, 0.16916367365722315, 0.27489096969298765, 0.021145459207152894, 0.021145459207152894, 0.10572729603576447, 0.5284254895286106, 0.3522836596857404, 0.8118935400575304, 0.42491999653643764, 0.42491999653643764, 0.9548795768801803, 0.030802566996134848, 0.8834454942301165, 0.09198491272918587, 0.8278642145626728, 0.903200850260812, 0.010076520045874664, 0.09068868041287198, 0.43329036197261056, 0.45344340206435985, 0.010076520045874664, 0.12347962277195064, 0.542236604346392, 0.21474717003817503, 0.06979283026240689, 0.04831811325858938, 0.16114522072662926, 0.3222904414532585, 0.16114522072662926, 0.16114522072662926, 0.9307380137887376, 0.10263361794358221, 0.12462653607434981, 0.21992918130767616, 0.009774630280341163, 0.5058371170076551, 0.0024436575700852907, 0.026880233270938195, 0.0024436575700852907, 0.0048873151401705815, 0.1848945375210993, 0.09244726876054965, 0.5546836125632979, 0.09244726876054965, 0.8456506105499773, 0.10047333986732404, 0.03349111328910801, 0.012559167483415505, 0.8993764150518477, 0.27494681106325475, 0.5498936221265095, 0.5402146859834882, 0.1800715619944961, 0.05654245588686914, 0.9046792941899062, 0.07058838644105805, 0.07058838644105805, 0.7764722508516386, 0.02992466799928637, 0.1047363379975023, 0.7630790339818024, 0.02992466799928637, 0.02992466799928637, 0.02992466799928637, 0.5393407910841402, 0.3595605273894268, 0.7681160271852973, 0.1280193378642162, 0.6255241745834643, 0.0536163578214398, 0.017872119273813266, 0.2144654312857592, 0.0536163578214398, 0.017872119273813266, 0.8393781903962036, 0.4262240333695002, 0.2841493555796668, 0.2841493555796668, 0.9802249607015203, 0.5871145566995862, 0.17996699751245593, 0.19107607143297792, 0.004999083264234887, 0.002221814784104394, 0.022773601537070042, 0.008887259136417577, 0.0016663610880782956, 0.0005554536960260985, 0.03721719278232366, 0.9490384159492533, 0.6635089451709143, 0.10310642601217086, 0.18234562378078364, 0.009546891297423228, 0.012410958686650196, 0.011456269556907874, 0.009546891297423228, 0.007637513037938582, 0.014632834945738554, 0.27802386396903256, 0.3219223688062482, 0.3804537085892024, 0.014632834945738554, 0.32927737237363713, 0.2366681113935517, 0.07202942520673312, 0.030869753660028483, 0.29840761871360866, 0.01028991788667616, 0.05974238871314525, 0.6272950814880252, 0.28377634638744, 0.014935597178286313, 0.08019681372557604, 0.08019681372557604, 0.8019681372557603, 0.9643327555653508, 0.03325285364018451, 0.5080191324940413, 0.25400956624702065, 0.8457530111011367, 0.781914991447112, 0.5911214016533002, 0.5469950231114916, 0.3646633487409944, 0.40177918143172364, 0.1403038411348876, 0.13392639381057453, 0.0701519205674438, 0.24234299832389677, 0.006377447324313073, 0.006377447324313073, 0.949315635847083, 0.03582323154139936, 0.7854872018973776, 0.1358592314718897, 0.0452864104906299, 0.06792961573594485, 0.7472257730953933, 0.6690310735843052, 0.28111505424532707, 0.28111505424532707, 0.09838694210803638, 0.787095536864291, 0.0140632221347565, 0.0140632221347565, 0.956299105163442, 0.0140632221347565, 0.5620866891404988, 0.2810433445702494, 0.19949003971665666, 0.13299335981110444, 0.59847011914997, 0.10312488764312977, 0.8249991011450382, 0.7832192659459107, 0.9708633611548436, 0.022914117665015016, 0.20622705898513516, 0.6415952946204205, 0.022914117665015016, 0.11457058832507509, 0.29924630564285826, 0.5984926112857165, 0.928599188985121, 0.050467347227452226, 0.005046734722745223, 0.005046734722745223, 0.010093469445490446, 0.8712902551643679, 0.16598289795506216, 0.1991794775460746, 0.5975384326382238, 0.7837716003936065, 0.009145143739208035, 0.11888686860970445, 0.045725718696040175, 0.7590469303542668, 0.03658057495683214, 0.027435431217624102, 0.9650229442430154, 0.9570605418077487, 0.896981004643195, 0.784136285642378, 0.6216780665646615, 0.03567742988818495, 0.46380658854640433, 0.03567742988818495, 0.42812915865821943, 0.9007923375288629, 0.9627473172642896, 0.01887739837773117, 0.8664184149444755, 0.8319201538375126, 0.07088789912464255, 0.04253273947478553, 0.8742840892039248, 0.004725859941642836, 0.9448898261466819, 0.9647205009670726, 0.020098343770147346, 0.020098343770147346, 0.930594197374771, 0.9564241587927969, 0.024523696379302483, 0.006428124129493805, 0.006428124129493805, 0.9706467435535645, 0.01285624825898761, 0.7830714038603688, 0.7708542298445891, 0.19271355746114727, 0.2126602109473615, 0.6379806328420845, 0.5943902463296584, 0.37824833857341905, 0.4861842044038684, 0.41943122439418395, 0.03226394033801415, 0.002225099333656148, 0.030038841004358004, 0.004450198667312296, 0.022250993336561484, 0.001112549666828074, 0.001112549666828074, 0.9303764478062729, 0.2269022554005917, 0.3585055635329349, 0.32220120266884017, 0.03630436086409467, 0.018152180432047336, 0.027228270648071002, 0.009076090216023668, 0.004538045108011834, 0.032275867117583144, 0.019365520270549885, 0.10973794819978268, 0.2904828040582483, 0.5486897409989134, 0.6740985263886132, 0.1551881499599685, 0.0630451859212372, 0.01939851874499606, 0.004849629686249015, 0.03879703748999212, 0.004849629686249015, 0.029097778117494096, 0.19146287517186175, 0.07908249191881246, 0.6451466446008385, 0.016648945667118414, 0.037460127751016425, 0.024973418500677618, 0.37274470495557477, 0.18637235247778738, 0.18637235247778738, 0.0737195409372685, 0.9214942617158562, 0.8103036978341509, 0.034455131050777105, 0.13782052420310842, 0.7580128831170964, 0.034455131050777105, 0.9254157424645214, 0.06068299950587026, 0.8471943324699552, 0.6827933845879639, 0.22759779486265463, 0.6059796104109612, 0.37797724863426174, 0.008106750640949314, 0.0020266876602373285, 0.0030400314903559927, 0.0020266876602373285, 0.4933532007857365, 0.49908986591115206, 0.003824443416943694, 0.001912221708471847, 0.15520047978911014, 0.6208019191564406, 0.9207708431603707, 0.0619005608847308, 0.00773757011059135, 0.00773757011059135, 0.6642556978680244, 0.29522475460801084, 0.43220216547149176, 0.37089689377340784, 0.16245896999992243, 0.003065263584904197, 0.00919579075471259, 0.015326317924520985, 0.9629639565024573, 0.8897533038487664, 0.5230773522517556, 0.2615386761258778, 0.9267416084170705, 0.9235848177254772, 0.005815447446052961, 0.9769951709368974, 0.011630894892105921, 0.13609576984900387, 0.03402394246225097, 0.7825506766317724, 0.24400141440998555, 0.4880028288199711, 0.11179258474718506, 0.8496236440786065, 0.1470948112212765, 0.44128443366382947, 0.294189622442553, 0.394615439229252, 0.1183846317687756, 0.1578461756917008, 0.2762308074604764, 0.24887988241409673, 0.07110853783259907, 0.07110853783259907, 0.5688683026607926, 0.019693174048759553, 0.05907952214627866, 0.8861928321941799, 0.019693174048759553, 0.8788918793995757, 0.027346305310008076, 0.3008093584100888, 0.6563113274401938, 0.029476051305814436, 0.943233641786062, 0.15570322638463438, 0.8007594499781197, 0.022243318054947767, 0.9313799618851762, 0.05863420197808696, 0.8208788276932174, 0.05863420197808696, 0.5789186852143501, 0.19297289507145002, 0.5992643343784468, 0.03763856431410069, 0.8656869792243159, 0.07527712862820138, 0.5111621777451366, 0.2657031121942542, 0.15689136148613103, 0.007591517491264406, 0.025305058304214683, 0.01771354081295028, 0.012652529152107342, 0.0025305058304214683, 0.2099794147096963, 0.10498970735484815, 0.18373198787098427, 0.3543402623226125, 0.03937114025806806, 0.07874228051613612, 0.013123713419356019, 0.4211437177628917, 0.5264296472036146, 0.0896207617779186, 0.0597471745186124, 0.7767132687419612, 0.0298735872593062, 0.3288636394890847, 0.18535950589384773, 0.3886570284871001, 0.059793388998015395, 0.029896694499007698, 0.1357918236839941, 0.6789591184199704, 0.46405406251483056, 0.07139293269458932, 0.21417879808376794, 0.21417879808376794, 0.9615265244169635, 0.6139740489042165, 0.3583417311448401, 0.013694588451395161, 0.0022824314085658605, 0.009129725634263442, 0.06479112352286269, 0.3887467411371761, 0.4535378646600388, 0.04607793694247078, 0.07679656157078464, 0.860121489592788, 0.8557323085380619, 0.4681460367732301, 0.15604867892441002, 0.31209735784882003, 0.27326815786127073, 0.5465363157225415, 0.08898871355802196, 0.17797742711604392, 0.6229209949061537, 0.49254174613970164, 0.12313543653492541, 0.24627087306985082, 0.7238420486162526, 0.03290191130073875, 0.19741146780443253, 0.03290191130073875, 0.047483054374946716, 0.9021780331239876, 0.025996547109799786, 0.9358756959527923, 0.025996547109799786, 0.5987564393095927, 0.37692417039340603, 0.003813735282226705, 0.0006356225470377842, 0.017797431317057955, 0.0012712450940755684, 0.013946951628435154, 0.9762866139904608, 0.11604888318521604, 0.8123421822965123, 0.0844649947301421, 0.7601849525712789, 0.0844649947301421, 0.11149853556062612, 0.7804897489243829, 0.18318327473942583, 0.13322419981049152, 0.11657117483418007, 0.03330604995262288, 0.03330604995262288, 0.04995907492893432, 0.44963167436040885, 0.5299533836935377, 0.2059644154966151, 0.2476201399790766, 0.004628413831384609, 0.004628413831384609, 0.004628413831384609, 0.9178614727888615, 0.844431381364195, 0.14673519588739628, 0.03386196828170683, 0.39505629661991304, 0.045149291042275774, 0.05643661380284472, 0.3160450372959304, 0.9281697531834485, 0.011748984217512005, 0.058744921087560034, 0.9042429583582935, 0.08923450246956843, 0.0029744834156522812, 0.9114516063650049, 0.1701641701558561, 0.7373780706753764, 0.17648796417573637, 0.7890050163150566, 0.03114493485454171, 0.14250232046289174, 0.09500154697526116, 0.04750077348763058, 0.2850046409257835, 0.04750077348763058, 0.332505414413414, 0.9374608074863955, 0.8056836588440816, 0.9697410844149722, 0.011826110785548441, 0.11243965768946461, 0.7870776038262522, 0.12640702248239824, 0.018961053372359735, 0.2780954494612761, 0.12008667135827832, 0.44874492981251374, 0.551212344561314, 0.275606172280657, 0.4095372817045778, 0.2047686408522889, 0.2047686408522889, 0.3591496235773163, 0.5344488446091016, 0.0641338613530922, 0.008551181513745626, 0.02565354454123688, 0.09811004079820422, 0.29433012239461265, 0.09811004079820422, 0.09811004079820422, 0.3924401631928169, 0.3461855903775795, 0.5192783855663693, 0.5844311492489277, 0.47022766584712145, 0.26378625157277547, 0.18350347935497424, 0.02293793491937178, 0.01146896745968589, 0.04587586983874356, 0.8644966928222562, 0.2558088141298103, 0.14617646521703448, 0.5481617445638793, 0.26682450158373144, 0.5336490031674629, 0.8482844265870154, 0.05364192945168769, 0.8850918359528469, 0.026820964725843846, 0.9476633439364295, 0.03056978528827192, 0.2351692526306052, 0.026129916958956133, 0.20903933567164906, 0.26129916958956134, 0.10451966783582453, 0.026129916958956133, 0.0783897508768684, 0.8986939547931561, 0.29924594369880164, 0.10881670679956425, 0.24483759029901955, 0.06801044174972765, 0.17682714854929188, 0.013602088349945531, 0.09521461844961872, 0.058962215390187735, 0.1768866461705632, 0.7075465846822528, 0.8255157174139939, 0.21055632399277885, 0.05263908099819471, 0.736947133974726, 0.09854207010300224, 0.8868786309270201, 0.9376429922359427, 0.05409478801361208, 0.00450789900113434, 0.6197858711030478, 0.15494646777576196, 0.8729231639530428, 0.1792977517877161, 0.31141188468392794, 0.13211413289621185, 0.02831017133490254, 0.23591809445752115, 0.09436723778300847, 0.009436723778300847, 0.009436723778300847, 0.1476286142579406, 0.3690715356448515, 0.1476286142579406, 0.2214429213869109, 0.3682743461628096, 0.025398230769848935, 0.41907080770250743, 0.012699115384924468, 0.0761946923095468, 0.012699115384924468, 0.10159292307939574, 0.22640802678959265, 0.22640802678959265, 0.22640802678959265, 0.09416353858389176, 0.8788596934496564, 0.9003292074795936, 0.22261863672005916, 0.22261863672005916, 0.22261863672005916, 0.11672982996609262, 0.8171088097626483, 0.05836491498304631, 0.49104588669227767, 0.3561431705680256, 0.03777276051479059, 0.09443190128697647, 0.010792217289940169, 0.010792217289940169, 0.19583810172782679, 0.7833524069113071, 0.28502756862387285, 0.014251378431193644, 0.18526791960551736, 0.4987982450917775, 0.7008901658755156, 0.23363005529183853, 0.03893834254863975, 0.4149344575204172, 0.1037336143801043, 0.4149344575204172, 0.15863988392300432, 0.8328593905957726, 0.35231939192095496, 0.17615969596047748, 0.35231939192095496, 0.17615969596047748, 0.3737909042695831, 0.18689545213479156, 0.3737909042695831, 0.13095540294265082, 0.09821655220698812, 0.556560462506266, 0.032738850735662704, 0.06547770147132541, 0.06547770147132541, 0.9533854495440434, 0.9611651580937792, 0.7739283709533905, 0.8895127937794204, 0.06842406105995541, 0.3919916411408337, 0.213460794680652, 0.3066073232685729, 0.042692158936130396, 0.011643316073490109, 0.019405526789150182, 0.003881105357830036, 0.003881105357830036, 0.003881105357830036, 0.06921607543783538, 0.06921607543783538, 0.41529645262701226, 0.41529645262701226, 0.02403767476994303, 0.9615069907977213, 0.2688582306627033, 0.2688582306627033, 0.2688582306627033, 0.17919283528689173, 0.7167713411475669, 0.12912787313820775, 0.6456393656910387, 0.12912787313820775, 0.09070909325916927, 0.45354546629584636, 0.45354546629584636, 0.8282624596018926, 0.598057194810726, 0.19935239827024198, 0.9726103256957053, 0.9135767096671438, 0.1689781473675913, 0.028163024561265217, 0.7604016631541609, 0.44847645383080587, 0.22423822691540293, 0.7747876104824385, 0.3494882649307905, 0.09985378998022586, 0.04992689499011293, 0.39941515992090343, 0.04992689499011293, 0.979433987715764, 0.009602293997213372, 0.08501826818807873, 0.7651644136927086, 0.08501826818807873, 0.3230965078364894, 0.0095028384657791, 0.6461930156729788, 0.0190056769315582, 0.2551122905926808, 0.1275561452963404, 0.5102245811853616, 0.0637780726481702, 0.202773720692212, 0.202773720692212, 0.202773720692212, 0.202773720692212, 0.12763380450112755, 0.8296197292573291, 0.3593584329061199, 0.3755093737108893, 0.213999965663195, 0.02422641120715415, 0.0040377352011923585, 0.020188676005961793, 0.5461299127692957, 0.27306495638464784, 0.22302447900243216, 0.7136783328077829, 0.27852007331877043, 0.5570401466375409, 0.13765934658284054, 0.01920828091853589, 0.006402760306178631, 0.8821161909039534, 0.04303005809287577, 0.03227254356965683, 0.021515029046437886, 0.010757514523218943, 0.09255917455407024, 0.29618935857302475, 0.5183313775027933, 0.07404733964325619, 0.08803857570021219, 0.7923471813019096, 0.08803857570021219, 0.8897445005158904, 0.8448584507678963, 0.10322716691145678, 0.7225901683801974, 0.302065233954788, 0.151032616977394, 0.5056309350982321, 0.019699906562268783, 0.006566635520756261, 0.006566635520756261, 0.34341165773647586, 0.06868233154729517, 0.15453524598141413, 0.01717058288682379, 0.05151174866047138, 0.34341165773647586, 0.268228986008612, 0.536457972017224, 0.09935797890952622, 0.09935797890952622, 0.7948638312762097, 0.9155911575857901, 0.06621482187029405, 0.01141634859832656, 0.004566539439330624, 0.7947626083679523, 0.024002780796581, 0.9601112318632401, 0.8762168471078732, 0.2860242486991833, 0.6063714072422686, 0.10296872953170598, 0.2595446889429375, 0.11535319508574998, 0.028838298771437496, 0.5767659754287499, 0.9665169171303082, 0.12653610199426374, 0.7592166119655823, 0.3719884508231665, 0.18599422541158325, 0.18599422541158325, 0.09911209981785184, 0.2973362994535555, 0.2973362994535555, 0.2973362994535555, 0.7793149379802702, 0.3204394652968921, 0.4806591979453382, 0.7994467910264038, 0.3400087235262955, 0.6233493264648751, 0.1978157847425916, 0.1978157847425916, 0.1978157847425916, 0.1978157847425916, 0.44568379511079614, 0.22284189755539807, 0.6987612802548708, 0.0358339118079421, 0.1433356472317684, 0.12541869132779734, 0.23502604075098987, 0.23502604075098987, 0.23502604075098987, 0.18528601405994816, 0.09264300702997408, 0.6485010492098185, 0.9359839429698286, 0.11099775483686262, 0.13874719354607828, 0.027749438709215656, 0.6937359677303915, 0.06020765973924751, 0.12041531947849501, 0.12041531947849501, 0.6020765973924751, 0.020030886865557634, 0.440679511042268, 0.08012354746223053, 0.04006177373111527, 0.42064862417671034, 0.3733092271260375, 0.18665461356301874, 0.18665461356301874, 0.04621344398028263, 0.18485377592113053, 0.04621344398028263, 0.1386403319408479, 0.5545613277633916, 0.5035896349289373, 0.06714528465719163, 0.23500849630017073, 0.1678632116429791, 0.40714561202273036, 0.29230967017016535, 0.27143040801515356, 0.005219815538752953, 0.005219815538752953, 0.01565944661625886, 0.8628714066746428, 0.06090856988291596, 0.04060571325527731, 0.010151428313819327, 0.010151428313819327, 0.5585572586989603, 0.25445386229619305, 0.16342971643414025, 0.004137461175547854, 0.004137461175547854, 0.002068730587773927, 0.002068730587773927, 0.008274922351095709, 0.23411261838154834, 0.06688931953758524, 0.42363235707137314, 0.10033397930637786, 0.055741099614654364, 0.022296439845861746, 0.022296439845861746, 0.06688931953758524, 0.27363415929423823, 0.5472683185884765, 0.13008774173694954, 0.845570321290172, 0.8891481533971122, 0.879407714689883, 0.4691888479772345, 0.23459442398861724, 0.1942040260405085, 0.1942040260405085, 0.388408052081017, 0.4322346986477935, 0.09037634608090228, 0.13752922229702522, 0.17682328581046097, 0.03143525081074862, 0.035364657162092195, 0.09430575243224586, 0.003929406351343577, 0.1663484158787827, 0.08317420793939136, 0.6653936635151309, 0.08317420793939136, 0.17646329556223211, 0.6927818270220965, 0.11110651942807208, 0.006535677613416005, 0.01307135522683201, 0.9515412405920575, 0.8415572034457356, 0.05544414710695994, 0.887106353711359, 0.05394823396379671, 0.10789646792759341, 0.8092235094569507, 0.4313803405904433, 0.12462098728168361, 0.3163455830996584, 0.0479311489544937, 0.06710360853629117, 0.009586229790898739, 0.19970024005874906, 0.19970024005874906, 0.19970024005874906, 0.19970024005874906, 0.6808028661611836, 0.20023613710623045, 0.08467128083349174, 0.01373047797299866, 0.0022884129954997764, 0.0011442064977498882, 0.00686523898649933, 0.0011442064977498882, 0.009153651981999106, 0.35747807379667595, 0.11915935793222532, 0.11915935793222532, 0.3971978597740844, 0.90802175825027, 0.3759761672741097, 0.5013015563654797, 0.941776303806015, 0.9617949631088055, 0.9709735055190256, 0.21580250745516938, 0.3258194720401577, 0.36390226747342286, 0.021157108574036212, 0.012694265144421728, 0.05500848229249416, 0.004231421714807243, 0.7790681090611347, 0.3465818772079812, 0.5198728158119719, 0.2204073075555153, 0.29138593202254565, 0.27270734663648505, 0.11580722939357584, 0.07097862446703035, 0.022414302463272744, 0.007471434154424248, 0.8342844979394145, 0.16151691510590083, 0.8075845755295041, 0.1766113725016384, 0.1766113725016384, 0.5298341175049152, 0.6258180999083185, 0.13636503344305773, 0.21428790969623357, 0.007305269648735235, 0.012175449414558726, 0.002435089882911745, 0.5154427797900959, 0.25772138989504795, 0.9041298926041135, 0.2844756395093474, 0.2844756395093474, 0.2844756395093474, 0.2844756395093474, 0.7123980982017997, 0.21346224603158617, 0.02057467431629746, 0.012859171447685913, 0.01028733715814873, 0.02829017718490901, 0.0025718342895371827, 0.16110854398350435, 0.04027713599587609, 0.12083140798762827, 0.04027713599587609, 0.6041570399381414, 0.8409841939229283, 0.9607836869009646, 0.05495791593432677, 0.4781338686286429, 0.22532745533073975, 0.08243687390149015, 0.10991583186865354, 0.03847054115402874, 0.010991583186865354, 0.8984423268248898, 0.048130838937047664, 0.032087225958031776, 0.9025891626435616, 0.7827254727203504, 0.047088600775117395, 0.14126580232535219, 0.28253160465070437, 0.4708860077511739, 0.19851823077675532, 0.297777346165133, 0.1612960625061137, 0.03722216827064163, 0.2543514831827178, 0.018611084135320814, 0.03101847355886802, 0.9307174691324174, 0.19788461740991364, 0.1649038478415947, 0.3792788500356678, 0.24735577176239204, 0.1574660128663019, 0.3149320257326038, 0.4723980385989058, 0.27378145009634497, 0.13689072504817248, 0.5413405945086821, 0.006222305684007841, 0.012444611368015682, 0.012444611368015682, 0.006222305684007841, 0.19973311654808307, 0.5991993496442493, 0.09986655827404153, 0.9363144857532781, 0.42057297824928125, 0.26361272799356866, 0.1247632758442844, 0.05030777251785661, 0.07043088152499925, 0.030184663510713968, 0.01811079810642838, 0.008049243602857057, 0.008049243602857057, 0.006036932702142794, 0.30800299529914227, 0.6160059905982845, 0.17281316605531713, 0.1656126174696789, 0.5184394981659514, 0.08640658302765857, 0.050403840099467495, 0.22832538838905175, 0.2403425140937387, 0.1682397598656171, 0.048068502818747735, 0.26437676550311257, 0.036051377114060805, 0.5898277098550908, 0.38296870260733384, 0.0027953919898345537, 0.02236313591867643, 0.8830482334932015, 0.3786230532196024, 0.5679345798294037, 0.6451524847165536, 0.3099002733453324, 0.06198005466906648, 0.5578204920215983, 0.23270352569489725, 0.05817588142372431, 0.05817588142372431, 0.5817588142372431, 0.17571516873030588, 0.08785758436515294, 0.17571516873030588, 0.43928792182576465, 0.16978091461835704, 0.16978091461835704, 0.5093427438550711, 0.4436256240430019, 0.2740040619089129, 0.11743031224667697, 0.14352593719038295, 0.013047812471852997, 0.2597487036548584, 0.2501283812972711, 0.1346845130062229, 0.09620322357587349, 0.0384812894303494, 0.17316580243657229, 0.0384812894303494, 0.14721221264758383, 0.7360610632379192, 0.44782000883849393, 0.22391000441924697, 0.9356187280340879, 0.01871237456068176, 0.03742474912136352, 0.14885181986302745, 0.2977036397260549, 0.2977036397260549, 0.14885181986302745, 0.18403877899782023, 0.36807755799564046, 0.36807755799564046, 0.5424005327362583, 0.04930913933965985, 0.34516397537761895, 0.5079096143694517, 0.24125706682548956, 0.11427966323312663, 0.05079096143694517, 0.021162900598727157, 0.025395480718472585, 0.004232580119745431, 0.03386064095796345, 0.09254671526954403, 0.09254671526954403, 0.6478270068868082, 0.09254671526954403, 0.051797568708287486, 0.15539270612486245, 0.7769635306243122, 0.8435144157355784, 0.07108267548333526, 0.05686614038666821, 0.014216535096667052, 0.004738845032222351, 0.004738845032222351, 0.004738845032222351, 0.8068194965614396, 0.16832924748404135, 0.0058044568097945295, 0.011608913619589059, 0.4945779995189659, 0.17377064847963666, 0.20050459439958077, 0.026733945919944102, 0.013366972959972051, 0.0066834864799860255, 0.0802018377598323, 0.7871554879755083, 0.19678887199387707, 0.0027716742534348885, 0.0027716742534348885, 0.005543348506869777, 0.0027716742534348885, 0.9624920779324084, 0.9246317575643762, 0.9158059498975447, 0.0482242059624855, 0.192896823849942, 0.0482242059624855, 0.578690471549826, 0.02411210298124275, 0.12056051490621375, 0.28288347249580137, 0.5657669449916027, 0.30655361830681327, 0.30655361830681327, 0.5529923573671667, 0.27649617868358334, 0.9053983259596444, 0.34195467943164737, 0.2992103445026914, 0.2920862886811988, 0.007124055821492653, 0.0035620279107463266, 0.03918230701820959, 0.01068608373223898, 0.007124055821492653, 0.9268707591244216, 0.042130489051110075, 0.7869903135732113, 0.11615083987957535, 0.058075419939787674, 0.01935847331326256, 0.01935847331326256, 0.7743389325305023, 0.01935847331326256, 0.9701527584250008, 0.608562725672404, 0.06857044796308777, 0.30856701583389495, 0.008571305995385971, 0.9304473790647196, 0.2402111426990106, 0.06005278567475265, 0.06005278567475265, 0.6005278567475265, 0.4621231804360345, 0.30808212029068965, 0.671165633921559, 0.06159870620003815, 0.40039159030024796, 0.4927896496003052, 0.14777849148413946, 0.8022260966281857, 0.04222242613832556, 0.2113456416131575, 0.1268073849678945, 0.422691283226315, 0.0422691283226315, 0.1268073849678945, 0.2005121191597488, 0.08846122904106565, 0.26538368712319693, 0.3892294077806889, 0.047179322155235015, 0.005897415269404377, 0.005897415269404377, 0.005897415269404377, 0.5393609439275802, 0.2696804719637901, 0.8366995888027703, 0.05656142812159374, 0.11312285624318748, 0.7070178515199217, 0.014140357030398435, 0.09898249921278904, 0.29659103807950116, 0.1724366500462216, 0.42419415911370517, 0.0068974660018488645, 0.08966705802403524, 0.0068974660018488645, 0.9306146219245652, 0.06204097479497101, 0.9432232112517144, 0.9362348207154911, 0.10699513814573629, 0.08559611051658902, 0.27818735917891435, 0.5349756907286815, 0.18194675687918524, 0.2672342991663033, 0.43780938374053946, 0.005685836152474539, 0.05117252537227085, 0.05117252537227085, 0.005685836152474539, 0.005685836152474539, 0.35622826033991695, 0.22617667323169327, 0.40711801181704793, 0.005654416830792332, 0.9326333023503235, 0.77400689737751, 0.636121115090002, 0.772231459440615, 0.8251280615335634, 0.1572007634923657, 0.1572007634923657, 0.6288030539694628, 0.05240025449745523, 0.09146408017583453, 0.7317126414066762, 0.18292816035166906, 0.028153502583485, 0.95721908783849, 0.8547071815142435, 0.056980478767616236, 0.3720045546646541, 0.5494221115047199, 0.02289258797936333, 0.040062028963885825, 0.011446293989681664, 0.05922467442443389, 0.9278532326494643, 0.3188753081267515, 0.3188753081267515, 0.3022557256135966, 0.6603125082635495, 0.030225572561359663, 0.0023250440431815123, 0.0023250440431815123, 0.38472073812007423, 0.06633116174484038, 0.4510518998649146, 0.06633116174484038, 0.013266232348968078, 0.14037356354284963, 0.8422413812570978, 0.02894470908741675, 0.9551753998847528, 0.012960959386536342, 0.025921918773072684, 0.06480479693268171, 0.03888287815960902, 0.2203363095711178, 0.6091650911672081, 0.03888287815960902, 0.0883860974533377, 0.7660128445955934, 0.1473101624222295, 0.6769689378954074, 0.23824657900181717, 0.03777079911004418, 0.03195990693926816, 0.0058108921707760285, 0.0029054460853880143, 0.1875994938104521, 0.3226711293539776, 0.45774276489750315, 0.0075039797524180845, 0.015007959504836169, 0.0075039797524180845, 0.5007374693904129, 0.19131950481426152, 0.17478572044759697, 0.00708590758571339, 0.06849710666189611, 0.04251544551428034, 0.0023619691952377966, 0.009447876780951187, 0.06480368744656378, 0.06480368744656378, 0.06480368744656378, 0.7452424056354835, 0.5246221720658178, 0.39346662904936336, 0.7553178941708069, 0.18882947354270171, 0.8987605471403158, 0.04406962094290836, 0.06610443141436254, 0.08813924188581672, 0.17627848377163344, 0.26441772565745014, 0.37459177801472104, 0.02203481047145418, 0.8620415568735049, 0.26960236879223354, 0.16775258502627866, 0.4673107725732048, 0.023964655003754092, 0.023964655003754092, 0.005991163750938523, 0.03594698250563114, 0.7762361539585773, 0.06606265140072998, 0.15524723079171546, 0.08627559717837194, 0.8627559717837194, 0.1434033085587537, 0.15643997297318582, 0.4693199189195575, 0.06952887687697148, 0.047801102852917894, 0.047801102852917894, 0.008691109609621436, 0.030418883633675023, 0.013036664414432152, 0.013036664414432152, 0.31661072108297905, 0.1635822058928725, 0.48546977232723454, 0.010553690702765968, 0.010553690702765968, 0.010553690702765968, 0.005276845351382984, 0.783671370332379, 0.7852145295305087, 0.8875350102669268, 0.6890587026057132, 0.07771338751192254, 0.23314016253576764, 0.9484240917876923, 0.02313229492165103, 0.02313229492165103, 0.046104122310502794, 0.023052061155251397, 0.1613644280867598, 0.7607180181232962, 0.16229676838096144, 0.12172257628572107, 0.6897612656190861, 0.23562317823350531, 0.07854105941116844, 0.706869534700516, 0.9017001634217717, 0.9046084519750123, 0.9655067461880924, 0.5717945514624045, 0.28589727573120227, 0.8486636460481397, 0.47281552059693766, 0.12971045255314217, 0.3221840273094177, 0.004184208146875554, 0.012552624440626662, 0.033473665175004434, 0.020921040734377772, 0.3987521619827428, 0.13291738732758096, 0.3987521619827428, 0.4603740325265676, 0.18990428841720916, 0.2848564326258137, 0.005754675406582095, 0.014386688516455238, 0.03452805243949257, 0.008632013109873143, 0.19540881094320847, 0.17912474336460776, 0.6187945679868267, 0.8960464016951994, 0.5087731429450415, 0.25438657147252075, 0.7959394286296441, 0.8960744098397238, 0.1753885031162457, 0.16615752926802224, 0.12923363387512843, 0.5169345355005137, 0.009230973848223458, 0.2621592561626195, 0.1165152249611642, 0.2621592561626195, 0.0582576124805821, 0.276723659282765, 0.014564403120145526, 0.9418479590996871, 0.20134707404447844, 0.1510103055333588, 0.6040412221334353, 0.05082860261842232, 0.05082860261842232, 0.33038591701974507, 0.5845289301118567, 0.3560569144299286, 0.5340853716448929, 0.7853809779964603, 0.1279880112290528, 0.040723458118334985, 0.03490582124428713, 0.8276578224294623, 0.8939128530694129, 0.58102804546081, 0.34861682727648596, 0.33794587873931703, 0.05963750801282065, 0.4903528436609698, 0.0066263897792022955, 0.06626389779202295, 0.019879169337606886, 0.0066263897792022955, 0.0066263897792022955, 0.06123246689931597, 0.12246493379863194, 0.48985973519452775, 0.06123246689931597, 0.1836974006979479, 0.416888723388208, 0.416888723388208, 0.8212026114047307, 0.08539059153944183, 0.08539059153944183, 0.7685153238549765, 0.7968714952721665, 0.46685890450372924, 0.5184827256748147, 0.004489027927920474, 0.008978055855840947, 0.6035140168082401, 0.40234267787216005, 0.9640304065282866, 0.7728558868681791, 0.7912274912139926, 0.08231207755229711, 0.8779954938911692, 0.027437359184099036, 0.07634504075410865, 0.8779679686722495, 0.03817252037705433, 0.19723649062064863, 0.19723649062064863, 0.39447298124129726, 0.08925015015439092, 0.35700060061756367, 0.26775045046317275, 0.26775045046317275, 0.15636057286353133, 0.801347935925598, 0.03909014321588283, 0.10368092484357302, 0.10368092484357302, 0.10368092484357302, 0.7257664739050111, 0.06760998874284893, 0.8789298536570361, 0.3220693692013574, 0.10735645640045248, 0.10735645640045248, 0.4294258256018099, 0.12263384189315388, 0.16351178919087184, 0.14307281554201287, 0.02043897364885898, 0.02043897364885898, 0.5109743412214746, 0.9295961671956967, 0.04063808381183374, 0.02285892214415648, 0.005079760476479217, 0.29311866694228, 0.58623733388456, 0.04490753388960497, 0.9430582116817045, 0.4502013213042701, 0.2182098241015595, 0.3238693178770515, 0.002296945516858521, 0.002296945516858521, 0.025089971591224575, 0.4014395454595932, 0.05017994318244915, 0.47670946023326694, 0.025089971591224575, 0.11525723516585132, 0.09879191585644398, 0.7903353268515518, 0.808710032942984, 0.11175679604136718, 0.11175679604136718, 0.16763519406205077, 0.6146623782275195, 0.7850710761289347, 0.4709263382955553, 0.37889080570426986, 0.1296558962782342, 0.007389714295650654, 0.010748675339128223, 0.0013435844173910279, 0.0006717922086955139, 0.0006717922086955139, 0.844520575719889, 0.08450637795534008, 0.8450637795534007, 0.8702081585591676, 0.6168940631383241, 0.37013643788299444, 0.8893197770528795, 0.9059741097796429, 0.03230044333926856, 0.9690133001780569, 0.25741578563218825, 0.6552401816092065, 0.04680287011494332, 0.08081290293807215, 0.08081290293807215, 0.3232516117522886, 0.4040645146903608, 0.739692423362556, 0.15361024766315062, 0.07562350654185876, 0.0023632345794330862, 0.0023632345794330862, 0.021269111214897777, 0.0023632345794330862, 0.0023632345794330862, 0.7768254918860293, 0.2194825414507312, 0.009976479156851419, 0.5886122702542337, 0.039905916627405676, 0.019952958313702838, 0.11971774988221703, 0.10523784035574038, 0.7542045225494727, 0.017539640059290065, 0.10523784035574038, 0.1364960747446392, 0.8053268409933714, 0.04094882242339176, 0.3698727634294632, 0.05604132779234291, 0.3810810289879318, 0.011208265558468582, 0.08966612446774866, 0.04483306223387433, 0.011208265558468582, 0.022416531116937165, 0.22133174335096767, 0.15623417177715365, 0.44266348670193534, 0.16925368609191646, 0.8216005536555712, 0.049296033219334276, 0.016432011073111423, 0.08216005536555712, 0.1694457037041539, 0.3146848783077144, 0.07261958730178025, 0.12103264550296708, 0.024206529100593416, 0.290478349207121, 0.024206529100593416, 0.8045500893978347, 0.11702546754877595, 0.058512733774387975, 0.004876061147865664, 0.014628183443596994, 0.4022613859352944, 0.2774929090705645, 0.554985818141129, 0.9593384005958759, 0.23559208760709202, 0.06731202503059772, 0.20193607509179315, 0.48801218147183345, 0.9519708354426183, 0.04592841749942456, 0.03962496199680016, 0.9509990879232039, 0.9061194824761485, 0.4729202404680722, 0.09458404809361444, 0.04729202404680722, 0.04729202404680722, 0.28375214428084333, 0.321730530239073, 0.1608652651195365, 0.25278827375927165, 0.022980752159933785, 0.022980752159933785, 0.2068267694394041, 0.38788443533454153, 0.23550126431025736, 0.16161851472272565, 0.004617671849220732, 0.03694137479376586, 0.14314782732584272, 0.03694137479376586, 0.15809222307275442, 0.509408274345542, 0.05269740769091814, 0.03513160512727876, 0.07026321025455752, 0.15809222307275442, 0.02989423031329978, 0.3288365334462976, 0.02989423031329978, 0.2989423031329978, 0.17936538187979867, 0.11957692125319912, 0.05652972206493396, 0.9044755530389433, 0.8306224663218758, 0.05405910277874852, 0.16217730833624558, 0.10811820555749704, 0.2162364111149941, 0.4324728222299882, 0.2892721116699622, 0.2892721116699622, 0.2892721116699622, 0.41588213042986183, 0.05271745315308108, 0.21086981261232432, 0.01757248438436036, 0.2577297709706186, 0.011714989589573573, 0.005857494794786786, 0.01757248438436036, 0.01757248438436036, 0.5488674584510282, 0.28702243240099645, 0.14602895683559466, 0.00503548127019292, 0.3366782781317183, 0.3366782781317183, 0.16833913906585915, 0.9681752315750738, 0.016837830114349108, 0.5106532442948625, 0.25532662214743124, 0.024467717432290155, 0.024467717432290155, 0.8074346752655751, 0.03670157614843523, 0.024467717432290155, 0.061169293580725384, 0.024467717432290155, 0.8665523581988412, 0.121373783070196, 0.00564529223582307, 0.002822646117911535, 0.00564529223582307, 0.05501598105735114, 0.8252397158602671, 0.11003196211470229, 0.7437540737374189, 0.19921984117966576, 0.039843968235933155, 0.013281322745311052, 0.05502816768743237, 0.8804506829989179, 0.8492567392105397, 0.7714693191111437, 0.21429703308642878, 0.7793301111665546, 0.8446417218463605, 0.20564580184585485, 0.20564580184585485, 0.4112916036917097, 0.9341878853810005, 0.08213481221772378, 0.04106740610886189, 0.28747184276203325, 0.5749436855240665, 0.2256868964509849, 0.3062893594691938, 0.4030123150910444, 0.048361477810925334, 0.016120492603641776, 0.9719727251887315, 0.6631501010607881, 0.24114549129483204, 0.13516865041501414, 0.06758432520750707, 0.27033730083002827, 0.06758432520750707, 0.4730902764525494, 0.30466613729080716, 0.6093322745816143, 0.5559128542037278, 0.2779564271018639, 0.04366130228331058, 0.08732260456662116, 0.13098390684993175, 0.5675969296830375, 0.08732260456662116, 0.04366130228331058, 0.04366130228331058, 0.890981045805724, 0.8529996709586601, 0.8263489712298194, 0.3426430884124304, 0.0856607721031076, 0.5139646326186456, 0.2855672455044212, 0.3619070042036229, 0.2205370806865827, 0.05654796940681608, 0.01413699235170402, 0.02827398470340804, 0.02827398470340804, 0.005654796940681607, 0.9183488327889902, 0.03166720113065483, 0.015833600565327417, 0.015833600565327417, 0.03223945875892147, 0.04835918813838221, 0.3922467482335446, 0.15045080754163356, 0.08059864689730369, 0.18806350942704195, 0.10746486252973825, 0.0697577373288467, 0.3697160078428875, 0.12556392719192405, 0.0697577373288467, 0.33483713917846414, 0.01395154746576934, 0.01395154746576934, 0.7747408074596643, 0.25056539805345474, 0.06960149945929299, 0.19488419848602037, 0.4315292966476165, 0.027840599783717196, 0.013920299891858598, 0.013920299891858598, 0.40225813373009517, 0.1355926293472231, 0.11751361210092669, 0.10395434916620437, 0.20790869833240874, 0.018079017246296413, 0.004519754311574103, 0.23899580862730574, 0.03983263477121762, 0.09958158692804406, 0.11949790431365287, 0.059748952156826435, 0.41824266509778507, 0.06634305552159953, 0.19902916656479858, 0.7297736107375947, 0.4788575467773524, 0.10363334967569567, 0.30375292146324595, 0.11078047723953675, 0.825011702130554, 0.9263761199479114, 0.02894925374837223, 0.6687003562000231, 0.09609281503829387, 0.7687425203063509, 0.04204261251713378, 0.9249374753769432, 0.030660876000490535, 0.9504871560152065, 0.11670261789597196, 0.8169183252718036, 0.8574666879439976, 0.03742910145787291, 0.08846878526406325, 0.013610582348317423, 0.015945523322656144, 0.04783656996796843, 0.4783656996796843, 0.04783656996796843, 0.111618663258593, 0.20729180319452986, 0.03189104664531229, 0.07972761661328072, 0.035553903372184836, 0.2630988849541678, 0.3199851303496635, 0.035553903372184836, 0.021332342023310902, 0.2773204463030417, 0.042664684046621805, 0.08361091888791355, 0.02090272972197839, 0.08361091888791355, 0.7734009997132004, 0.02090272972197839, 0.7330190129594587, 0.2851379568720332, 0.2851379568720332, 0.2851379568720332, 0.14304759552933535, 0.8378502023861072, 0.34394418102610613, 0.6141860375466182, 0.024567441501864726, 0.03935143613429118, 0.07870287226858236, 0.8132630134420177, 0.013117145378097059, 0.0655857268904853, 0.4456372535537641, 0.15192179098423778, 0.15192179098423778, 0.1316655521863394, 0.020256238797898368, 0.030384358196847552, 0.060768716393695105, 0.010128119398949184, 0.02565730077759308, 0.07697190233277924, 0.8466909256605717, 0.02565730077759308, 0.07170577716190894, 0.8963222145238617, 0.017926444290477236, 0.008963222145238618, 0.18473565083910565, 0.16164369448421745, 0.30019543261354664, 0.04618391270977641, 0.13855173812932922, 0.16164369448421745, 0.047427012398183775, 0.853686223167308, 0.047427012398183775, 0.5166367637296024, 0.34442450915306827, 0.28243728880610297, 0.5648745776122059, 0.567470798992668, 0.07162252802820081, 0.31403723827749586, 0.005509425232938524, 0.005509425232938524, 0.005509425232938524, 0.02754712616469262, 0.4824152003350223, 0.2597620309496274, 0.2226531693853949, 0.5572631223321961, 0.019096066713256917, 0.4964977345446799, 0.45830560111816604, 0.9146801984768449, 0.9288446745975456, 0.014554453621883897, 0.9460394854224533, 0.014554453621883897, 0.029108907243767794, 0.1411021607962909, 0.42330648238887264, 0.2822043215925818, 0.1411021607962909, 0.06183957065822969, 0.08245276087763959, 0.8451407989958057, 0.9312916569064671, 0.06414508861345565, 0.5712485735549341, 0.28562428677746704, 0.7861675344913973, 0.1310279224152329, 0.23274761807047833, 0.4107310907126088, 0.013691036357086961, 0.32858487257008706, 0.013691036357086961, 0.14174432086395952, 0.7087216043197977, 0.9476584878737231, 0.8381279938640603, 0.01728646393358458, 0.9680419802807365, 0.21269681717175073, 0.29910489914777444, 0.2592242459280712, 0.019940326609851632, 0.053174204292937684, 0.14622906180557863, 0.019161852523987603, 0.0063872841746625345, 0.9644799103740427, 0.0063872841746625345, 0.9079340754437604, 0.8227018068973998, 0.2557026850566996, 0.3515911919529619, 0.33560977413691817, 0.005327139272014575, 0.015981417816043723, 0.03728997490410202, 0.7592223325835328, 0.10846033322621898, 0.5988032176659265, 0.20943363770581666, 0.16076244021080294, 0.008849308635457043, 0.02064838681606643, 0.22436568691429123, 0.3999562244993887, 0.36093610503603374, 0.3516508598156716, 0.4501131005640597, 0.18285844710414925, 0.36238911245499883, 0.5875421113175721, 0.02787608557346145, 0.00214431427488165, 0.0171545141990532, 0.6542446177599196, 0.24103749075365458, 0.04427219217924268, 0.004919132464360297, 0.004919132464360297, 0.029514794786161785, 0.014757397393080893, 0.48077124830336676, 0.11094721114693079, 0.0184912018578218, 0.3328416334407924, 0.0092456009289109, 0.046228004644554496, 0.5663055043647964, 0.11201647339083885, 0.26137177124529065, 0.003111568705301079, 0.006223137410602158, 0.021780980937107553, 0.012446274821204317, 0.006223137410602158, 0.006223137410602158, 0.42040831968265985, 0.42040831968265985, 0.10296849231643283, 0.03432283077214428, 0.06864566154428856, 0.6864566154428855, 0.06864566154428856, 0.22548183252287082, 0.22548183252287082, 0.45096366504574165, 0.22578471491052024, 0.7044483105208231, 0.00903138859642081, 0.04515694298210405, 0.01806277719284162, 0.042963366278646775, 0.6874138604583484, 0.21481683139323388, 0.02958708380188326, 0.8432318883536729, 0.022190312851412448, 0.01479354190094163, 0.051777396653295706, 0.03698385475235408, 0.13718110125144045, 0.1829081350019206, 0.22863516875240075, 0.1829081350019206, 0.22863516875240075, 0.5148000234918402, 0.34320001566122676, 0.49797836679559615, 0.45234688298564113, 0.04563148380995503, 0.0019839775569545663, 0.08514864075035065, 0.1734509348618254, 0.19868016175081818, 0.40051397686276047, 0.05045845377798557, 0.08199498738922655, 0.0031536533611240983, 0.15848460804466696, 0.36019229101060674, 0.15848460804466696, 0.3169692160893339, 0.4600378873150115, 0.23001894365750575, 0.23001894365750575, 0.8636633922809754, 0.10930012326227358, 0.8744009860981886, 0.11243187693284494, 0.8673316220533752, 0.2404801332730629, 0.2404801332730629, 0.2404801332730629, 0.21883714948125912, 0.6901787022101249, 0.075751320974282, 0.05811114210576216, 0.42614837544225587, 0.23244456842304864, 0.11622228421152432, 0.15496304561536578, 0.6376655619049988, 0.21255518730166625, 0.7857683495764489, 0.9474022838389409, 0.5991458848775237, 0.25132711275761294, 0.10546762767506972, 0.04039185740747351, 0.7867768116135915, 0.40934939884597293, 0.5585190950356071, 0.0208143762125071, 0.0034690627020845166, 0.0034690627020845166, 0.04570600684943138, 0.9141201369886276, 0.02285300342471569, 0.12452890510531481, 0.020754817517552468, 0.5188704379388117, 0.2905674452457345, 0.020754817517552468, 0.4155774911494767, 0.5194718639368459, 0.9740480463760701, 0.9103369970851249, 0.4229058450417438, 0.016265609424682453, 0.1463904848221421, 0.04879682827404736, 0.04879682827404736, 0.23585133665789557, 0.08132804712341227, 0.2740292142937509, 0.5480584285875018, 0.07273651553841434, 0.03636825776920717, 0.14547303107682868, 0.7637334131533505, 0.0560150337245907, 0.1120300674491814, 0.1456390876839358, 0.30248118211278974, 0.26887216187803537, 0.1120300674491814, 0.5386940990820148, 0.2917116060010911, 0.15363477916057464, 0.0019447440400072737, 0.007778976160029095, 0.0038894880800145475, 0.7886058108191221, 0.07066547929583238, 0.871540911315266, 0.04711031953055492, 0.6768224776787235, 0.16700814384280188, 0.014063843692025423, 0.08086710122914618, 0.0316436483070572, 0.014063843692025423, 0.010547882769019067, 0.0017579804615031778, 0.0017579804615031778, 0.0035159609230063556, 0.21451060775262445, 0.4290212155052489, 0.21451060775262445, 0.28599860310576064, 0.27145630125292536, 0.36355754632088216, 0.004847433950945095, 0.029084603705670575, 0.004847433950945095, 0.03393203765661567, 0.8318680029337564, 0.7601380347181285, 0.13119133594119983, 0.06945423667475285, 0.03472711833737643, 0.2732803405600772, 0.23207140031689097, 0.3990760528813826, 0.028195590692706378, 0.0195200243257198, 0.0390400486514396, 0.0021688915917466444, 0.0021688915917466444, 0.48078252420471074, 0.20604965323059032, 0.2747328709741204, 0.130709692844154, 0.755211558655112, 0.087139795229436, 0.9553143774744246, 0.03674286067209325, 0.11892471738959068, 0.05946235869479534, 0.7730106630323395, 0.07082536228749751, 0.885317028593719, 0.2922366313602102, 0.6136969258564414, 0.02922366313602102, 0.5663243267351952, 0.6580199787588297, 0.27540133296296065, 0.05676210679389266, 0.004204600503251308, 0.002102300251625654, 0.002102300251625654, 0.42424820022301524, 0.04465770528663319, 0.2456173790764825, 0.2679462317197991, 0.43300689870818054, 0.43300689870818054, 0.4032555622284261, 0.5376740829712349, 0.2962224048821919, 0.06347622961761255, 0.44433360732328786, 0.010579371602935426, 0.010579371602935426, 0.13753183083816053, 0.03173811480880628, 0.9131984755872941, 0.7263812815247959, 0.12106354692079932, 0.27052558328397114, 0.2635532744364461, 0.26773665974496114, 0.027889235390100117, 0.006972308847525029, 0.13247386810297557, 0.0013944617695050058, 0.012550155925545052, 0.01673354123406007, 0.6694916105385856, 0.2550480283504134, 0.5100960567008268, 0.02284087439956328, 0.19414743239628787, 0.5596014227893003, 0.1713065579967246, 0.02284087439956328, 0.02284087439956328, 0.9547705457074203, 0.023408862889667925, 0.16386204022767548, 0.2574974917863472, 0.5618127093520302, 0.19581954202802576, 0.3916390840560515, 0.3916390840560515, 0.9018674659054395, 0.5000560402067418, 0.0833426733677903, 0.3333706934711612, 0.0833426733677903, 0.2867283197303304, 0.358410399662913, 0.25600742833065215, 0.030720891399678256, 0.010240297133226085, 0.06144178279935651, 0.25124973075566487, 0.5024994615113297, 0.2093747756297207, 0.19895475436956972, 0.03315912572826162, 0.31501169441848537, 0.01657956286413081, 0.3315912572826162, 0.03315912572826162, 0.03315912572826162, 0.01657956286413081, 0.01657956286413081, 0.9168943827725291, 0.05239396472985881, 0.179269011286069, 0.717076045144276, 0.9356689780404325, 0.05497196656415357, 0.9345234315906107, 0.4432164555357918, 0.5357869810590901, 0.0018701116267332988, 0.0009350558133666494, 0.017766060453966337, 0.09007809119202054, 0.2702342735760616, 0.18015618238404107, 0.36031236476808215, 0.5928661006956745, 0.1998057024443986, 0.17360167589431352, 0.006551006637521266, 0.026204026550085063, 0.9800101114706194, 0.9523101495090004, 0.8783743708766479, 0.12711498081325023, 0.12711498081325023, 0.3813449424397507, 0.25422996162650047, 0.12711498081325023, 0.4657131596589518, 0.05821414495736898, 0.43660608718026733, 0.10715560704603047, 0.10715560704603047, 0.7500892493222133, 0.4639125694466445, 0.4959065397533096, 0.03599321659499828, 0.003999246288333143, 0.026526369106642897, 0.09284229187325013, 0.769264704092644, 0.10610547642657159, 0.8402393948233885, 0.6638401186517655, 0.15830033598619025, 0.17361972333969253, 0.5670628960729466, 0.28444902553820944, 0.13947178026389623, 0.001835155003472319, 0.003670310006944638, 0.001835155003472319, 0.001835155003472319, 0.8952914530856029, 0.02068525494180311, 0.9515217273229432, 0.08446444208370285, 0.8868766418788798, 0.07120182226498491, 0.07120182226498491, 0.783220044914834, 0.3686610519692862, 0.07241556377968122, 0.3181895984258721, 0.15580318267749596, 0.0021944110236267037, 0.0636379196851744, 0.01755528818901363, 0.24838518387318914, 0.08279506129106304, 0.2069876532276576, 0.08279506129106304, 0.3725777758097837, 0.6092402860971139, 0.33846682560950775, 0.09671276666714868, 0.8704149000043381, 0.05713637736953466, 0.9141820379125546, 0.04187837645215997, 0.33502701161727977, 0.2512702587129598, 0.04187837645215997, 0.2931486351651198, 0.33273031853389523, 0.24723711168838047, 0.30500279198940394, 0.002310627212040939, 0.018485017696327512, 0.08087195242143287, 0.006931881636122818, 0.002310627212040939, 0.2996127331895603, 0.2996127331895603, 0.3611972191373258, 0.3064703677528825, 0.2599525440761057, 0.01094537027688866, 0.04378148110755464, 0.002736342569222165, 0.00547268513844433, 0.008209027707666496, 0.18415604598688776, 0.18415604598688776, 0.6138534866229591, 0.1719560346165356, 0.27385590698189005, 0.49676187778110287, 0.02547496809133861, 0.006368742022834653, 0.012737484045669305, 0.012737484045669305, 0.5614698929329042, 0.42763113938494446, 0.001632179921316582, 0.001632179921316582, 0.006528719685266328, 0.7882054271491328, 0.5672500337451388, 0.2836250168725694, 0.04125344543900307, 0.9075757996580675, 0.04125344543900307, 0.11073011645561354, 0.7751108151892947, 0.19540764299521413, 0.18478766239764813, 0.560734975551484, 0.010619980597565986, 0.014867972836592379, 0.014867972836592379, 0.008495984478052788, 0.002123996119513197, 0.006371988358539591, 0.40783296045095363, 0.20391648022547681, 0.3398608003757947, 0.9796310362382037, 0.011260126853312685], \"Term\": [\"aabsolutely\", \"aabsolutely\", \"aany\", \"aany\", \"abercrombie\", \"abercrombie\", \"abundant\", \"abundant\", \"accent\", \"accent\", \"access\", \"access\", \"access\", \"access\", \"access\", \"acre\", \"adaptation\", \"adaptation\", \"adaptation\", \"administrative\", \"administrative\", \"administrative\", \"administrator\", \"advice\", \"advice\", \"advice\", \"aedt\", \"aedt\", \"aedt\", \"aedt\", \"aedt\", \"aedt\", \"aedt\", \"aedt\", \"afflict\", \"afflict\", \"affluent\", \"agency\", \"agency\", \"agency\", \"agency\", \"agency\", \"agency\", \"agenda\", \"agenda\", \"agriculture\", \"aiave\", \"aiave\", \"airline\", \"airline\", \"alfre\", \"allergic\", \"allergic\", \"alloy\", \"analysis\", \"analysis\", \"analysis\", \"analysis\", \"analysis\", \"animal\", \"animal\", \"animal\", \"animal\", \"animal\", \"appeal\", \"appeal\", \"appeal\", \"appeal\", \"approximately\", \"area\", \"area\", \"area\", \"area\", \"area\", \"area\", \"area\", \"area\", \"area\", \"argument\", \"argument\", \"argument\", \"argument\", \"arrive\", \"arrive\", \"arrive\", \"arrive\", \"arson\", \"artificial\", \"artificial\", \"artist\", \"artist\", \"aspen\", \"aspen\", \"assignment\", \"assignment\", \"assignment\", \"athe\", \"athe\", \"athe\", \"athe\", \"athe\", \"athe\", \"atmospheric\", \"atmospheric\", \"atomic\", \"atomic\", \"attend\", \"attend\", \"attend\", \"attend\", \"attend\", \"attend\", \"attendee\", \"attract\", \"attract\", \"attract\", \"auckland\", \"australia\", \"australia\", \"australia\", \"australia\", \"australia\", \"australia\", \"australia\", \"australia\", \"australia\", \"australiaas\", \"australiaas\", \"australian\", \"australian\", \"australian\", \"australian\", \"australian\", \"australian\", \"australian\", \"australian\", \"author\", \"author\", \"author\", \"author\", \"author\", \"available\", \"available\", \"available\", \"available\", \"available\", \"available\", \"average\", \"average\", \"average\", \"average\", \"backpacker\", \"backpacker\", \"backpacker\", \"bali\", \"bali\", \"ballarat\", \"ballarat\", \"balsam\", \"banyule\", \"barangaroo\", \"barrier\", \"barrier\", \"base\", \"base\", \"base\", \"base\", \"base\", \"base\", \"base\", \"battery\", \"battery\", \"bayside\", \"beach\", \"beach\", \"beach\", \"beach\", \"beautiful\", \"beef\", \"beef\", \"bench\", \"bench\", \"benign\", \"benign\", \"benign\", \"benign\", \"bernard\", \"bernard\", \"bind\", \"bind\", \"bind\", \"biobank\", \"biobank\", \"blacktown\", \"blaze\", \"blood\", \"blood\", \"blood\", \"blood\", \"blood\", \"bloody\", \"bloody\", \"board\", \"board\", \"board\", \"board\", \"board\", \"bomb\", \"bondi\", \"bondi\", \"bondi\", \"boroondara\", \"brain\", \"brain\", \"brain\", \"brain\", \"brain\", \"brain\", \"breast\", \"brett\", \"brigham\", \"bronte\", \"brookvale\", \"brown\", \"brown\", \"brown\", \"brown\", \"bulk\", \"burn\", \"burn\", \"burville\", \"bush\", \"bushfire\", \"bushfire\", \"bushfire\", \"bushfire\", \"buying\", \"cabin\", \"cabin\", \"cabin\", \"camel\", \"camp\", \"camp\", \"cancer\", \"cancer\", \"cancer\", \"cancer\", \"canterburybankstown\", \"carbon\", \"carbon\", \"cardiff\", \"cardiff\", \"career\", \"career\", \"case\", \"case\", \"case\", \"case\", \"case\", \"case\", \"case\", \"case\", \"case\", \"cathode\", \"cause\", \"cause\", \"cause\", \"cause\", \"cause\", \"cause\", \"cause\", \"cause\", \"cell\", \"cell\", \"cell\", \"cell\", \"cell\", \"centre\", \"centre\", \"centre\", \"centre\", \"centre\", \"centre\", \"centre\", \"centre\", \"change\", \"change\", \"change\", \"change\", \"change\", \"change\", \"chapel\", \"chapel\", \"chapel\", \"chatswood\", \"chatswood\", \"cheaply\", \"chemical\", \"chemical\", \"chemical\", \"chemical\", \"chemist\", \"chemist\", \"chemotherapy\", \"chilling\", \"chilling\", \"china\", \"china\", \"china\", \"china\", \"china\", \"china\", \"chinese\", \"chinese\", \"chinese\", \"chinese\", \"choke\", \"choke\", \"christmas\", \"christmas\", \"christmas\", \"christmas\", \"circumstance\", \"circumstance\", \"city\", \"city\", \"city\", \"city\", \"city\", \"city\", \"clap\", \"clapping\", \"clarify\", \"clarify\", \"clarke\", \"cleaner\", \"climate\", \"climate\", \"climate\", \"clinical\", \"clinical\", \"clinical\", \"clip\", \"clip\", \"clock\", \"clock\", \"cloud\", \"cloud\", \"cloud\", \"club\", \"club\", \"club\", \"club\", \"cluster\", \"cluster\", \"cluster\", \"cluster\", \"coach\", \"coach\", \"coach\", \"coach\", \"coaching\", \"coffee\", \"coffee\", \"coffee\", \"cohort\", \"cohort\", \"cold\", \"cold\", \"cold\", \"cole\", \"colorado\", \"colorado\", \"colorado\", \"colour\", \"colour\", \"colourful\", \"combination\", \"combination\", \"combination\", \"come\", \"come\", \"come\", \"come\", \"come\", \"come\", \"come\", \"come\", \"compare\", \"compare\", \"compare\", \"compare\", \"compare\", \"compare\", \"compare\", \"competition\", \"competition\", \"concentration\", \"concentration\", \"concentration\", \"concentration\", \"condition\", \"condition\", \"condition\", \"condition\", \"condition\", \"conditioning\", \"conditioning\", \"conference\", \"conference\", \"conference\", \"conference\", \"confine\", \"confirm\", \"confirm\", \"confirm\", \"confirm\", \"confirm\", \"conflict\", \"conflict\", \"conflict\", \"connection\", \"connection\", \"connection\", \"consular\", \"consultant\", \"consultant\", \"consultant\", \"container\", \"container\", \"contractor\", \"contractor\", \"contractor\", \"contrary\", \"contrary\", \"contrary\", \"conventional\", \"conventional\", \"conventional\", \"conventional\", \"cooper\", \"cooper\", \"corona\", \"corona\", \"corona\", \"coronavirus\", \"coronavirus\", \"coronavirus\", \"coronavirus\", \"coronavirus\", \"coronavirus\", \"coronaviruse\", \"coronaviruse\", \"correlate\", \"correlate\", \"correspond\", \"correspond\", \"correspond\", \"cosmetic\", \"cosmetic\", \"council\", \"council\", \"council\", \"council\", \"council\", \"council\", \"council\", \"country\", \"country\", \"country\", \"country\", \"country\", \"country\", \"countryas\", \"cream\", \"create\", \"create\", \"create\", \"create\", \"create\", \"create\", \"crew\", \"crew\", \"crew\", \"cruise\", \"cruise\", \"cruise\", \"curator\", \"curve\", \"curve\", \"customer\", \"customer\", \"customer\", \"cycle\", \"cycle\", \"cycle\", \"cycle\", \"cycle\", \"cycle\", \"cyclone\", \"dalila\", \"darwin\", \"darwin\", \"data\", \"data\", \"datum\", \"datum\", \"datum\", \"datum\", \"datum\", \"dawn\", \"dawn\", \"deakin\", \"deakin\", \"deakin\", \"death\", \"death\", \"death\", \"death\", \"death\", \"debate\", \"debate\", \"debate\", \"debate\", \"debate\", \"deborah\", \"deborah\", \"debut\", \"decision\", \"decision\", \"decision\", \"decision\", \"decision\", \"decision\", \"decorate\", \"define\", \"define\", \"define\", \"delete\", \"delete\", \"dermatitis\", \"destroy\", \"destroy\", \"destroy\", \"detention\", \"detention\", \"determine\", \"determine\", \"determine\", \"determine\", \"determine\", \"determine\", \"determine\", \"devastation\", \"development\", \"development\", \"development\", \"development\", \"development\", \"development\", \"development\", \"device\", \"device\", \"device\", \"devil\", \"diagnosis\", \"diagnosis\", \"diagnosis\", \"diagnostic\", \"diagnostic\", \"diamond\", \"diamond\", \"diamond\", \"dictate\", \"dictate\", \"diego\", \"different\", \"different\", \"different\", \"different\", \"different\", \"different\", \"different\", \"different\", \"digital\", \"digital\", \"digital\", \"digital\", \"director\", \"director\", \"director\", \"director\", \"director\", \"director\", \"director\", \"disagree\", \"disagree\", \"disagree\", \"disaster\", \"disaster\", \"disastrous\", \"disclose\", \"disclose\", \"disclose\", \"discriminate\", \"discriminate\", \"discriminate\", \"disease\", \"disease\", \"disease\", \"disease\", \"disease\", \"disease\", \"displace\", \"displace\", \"distance\", \"distance\", \"distance\", \"distance\", \"distinguish\", \"distinguish\", \"distinguish\", \"division\", \"division\", \"division\", \"domestic\", \"domestic\", \"donald\", \"donald\", \"donald\", \"donald\", \"draft\", \"draft\", \"draft\", \"draw\", \"draw\", \"draw\", \"draw\", \"draw\", \"draw\", \"drought\", \"dsilva\", \"dynamic\", \"dysfunction\", \"dysfunction\", \"early\", \"early\", \"early\", \"early\", \"early\", \"early\", \"early\", \"early\", \"early\", \"earn\", \"earn\", \"earn\", \"earn\", \"eastwood\", \"eastwood\", \"edition\", \"edition\", \"edition\", \"eerie\", \"eerie\", \"efficient\", \"efficient\", \"efficient\", \"eira\", \"eira\", \"eira\", \"election\", \"emirate\", \"emirate\", \"emission\", \"employer\", \"energy\", \"energy\", \"energy\", \"enhancementa\", \"enhancementa\", \"environmentally\", \"european\", \"european\", \"european\", \"european\", \"european\", \"evacuee\", \"evacuee\", \"evaluate\", \"evaluate\", \"evaluate\", \"event\", \"event\", \"event\", \"event\", \"exclusive\", \"exclusive\", \"exclusive\", \"exclusive\", \"exhibit\", \"exhibit\", \"exhibit\", \"exhibit\", \"experimental\", \"experimental\", \"expert\", \"expert\", \"expert\", \"expert\", \"expert\", \"expert\", \"explanation\", \"explanation\", \"extinction\", \"extinction\", \"face\", \"face\", \"face\", \"face\", \"face\", \"facility\", \"facility\", \"facility\", \"facility\", \"facility\", \"factor\", \"factor\", \"factor\", \"factor\", \"faculty\", \"faculty\", \"faculty\", \"farne\", \"farnesol\", \"fauna\", \"fauna\", \"feel\", \"feel\", \"feel\", \"feel\", \"feel\", \"feel\", \"fine\", \"fine\", \"fine\", \"fine\", \"fine\", \"fine\", \"fireravaged\", \"fireravaged\", \"flexible\", \"flexible\", \"flexible\", \"flight\", \"flight\", \"flight\", \"flight\", \"flipper\", \"flood\", \"flood\", \"flooding\", \"food\", \"food\", \"food\", \"football\", \"football\", \"football\", \"football\", \"forest\", \"format\", \"format\", \"formula\", \"formula\", \"formula\", \"forum\", \"forum\", \"forum\", \"forum\", \"fossil\", \"fourstar\", \"fourstar\", \"fragrance\", \"freeze\", \"freeze\", \"furthermore\", \"furthermore\", \"furthermore\", \"furthermore\", \"gallery\", \"gallery\", \"game\", \"game\", \"game\", \"game\", \"gary\", \"gary\", \"gary\", \"geelong\", \"geelong\", \"geelong\", \"gender\", \"gene\", \"gene\", \"gene\", \"gene\", \"generate\", \"generate\", \"generate\", \"generate\", \"genetic\", \"genetic\", \"genetic\", \"genetic\", \"genetic\", \"genuine\", \"genuine\", \"genuine\", \"glass\", \"glass\", \"glass\", \"glass\", \"glass\", \"glen\", \"glen\", \"glen\", \"glen\", \"global\", \"global\", \"global\", \"global\", \"global\", \"global\", \"gold\", \"gold\", \"gold\", \"gold\", \"gold\", \"government\", \"government\", \"government\", \"government\", \"government\", \"government\", \"government\", \"government\", \"great\", \"great\", \"great\", \"great\", \"great\", \"great\", \"great\", \"great\", \"greece\", \"greece\", \"grey\", \"grey\", \"grid\", \"gridiron\", \"griffith\", \"griffith\", \"grim\", \"grim\", \"grim\", \"group\", \"group\", \"group\", \"group\", \"group\", \"group\", \"group\", \"group\", \"guardian\", \"guardian\", \"guardian\", \"guardian\", \"hand\", \"hand\", \"hand\", \"hand\", \"hand\", \"harassment\", \"harman\", \"hazard\", \"hazard\", \"haze\", \"haze\", \"haze\", \"head\", \"head\", \"head\", \"head\", \"head\", \"head\", \"headline\", \"headline\", \"headline\", \"headline\", \"health\", \"health\", \"health\", \"health\", \"health\", \"health\", \"health\", \"health\", \"health\", \"healthcare\", \"healthcare\", \"healthcare\", \"healthcare\", \"heartbreaking\", \"heath\", \"heath\", \"heather\", \"heatwave\", \"hectare\", \"help\", \"help\", \"help\", \"help\", \"help\", \"help\", \"help\", \"herea\", \"hero\", \"hero\", \"high\", \"high\", \"high\", \"high\", \"high\", \"high\", \"high\", \"highfrequency\", \"highgrade\", \"highgrade\", \"hire\", \"hire\", \"hire\", \"home\", \"home\", \"home\", \"home\", \"home\", \"home\", \"honour\", \"honour\", \"horby\", \"horror\", \"horror\", \"horror\", \"horror\", \"hospital\", \"hospital\", \"hospital\", \"hospital\", \"hospital\", \"hospital\", \"hospital\", \"hotspot\", \"hotspot\", \"hotspot\", \"hotspot\", \"hotspot\", \"hough\", \"howard\", \"human\", \"human\", \"human\", \"human\", \"human\", \"human\", \"human\", \"hunt\", \"hunt\", \"hunt\", \"iceberg\", \"icon\", \"ignore\", \"ignore\", \"ignore\", \"ignore\", \"image\", \"image\", \"image\", \"image\", \"image\", \"image\", \"image\", \"immigration\", \"immune\", \"immune\", \"immune\", \"immune\", \"immunology\", \"immunology\", \"immunology\", \"impact\", \"impact\", \"impact\", \"impact\", \"impact\", \"impact\", \"impact\", \"imperial\", \"imperial\", \"imperial\", \"implant\", \"include\", \"include\", \"include\", \"include\", \"include\", \"include\", \"include\", \"include\", \"include\", \"include\", \"inclusive\", \"inclusive\", \"increase\", \"increase\", \"increase\", \"increase\", \"increase\", \"individual\", \"individual\", \"individual\", \"individual\", \"individual\", \"individual\", \"infect\", \"infect\", \"infect\", \"infect\", \"inferno\", \"infringement\", \"infringement\", \"inhabit\", \"injury\", \"injury\", \"injury\", \"inner\", \"inner\", \"inner\", \"inner\", \"innovation\", \"innovation\", \"innovation\", \"innovation\", \"innovative\", \"innovative\", \"innovative\", \"inside\", \"inside\", \"inside\", \"inside\", \"inside\", \"institute\", \"institute\", \"institute\", \"institute\", \"institute\", \"institute\", \"institute\", \"intelligence\", \"intelligence\", \"intelligent\", \"intelligent\", \"intensive\", \"intensive\", \"intensive\", \"interested\", \"interested\", \"interested\", \"interested\", \"interior\", \"interior\", \"interior\", \"internal\", \"internal\", \"internal\", \"international\", \"international\", \"international\", \"international\", \"international\", \"international\", \"international\", \"international\", \"intrinsic\", \"intrinsic\", \"intrinsic\", \"intrinsic\", \"islamic\", \"islamic\", \"islamic\", \"island\", \"island\", \"island\", \"island\", \"island\", \"island\", \"island\", \"isolation\", \"isolation\", \"isolation\", \"isolation\", \"issue\", \"issue\", \"issue\", \"issue\", \"issue\", \"issue\", \"issue\", \"japan\", \"japan\", \"japan\", \"japan\", \"japan\", \"japan\", \"jeannette\", \"jetstar\", \"jewel\", \"journal\", \"journal\", \"journal\", \"journal\", \"journal\", \"journal\", \"justify\", \"justify\", \"kilda\", \"kilda\", \"kingston\", \"kingston\", \"knee\", \"know\", \"know\", \"know\", \"know\", \"know\", \"know\", \"know\", \"know\", \"komesaroff\", \"komesaroff\", \"kuringgai\", \"label\", \"label\", \"label\", \"label\", \"label\", \"label\", \"lake\", \"land\", \"land\", \"land\", \"land\", \"landscape\", \"language\", \"language\", \"language\", \"language\", \"laugh\", \"laugh\", \"lawfulness\", \"layer\", \"layer\", \"layer\", \"leader\", \"leader\", \"leader\", \"legal\", \"legal\", \"legal\", \"legal\", \"legal\", \"level\", \"level\", \"level\", \"level\", \"level\", \"level\", \"level\", \"level\", \"liberal\", \"liberal\", \"lifethreatening\", \"light\", \"light\", \"light\", \"light\", \"light\", \"like\", \"like\", \"like\", \"like\", \"like\", \"like\", \"liquid\", \"liquid\", \"lithium\", \"lithiumion\", \"location\", \"location\", \"location\", \"location\", \"long\", \"long\", \"long\", \"long\", \"long\", \"long\", \"long\", \"long\", \"look\", \"look\", \"look\", \"look\", \"macintyre\", \"mahdokht\", \"mainak\", \"majumder\", \"manmade\", \"manufacture\", \"manufacture\", \"manufacture\", \"manufacture\", \"mapping\", \"mapping\", \"mapping\", \"marini\", \"marini\", \"marker\", \"marker\", \"market\", \"market\", \"market\", \"market\", \"market\", \"marsupial\", \"marsupial\", \"martin\", \"martin\", \"mask\", \"mask\", \"mask\", \"mask\", \"mask\", \"mass\", \"mass\", \"mass\", \"mass\", \"mass\", \"massachusetts\", \"massachusetts\", \"masse\", \"masse\", \"material\", \"material\", \"material\", \"material\", \"material\", \"material\", \"material\", \"median\", \"median\", \"median\", \"medical\", \"medical\", \"medical\", \"medical\", \"medical\", \"medical\", \"medium\", \"medium\", \"medium\", \"medium\", \"medium\", \"medium\", \"melbourne\", \"melbourne\", \"melbourne\", \"melbourne\", \"melbourne\", \"melbourne\", \"melbourne\", \"melbourne\", \"metal\", \"metal\", \"metal\", \"metal\", \"meteorological\", \"meteorological\", \"meteorology\", \"meteorology\", \"meteorologys\", \"method\", \"method\", \"method\", \"method\", \"method\", \"method\", \"method\", \"metric\", \"million\", \"million\", \"million\", \"million\", \"million\", \"million\", \"million\", \"minister\", \"minister\", \"minister\", \"molecule\", \"molecule\", \"monash\", \"monash\", \"monash\", \"monash\", \"monash\", \"monash\", \"monash\", \"monash\", \"monash\", \"monash\", \"month\", \"month\", \"month\", \"month\", \"month\", \"month\", \"month\", \"moonee\", \"moreland\", \"mornington\", \"morrison\", \"morrison\", \"morrison\", \"mountain\", \"mountain\", \"mountain\", \"mouse\", \"mouse\", \"mouse\", \"mouse\", \"museum\", \"museum\", \"museum\", \"music\", \"music\", \"music\", \"mutate\", \"mystery\", \"nasa\", \"natasha\", \"natasha\", \"nathan\", \"national\", \"national\", \"national\", \"national\", \"national\", \"national\", \"national\", \"naturally\", \"naturally\", \"naturally\", \"need\", \"need\", \"need\", \"need\", \"need\", \"need\", \"need\", \"network\", \"network\", \"network\", \"nicholl\", \"nick\", \"nick\", \"noise\", \"noosa\", \"normal\", \"normal\", \"normal\", \"normal\", \"normal\", \"northern\", \"northern\", \"northern\", \"northern\", \"northern\", \"northern\", \"norwegian\", \"object\", \"object\", \"object\", \"obtain\", \"obtain\", \"obtain\", \"obtain\", \"offensive\", \"offensive\", \"officer\", \"officer\", \"officer\", \"officer\", \"offthefield\", \"ombudsman\", \"onsite\", \"onsite\", \"open\", \"open\", \"open\", \"open\", \"open\", \"open\", \"open\", \"open\", \"opinion\", \"opinion\", \"opinion\", \"opinion\", \"opinion\", \"opposite\", \"opposite\", \"oregon\", \"organism\", \"organism\", \"organism\", \"organizer\", \"outbreak\", \"outbreak\", \"outbreak\", \"outbreak\", \"outer\", \"outer\", \"outlook\", \"outperform\", \"outsource\", \"owner\", \"owner\", \"owner\", \"package\", \"package\", \"package\", \"pakistan\", \"pakistan\", \"pakistan\", \"panel\", \"panel\", \"panel\", \"panel\", \"panic\", \"panic\", \"panic\", \"parking\", \"parking\", \"parking\", \"parking\", \"participant\", \"participant\", \"participation\", \"participation\", \"participation\", \"participation\", \"party\", \"party\", \"party\", \"party\", \"party\", \"party\", \"passenger\", \"passenger\", \"passenger\", \"passenger\", \"passion\", \"passion\", \"pasta\", \"pasta\", \"patient\", \"patient\", \"patient\", \"patient\", \"patient\", \"pattern\", \"pattern\", \"pattern\", \"pattern\", \"pattern\", \"peak\", \"peak\", \"peak\", \"peculiar\", \"peninsula\", \"peninsula\", \"peninsula\", \"peninsula\", \"penrith\", \"people\", \"people\", \"people\", \"people\", \"people\", \"people\", \"people\", \"people\", \"perish\", \"perry\", \"perry\", \"persontoperson\", \"peru\", \"peru\", \"pharmaceutical\", \"pharmacist\", \"pharmacy\", \"pharmacy\", \"phase\", \"phase\", \"phase\", \"phillip\", \"phillip\", \"phillip\", \"phillip\", \"picture\", \"picture\", \"picture\", \"picture\", \"picture\", \"picture\", \"picture\", \"picture\", \"piece\", \"play\", \"play\", \"play\", \"play\", \"play\", \"play\", \"player\", \"player\", \"player\", \"player\", \"pneumonia\", \"pneumonia\", \"pneumonia\", \"point\", \"point\", \"point\", \"point\", \"point\", \"point\", \"point\", \"point\", \"police\", \"police\", \"police\", \"police\", \"port\", \"port\", \"port\", \"port\", \"position\", \"position\", \"position\", \"position\", \"position\", \"position\", \"position\", \"positive\", \"positive\", \"positive\", \"positive\", \"positive\", \"precinct\", \"precious\", \"precious\", \"priceline\", \"primary\", \"primary\", \"primary\", \"primary\", \"princess\", \"princess\", \"print\", \"print\", \"prison\", \"private\", \"private\", \"private\", \"private\", \"private\", \"prof\", \"prof\", \"prof\", \"prof\", \"prof\", \"prof\", \"professor\", \"professor\", \"professor\", \"professor\", \"professor\", \"professor\", \"professor\", \"program\", \"program\", \"program\", \"program\", \"program\", \"program\", \"project\", \"project\", \"project\", \"project\", \"project\", \"project\", \"projection\", \"projection\", \"proof\", \"protein\", \"protein\", \"protein\", \"protein\", \"protein\", \"proud\", \"proud\", \"proud\", \"provide\", \"provide\", \"provide\", \"provide\", \"provide\", \"provide\", \"provide\", \"provide\", \"provide\", \"public\", \"public\", \"public\", \"public\", \"pump\", \"pump\", \"pump\", \"qanta\", \"qanta\", \"qualification\", \"qualification\", \"quality\", \"quality\", \"quality\", \"quality\", \"quality\", \"quality\", \"quality\", \"quarantine\", \"quarantine\", \"quarantine\", \"quarantine\", \"quarantine\", \"quarterback\", \"quarterback\", \"quarterback\", \"queensland\", \"queensland\", \"queensland\", \"queensland\", \"racist\", \"racist\", \"rage\", \"rain\", \"rain\", \"rally\", \"rashe\", \"rational\", \"rational\", \"rational\", \"ravage\", \"reaction\", \"reaction\", \"reaction\", \"reaction\", \"read\", \"read\", \"read\", \"read\", \"read\", \"reasonable\", \"reassure\", \"reassure\", \"recommendation\", \"recommendation\", \"recommendation\", \"recommendation\", \"recommendation\", \"reconfigure\", \"reconfigure\", \"reddit\", \"reddit\", \"reference\", \"reference\", \"reference\", \"reference\", \"reference\", \"reference\", \"reference\", \"referral\", \"refine\", \"refugee\", \"refund\", \"refund\", \"refund\", \"report\", \"report\", \"report\", \"report\", \"report\", \"report\", \"report\", \"report\", \"reporter\", \"reporter\", \"reporter\", \"reporter\", \"research\", \"research\", \"research\", \"research\", \"research\", \"research\", \"research\", \"researcher\", \"researcher\", \"researcher\", \"researcher\", \"researcher\", \"researcher\", \"researcher\", \"resistance\", \"resource\", \"resource\", \"resource\", \"resource\", \"resource\", \"resource\", \"resource\", \"result\", \"result\", \"result\", \"result\", \"result\", \"result\", \"result\", \"review\", \"review\", \"review\", \"review\", \"review\", \"review\", \"rich\", \"rich\", \"rich\", \"risk\", \"risk\", \"risk\", \"risk\", \"riskiest\", \"route\", \"route\", \"rubberstamp\", \"ruby\", \"ruby\", \"rural\", \"rural\", \"sanitiser\", \"sanitiser\", \"scholarship\", \"scholarship\", \"school\", \"school\", \"school\", \"school\", \"science\", \"science\", \"science\", \"science\", \"science\", \"science\", \"science\", \"science\", \"scientist\", \"scientist\", \"scientist\", \"scientist\", \"scientist\", \"scientist\", \"scientist\", \"score\", \"score\", \"score\", \"score\", \"score\", \"scout\", \"seaboard\", \"seaboard\", \"seaboard\", \"seafood\", \"seafood\", \"seal\", \"seal\", \"seal\", \"season\", \"season\", \"season\", \"season\", \"season\", \"second\", \"second\", \"second\", \"second\", \"second\", \"second\", \"second\", \"second\", \"section\", \"section\", \"section\", \"section\", \"sell\", \"sell\", \"sell\", \"sell\", \"senior\", \"senior\", \"senior\", \"senior\", \"senior\", \"senior\", \"sensitivity\", \"sensitivity\", \"sensitivity\", \"sentiment\", \"sentiment\", \"servant\", \"servant\", \"service\", \"service\", \"service\", \"service\", \"service\", \"service\", \"service\", \"session\", \"session\", \"session\", \"seventytwo\", \"sexual\", \"sexual\", \"sexual\", \"shade\", \"shaibani\", \"shelf\", \"shelf\", \"shelf\", \"shelf\", \"shelter\", \"shelter\", \"shelter\", \"shelter\", \"shift\", \"shift\", \"shift\", \"ship\", \"ship\", \"sickness\", \"sickness\", \"simulate\", \"simulate\", \"site\", \"site\", \"site\", \"site\", \"site\", \"skiing\", \"skiing\", \"skin\", \"skyline\", \"sleep\", \"sleep\", \"small\", \"small\", \"small\", \"small\", \"small\", \"small\", \"smoke\", \"smoke\", \"smoke\", \"smoke\", \"snake\", \"snowy\", \"social\", \"social\", \"social\", \"social\", \"social\", \"social\", \"solar\", \"solar\", \"south\", \"south\", \"south\", \"south\", \"south\", \"specie\", \"specie\", \"specie\", \"sport\", \"sport\", \"sport\", \"spread\", \"spread\", \"spread\", \"spread\", \"spread\", \"staff\", \"staff\", \"staff\", \"staff\", \"staff\", \"staff\", \"staff\", \"stage\", \"stage\", \"stage\", \"stage\", \"stage\", \"stage\", \"state\", \"state\", \"state\", \"state\", \"state\", \"state\", \"state\", \"state\", \"state\", \"stateas\", \"stateas\", \"status\", \"status\", \"status\", \"status\", \"status\", \"steve\", \"steve\", \"steve\", \"stock\", \"stock\", \"stock\", \"stock\", \"stock\", \"stonnington\", \"stonnington\", \"stonnington\", \"store\", \"store\", \"store\", \"store\", \"store\", \"store\", \"strength\", \"strength\", \"strength\", \"strength\", \"strength\", \"stricken\", \"stricken\", \"student\", \"student\", \"student\", \"student\", \"study\", \"study\", \"study\", \"study\", \"study\", \"study\", \"study\", \"suburb\", \"suburb\", \"suburb\", \"suburb\", \"suburban\", \"suburban\", \"suburban\", \"sulfur\", \"summer\", \"summer\", \"supermarket\", \"supermarket\", \"supervision\", \"supervision\", \"supervision\", \"supply\", \"supply\", \"supply\", \"surface\", \"surface\", \"surface\", \"surface\", \"surface\", \"sustainable\", \"sustainable\", \"sutherland\", \"sutton\", \"sydney\", \"sydney\", \"sydney\", \"sydney\", \"sydneys\", \"symptom\", \"symptom\", \"symptom\", \"symptom\", \"symptom\", \"syndrome\", \"syndrome\", \"syndrome\", \"table\", \"table\", \"table\", \"table\", \"table\", \"tasman\", \"tasman\", \"teacher\", \"teaching\", \"team\", \"team\", \"team\", \"team\", \"team\", \"team\", \"team\", \"tear\", \"tear\", \"technique\", \"technique\", \"technique\", \"technique\", \"technology\", \"technology\", \"technology\", \"technology\", \"technology\", \"technology\", \"tell\", \"tell\", \"tell\", \"tell\", \"tell\", \"tell\", \"tenix\", \"tennis\", \"tennis\", \"tennis\", \"test\", \"test\", \"test\", \"test\", \"test\", \"test\", \"test\", \"test\", \"test\", \"test\", \"theyave\", \"theyave\", \"theyave\", \"think\", \"think\", \"think\", \"think\", \"think\", \"think\", \"think\", \"thisa\", \"thursday\", \"thursday\", \"thursday\", \"thursday\", \"time\", \"time\", \"time\", \"time\", \"time\", \"time\", \"time\", \"time\", \"title\", \"title\", \"title\", \"toilet\", \"toilet\", \"toilet\", \"tokyo\", \"tokyo\", \"toorak\", \"toorak\", \"toorak\", \"tournament\", \"tournament\", \"training\", \"training\", \"training\", \"transmissibility\", \"travel\", \"travel\", \"travel\", \"travel\", \"travel\", \"travel\", \"trigger\", \"trigger\", \"trigger\", \"trigger\", \"trump\", \"trump\", \"tunnel\", \"tunnel\", \"turn\", \"turn\", \"turn\", \"turn\", \"turn\", \"turn\", \"turn\", \"turner\", \"ultimately\", \"ultimately\", \"university\", \"university\", \"university\", \"university\", \"university\", \"university\", \"university\", \"university\", \"university\", \"unlawfully\", \"urdupoint\", \"urdupoint\", \"value\", \"value\", \"value\", \"value\", \"value\", \"value\", \"vegetation\", \"vehicle\", \"vehicle\", \"vehicle\", \"vehicle\", \"verbal\", \"verbal\", \"verbal\", \"versus\", \"victorian\", \"victorian\", \"victorian\", \"victorian\", \"video\", \"video\", \"video\", \"video\", \"video\", \"video\", \"vietnam\", \"vietnam\", \"vietnam\", \"view\", \"view\", \"view\", \"view\", \"view\", \"view\", \"view\", \"view\", \"view\", \"violence\", \"violence\", \"violent\", \"violent\", \"virologist\", \"virology\", \"virology\", \"virus\", \"virus\", \"virus\", \"virus\", \"virus\", \"visible\", \"visible\", \"visible\", \"visible\", \"wale\", \"wale\", \"wale\", \"wale\", \"wale\", \"warehouse\", \"warming\", \"warrior\", \"washington\", \"washington\", \"washington\", \"washington\", \"washington\", \"waverley\", \"waverley\", \"waverley\", \"wealthy\", \"wealthy\", \"wealthy\", \"wear\", \"wear\", \"wear\", \"wear\", \"weather\", \"weather\", \"weather\", \"weather\", \"weatherzone\", \"wednesday\", \"wednesday\", \"wednesday\", \"week\", \"week\", \"week\", \"week\", \"week\", \"week\", \"week\", \"wenliang\", \"wildfire\", \"wildfire\", \"wind\", \"wind\", \"wine\", \"wine\", \"wine\", \"woman\", \"woman\", \"woman\", \"woman\", \"woman\", \"woman\", \"woman\", \"women\", \"women\", \"women\", \"women\", \"women\", \"womena\", \"womena\", \"woollahra\", \"woollahra\", \"woolworth\", \"woolworth\", \"word\", \"word\", \"word\", \"word\", \"word\", \"work\", \"work\", \"work\", \"work\", \"work\", \"work\", \"work\", \"work\", \"worka\", \"worka\", \"world\", \"world\", \"world\", \"world\", \"world\", \"world\", \"world\", \"world\", \"worst\", \"worst\", \"worst\", \"write\", \"write\", \"write\", \"write\", \"write\", \"write\", \"write\", \"wuhan\", \"wuhan\", \"wuhan\", \"wuhan\", \"wuhan\", \"wyndham\", \"xinhua\", \"xinhua\", \"yang\", \"yang\", \"yang\", \"yarra\", \"yarra\", \"year\", \"year\", \"year\", \"year\", \"year\", \"year\", \"year\", \"year\", \"year\", \"yesterday\", \"yesterday\", \"yesterday\", \"yokohama\", \"yokohama\"]}, \"R\": 30, \"lambda.step\": 0.01, \"plot.opts\": {\"xlab\": \"PC1\", \"ylab\": \"PC2\"}, \"topic.order\": [4, 8, 14, 12, 1, 3, 2, 9, 5, 13, 10, 7, 6, 11]};\n",
       "\n",
       "function LDAvis_load_lib(url, callback){\n",
       "  var s = document.createElement('script');\n",
       "  s.src = url;\n",
       "  s.async = true;\n",
       "  s.onreadystatechange = s.onload = callback;\n",
       "  s.onerror = function(){console.warn(\"failed to load library \" + url);};\n",
       "  document.getElementsByTagName(\"head\")[0].appendChild(s);\n",
       "}\n",
       "\n",
       "if(typeof(LDAvis) !== \"undefined\"){\n",
       "   // already loaded: just create the visualization\n",
       "   !function(LDAvis){\n",
       "       new LDAvis(\"#\" + \"ldavis_el50381404241746512167655654451\", ldavis_el50381404241746512167655654451_data);\n",
       "   }(LDAvis);\n",
       "}else if(typeof define === \"function\" && define.amd){\n",
       "   // require.js is available: use it to load d3/LDAvis\n",
       "   require.config({paths: {d3: \"https://d3js.org/d3.v5\"}});\n",
       "   require([\"d3\"], function(d3){\n",
       "      window.d3 = d3;\n",
       "      LDAvis_load_lib(\"https://cdn.jsdelivr.net/gh/bmabey/pyLDAvis@3.2.2/pyLDAvis/js/ldavis.v3.0.0.js\", function(){\n",
       "        new LDAvis(\"#\" + \"ldavis_el50381404241746512167655654451\", ldavis_el50381404241746512167655654451_data);\n",
       "      });\n",
       "    });\n",
       "}else{\n",
       "    // require.js not available: dynamically load d3 & LDAvis\n",
       "    LDAvis_load_lib(\"https://d3js.org/d3.v5.js\", function(){\n",
       "         LDAvis_load_lib(\"https://cdn.jsdelivr.net/gh/bmabey/pyLDAvis@3.2.2/pyLDAvis/js/ldavis.v3.0.0.js\", function(){\n",
       "                 new LDAvis(\"#\" + \"ldavis_el50381404241746512167655654451\", ldavis_el50381404241746512167655654451_data);\n",
       "            })\n",
       "         });\n",
       "}\n",
       "</script>"
      ],
      "text/plain": [
       "PreparedData(topic_coordinates=                x           y  topics  cluster       Freq\n",
       "topic                                                    \n",
       "3        1.425140 -203.131439       1        1  40.084976\n",
       "7       93.696953  -55.018154       2        1  22.878494\n",
       "13     141.694016   25.320429       3        1  21.745621\n",
       "11    -126.233505    5.739788       4        1   3.991374\n",
       "0      -59.868134  101.519302       5        1   3.842919\n",
       "2      151.966629  133.119141       6        1   3.690955\n",
       "1       12.542690 -101.441658       7        1   1.518815\n",
       "8       49.372585   57.773476       8        1   0.913534\n",
       "4      203.505997  -84.541840       9        1   0.695058\n",
       "12     119.923477 -166.068970      10        1   0.497885\n",
       "9      -19.315592   -8.882428      11        1   0.083097\n",
       "6      -95.841057 -109.373474      12        1   0.019090\n",
       "5       37.554749  165.057098      13        1   0.019090\n",
       "10     243.648911   32.733547      14        1   0.019090, topic_info=             Term         Freq        Total Category  logprob  loglift\n",
       "910   coronavirus  1573.000000  1573.000000  Default  30.0000  30.0000\n",
       "4103        virus  1069.000000  1069.000000  Default  29.0000  29.0000\n",
       "4014   university   717.000000   717.000000  Default  28.0000  28.0000\n",
       "4230         work   432.000000   432.000000  Default  27.0000  27.0000\n",
       "2766       people  1488.000000  1488.000000  Default  26.0000  26.0000\n",
       "...           ...          ...          ...      ...      ...      ...\n",
       "2390       medium     0.007696   133.262620  Topic14  -8.1267  -1.1957\n",
       "1690       global     0.007748   191.577651  Topic14  -8.1200  -1.5519\n",
       "933       country     0.007780   432.113478  Topic14  -8.1159  -2.3612\n",
       "516      bushfire     0.007616   211.601701  Topic14  -8.1371  -1.6684\n",
       "2528         need     0.007598   347.543494  Topic14  -8.1395  -2.1671\n",
       "\n",
       "[965 rows x 6 columns], token_table=      Topic      Freq         Term\n",
       "term                              \n",
       "0         2  0.506925  aabsolutely\n",
       "0         3  0.506925  aabsolutely\n",
       "2         2  0.337407         aany\n",
       "2         3  0.337407         aany\n",
       "5         3  0.064879  abercrombie\n",
       "...     ...       ...          ...\n",
       "4265      1  0.407833    yesterday\n",
       "4265      2  0.203916    yesterday\n",
       "4265      3  0.339861    yesterday\n",
       "4269      1  0.979631     yokohama\n",
       "4269      2  0.011260     yokohama\n",
       "\n",
       "[2335 rows x 3 columns], R=30, lambda_step=0.01, plot_opts={'xlab': 'PC1', 'ylab': 'PC2'}, topic_order=[4, 8, 14, 12, 1, 3, 2, 9, 5, 13, 10, 7, 6, 11])"
      ]
     },
     "execution_count": 83,
     "metadata": {},
     "output_type": "execute_result"
    }
   ],
   "source": [
    "# create the lda model\n",
    "lda_model2 = LatentDirichletAllocation(n_components=14, # Number of topics\n",
    "                                      learning_method='online',\n",
    "                                      random_state=0,       \n",
    "                                      n_jobs = -1  # Use all available CPUs\n",
    "                                     )\n",
    "# fit and transform the lda model\n",
    "lda_output = lda_model2.fit_transform(data_vectorized)\n",
    "\n",
    "# plot the topic \n",
    "pyLDAvis.enable_notebook()\n",
    "pyLDAvis.sklearn.prepare(lda_model2, data_vectorized, vectorizer, mds='tsne')"
   ]
  },
  {
   "cell_type": "code",
   "execution_count": null,
   "metadata": {},
   "outputs": [],
   "source": []
  }
 ],
 "metadata": {
  "kernelspec": {
   "display_name": "Python 3",
   "language": "python",
   "name": "python3"
  },
  "language_info": {
   "codemirror_mode": {
    "name": "ipython",
    "version": 3
   },
   "file_extension": ".py",
   "mimetype": "text/x-python",
   "name": "python",
   "nbconvert_exporter": "python",
   "pygments_lexer": "ipython3",
   "version": "3.7.7"
  }
 },
 "nbformat": 4,
 "nbformat_minor": 2
}
